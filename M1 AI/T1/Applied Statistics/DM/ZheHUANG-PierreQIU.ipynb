{
 "cells": [
  {
   "cell_type": "markdown",
   "id": "a44a4c37",
   "metadata": {},
   "source": [
    "# Background"
   ]
  },
  {
   "cell_type": "markdown",
   "id": "56791f69",
   "metadata": {},
   "source": [
    "The file \"rainfall.txt\" contains the dataframe of precipitation measurements (rainfall) observed during storms in the state of Illinois in 1960."
   ]
  },
  {
   "cell_type": "markdown",
   "id": "3748c549",
   "metadata": {},
   "source": [
    "# Environment:"
   ]
  },
  {
   "cell_type": "code",
   "execution_count": 1,
   "id": "7c517861",
   "metadata": {},
   "outputs": [],
   "source": [
    "import pandas as pd\n",
    "import numpy as np\n",
    "import matplotlib.pyplot as plt\n",
    "import random\n",
    "import math\n",
    "\n",
    "from scipy.stats import gamma\n",
    "from scipy.optimize import minimize"
   ]
  },
  {
   "cell_type": "markdown",
   "id": "54bc4ba8",
   "metadata": {},
   "source": [
    "# Question 1"
   ]
  },
  {
   "cell_type": "markdown",
   "id": "2986a683",
   "metadata": {},
   "source": [
    "**Load the data from the file 'rainfall.txt'.**"
   ]
  },
  {
   "cell_type": "code",
   "execution_count": 2,
   "id": "87791b2e",
   "metadata": {},
   "outputs": [],
   "source": [
    "rainfall = pd.read_table('./rainfall.txt', header = None)"
   ]
  },
  {
   "cell_type": "markdown",
   "id": "225c8cb3",
   "metadata": {},
   "source": [
    "**Check the data and show the first ten lines of the data.**"
   ]
  },
  {
   "cell_type": "code",
   "execution_count": 3,
   "id": "d08f059b",
   "metadata": {},
   "outputs": [
    {
     "data": {
      "text/html": [
       "<div>\n",
       "<style scoped>\n",
       "    .dataframe tbody tr th:only-of-type {\n",
       "        vertical-align: middle;\n",
       "    }\n",
       "\n",
       "    .dataframe tbody tr th {\n",
       "        vertical-align: top;\n",
       "    }\n",
       "\n",
       "    .dataframe thead th {\n",
       "        text-align: right;\n",
       "    }\n",
       "</style>\n",
       "<table border=\"1\" class=\"dataframe\">\n",
       "  <thead>\n",
       "    <tr style=\"text-align: right;\">\n",
       "      <th></th>\n",
       "      <th>0</th>\n",
       "    </tr>\n",
       "  </thead>\n",
       "  <tbody>\n",
       "    <tr>\n",
       "      <th>0</th>\n",
       "      <td>0.020</td>\n",
       "    </tr>\n",
       "    <tr>\n",
       "      <th>1</th>\n",
       "      <td>0.001</td>\n",
       "    </tr>\n",
       "    <tr>\n",
       "      <th>2</th>\n",
       "      <td>0.001</td>\n",
       "    </tr>\n",
       "    <tr>\n",
       "      <th>3</th>\n",
       "      <td>0.120</td>\n",
       "    </tr>\n",
       "    <tr>\n",
       "      <th>4</th>\n",
       "      <td>0.080</td>\n",
       "    </tr>\n",
       "    <tr>\n",
       "      <th>5</th>\n",
       "      <td>0.420</td>\n",
       "    </tr>\n",
       "    <tr>\n",
       "      <th>6</th>\n",
       "      <td>1.720</td>\n",
       "    </tr>\n",
       "    <tr>\n",
       "      <th>7</th>\n",
       "      <td>0.050</td>\n",
       "    </tr>\n",
       "    <tr>\n",
       "      <th>8</th>\n",
       "      <td>0.010</td>\n",
       "    </tr>\n",
       "    <tr>\n",
       "      <th>9</th>\n",
       "      <td>0.010</td>\n",
       "    </tr>\n",
       "  </tbody>\n",
       "</table>\n",
       "</div>"
      ],
      "text/plain": [
       "       0\n",
       "0  0.020\n",
       "1  0.001\n",
       "2  0.001\n",
       "3  0.120\n",
       "4  0.080\n",
       "5  0.420\n",
       "6  1.720\n",
       "7  0.050\n",
       "8  0.010\n",
       "9  0.010"
      ]
     },
     "execution_count": 3,
     "metadata": {},
     "output_type": "execute_result"
    }
   ],
   "source": [
    "rainfall.head(10)"
   ]
  },
  {
   "cell_type": "markdown",
   "id": "207dd469",
   "metadata": {},
   "source": [
    "**Draw an histogram of the data.**"
   ]
  },
  {
   "cell_type": "code",
   "execution_count": 4,
   "id": "814256c7",
   "metadata": {},
   "outputs": [
    {
     "data": {
      "image/png": "[encoded data removed]",
      "text/plain": [
       "<Figure size 432x288 with 1 Axes>"
      ]
     },
     "metadata": {
      "needs_background": "light"
     },
     "output_type": "display_data"
    }
   ],
   "source": [
    "plt.hist(rainfall, density=True, color = 'c')\n",
    "\n",
    "plt.xlabel('rainfall')\n",
    "plt.ylabel('number of days')\n",
    "plt.title(\"Rainfall in the storm of 1960\")\n",
    "\n",
    "plt.show()"
   ]
  },
  {
   "cell_type": "markdown",
   "id": "24e3ccce",
   "metadata": {},
   "source": [
    "**Comment on the shape of the distribution.**"
   ]
  },
  {
   "cell_type": "markdown",
   "id": "2cfe3204",
   "metadata": {},
   "source": [
    "<font color=blue>\n",
    "The shape of this distribution is right skewed. \n",
    "We can see that fewer data plots are found to the right of the graph and the majority of data lies in the left side.\n",
    "As the rainfall gets bigger, the number of days gets smaller."
   ]
  },
  {
   "cell_type": "markdown",
   "id": "19730c6c",
   "metadata": {},
   "source": [
    "**what is the average rainfall in the storm of 1960? the median rainfall in the storm of 1960? explain why these measures differ.**"
   ]
  },
  {
   "cell_type": "code",
   "execution_count": 5,
   "id": "745f0878",
   "metadata": {},
   "outputs": [
    {
     "data": {
      "text/html": [
       "<div>\n",
       "<style scoped>\n",
       "    .dataframe tbody tr th:only-of-type {\n",
       "        vertical-align: middle;\n",
       "    }\n",
       "\n",
       "    .dataframe tbody tr th {\n",
       "        vertical-align: top;\n",
       "    }\n",
       "\n",
       "    .dataframe thead th {\n",
       "        text-align: right;\n",
       "    }\n",
       "</style>\n",
       "<table border=\"1\" class=\"dataframe\">\n",
       "  <thead>\n",
       "    <tr style=\"text-align: right;\">\n",
       "      <th></th>\n",
       "      <th>0</th>\n",
       "    </tr>\n",
       "  </thead>\n",
       "  <tbody>\n",
       "    <tr>\n",
       "      <th>count</th>\n",
       "      <td>48.000000</td>\n",
       "    </tr>\n",
       "    <tr>\n",
       "      <th>mean</th>\n",
       "      <td>0.220292</td>\n",
       "    </tr>\n",
       "    <tr>\n",
       "      <th>std</th>\n",
       "      <td>0.439191</td>\n",
       "    </tr>\n",
       "    <tr>\n",
       "      <th>min</th>\n",
       "      <td>0.001000</td>\n",
       "    </tr>\n",
       "    <tr>\n",
       "      <th>25%</th>\n",
       "      <td>0.003000</td>\n",
       "    </tr>\n",
       "    <tr>\n",
       "      <th>50%</th>\n",
       "      <td>0.045000</td>\n",
       "    </tr>\n",
       "    <tr>\n",
       "      <th>75%</th>\n",
       "      <td>0.217500</td>\n",
       "    </tr>\n",
       "    <tr>\n",
       "      <th>max</th>\n",
       "      <td>2.130000</td>\n",
       "    </tr>\n",
       "  </tbody>\n",
       "</table>\n",
       "</div>"
      ],
      "text/plain": [
       "               0\n",
       "count  48.000000\n",
       "mean    0.220292\n",
       "std     0.439191\n",
       "min     0.001000\n",
       "25%     0.003000\n",
       "50%     0.045000\n",
       "75%     0.217500\n",
       "max     2.130000"
      ]
     },
     "execution_count": 5,
     "metadata": {},
     "output_type": "execute_result"
    }
   ],
   "source": [
    "rainfall.describe()"
   ]
  },
  {
   "cell_type": "markdown",
   "id": "462ea8b2",
   "metadata": {},
   "source": [
    "<font color=blue>\n",
    "The average rainfall in the storm of 1960 is 0.220292 while the median rainfall is 0.045.<br>\n",
    "\n",
    "We get the average by calculating, so it will vary for each data change.\n",
    "And we get the median by sorting the data, so it is not affected by the largest and smallest extreme values.\n",
    "    \n",
    "As the distribution is right skewed and most of our data are in the left of the graph, the median will certainly be a small value. <br>\n",
    "However, the average will be bigger than the median because there are several data plots in the right side and the average value will be affected by these extreme values."
   ]
  },
  {
   "cell_type": "markdown",
   "id": "d99dd51e",
   "metadata": {},
   "source": [
    "# Additional Condition"
   ]
  },
  {
   "cell_type": "markdown",
   "id": "49575fb6",
   "metadata": {},
   "source": [
    "We propose to fit these data with a gamma law parameterized by a shape parameter $a > 0$ (scipy.stats.gamma):\n",
    "$$PDF(x) = \\dfrac{x^{a-1}e^{-x}}{\\Gamma(a)}$$"
   ]
  },
  {
   "cell_type": "markdown",
   "id": "f1d853fc",
   "metadata": {},
   "source": [
    "# Question 2"
   ]
  },
  {
   "cell_type": "markdown",
   "id": "c2e78667",
   "metadata": {},
   "source": [
    "**Find the method of moments estimate $\\hat{a}$ of $a$ (explain how you get the formula).**"
   ]
  },
  {
   "cell_type": "markdown",
   "id": "589cfba7",
   "metadata": {},
   "source": [
    "<font color=blue>\n",
    "Firstly, we obtain the expectation:\n",
    "    \n",
    "Since this is a gamma law whose inverse scale parameter $b$ is $1$, the expectation is as same as the shape parameter $a$.\n",
    "$$ \n",
    "E(X) = \\dfrac{a}{b} = \\dfrac{a}{1} = a\n",
    "$$\n",
    "    \n",
    "Secondly, we write $a$ as a function of $E(X)$:\n",
    "$$\n",
    "a = E(X)\n",
    "$$\n",
    "    \n",
    "Thirdly, we replace $E(X)$ by the sample mean:\n",
    "$$\n",
    "\\hat{a}_{MM} = \\bar{X} = 0.220292\n",
    "$$\n"
   ]
  },
  {
   "cell_type": "markdown",
   "id": "bc848a27",
   "metadata": {},
   "source": [
    "**Plot the estimated density on the same figure as the histogram.**"
   ]
  },
  {
   "cell_type": "code",
   "execution_count": 6,
   "id": "2fc95de0",
   "metadata": {},
   "outputs": [
    {
     "data": {
      "image/png": "[encoded data removed]",
      "text/plain": [
       "<Figure size 432x288 with 1 Axes>"
      ]
     },
     "metadata": {
      "needs_background": "light"
     },
     "output_type": "display_data"
    }
   ],
   "source": [
    "a_MM = np.mean(rainfall) # the method of moments estimate of a\n",
    "x = np.linspace(gamma.ppf(0.00, a_MM),gamma.ppf(0.99, a_MM), 48) # we have 48 rainfall data\n",
    "plt.plot(x, gamma.pdf(x, a_MM),'k-', lw=2, label='gamma pdf') # the estimated density\n",
    "\n",
    "plt.hist(rainfall, density=True, color = 'c') # the histogram\n",
    "\n",
    "plt.xlabel('rainfall')\n",
    "plt.ylabel('number of days')\n",
    "plt.title(\"rainfall in the storm of 1960\")\n",
    "plt.show()"
   ]
  },
  {
   "cell_type": "markdown",
   "id": "f50d7c6f",
   "metadata": {},
   "source": [
    "**Draw a quantile-quantile plot of the sample with the estimated gamma distribution.**"
   ]
  },
  {
   "cell_type": "code",
   "execution_count": 7,
   "id": "7061c3cb",
   "metadata": {},
   "outputs": [
    {
     "data": {
      "image/png": "[encoded data removed]",
      "text/plain": [
       "<Figure size 432x288 with 1 Axes>"
      ]
     },
     "metadata": {
      "needs_background": "light"
     },
     "output_type": "display_data"
    }
   ],
   "source": [
    "sample_quantile = rainfall.quantile(np.linspace(0,1,48), numeric_only=True) # we have 48 data\n",
    "theoretical_quantile = gamma.ppf(np.linspace(0,1,48), a_MM) # all the quantiles of the gamma law\n",
    "\n",
    "plt.plot(np.linspace(0,2.13,100), np.linspace(0,2.13,100), color = 'k') # diagonal: y = x\n",
    "\n",
    "plt.scatter(theoretical_quantile, sample_quantile) # show all the spots\n",
    "\n",
    "plt.title('quantile-quantile plot')\n",
    "plt.xlabel('theoretical_quantile')\n",
    "plt.ylabel('sample_quantile')\n",
    "plt.show()"
   ]
  },
  {
   "cell_type": "markdown",
   "id": "608d5bc0",
   "metadata": {},
   "source": [
    " **What do you think of the resulting fit?**"
   ]
  },
  {
   "cell_type": "markdown",
   "id": "12d972e1",
   "metadata": {},
   "source": [
    "<font color=blue>\n",
    "As we can see in the quantile-quantile plot, all the spots of the QQ-plot lie approximately on the diagonal: y = x.\n",
    "    \n",
    "That means the distribution of the rainfall sample is similar to the gamma distribution."
   ]
  },
  {
   "cell_type": "markdown",
   "id": "5617b119",
   "metadata": {},
   "source": [
    "# Question 3"
   ]
  },
  {
   "cell_type": "markdown",
   "id": "d20e2f52",
   "metadata": {},
   "source": [
    "**Estimate the sampling distribution and the standard error of $\\hat{a}$ by using the bootstrap. Explain (and comment) your code.**"
   ]
  },
  {
   "cell_type": "markdown",
   "id": "29546cc7",
   "metadata": {},
   "source": [
    "<font color=blue>\n",
    "    \n",
    "Firstly we use the bootstrap to get the distribution. \n",
    "We do bootstap for 10000 times in total."
   ]
  },
  {
   "cell_type": "code",
   "execution_count": 8,
   "id": "ded5c13e",
   "metadata": {},
   "outputs": [],
   "source": [
    "bootstrap_sampling_distribution = [] # the list of a_hat_* \n",
    "\n",
    "for _ in range(10000): # we do 10000 times bootstraps\n",
    "    sum = 0\n",
    "    for _ in range(48): # we draw with replacement 48 times in each bootstrap\n",
    "        sum += rainfall[0][random.randint(0,47)] # randomly\n",
    "    bootstrap_sampling_distribution.append(sum/48) # a_hat is always the mean of the samples"
   ]
  },
  {
   "cell_type": "markdown",
   "id": "74f68320",
   "metadata": {},
   "source": [
    "<font color=blue>\n",
    "\n",
    "Secondly we compute the standard error of $\\hat{a}$.\n",
    "By definition of stand error, it's the square root of the variance of $\\hat{a}$."
   ]
  },
  {
   "cell_type": "code",
   "execution_count": 9,
   "id": "460cce9d",
   "metadata": {},
   "outputs": [
    {
     "name": "stdout",
     "output_type": "stream",
     "text": [
      "standard_error:  0.06306440690640636\n"
     ]
    }
   ],
   "source": [
    "mean = 0.\n",
    "for i in range(10000):\n",
    "    mean += bootstrap_sampling_distribution[i]\n",
    "mean /= 10000\n",
    "\n",
    "variance = 0.\n",
    "for i in range(10000):\n",
    "    variance += (bootstrap_sampling_distribution[i] - mean)**2\n",
    "variance /= 10000\n",
    "\n",
    "standard_error = math.sqrt(variance)\n",
    "print('standard_error: ', standard_error)"
   ]
  },
  {
   "cell_type": "markdown",
   "id": "7df84744",
   "metadata": {},
   "source": [
    "**Draw an histogram of the sampling distribution.**"
   ]
  },
  {
   "cell_type": "code",
   "execution_count": 10,
   "id": "45415995",
   "metadata": {},
   "outputs": [
    {
     "data": {
      "image/png": "[encoded data removed]",
      "text/plain": [
       "<Figure size 432x288 with 1 Axes>"
      ]
     },
     "metadata": {
      "needs_background": "light"
     },
     "output_type": "display_data"
    }
   ],
   "source": [
    "# it's better to visualize the sampling distribution in the form of dataframe\n",
    "dataframeBootstrap = pd.DataFrame(bootstrap_sampling_distribution)\n",
    "\n",
    "plt.hist(dataframeBootstrap, density = 'True', label = 'histogram of bootstrap distribution')\n",
    "\n",
    "plt.axvline(0.220292, 0, 1, c = 'r', label = 'mean') # 0.220292 is the mean\n",
    "\n",
    "plt.legend()\n",
    "plt.show()"
   ]
  },
  {
   "cell_type": "markdown",
   "id": "90dc3d01",
   "metadata": {},
   "source": [
    "**Compute a $95\\%$ bootstrap confidence interval for $a$.**"
   ]
  },
  {
   "cell_type": "code",
   "execution_count": 11,
   "id": "23093e35",
   "metadata": {},
   "outputs": [
    {
     "name": "stdout",
     "output_type": "stream",
     "text": [
      "0.95 bootstrap confidence interval: [0.08,0.33]\n"
     ]
    }
   ],
   "source": [
    "# we obtain # the left and right limit of our confidence interval\n",
    "q1 = np.quantile(dataframeBootstrap - a_MM, 0.975) # 1 - 0.05/2 = 0.975 \n",
    "q2 = np.quantile(dataframeBootstrap - a_MM, 0.025) # 0.05/2 = 0.025\n",
    "\n",
    "print(\"0.95 bootstrap confidence interval: [%.2F,%.2F]\" %(a_MM-q1, a_MM-q2))"
   ]
  },
  {
   "cell_type": "markdown",
   "id": "e847aec4",
   "metadata": {},
   "source": [
    "# Question 4"
   ]
  },
  {
   "cell_type": "markdown",
   "id": "7578b3f3",
   "metadata": {},
   "source": [
    "**Write a function $logL$ which takes as argument the parameter $a$ and returns the value of\n",
    "the negative log-likelihood at point $a$.**"
   ]
  },
  {
   "cell_type": "markdown",
   "id": "d999e793",
   "metadata": {},
   "source": [
    "<font color=blue>\n",
    "Let $L$ be the likelihood function $logL$ be the log-likelihood function.<br>\n",
    "With the formule of likelihood function:\n",
    "   $L = \\prod_{i=1}^{n} pdf(X_{i}) $,\n",
    "<br>\n",
    "We can obtain:\n",
    "   $logL = log(\\prod_{i=1}^{n} pdf(X_{i})) = \\sum_{i = 1}^{n} logpdf(X_{i})$"
   ]
  },
  {
   "cell_type": "code",
   "execution_count": 12,
   "id": "12cf9861",
   "metadata": {},
   "outputs": [],
   "source": [
    "def neg_logL(a):\n",
    "    \"\"\"\n",
    "    param: the parameter a\n",
    "    return: the value of the negative log-likelihood at point a\n",
    "    \"\"\"\n",
    "    return -(np.sum(gamma.logpdf(rainfall, a))) # we use sum here beacuse we used gamma.logpdf but not gamma.pdf"
   ]
  },
  {
   "cell_type": "markdown",
   "id": "c2f3ef5d",
   "metadata": {},
   "source": [
    "**Draw the graph of the negative log-likeliood.**"
   ]
  },
  {
   "cell_type": "code",
   "execution_count": 13,
   "id": "f0aeb20f",
   "metadata": {},
   "outputs": [
    {
     "data": {
      "image/png": "[encoded data removed]",
      "text/plain": [
       "<Figure size 432x288 with 1 Axes>"
      ]
     },
     "metadata": {
      "needs_background": "light"
     },
     "output_type": "display_data"
    }
   ],
   "source": [
    "x = np.linspace(0.0, 2.0, 1000) # we divide [0, 2] to 1000 points\n",
    "y = []\n",
    "for i in range(1000):\n",
    "    y.append(neg_logL(x[i])) # and we obtain the function values \n",
    "\n",
    "plt.plot(x, y, 'k-', lw=2) \n",
    "\n",
    "plt.xlabel('parameter a')\n",
    "plt.ylabel('negative log-likelihood')\n",
    "plt.show()"
   ]
  },
  {
   "cell_type": "markdown",
   "id": "89e9030a",
   "metadata": {},
   "source": [
    "# Question 5"
   ]
  },
  {
   "cell_type": "markdown",
   "id": "c0fffee6",
   "metadata": {},
   "source": [
    "**Find the maximum likelihood estimate (MLE) of $a$ (use an optimization algorithm such as minimize).**"
   ]
  },
  {
   "cell_type": "markdown",
   "id": "71e11d56",
   "metadata": {},
   "source": [
    "<font color=blue>\n",
    "By definition, the maximum likelihood estimate(MLE) of $a$ is the value of $a$ that maximizes\n",
    "of the likelihood $L_{X_1,...,X_n}(a)$.<br>\n",
    "In other words, MLE(a) is the value of $a$ that maximizes the log-likelihood $logL$.<br>\n",
    "So in order to get MLE, we just need to find $argmin(neg\\_logL)$"
   ]
  },
  {
   "cell_type": "code",
   "execution_count": 14,
   "id": "843f53c4",
   "metadata": {},
   "outputs": [
    {
     "name": "stdout",
     "output_type": "stream",
     "text": [
      "the maximum likelihood estimate of a:  0.308013222081308\n"
     ]
    }
   ],
   "source": [
    "MLE_a = minimize(neg_logL, x0 = 0.2, method =  'SLSQP') # method : Sequential Least Squares Programming \n",
    "\n",
    "print('the maximum likelihood estimate of a: ', MLE_a.x[0])"
   ]
  },
  {
   "cell_type": "markdown",
   "id": "6e014756",
   "metadata": {},
   "source": [
    "# Question 6(bonus)"
   ]
  },
  {
   "cell_type": "markdown",
   "id": "b64da922",
   "metadata": {},
   "source": [
    "**Find an approximate value of the standard error of the MLE of $a$.**"
   ]
  },
  {
   "cell_type": "markdown",
   "id": "4f988b56",
   "metadata": {},
   "source": [
    "<font color=blue>\n",
    "Firstly we need to rewrite the negaive log-likelihood function.<br>\n",
    "This is because during the bootstrap we use the resampled rainfall data."
   ]
  },
  {
   "cell_type": "code",
   "execution_count": 15,
   "id": "f47aabd9",
   "metadata": {},
   "outputs": [],
   "source": [
    "def neg_logL_bootstrap(a):\n",
    "    \"\"\"\n",
    "    param: the parameter a\n",
    "    return: the value of the negative log-likelihood at point a\n",
    "    \"\"\"\n",
    "    return -(np.sum(gamma.logpdf(bootstrap_rainfall, a))) "
   ]
  },
  {
   "cell_type": "markdown",
   "id": "b12f3c0f",
   "metadata": {},
   "source": [
    "<font color=blue>\n",
    "To get the approximate standard error of the MLE of $a$, we use the bootstrap on the MLE of $a$ again to obtain the sampling distribution of MLE."
   ]
  },
  {
   "cell_type": "code",
   "execution_count": 16,
   "id": "dac478de",
   "metadata": {},
   "outputs": [],
   "source": [
    "bootstrap_sampling_distribution_MLE = [] # the list of MLE_* \n",
    "\n",
    "for _ in range(10000): # we still do 10000 times bootstraps\n",
    "    bootstrap_rainfall = []\n",
    "    for _ in range(48): # we draw with replacement 48 times in each bootstrap\n",
    "        bootstrap_rainfall.append(rainfall[0][random.randint(0,47)] )# randomly\n",
    "    \n",
    "    MLE_a_bootstrap = minimize(neg_logL_bootstrap, x0 = 0.2, method =  'SLSQP') # same as before\n",
    "    bootstrap_sampling_distribution_MLE.append(MLE_a_bootstrap.x[0])"
   ]
  },
  {
   "cell_type": "markdown",
   "id": "4b552848",
   "metadata": {},
   "source": [
    "<font color=blue>\n",
    "The rest part is just as same as before:<br>\n",
    "We calculate the mean, variance, SE."
   ]
  },
  {
   "cell_type": "code",
   "execution_count": 17,
   "id": "93513b63",
   "metadata": {},
   "outputs": [
    {
     "name": "stdout",
     "output_type": "stream",
     "text": [
      "standard_error of MLE:  0.09488067914419164\n"
     ]
    }
   ],
   "source": [
    "mean_MLE = 0.\n",
    "for i in range(10000):\n",
    "    mean_MLE += bootstrap_sampling_distribution_MLE[i]\n",
    "mean_MLE /= 10000\n",
    "\n",
    "variance_MLE = 0.\n",
    "for i in range(10000):\n",
    "    variance_MLE += (bootstrap_sampling_distribution_MLE[i] - mean)**2\n",
    "variance_MLE /= 10000\n",
    "\n",
    "standard_error_MLE = math.sqrt(variance_MLE)\n",
    "print('standard_error of MLE: ', standard_error_MLE)"
   ]
  },
  {
   "cell_type": "markdown",
   "id": "b3aa7c7c",
   "metadata": {},
   "source": [
    "**Compute a 95% confidence interval for $a$ based on the MLE.**"
   ]
  },
  {
   "cell_type": "markdown",
   "id": "bd17f03c",
   "metadata": {},
   "source": [
    "<font color=blue>\n",
    "We use the same method as Question3.<br>\n",
    "The only difference is that we change the bootstrap quantiles. "
   ]
  },
  {
   "cell_type": "code",
   "execution_count": 18,
   "id": "d1113da9",
   "metadata": {},
   "outputs": [
    {
     "name": "stdout",
     "output_type": "stream",
     "text": [
      "0.95 bootstrap confidence interval: [0.24,0.36]\n"
     ]
    }
   ],
   "source": [
    "dataframeBootstrap_MLE = pd.DataFrame(bootstrap_sampling_distribution_MLE)\n",
    "\n",
    "# we obtain # the left and right limit of our confidence interval\n",
    "ql = np.quantile(dataframeBootstrap_MLE - MLE_a.x[0], 0.975) # 1 - 0.05/2 = 0.975 \n",
    "qr = np.quantile(dataframeBootstrap_MLE - MLE_a.x[0], 0.025) # 0.05/2 = 0.025\n",
    "\n",
    "print(\"0.95 bootstrap confidence interval: [%.2F,%.2F]\" %(MLE_a.x[0]-ql, MLE_a.x[0]-qr))"
   ]
  }
 ],
 "metadata": {
  "kernelspec": {
   "display_name": "Python 3",
   "language": "python",
   "name": "python3"
  },
  "language_info": {
   "codemirror_mode": {
    "name": "ipython",
    "version": 3
   },
   "file_extension": ".py",
   "mimetype": "text/x-python",
   "name": "python",
   "nbconvert_exporter": "python",
   "pygments_lexer": "ipython3",
   "version": "3.9.7"
  },
  "toc": {
   "base_numbering": 1,
   "nav_menu": {},
   "number_sections": false,
   "sideBar": true,
   "skip_h1_title": false,
   "title_cell": "Table of Contents",
   "title_sidebar": "Contents",
   "toc_cell": false,
   "toc_position": {
    "height": "calc(100% - 180px)",
    "left": "10px",
    "top": "150px",
    "width": "177.796875px"
   },
   "toc_section_display": true,
   "toc_window_display": true
  },
  "varInspector": {
   "cols": {
    "lenName": 16,
    "lenType": 16,
    "lenVar": 40
   },
   "kernels_config": {
    "python": {
     "delete_cmd_postfix": "",
     "delete_cmd_prefix": "del ",
     "library": "var_list.py",
     "varRefreshCmd": "print(var_dic_list())"
    },
    "r": {
     "delete_cmd_postfix": ") ",
     "delete_cmd_prefix": "rm(",
     "library": "var_list.r",
     "varRefreshCmd": "cat(var_dic_list()) "
    }
   },
   "types_to_exclude": [
    "module",
    "function",
    "builtin_function_or_method",
    "instance",
    "_Feature"
   ],
   "window_display": false
  }
 },
 "nbformat": 4,
 "nbformat_minor": 5
}
