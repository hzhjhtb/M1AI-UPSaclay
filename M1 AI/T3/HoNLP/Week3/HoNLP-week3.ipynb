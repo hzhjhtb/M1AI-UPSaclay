{
 "cells": [
  {
   "attachments": {},
   "cell_type": "markdown",
   "id": "f5cb8f6c-94df-4e39-b208-e54edc3a9df6",
   "metadata": {},
   "source": [
    "# Hands-On NLP\n",
    "## Class 3"
   ]
  },
  {
   "attachments": {},
   "cell_type": "markdown",
   "id": "aaf60f2c",
   "metadata": {},
   "source": [
    "<span style=\"color:magenta\">Group Names:</span>\n",
    "\n",
    "* Zhe HUANG\n",
    "* Pierre QIU\n",
    "* Lanshi FU"
   ]
  },
  {
   "attachments": {},
   "cell_type": "markdown",
   "id": "1e5beddc-b0f9-4cb4-92a7-e1270c541dd0",
   "metadata": {},
   "source": [
    "### Outline\n",
    "\n",
    "- Better vectors : Tf-idf\n",
    "\n",
    "- Ngrams\n",
    "\n",
    "- Text generation"
   ]
  },
  {
   "cell_type": "code",
   "execution_count": 2,
   "id": "a6366df5-2396-4222-8760-37060a1dc94c",
   "metadata": {},
   "outputs": [],
   "source": [
    "import re\n",
    "import collections\n",
    "from pathlib import Path\n",
    "\n",
    "import matplotlib.pyplot as plt\n",
    "import nltk\n",
    "import numpy as np\n",
    "import pandas as pd\n",
    "import seaborn as sns\n",
    "import sklearn\n",
    "from nltk.tokenize import word_tokenize\n",
    "from sklearn import decomposition, naive_bayes\n",
    "from sklearn.feature_extraction.text import CountVectorizer, TfidfVectorizer\n",
    "from sklearn.metrics import (\n",
    "    ConfusionMatrixDisplay,\n",
    "    accuracy_score,\n",
    "    classification_report,\n",
    "    confusion_matrix,\n",
    ")\n",
    "from sklearn.metrics import precision_recall_fscore_support as score\n",
    "from sklearn.model_selection import train_test_split, GridSearchCV\n",
    "from sklearn.pipeline import Pipeline\n",
    "from tqdm.notebook import tqdm"
   ]
  },
  {
   "cell_type": "code",
   "execution_count": 3,
   "id": "a8c44f31",
   "metadata": {},
   "outputs": [
    {
     "name": "stdout",
     "output_type": "stream",
     "text": [
      "sklearn's version: 1.2.0\n",
      "nltk's version: 3.8.1\n",
      "pandas's version: 1.5.2\n"
     ]
    },
    {
     "name": "stderr",
     "output_type": "stream",
     "text": [
      "[nltk_data] Downloading package punkt to /Users/zhehuang/nltk_data...\n",
      "[nltk_data]   Package punkt is already up-to-date!\n"
     ]
    }
   ],
   "source": [
    "tqdm.pandas()\n",
    "\n",
    "nltk.download(\"punkt\")\n",
    "\n",
    "sns.set_style(\"darkgrid\")\n",
    "sns.set_context(\"notebook\")\n",
    "\n",
    "pd.set_option(\"display.precision\", 4)\n",
    "\n",
    "print(\"sklearn's version:\", sklearn.__version__)    # 1.2.0\n",
    "print(\"nltk's version:\", nltk.__version__)          # 3.8.1\n",
    "print(\"pandas's version:\", pd.__version__)          # 1.5.2"
   ]
  },
  {
   "cell_type": "code",
   "execution_count": 4,
   "id": "2a0b2586-f2bf-49af-bd7b-a24ce918eee1",
   "metadata": {},
   "outputs": [],
   "source": [
    "%config InlineBackend.figure_format=\"retina\"  # For high DPI display"
   ]
  },
  {
   "attachments": {},
   "cell_type": "markdown",
   "id": "c0cece58",
   "metadata": {},
   "source": [
    "# Getting the data"
   ]
  },
  {
   "cell_type": "code",
   "execution_count": 5,
   "id": "467e1198-37f5-4bc4-98cc-28fbf0b10c34",
   "metadata": {},
   "outputs": [],
   "source": [
    "DATA = Path(\"data\")\n",
    "\n",
    "TEXT_P = DATA / \"texts\"\n",
    "\n",
    "CORPORA = [\n",
    "    \"mythology\",\n",
    "    \"woodworking\",\n",
    "    \"robotics\",\n",
    "    \"hsm\",\n",
    "    \"health\",\n",
    "    \"portuguese\",\n",
    "]\n",
    "\n",
    "EPS = np.finfo(float).eps"
   ]
  },
  {
   "cell_type": "code",
   "execution_count": 6,
   "id": "45164744-82eb-44ad-b6d9-1a9da7ff8fd6",
   "metadata": {},
   "outputs": [
    {
     "data": {
      "application/vnd.jupyter.widget-view+json": {
       "model_id": "2894004871304347907d33b2bdfb03db",
       "version_major": 2,
       "version_minor": 0
      },
      "text/plain": [
       "  0%|          | 0/6 [00:00<?, ?it/s]"
      ]
     },
     "metadata": {},
     "output_type": "display_data"
    },
    {
     "name": "stdout",
     "output_type": "stream",
     "text": [
      "mythology\n",
      "woodworking\n",
      "robotics\n",
      "hsm\n",
      "health\n",
      "portuguese\n"
     ]
    }
   ],
   "source": [
    "data = []\n",
    "\n",
    "for i, corpus in enumerate(tqdm(CORPORA)):\n",
    "    print(corpus)\n",
    "    for fp in (TEXT_P / corpus).glob(\"*.txt\"):\n",
    "        with fp.open() as f:\n",
    "            text = f.read()\n",
    "        data.append(\n",
    "            {\n",
    "                \"id\": fp.stem,\n",
    "                \"text\": text,\n",
    "                \"category\": corpus,\n",
    "                \"cat_id\": i,\n",
    "            }\n",
    "        )"
   ]
  },
  {
   "cell_type": "code",
   "execution_count": 7,
   "id": "6d42f8c4-504f-43c0-b174-5396a852f426",
   "metadata": {},
   "outputs": [
    {
     "data": {
      "text/html": [
       "<div>\n",
       "<style scoped>\n",
       "    .dataframe tbody tr th:only-of-type {\n",
       "        vertical-align: middle;\n",
       "    }\n",
       "\n",
       "    .dataframe tbody tr th {\n",
       "        vertical-align: top;\n",
       "    }\n",
       "\n",
       "    .dataframe thead th {\n",
       "        text-align: right;\n",
       "    }\n",
       "</style>\n",
       "<table border=\"1\" class=\"dataframe\">\n",
       "  <thead>\n",
       "    <tr style=\"text-align: right;\">\n",
       "      <th></th>\n",
       "      <th>text</th>\n",
       "      <th>category</th>\n",
       "      <th>cat_id</th>\n",
       "    </tr>\n",
       "    <tr>\n",
       "      <th>id</th>\n",
       "      <th></th>\n",
       "      <th></th>\n",
       "      <th></th>\n",
       "    </tr>\n",
       "  </thead>\n",
       "  <tbody>\n",
       "    <tr>\n",
       "      <th>mythology.stackexchange_0000001634</th>\n",
       "      <td>Q:\\n\\nCan anyone identify what Chinese mytholo...</td>\n",
       "      <td>mythology</td>\n",
       "      <td>0</td>\n",
       "    </tr>\n",
       "    <tr>\n",
       "      <th>mythology.stackexchange_0000002329</th>\n",
       "      <td>Q:\\n\\nHave runes ever been used to bring someo...</td>\n",
       "      <td>mythology</td>\n",
       "      <td>0</td>\n",
       "    </tr>\n",
       "    <tr>\n",
       "      <th>mythology.stackexchange_0000001146</th>\n",
       "      <td>Q:\\n\\nDifferences in the Greek and Roman portr...</td>\n",
       "      <td>mythology</td>\n",
       "      <td>0</td>\n",
       "    </tr>\n",
       "    <tr>\n",
       "      <th>mythology.stackexchange_0000004770</th>\n",
       "      <td>Q:\\n\\nWhich cultures have the concept of a \"tr...</td>\n",
       "      <td>mythology</td>\n",
       "      <td>0</td>\n",
       "    </tr>\n",
       "    <tr>\n",
       "      <th>mythology.stackexchange_0000000516</th>\n",
       "      <td>Q:\\n\\nWhy did Arawn choose Pwyll to fight Hafg...</td>\n",
       "      <td>mythology</td>\n",
       "      <td>0</td>\n",
       "    </tr>\n",
       "    <tr>\n",
       "      <th>...</th>\n",
       "      <td>...</td>\n",
       "      <td>...</td>\n",
       "      <td>...</td>\n",
       "    </tr>\n",
       "    <tr>\n",
       "      <th>portuguese.stackexchange_0000001017</th>\n",
       "      <td>Q:\\n\\n\"pois não\" has an affirmative connotatio...</td>\n",
       "      <td>portuguese</td>\n",
       "      <td>5</td>\n",
       "    </tr>\n",
       "    <tr>\n",
       "      <th>portuguese.stackexchange_0000004609</th>\n",
       "      <td>Q:\\n\\nPor que \"Teiú\" tem acento?\\n\\nMonossílab...</td>\n",
       "      <td>portuguese</td>\n",
       "      <td>5</td>\n",
       "    </tr>\n",
       "    <tr>\n",
       "      <th>portuguese.stackexchange_0000000484</th>\n",
       "      <td>Q:\\n\\nRegional usage of \"guitarra\" and \"violão...</td>\n",
       "      <td>portuguese</td>\n",
       "      <td>5</td>\n",
       "    </tr>\n",
       "    <tr>\n",
       "      <th>portuguese.stackexchange_0000003833</th>\n",
       "      <td>Q:\\n\\n\"Do the names of the indigenous peoples ...</td>\n",
       "      <td>portuguese</td>\n",
       "      <td>5</td>\n",
       "    </tr>\n",
       "    <tr>\n",
       "      <th>portuguese.stackexchange_0000000490</th>\n",
       "      <td>Q:\\n\\nIs \"farnizim\" the same as saying \"frenes...</td>\n",
       "      <td>portuguese</td>\n",
       "      <td>5</td>\n",
       "    </tr>\n",
       "  </tbody>\n",
       "</table>\n",
       "<p>14450 rows × 3 columns</p>\n",
       "</div>"
      ],
      "text/plain": [
       "                                                                                  text  \\\n",
       "id                                                                                       \n",
       "mythology.stackexchange_0000001634   Q:\\n\\nCan anyone identify what Chinese mytholo...   \n",
       "mythology.stackexchange_0000002329   Q:\\n\\nHave runes ever been used to bring someo...   \n",
       "mythology.stackexchange_0000001146   Q:\\n\\nDifferences in the Greek and Roman portr...   \n",
       "mythology.stackexchange_0000004770   Q:\\n\\nWhich cultures have the concept of a \"tr...   \n",
       "mythology.stackexchange_0000000516   Q:\\n\\nWhy did Arawn choose Pwyll to fight Hafg...   \n",
       "...                                                                                ...   \n",
       "portuguese.stackexchange_0000001017  Q:\\n\\n\"pois não\" has an affirmative connotatio...   \n",
       "portuguese.stackexchange_0000004609  Q:\\n\\nPor que \"Teiú\" tem acento?\\n\\nMonossílab...   \n",
       "portuguese.stackexchange_0000000484  Q:\\n\\nRegional usage of \"guitarra\" and \"violão...   \n",
       "portuguese.stackexchange_0000003833  Q:\\n\\n\"Do the names of the indigenous peoples ...   \n",
       "portuguese.stackexchange_0000000490  Q:\\n\\nIs \"farnizim\" the same as saying \"frenes...   \n",
       "\n",
       "                                       category  cat_id  \n",
       "id                                                       \n",
       "mythology.stackexchange_0000001634    mythology       0  \n",
       "mythology.stackexchange_0000002329    mythology       0  \n",
       "mythology.stackexchange_0000001146    mythology       0  \n",
       "mythology.stackexchange_0000004770    mythology       0  \n",
       "mythology.stackexchange_0000000516    mythology       0  \n",
       "...                                         ...     ...  \n",
       "portuguese.stackexchange_0000001017  portuguese       5  \n",
       "portuguese.stackexchange_0000004609  portuguese       5  \n",
       "portuguese.stackexchange_0000000484  portuguese       5  \n",
       "portuguese.stackexchange_0000003833  portuguese       5  \n",
       "portuguese.stackexchange_0000000490  portuguese       5  \n",
       "\n",
       "[14450 rows x 3 columns]"
      ]
     },
     "execution_count": 7,
     "metadata": {},
     "output_type": "execute_result"
    }
   ],
   "source": [
    "all_df = pd.DataFrame.from_records(data, index=[\"id\"])\n",
    "all_df = all_df.drop(\"robotics.stackexchange_0000005103\")\n",
    "all_df"
   ]
  },
  {
   "attachments": {},
   "cell_type": "markdown",
   "id": "6ea5c0ff-1200-4d45-b7b3-8fded7343f8d",
   "metadata": {},
   "source": [
    "---\n",
    "Here the initialization of `all_df` is done and you can jump to your favorite classification\n",
    "___"
   ]
  },
  {
   "cell_type": "code",
   "execution_count": 8,
   "id": "41a2eb62-3309-4636-bca7-8abb87d0a053",
   "metadata": {},
   "outputs": [
    {
     "data": {
      "image/png": "[encoded data removed]",
      "text/plain": [
       "<Figure size 640x480 with 1 Axes>"
      ]
     },
     "metadata": {
      "image/png": {
       "height": 480,
       "width": 564
      }
     },
     "output_type": "display_data"
    }
   ],
   "source": [
    "all_df.groupby(\"category\").size().plot.bar()\n",
    "plt.xticks(rotation=30)\n",
    "plt.grid(axis=\"x\")"
   ]
  },
  {
   "attachments": {},
   "cell_type": "markdown",
   "id": "5ff3abc6-c173-4705-b563-f194f7426990",
   "metadata": {},
   "source": [
    "# Vectorizers"
   ]
  },
  {
   "cell_type": "code",
   "execution_count": 9,
   "id": "07eb09d9-a25f-4d44-b836-4244a8a2fedc",
   "metadata": {},
   "outputs": [
    {
     "data": {
      "text/html": [
       "<div>\n",
       "<style scoped>\n",
       "    .dataframe tbody tr th:only-of-type {\n",
       "        vertical-align: middle;\n",
       "    }\n",
       "\n",
       "    .dataframe tbody tr th {\n",
       "        vertical-align: top;\n",
       "    }\n",
       "\n",
       "    .dataframe thead th {\n",
       "        text-align: right;\n",
       "    }\n",
       "</style>\n",
       "<table border=\"1\" class=\"dataframe\">\n",
       "  <thead>\n",
       "    <tr style=\"text-align: right;\">\n",
       "      <th></th>\n",
       "      <th>and</th>\n",
       "      <th>document</th>\n",
       "      <th>first</th>\n",
       "      <th>is</th>\n",
       "      <th>one</th>\n",
       "      <th>second</th>\n",
       "      <th>the</th>\n",
       "      <th>third</th>\n",
       "      <th>this</th>\n",
       "    </tr>\n",
       "  </thead>\n",
       "  <tbody>\n",
       "    <tr>\n",
       "      <th>This is the first document.</th>\n",
       "      <td>0</td>\n",
       "      <td>1</td>\n",
       "      <td>1</td>\n",
       "      <td>1</td>\n",
       "      <td>0</td>\n",
       "      <td>0</td>\n",
       "      <td>1</td>\n",
       "      <td>0</td>\n",
       "      <td>1</td>\n",
       "    </tr>\n",
       "    <tr>\n",
       "      <th>This document is the second document.</th>\n",
       "      <td>0</td>\n",
       "      <td>2</td>\n",
       "      <td>0</td>\n",
       "      <td>1</td>\n",
       "      <td>0</td>\n",
       "      <td>1</td>\n",
       "      <td>1</td>\n",
       "      <td>0</td>\n",
       "      <td>1</td>\n",
       "    </tr>\n",
       "    <tr>\n",
       "      <th>And this is the third one.</th>\n",
       "      <td>1</td>\n",
       "      <td>0</td>\n",
       "      <td>0</td>\n",
       "      <td>1</td>\n",
       "      <td>1</td>\n",
       "      <td>0</td>\n",
       "      <td>1</td>\n",
       "      <td>1</td>\n",
       "      <td>1</td>\n",
       "    </tr>\n",
       "    <tr>\n",
       "      <th>Is this the first document?</th>\n",
       "      <td>0</td>\n",
       "      <td>1</td>\n",
       "      <td>1</td>\n",
       "      <td>1</td>\n",
       "      <td>0</td>\n",
       "      <td>0</td>\n",
       "      <td>1</td>\n",
       "      <td>0</td>\n",
       "      <td>1</td>\n",
       "    </tr>\n",
       "  </tbody>\n",
       "</table>\n",
       "</div>"
      ],
      "text/plain": [
       "                                       and  document  first  is  one  second  \\\n",
       "This is the first document.              0         1      1   1    0       0   \n",
       "This document is the second document.    0         2      0   1    0       1   \n",
       "And this is the third one.               1         0      0   1    1       0   \n",
       "Is this the first document?              0         1      1   1    0       0   \n",
       "\n",
       "                                       the  third  this  \n",
       "This is the first document.              1      0     1  \n",
       "This document is the second document.    1      0     1  \n",
       "And this is the third one.               1      1     1  \n",
       "Is this the first document?              1      0     1  "
      ]
     },
     "execution_count": 9,
     "metadata": {},
     "output_type": "execute_result"
    }
   ],
   "source": [
    "corpus = [\n",
    "    \"This is the first document.\",\n",
    "    \"This document is the second document.\",\n",
    "    \"And this is the third one.\",\n",
    "    \"Is this the first document?\",\n",
    "]\n",
    "\n",
    "vectorizer = CountVectorizer()\n",
    "xs = vectorizer.fit_transform(corpus).toarray()\n",
    "\n",
    "cv_df = pd.DataFrame(xs, index=corpus, columns=vectorizer.get_feature_names_out())\n",
    "cv_df"
   ]
  },
  {
   "cell_type": "code",
   "execution_count": 10,
   "id": "9096c2b1-4a5a-415d-94a3-b282c21c80ed",
   "metadata": {},
   "outputs": [
    {
     "data": {
      "text/html": [
       "<div>\n",
       "<style scoped>\n",
       "    .dataframe tbody tr th:only-of-type {\n",
       "        vertical-align: middle;\n",
       "    }\n",
       "\n",
       "    .dataframe tbody tr th {\n",
       "        vertical-align: top;\n",
       "    }\n",
       "\n",
       "    .dataframe thead th {\n",
       "        text-align: right;\n",
       "    }\n",
       "</style>\n",
       "<table border=\"1\" class=\"dataframe\">\n",
       "  <thead>\n",
       "    <tr style=\"text-align: right;\">\n",
       "      <th></th>\n",
       "      <th>and</th>\n",
       "      <th>document</th>\n",
       "      <th>first</th>\n",
       "      <th>is</th>\n",
       "      <th>one</th>\n",
       "      <th>second</th>\n",
       "      <th>the</th>\n",
       "      <th>third</th>\n",
       "      <th>this</th>\n",
       "    </tr>\n",
       "  </thead>\n",
       "  <tbody>\n",
       "    <tr>\n",
       "      <th>This is the first document.</th>\n",
       "      <td>0.0000</td>\n",
       "      <td>0.4698</td>\n",
       "      <td>0.5803</td>\n",
       "      <td>0.3841</td>\n",
       "      <td>0.0000</td>\n",
       "      <td>0.0000</td>\n",
       "      <td>0.3841</td>\n",
       "      <td>0.0000</td>\n",
       "      <td>0.3841</td>\n",
       "    </tr>\n",
       "    <tr>\n",
       "      <th>This document is the second document.</th>\n",
       "      <td>0.0000</td>\n",
       "      <td>0.6876</td>\n",
       "      <td>0.0000</td>\n",
       "      <td>0.2811</td>\n",
       "      <td>0.0000</td>\n",
       "      <td>0.5386</td>\n",
       "      <td>0.2811</td>\n",
       "      <td>0.0000</td>\n",
       "      <td>0.2811</td>\n",
       "    </tr>\n",
       "    <tr>\n",
       "      <th>And this is the third one.</th>\n",
       "      <td>0.5118</td>\n",
       "      <td>0.0000</td>\n",
       "      <td>0.0000</td>\n",
       "      <td>0.2671</td>\n",
       "      <td>0.5118</td>\n",
       "      <td>0.0000</td>\n",
       "      <td>0.2671</td>\n",
       "      <td>0.5118</td>\n",
       "      <td>0.2671</td>\n",
       "    </tr>\n",
       "    <tr>\n",
       "      <th>Is this the first document?</th>\n",
       "      <td>0.0000</td>\n",
       "      <td>0.4698</td>\n",
       "      <td>0.5803</td>\n",
       "      <td>0.3841</td>\n",
       "      <td>0.0000</td>\n",
       "      <td>0.0000</td>\n",
       "      <td>0.3841</td>\n",
       "      <td>0.0000</td>\n",
       "      <td>0.3841</td>\n",
       "    </tr>\n",
       "  </tbody>\n",
       "</table>\n",
       "</div>"
      ],
      "text/plain": [
       "                                          and  document   first      is  \\\n",
       "This is the first document.            0.0000    0.4698  0.5803  0.3841   \n",
       "This document is the second document.  0.0000    0.6876  0.0000  0.2811   \n",
       "And this is the third one.             0.5118    0.0000  0.0000  0.2671   \n",
       "Is this the first document?            0.0000    0.4698  0.5803  0.3841   \n",
       "\n",
       "                                          one  second     the   third    this  \n",
       "This is the first document.            0.0000  0.0000  0.3841  0.0000  0.3841  \n",
       "This document is the second document.  0.0000  0.5386  0.2811  0.0000  0.2811  \n",
       "And this is the third one.             0.5118  0.0000  0.2671  0.5118  0.2671  \n",
       "Is this the first document?            0.0000  0.0000  0.3841  0.0000  0.3841  "
      ]
     },
     "execution_count": 10,
     "metadata": {},
     "output_type": "execute_result"
    }
   ],
   "source": [
    "tf_idf = TfidfVectorizer()\n",
    "xs = tf_idf.fit_transform(corpus).toarray()\n",
    "\n",
    "tf_idf_df = pd.DataFrame(xs, index=corpus, columns=tf_idf.get_feature_names_out())\n",
    "tf_idf_df"
   ]
  },
  {
   "attachments": {},
   "cell_type": "markdown",
   "id": "3e7ae303-b69d-4bea-8c4f-93b7ccb7713b",
   "metadata": {},
   "source": [
    "$$\\operatorname{tf}(t,d) = \\frac{f_{t,d}}{{\\sum_{t' \\in d}{f_{t',d}}}}$$\n",
    "\n",
    "$$\\operatorname{idf}(t, D) = \\log \\left( \\frac {N} {1 + n_t}\\right)+ 1$$\n"
   ]
  },
  {
   "attachments": {},
   "cell_type": "markdown",
   "id": "f59b3481",
   "metadata": {},
   "source": [
    "<font color=orange>\n",
    "\n",
    "**$tf$: term frequency**  \n",
    "$f_{t,d}$: freqency of word $t$ in document $d$  \n",
    "\n",
    "**$idf$: inverse document frequency**  \n",
    "$N$: number of documents  \n",
    "$n_{t}$: number of documents containing word $t$  \n",
    "\n",
    "**$tf-idf = tf * idf$**\n",
    "<font>"
   ]
  },
  {
   "attachments": {},
   "cell_type": "markdown",
   "id": "d5642f69-afc2-437e-b4dc-e78b8f1112a5",
   "metadata": {},
   "source": [
    "### Getting back to the complete corpus: `all_df`"
   ]
  },
  {
   "cell_type": "code",
   "execution_count": 11,
   "id": "04236c43",
   "metadata": {},
   "outputs": [],
   "source": [
    "ys = all_df.cat_id.values"
   ]
  },
  {
   "cell_type": "code",
   "execution_count": 12,
   "id": "a08f9f72-443a-416a-9537-2f000ce5117d",
   "metadata": {},
   "outputs": [
    {
     "name": "stdout",
     "output_type": "stream",
     "text": [
      "CPU times: user 3.44 s, sys: 172 ms, total: 3.61 s\n",
      "Wall time: 3.62 s\n"
     ]
    }
   ],
   "source": [
    "%%time\n",
    "\n",
    "cv = CountVectorizer(max_features=5000)\n",
    "xs = cv.fit_transform(all_df.text).toarray()"
   ]
  },
  {
   "cell_type": "code",
   "execution_count": 13,
   "id": "7977ca29",
   "metadata": {},
   "outputs": [
    {
     "name": "stdout",
     "output_type": "stream",
     "text": [
      "xs.shape = (14450, 5000)\n",
      "ys.shape = (14450,)\n"
     ]
    }
   ],
   "source": [
    "print(\"xs.shape =\", xs.shape)\n",
    "print(\"ys.shape =\", ys.shape)"
   ]
  },
  {
   "cell_type": "code",
   "execution_count": 14,
   "id": "c757fdd0-615f-415b-8a59-cc4fbabba1c4",
   "metadata": {},
   "outputs": [
    {
     "name": "stdout",
     "output_type": "stream",
     "text": [
      "(10115, 5000)\n",
      "(4335, 5000)\n"
     ]
    }
   ],
   "source": [
    "train_xs, test_xs, train_ys, test_ys = train_test_split(\n",
    "    xs, ys, test_size=0.3, random_state=0, shuffle=True\n",
    ")\n",
    "print(train_xs.shape)\n",
    "print(test_xs.shape)"
   ]
  },
  {
   "attachments": {},
   "cell_type": "markdown",
   "id": "b1f450b8",
   "metadata": {},
   "source": [
    "#### 🚧 TODO: `CountVectorizer` vs. `TfidfVectorizer` classifiers\n",
    "\n",
    "*   Limit to the 5000 most frequent words to reduce the dimensionality\n",
    "\n",
    "    (the sparse matrix `toarray()` method crashes if no reduction of features is applied)\n",
    "\n",
    "*   Use both to classify the data based on, e.g., the `MultinomialNB` classifier\n",
    "\n",
    "*   Compare their results in terms of accuracy and show their `classification_report`"
   ]
  },
  {
   "attachments": {},
   "cell_type": "markdown",
   "id": "0314093f",
   "metadata": {},
   "source": [
    "# CountVectorizer situation"
   ]
  },
  {
   "cell_type": "code",
   "execution_count": 15,
   "id": "f8f160d6",
   "metadata": {},
   "outputs": [],
   "source": [
    "# we use MultinomialNB classifier\n",
    "model = naive_bayes.MultinomialNB()\n",
    "\n",
    "model.fit(X=train_xs, y=train_ys)\n",
    "y_pred = model.predict(test_xs)\n",
    "\n",
    "acc_cv = accuracy_score(y_true = test_ys, y_pred=y_pred)"
   ]
  },
  {
   "cell_type": "code",
   "execution_count": 16,
   "id": "d1618b32",
   "metadata": {},
   "outputs": [
    {
     "name": "stdout",
     "output_type": "stream",
     "text": [
      "              precision    recall  f1-score   support\n",
      "\n",
      "   mythology       0.95      0.99      0.97       420\n",
      " woodworking       0.97      1.00      0.98       692\n",
      "    robotics       0.98      0.97      0.98       935\n",
      "         hsm       0.95      0.97      0.96       709\n",
      "      health       0.98      0.98      0.98      1054\n",
      "  portuguese       1.00      0.93      0.96       525\n",
      "\n",
      "    accuracy                           0.97      4335\n",
      "   macro avg       0.97      0.97      0.97      4335\n",
      "weighted avg       0.97      0.97      0.97      4335\n",
      "\n"
     ]
    }
   ],
   "source": [
    "print(classification_report(y_true = test_ys, y_pred=y_pred, target_names=CORPORA))"
   ]
  },
  {
   "attachments": {},
   "cell_type": "markdown",
   "id": "d8a5e33c",
   "metadata": {},
   "source": [
    "# TfidfVectorizer situation"
   ]
  },
  {
   "cell_type": "code",
   "execution_count": 17,
   "id": "7ebd09f0",
   "metadata": {},
   "outputs": [
    {
     "name": "stdout",
     "output_type": "stream",
     "text": [
      "CPU times: user 3.61 s, sys: 328 ms, total: 3.94 s\n",
      "Wall time: 3.48 s\n"
     ]
    }
   ],
   "source": [
    "%%time\n",
    "\n",
    "tf_idf = TfidfVectorizer(max_features=5000)\n",
    "xs = tf_idf.fit_transform(all_df.text).toarray()\n"
   ]
  },
  {
   "cell_type": "code",
   "execution_count": 18,
   "id": "56b5b13d",
   "metadata": {},
   "outputs": [
    {
     "name": "stdout",
     "output_type": "stream",
     "text": [
      "              precision    recall  f1-score   support\n",
      "\n",
      "   mythology       0.97      0.96      0.97       420\n",
      " woodworking       0.97      1.00      0.98       692\n",
      "    robotics       0.97      0.98      0.98       935\n",
      "         hsm       0.95      0.97      0.96       709\n",
      "      health       0.98      0.99      0.99      1054\n",
      "  portuguese       1.00      0.93      0.97       525\n",
      "\n",
      "    accuracy                           0.97      4335\n",
      "   macro avg       0.98      0.97      0.97      4335\n",
      "weighted avg       0.98      0.97      0.97      4335\n",
      "\n"
     ]
    }
   ],
   "source": [
    "train_xs, test_xs, train_ys, test_ys = train_test_split(\n",
    "    xs, ys, test_size=0.3, random_state=0, shuffle=True\n",
    ")\n",
    "\n",
    "model = naive_bayes.MultinomialNB()\n",
    "\n",
    "model.fit(X=train_xs, y=train_ys)\n",
    "y_pred = model.predict(test_xs)\n",
    "\n",
    "acc_tfidf = accuracy_score(y_true=test_ys, y_pred=y_pred)\n",
    "print(classification_report(y_true=test_ys, y_pred=y_pred, target_names=CORPORA))"
   ]
  },
  {
   "attachments": {},
   "cell_type": "markdown",
   "id": "5dda5a69",
   "metadata": {},
   "source": [
    "# Comparison in terms of accuracy"
   ]
  },
  {
   "cell_type": "code",
   "execution_count": 19,
   "id": "834d102b",
   "metadata": {},
   "outputs": [
    {
     "name": "stdout",
     "output_type": "stream",
     "text": [
      "Using modle MultinomialNB\n",
      "accuracy of CountVectorizer situation: 0.9741637831603229\n",
      "accuracy of TfidfVectorizer situation: 0.9748558246828143\n"
     ]
    }
   ],
   "source": [
    "print(\"Using modle MultinomialNB\")\n",
    "print(\"accuracy of CountVectorizer situation:\", acc_cv)\n",
    "print(\"accuracy of TfidfVectorizer situation:\", acc_tfidf)"
   ]
  },
  {
   "attachments": {},
   "cell_type": "markdown",
   "id": "b1f450b8",
   "metadata": {},
   "source": [
    "#### 🚧 TODO: `MultinomialNB` vs. `GaussianNB` classifiers\n",
    "\n",
    "*   Use both to classify the data\n",
    "\n",
    "*   Compare their results in terms of accuracy and show their `classification_report`"
   ]
  },
  {
   "attachments": {},
   "cell_type": "markdown",
   "id": "410bc371",
   "metadata": {},
   "source": [
    "# MultinomialNB situation"
   ]
  },
  {
   "cell_type": "code",
   "execution_count": 20,
   "id": "dd00d29e",
   "metadata": {},
   "outputs": [
    {
     "name": "stdout",
     "output_type": "stream",
     "text": [
      "              precision    recall  f1-score   support\n",
      "\n",
      "   mythology       0.97      0.96      0.97       420\n",
      " woodworking       0.97      1.00      0.98       692\n",
      "    robotics       0.97      0.98      0.98       935\n",
      "         hsm       0.95      0.97      0.96       709\n",
      "      health       0.98      0.99      0.99      1054\n",
      "  portuguese       1.00      0.93      0.97       525\n",
      "\n",
      "    accuracy                           0.97      4335\n",
      "   macro avg       0.98      0.97      0.97      4335\n",
      "weighted avg       0.98      0.97      0.97      4335\n",
      "\n"
     ]
    }
   ],
   "source": [
    "# as can be seen in cells above, we used MultinomialNB as model and chose tfidfVectorizer\n",
    "acc_MultinomialNB = accuracy_score(y_true=test_ys, y_pred=y_pred)\n",
    "print(classification_report(y_true=test_ys, y_pred=y_pred, target_names=CORPORA))\n"
   ]
  },
  {
   "attachments": {},
   "cell_type": "markdown",
   "id": "73aeefd9",
   "metadata": {},
   "source": [
    "# GaussianNB situation"
   ]
  },
  {
   "cell_type": "code",
   "execution_count": 21,
   "id": "9158aa3f",
   "metadata": {},
   "outputs": [
    {
     "name": "stdout",
     "output_type": "stream",
     "text": [
      "              precision    recall  f1-score   support\n",
      "\n",
      "   mythology       0.95      0.94      0.94       420\n",
      " woodworking       0.97      0.96      0.96       692\n",
      "    robotics       0.97      0.95      0.96       935\n",
      "         hsm       0.90      0.92      0.91       709\n",
      "      health       0.94      0.98      0.96      1054\n",
      "  portuguese       0.99      0.97      0.98       525\n",
      "\n",
      "    accuracy                           0.95      4335\n",
      "   macro avg       0.95      0.95      0.95      4335\n",
      "weighted avg       0.95      0.95      0.95      4335\n",
      "\n"
     ]
    }
   ],
   "source": [
    "model = naive_bayes.GaussianNB()\n",
    "\n",
    "model.fit(X=train_xs, y=train_ys)\n",
    "y_pred = model.predict(test_xs)\n",
    "\n",
    "acc_GaussianNB = accuracy_score(y_true=test_ys, y_pred=y_pred)\n",
    "print(classification_report(y_true=test_ys, y_pred=y_pred, target_names=CORPORA))"
   ]
  },
  {
   "attachments": {},
   "cell_type": "markdown",
   "id": "5dda5a69",
   "metadata": {},
   "source": [
    "# Comparison in terms of accuracy"
   ]
  },
  {
   "cell_type": "code",
   "execution_count": 22,
   "id": "55ea347e",
   "metadata": {},
   "outputs": [
    {
     "name": "stdout",
     "output_type": "stream",
     "text": [
      "Choosing TfidfVectorizer\n",
      "accuracy of MultinomialNB situation: 0.9748558246828143\n",
      "accuracy of GaussianNB situation: 0.952479815455594\n"
     ]
    }
   ],
   "source": [
    "print(\"Choosing TfidfVectorizer\")\n",
    "print(\"accuracy of MultinomialNB situation:\", acc_MultinomialNB)\n",
    "print(\"accuracy of GaussianNB situation:\", acc_GaussianNB)"
   ]
  },
  {
   "attachments": {},
   "cell_type": "markdown",
   "id": "5d928327-bf23-4554-8f5f-aaee99c74697",
   "metadata": {},
   "source": [
    "#### 🚧 TODO: Confusion matrix\n",
    "\n",
    "- Verify in a confusion matrix that the precision of portuguese is 1.00 and its recall is about 0.93 with the `MultinomialNB` classifier on the Tfidf vectorizer\n",
    "\n",
    "- Translate this result into a sentence"
   ]
  },
  {
   "cell_type": "code",
   "execution_count": 23,
   "id": "9f8a67e3",
   "metadata": {},
   "outputs": [],
   "source": [
    "ys = all_df.cat_id.values\n",
    "\n",
    "tf_idf = TfidfVectorizer(max_features=5000)\n",
    "xs = tf_idf.fit_transform(all_df.text).toarray()\n",
    "\n",
    "train_xs, test_xs, train_ys, test_ys = train_test_split(\n",
    "    xs, ys, test_size=0.3, random_state=0, shuffle=True\n",
    ")\n",
    "\n",
    "model = naive_bayes.MultinomialNB()\n",
    "model.fit(X=train_xs, y=train_ys)\n",
    "y_pred = model.predict(test_xs)"
   ]
  },
  {
   "cell_type": "code",
   "execution_count": 24,
   "id": "68d7a2e3",
   "metadata": {},
   "outputs": [
    {
     "name": "stdout",
     "output_type": "stream",
     "text": [
      "              precision    recall  f1-score   support\n",
      "\n",
      "   mythology       0.97      0.96      0.97       420\n",
      " woodworking       0.97      1.00      0.98       692\n",
      "    robotics       0.97      0.98      0.98       935\n",
      "         hsm       0.95      0.97      0.96       709\n",
      "      health       0.98      0.99      0.99      1054\n",
      "  portuguese       1.00      0.93      0.97       525\n",
      "\n",
      "    accuracy                           0.97      4335\n",
      "   macro avg       0.98      0.97      0.97      4335\n",
      "weighted avg       0.98      0.97      0.97      4335\n",
      "\n"
     ]
    }
   ],
   "source": [
    "print(classification_report(y_true = test_ys, y_pred=y_pred, target_names=CORPORA))"
   ]
  },
  {
   "cell_type": "code",
   "execution_count": 25,
   "id": "9c00f1e5",
   "metadata": {},
   "outputs": [
    {
     "data": {
      "text/html": [
       "<div>\n",
       "<style scoped>\n",
       "    .dataframe tbody tr th:only-of-type {\n",
       "        vertical-align: middle;\n",
       "    }\n",
       "\n",
       "    .dataframe tbody tr th {\n",
       "        vertical-align: top;\n",
       "    }\n",
       "\n",
       "    .dataframe thead th {\n",
       "        text-align: right;\n",
       "    }\n",
       "</style>\n",
       "<table border=\"1\" class=\"dataframe\">\n",
       "  <thead>\n",
       "    <tr style=\"text-align: right;\">\n",
       "      <th></th>\n",
       "      <th>mythology</th>\n",
       "      <th>woodworking</th>\n",
       "      <th>robotics</th>\n",
       "      <th>hsm</th>\n",
       "      <th>health</th>\n",
       "      <th>portuguese</th>\n",
       "    </tr>\n",
       "  </thead>\n",
       "  <tbody>\n",
       "    <tr>\n",
       "      <th>mythology</th>\n",
       "      <td>405</td>\n",
       "      <td>1</td>\n",
       "      <td>0</td>\n",
       "      <td>13</td>\n",
       "      <td>1</td>\n",
       "      <td>0</td>\n",
       "    </tr>\n",
       "    <tr>\n",
       "      <th>woodworking</th>\n",
       "      <td>0</td>\n",
       "      <td>690</td>\n",
       "      <td>1</td>\n",
       "      <td>0</td>\n",
       "      <td>1</td>\n",
       "      <td>0</td>\n",
       "    </tr>\n",
       "    <tr>\n",
       "      <th>robotics</th>\n",
       "      <td>0</td>\n",
       "      <td>15</td>\n",
       "      <td>913</td>\n",
       "      <td>2</td>\n",
       "      <td>5</td>\n",
       "      <td>0</td>\n",
       "    </tr>\n",
       "    <tr>\n",
       "      <th>hsm</th>\n",
       "      <td>4</td>\n",
       "      <td>0</td>\n",
       "      <td>12</td>\n",
       "      <td>687</td>\n",
       "      <td>6</td>\n",
       "      <td>0</td>\n",
       "    </tr>\n",
       "    <tr>\n",
       "      <th>health</th>\n",
       "      <td>0</td>\n",
       "      <td>6</td>\n",
       "      <td>5</td>\n",
       "      <td>2</td>\n",
       "      <td>1041</td>\n",
       "      <td>0</td>\n",
       "    </tr>\n",
       "    <tr>\n",
       "      <th>portuguese</th>\n",
       "      <td>8</td>\n",
       "      <td>1</td>\n",
       "      <td>6</td>\n",
       "      <td>17</td>\n",
       "      <td>3</td>\n",
       "      <td>490</td>\n",
       "    </tr>\n",
       "  </tbody>\n",
       "</table>\n",
       "</div>"
      ],
      "text/plain": [
       "             mythology  woodworking  robotics  hsm  health  portuguese\n",
       "mythology          405            1         0   13       1           0\n",
       "woodworking          0          690         1    0       1           0\n",
       "robotics             0           15       913    2       5           0\n",
       "hsm                  4            0        12  687       6           0\n",
       "health               0            6         5    2    1041           0\n",
       "portuguese           8            1         6   17       3         490"
      ]
     },
     "execution_count": 25,
     "metadata": {},
     "output_type": "execute_result"
    }
   ],
   "source": [
    "confusion_matrix_df = pd.DataFrame(confusion_matrix(y_true=test_ys, y_pred=y_pred), index=CORPORA, columns=CORPORA)\n",
    "confusion_matrix_df"
   ]
  },
  {
   "attachments": {},
   "cell_type": "markdown",
   "id": "1abca6f5",
   "metadata": {},
   "source": [
    "<font color=orange>\n",
    "\n",
    "From the confusion matrix, we can know two things.  \n",
    "\n",
    "On one side: \n",
    "There are $8+1+6+17+3+490 = 525$ portuguese texts; \n",
    "$8$ portuguese texts are wrongly classified into mythology; \n",
    "$1$ portuguese texts are wrongly classified into woodworking; \n",
    "$6$ portuguese texts are wrongly classified into robotics; \n",
    "$17$ portuguese texts are wrongly classified into hsm; \n",
    "$3$ portuguese texts are wrongly classified into health; \n",
    "$490$ portuguese texts are correctly classified into portuguese.  \n",
    "\n",
    "Thus we got **Recall** by calcul: $490/525 = 0.93$  \n",
    "\n",
    "On the other side:\n",
    "No texts are wrongly classified into portuguese.  \n",
    "\n",
    "Thus we got **Precision** by calcul: $490/490 = 1.0$\n",
    "<font>"
   ]
  },
  {
   "attachments": {},
   "cell_type": "markdown",
   "id": "fab74a7e",
   "metadata": {},
   "source": [
    "<font color=orange>\n",
    "\n",
    "In a word, $Precision==1.0$ means: No texts are wrongly classified into portuguese; $Recall==0.93$ means: $93\\%$ of portugueses are correctly classfied. \n",
    "<font>"
   ]
  },
  {
   "attachments": {},
   "cell_type": "markdown",
   "id": "53799ca9-8e2d-40b3-8922-6ad4e2ebc0d7",
   "metadata": {},
   "source": [
    "#### 🚧 TODO: add the `stop_words=\"english\"` option to the `tf_idf` vectorizer \n",
    "\n",
    "*   Compare the size of the sparse_xs for the 2 conditions (stop words included or not) without limiting to the 5000 features\n",
    "\n",
    "*   Retrain with the new vectorizer and the MultinomialNB classifier\n",
    "\n",
    "*   Compare the results with the previous vectorizer"
   ]
  },
  {
   "cell_type": "code",
   "execution_count": 26,
   "id": "9cb74893",
   "metadata": {},
   "outputs": [
    {
     "name": "stdout",
     "output_type": "stream",
     "text": [
      "without limiting to the 5000 features\n",
      "stop words inclued, sparse_xs's shape is (14450, 152763)\n",
      "stop words not inclued, sparse_xs's shape is (14450, 153076)\n"
     ]
    }
   ],
   "source": [
    "print('without limiting to the 5000 features')\n",
    "\n",
    "tf_idf = TfidfVectorizer(stop_words=\"english\")\n",
    "xs = tf_idf.fit_transform(all_df.text).toarray()\n",
    "print(\"stop words inclued, sparse_xs's shape is\", xs.shape)\n",
    "\n",
    "tf_idf = TfidfVectorizer()\n",
    "xs = tf_idf.fit_transform(all_df.text).toarray()\n",
    "print(\"stop words not inclued, sparse_xs's shape is\", xs.shape)"
   ]
  },
  {
   "attachments": {},
   "cell_type": "markdown",
   "id": "7805bb04",
   "metadata": {},
   "source": [
    "<font color=orange>\n",
    "We can see that adding the parameter stop_words filtered some features.\n",
    "<font>"
   ]
  },
  {
   "cell_type": "code",
   "execution_count": 27,
   "id": "a9ea4420",
   "metadata": {},
   "outputs": [],
   "source": [
    "tf_idf = TfidfVectorizer(stop_words=\"english\", max_features=5000)\n",
    "xs = tf_idf.fit_transform(all_df.text).toarray()\n",
    "\n",
    "train_xs, test_xs, train_ys, test_ys = train_test_split(\n",
    "    xs, ys, test_size=0.3, random_state=0, shuffle=True\n",
    ")\n",
    "\n",
    "model = naive_bayes.MultinomialNB()\n",
    "model.fit(X=train_xs, y=train_ys)\n",
    "y_pred = model.predict(test_xs)"
   ]
  },
  {
   "cell_type": "code",
   "execution_count": 28,
   "id": "8dabdc45",
   "metadata": {},
   "outputs": [
    {
     "name": "stdout",
     "output_type": "stream",
     "text": [
      "              precision    recall  f1-score   support\n",
      "\n",
      "   mythology       0.97      0.97      0.97       420\n",
      " woodworking       0.97      1.00      0.98       692\n",
      "    robotics       0.97      0.98      0.97       935\n",
      "         hsm       0.96      0.96      0.96       709\n",
      "      health       0.99      0.98      0.98      1054\n",
      "  portuguese       1.00      0.96      0.98       525\n",
      "\n",
      "    accuracy                           0.98      4335\n",
      "   macro avg       0.98      0.97      0.98      4335\n",
      "weighted avg       0.98      0.98      0.98      4335\n",
      "\n"
     ]
    }
   ],
   "source": [
    "print(classification_report(y_true = test_ys, y_pred=y_pred, target_names=CORPORA))"
   ]
  },
  {
   "attachments": {},
   "cell_type": "markdown",
   "id": "8b5bad5f",
   "metadata": {},
   "source": [
    "<font color=orange>\n",
    "\n",
    "Using TfidfVectorizer, limiting to 5000 features, we can compare the two results stop words inclued or not:  \n",
    "\n",
    "Accuracy without stop words is 0.97 while accuracy with stop words is 0.98;  \n",
    "\n",
    "Besides, some values, like robotics's f1-score, decreased a little bit.\n",
    "<font>"
   ]
  },
  {
   "attachments": {},
   "cell_type": "markdown",
   "id": "152ccd31",
   "metadata": {},
   "source": [
    "#### 🚧 TODO: PCA\n",
    "\n",
    "*   Apply PCA to project on 2 dimensions to all vectors (train and test) and plot them\n",
    "\n",
    "*   Compare the plot with the previous vectorizer with, and without the `stop_words=\"english\"` option\n",
    "\n",
    "*   Explain the difference breafly"
   ]
  },
  {
   "attachments": {},
   "cell_type": "markdown",
   "id": "209a2561",
   "metadata": {},
   "source": [
    "# 2-dimension PCA plot (using TfidfVectorizer limited to 5000 features) with stop_words='english'"
   ]
  },
  {
   "cell_type": "code",
   "execution_count": 29,
   "id": "6ef66523",
   "metadata": {},
   "outputs": [
    {
     "data": {
      "image/png": "[encoded data removed]",
      "text/plain": [
       "<Figure size 640x480 with 1 Axes>"
      ]
     },
     "metadata": {
      "image/png": {
       "height": 458,
       "width": 580
      }
     },
     "output_type": "display_data"
    }
   ],
   "source": [
    "pca = decomposition.PCA(n_components=2)\n",
    "train_xs_decomposed = pca.fit_transform(train_xs)\n",
    "test_xs_decomposed = pca.transform(test_xs)\n",
    "\n",
    "plt.scatter(train_xs_decomposed.T[0], train_xs_decomposed.T[1])\n",
    "plt.scatter(test_xs_decomposed.T[0], test_xs_decomposed.T[1])\n",
    "plt.xlabel('PCA_1')\n",
    "plt.ylabel('PCA_2')\n",
    "plt.title('2-D PCA scatter with stop words')\n",
    "plt.show()\n"
   ]
  },
  {
   "attachments": {},
   "cell_type": "markdown",
   "id": "46101bd7",
   "metadata": {},
   "source": [
    "# 2-dimension PCA plot (using TfidfVectorizer limited to 5000 features) without stop_words='english'"
   ]
  },
  {
   "cell_type": "code",
   "execution_count": 30,
   "id": "3114a974",
   "metadata": {},
   "outputs": [
    {
     "data": {
      "image/png": "[encoded data removed]",
      "text/plain": [
       "<Figure size 640x480 with 1 Axes>"
      ]
     },
     "metadata": {
      "image/png": {
       "height": 458,
       "width": 580
      }
     },
     "output_type": "display_data"
    }
   ],
   "source": [
    "tf_idf = TfidfVectorizer(max_features=5000)\n",
    "xs = tf_idf.fit_transform(all_df.text).toarray()\n",
    "\n",
    "train_xs, test_xs, train_ys, test_ys = train_test_split(\n",
    "    xs, ys, test_size=0.3, random_state=0, shuffle=True\n",
    ")\n",
    "\n",
    "pca = decomposition.PCA(n_components=2)\n",
    "train_xs_decomposed = pca.fit_transform(train_xs)\n",
    "test_xs_decomposed = pca.transform(test_xs)\n",
    "\n",
    "plt.scatter(train_xs_decomposed.T[0], train_xs_decomposed.T[1])\n",
    "plt.scatter(test_xs_decomposed.T[0], test_xs_decomposed.T[1])\n",
    "plt.xlabel('PCA_1')\n",
    "plt.ylabel('PCA_2')\n",
    "plt.title('2-D PCA scatter without stop words')\n",
    "plt.show()"
   ]
  },
  {
   "attachments": {},
   "cell_type": "markdown",
   "id": "d3636ead",
   "metadata": {},
   "source": [
    "<font color=orange>\n",
    "\n",
    "The parameter stop_words='english' filiterd features like “and”, “the”, “him”, which are presumed to be uninformative in representing the content of a text.  \n",
    "\n",
    "Once the useless information got removed, the 2-D PCA scatter plot became less discrete.  \n",
    "\n",
    "That's why the first plot seems more reasonable.\n",
    "<font>"
   ]
  },
  {
   "attachments": {},
   "cell_type": "markdown",
   "id": "152ccd31",
   "metadata": {},
   "source": [
    "#### 🚧 TODO: Train on PCA\n",
    "\n",
    "*   Apply PCA to project on 2 dimensions to all vectors (train and test), fitting the PCA only on the training set\n",
    "\n",
    "*   Train the MultinomialNB and the GaussianNB classifiers on the PCA vectors\n",
    "\n",
    "    *   Does it work with both classifiers? Explain breafly.\n",
    "\n",
    "*   Compare the results with the vectorizer with, and without, the `stop_words=\"english\"` option\n",
    "\n",
    "*   Analyze the difference breafly"
   ]
  },
  {
   "attachments": {},
   "cell_type": "markdown",
   "id": "429beb09",
   "metadata": {},
   "source": [
    "# With stop_words=\"english\""
   ]
  },
  {
   "cell_type": "code",
   "execution_count": 31,
   "id": "16f4ecfd",
   "metadata": {},
   "outputs": [],
   "source": [
    "tf_idf = TfidfVectorizer(max_features=5000, stop_words=\"english\")\n",
    "xs = tf_idf.fit_transform(all_df.text).toarray()\n",
    "\n",
    "train_xs, test_xs, train_ys, test_ys = train_test_split(\n",
    "    xs, ys, test_size=0.3, random_state=0, shuffle=True\n",
    ")\n",
    "\n",
    "pca = decomposition.PCA(n_components=2)\n",
    "train_xs_decomposed = pca.fit_transform(train_xs)\n",
    "test_xs_decomposed = pca.transform(test_xs)\n"
   ]
  },
  {
   "attachments": {},
   "cell_type": "markdown",
   "id": "446a890f",
   "metadata": {},
   "source": [
    "<font color=orange>\n",
    "\n",
    "When we use MultinomialNB after PCA decomposition, there will be an error:  \n",
    "\n",
    "**ValueError: Negative values in data passed to MultinomialNB (input X)**  \n",
    "\n",
    "That's because after PCA, train_xs_decomposed will contain negative values.\n",
    "<font>\n"
   ]
  },
  {
   "cell_type": "code",
   "execution_count": 32,
   "id": "768e17f4",
   "metadata": {},
   "outputs": [
    {
     "name": "stdout",
     "output_type": "stream",
     "text": [
      "accuracy of GaussianNB situation: 0.6403690888119954\n"
     ]
    }
   ],
   "source": [
    "model = naive_bayes.GaussianNB()\n",
    "model.fit(X=train_xs_decomposed, y=train_ys)\n",
    "y_pred = model.predict(test_xs_decomposed)\n",
    "acc_MultinomialNB = accuracy_score(y_true=test_ys, y_pred=y_pred)\n",
    "acc_GaussianNB = accuracy_score(y_true=test_ys, y_pred=y_pred)\n",
    "print(\"accuracy of GaussianNB situation:\", acc_GaussianNB)"
   ]
  },
  {
   "attachments": {},
   "cell_type": "markdown",
   "id": "c00b5566",
   "metadata": {},
   "source": [
    "# Without stop_words=\"english\""
   ]
  },
  {
   "cell_type": "code",
   "execution_count": 33,
   "id": "cdd690d6",
   "metadata": {},
   "outputs": [],
   "source": [
    "tf_idf = TfidfVectorizer(max_features=5000)\n",
    "xs = tf_idf.fit_transform(all_df.text).toarray()\n",
    "\n",
    "train_xs, test_xs, train_ys, test_ys = train_test_split(\n",
    "    xs, ys, test_size=0.3, random_state=0, shuffle=True\n",
    ")\n",
    "\n",
    "pca = decomposition.PCA(n_components=2)\n",
    "train_xs_decomposed = pca.fit_transform(train_xs)\n",
    "test_xs_decomposed = pca.transform(test_xs)"
   ]
  },
  {
   "cell_type": "code",
   "execution_count": 93,
   "id": "723378af",
   "metadata": {},
   "outputs": [
    {
     "name": "stdout",
     "output_type": "stream",
     "text": [
      "accuracy of GaussianNB situation: 0.5787773933102652\n"
     ]
    }
   ],
   "source": [
    "model = naive_bayes.GaussianNB()\n",
    "model.fit(X=train_xs_decomposed, y=train_ys)\n",
    "y_pred = model.predict(test_xs_decomposed)\n",
    "acc_GaussianNB = accuracy_score(y_true=test_ys, y_pred=y_pred)\n",
    "print(\"accuracy of GaussianNB situation:\", acc_GaussianNB)"
   ]
  },
  {
   "attachments": {},
   "cell_type": "markdown",
   "id": "35dff5d1",
   "metadata": {},
   "source": [
    "<font color=orange>\n",
    "\n",
    "After removing the parameter stop_words=\"english\", the accuracy decreased from 0.64 to 0.58.  \n",
    "\n",
    "This is because the parameter stop_words='english' filiterd features like “and”, “the”, “him”, which are presumed to be uninformative in representing the content of a text.  \n",
    "<font>"
   ]
  },
  {
   "attachments": {},
   "cell_type": "markdown",
   "id": "b9dada15-875a-4aea-8d31-01011ef6662b",
   "metadata": {},
   "source": [
    "#### 🚧 TODO: PCA with more dimensions\n",
    "\n",
    "*   Try to find the best number of dimensions for the PCA with [`GridSearchCV`](sklearn.model_selection.GridSearchCV)\n",
    "\n",
    "*   Use pipeline to combine the PCA and the classifier and other potential preprocessing steps\n",
    "\n",
    "*   Boxplot accuracyies for different PCA dimension values using "
   ]
  },
  {
   "cell_type": "code",
   "execution_count": 76,
   "id": "12e318ce",
   "metadata": {},
   "outputs": [
    {
     "name": "stdout",
     "output_type": "stream",
     "text": [
      "Fitting 5 folds for each of 50 candidates, totalling 250 fits\n",
      "[CV 2/5] END ...............pca__n_components=2;, score=0.656 total time=   4.1s\n",
      "[CV 3/5] END ...............pca__n_components=1;, score=0.481 total time=   4.1s\n",
      "[CV 2/5] END ...............pca__n_components=1;, score=0.462 total time=   4.2s\n",
      "[CV 5/5] END ...............pca__n_components=1;, score=0.459 total time=   4.2s\n",
      "[CV 1/5] END ...............pca__n_components=1;, score=0.464 total time=   4.2s\n",
      "[CV 4/5] END ...............pca__n_components=1;, score=0.447 total time=   4.4s\n",
      "[CV 1/5] END ...............pca__n_components=2;, score=0.643 total time=   4.4s\n",
      "[CV 3/5] END ...............pca__n_components=2;, score=0.659 total time=   4.5s\n",
      "[CV 4/5] END ...............pca__n_components=2;, score=0.624 total time=   2.4s\n",
      "[CV 5/5] END ...............pca__n_components=2;, score=0.631 total time=   2.5s\n",
      "[CV 4/5] END ...............pca__n_components=3;, score=0.817 total time=   4.1s\n",
      "[CV 1/5] END ...............pca__n_components=4;, score=0.928 total time=   4.3s\n",
      "[CV 2/5] END ...............pca__n_components=3;, score=0.820 total time=   4.7s\n",
      "[CV 3/5] END ...............pca__n_components=3;, score=0.834 total time=   4.7s\n",
      "[CV 1/5] END ...............pca__n_components=3;, score=0.821 total time=   5.2s\n",
      "[CV 5/5] END ...............pca__n_components=3;, score=0.828 total time=   5.0s\n",
      "[CV 2/5] END ...............pca__n_components=4;, score=0.920 total time=   3.3s\n",
      "[CV 3/5] END ...............pca__n_components=4;, score=0.937 total time=   3.7s\n",
      "[CV 4/5] END ...............pca__n_components=4;, score=0.920 total time=   3.0s\n",
      "[CV 5/5] END ...............pca__n_components=4;, score=0.926 total time=   3.0s\n",
      "[CV 3/5] END ...............pca__n_components=5;, score=0.951 total time=   4.4s\n",
      "[CV 2/5] END ...............pca__n_components=5;, score=0.939 total time=   5.0s\n",
      "[CV 5/5] END ...............pca__n_components=5;, score=0.946 total time=   4.3s\n",
      "[CV 1/5] END ...............pca__n_components=5;, score=0.946 total time=   5.4s\n",
      "[CV 4/5] END ...............pca__n_components=5;, score=0.929 total time=   4.9s\n",
      "[CV 1/5] END ...............pca__n_components=6;, score=0.960 total time=   4.4s\n",
      "[CV 2/5] END ...............pca__n_components=6;, score=0.952 total time=   5.0s\n",
      "[CV 3/5] END ...............pca__n_components=6;, score=0.960 total time=   5.3s\n",
      "[CV 4/5] END ...............pca__n_components=6;, score=0.945 total time=   3.9s\n",
      "[CV 5/5] END ...............pca__n_components=6;, score=0.957 total time=   3.9s\n",
      "[CV 4/5] END ...............pca__n_components=7;, score=0.952 total time=   4.9s\n",
      "[CV 3/5] END ...............pca__n_components=7;, score=0.964 total time=   5.7s\n",
      "[CV 2/5] END ...............pca__n_components=7;, score=0.953 total time=   5.8s\n",
      "[CV 5/5] END ...............pca__n_components=7;, score=0.962 total time=   3.5s\n",
      "[CV 1/5] END ...............pca__n_components=7;, score=0.963 total time=   5.9s\n",
      "[CV 1/5] END ...............pca__n_components=8;, score=0.965 total time=   4.0s\n",
      "[CV 2/5] END ...............pca__n_components=8;, score=0.953 total time=   5.2s\n",
      "[CV 4/5] END ...............pca__n_components=8;, score=0.950 total time=   3.8s\n",
      "[CV 3/5] END ...............pca__n_components=8;, score=0.959 total time=   5.8s\n",
      "[CV 5/5] END ...............pca__n_components=8;, score=0.960 total time=   4.1s\n",
      "[CV 1/5] END ...............pca__n_components=9;, score=0.964 total time=   5.1s\n",
      "[CV 4/5] END ...............pca__n_components=9;, score=0.950 total time=   6.7s\n",
      "[CV 3/5] END ...............pca__n_components=9;, score=0.957 total time=   7.7s\n",
      "[CV 2/5] END ...............pca__n_components=9;, score=0.948 total time=   7.7s\n",
      "[CV 5/5] END ...............pca__n_components=9;, score=0.961 total time=   5.4s\n",
      "[CV 1/5] END ..............pca__n_components=10;, score=0.962 total time=   6.3s\n",
      "[CV 3/5] END ..............pca__n_components=10;, score=0.957 total time=   6.1s\n",
      "[CV 2/5] END ..............pca__n_components=10;, score=0.948 total time=   6.6s\n",
      "[CV 4/5] END ..............pca__n_components=10;, score=0.950 total time=   6.7s\n",
      "[CV 5/5] END ..............pca__n_components=10;, score=0.960 total time=   5.1s\n",
      "[CV 3/5] END ..............pca__n_components=11;, score=0.958 total time=   5.5s\n",
      "[CV 2/5] END ..............pca__n_components=11;, score=0.946 total time=   6.1s\n",
      "[CV 1/5] END ..............pca__n_components=11;, score=0.962 total time=   6.2s\n",
      "[CV 4/5] END ..............pca__n_components=11;, score=0.954 total time=   5.7s\n",
      "[CV 5/5] END ..............pca__n_components=11;, score=0.963 total time=   5.7s\n",
      "[CV 1/5] END ..............pca__n_components=12;, score=0.959 total time=   5.9s\n",
      "[CV 2/5] END ..............pca__n_components=12;, score=0.947 total time=   4.2s\n",
      "[CV 3/5] END ..............pca__n_components=12;, score=0.957 total time=   4.6s\n",
      "[CV 4/5] END ..............pca__n_components=12;, score=0.948 total time=   4.4s\n",
      "[CV 5/5] END ..............pca__n_components=12;, score=0.959 total time=   4.7s\n",
      "[CV 1/5] END ..............pca__n_components=13;, score=0.957 total time=   5.2s\n",
      "[CV 2/5] END ..............pca__n_components=13;, score=0.944 total time=   4.4s\n",
      "[CV 4/5] END ..............pca__n_components=13;, score=0.945 total time=   5.3s\n",
      "[CV 5/5] END ..............pca__n_components=13;, score=0.959 total time=   5.2s\n",
      "[CV 3/5] END ..............pca__n_components=13;, score=0.961 total time=   5.7s\n",
      "[CV 1/5] END ..............pca__n_components=14;, score=0.954 total time=   4.8s\n",
      "[CV 2/5] END ..............pca__n_components=14;, score=0.944 total time=   4.8s\n",
      "[CV 3/5] END ..............pca__n_components=14;, score=0.958 total time=   4.9s\n",
      "[CV 4/5] END ..............pca__n_components=14;, score=0.948 total time=   4.8s\n",
      "[CV 5/5] END ..............pca__n_components=14;, score=0.959 total time=   5.0s\n",
      "[CV 3/5] END ..............pca__n_components=15;, score=0.953 total time=   5.2s\n",
      "[CV 1/5] END ..............pca__n_components=15;, score=0.953 total time=   5.5s\n",
      "[CV 2/5] END ..............pca__n_components=15;, score=0.947 total time=   5.6s\n",
      "[CV 4/5] END ..............pca__n_components=15;, score=0.942 total time=   5.0s\n",
      "[CV 5/5] END ..............pca__n_components=15;, score=0.959 total time=   5.7s\n",
      "[CV 1/5] END ..............pca__n_components=16;, score=0.950 total time=   5.6s\n",
      "[CV 2/5] END ..............pca__n_components=16;, score=0.941 total time=   5.0s\n",
      "[CV 3/5] END ..............pca__n_components=16;, score=0.953 total time=  13.4s\n",
      "[CV 4/5] END ..............pca__n_components=16;, score=0.943 total time=  12.7s\n",
      "[CV 5/5] END ..............pca__n_components=16;, score=0.958 total time=  12.8s\n",
      "[CV 1/5] END ..............pca__n_components=17;, score=0.950 total time=  12.6s\n",
      "[CV 2/5] END ..............pca__n_components=17;, score=0.946 total time=  15.2s\n",
      "[CV 3/5] END ..............pca__n_components=17;, score=0.953 total time=  14.3s\n",
      "[CV 5/5] END ..............pca__n_components=17;, score=0.956 total time=  14.8s\n",
      "[CV 4/5] END ..............pca__n_components=17;, score=0.939 total time=  15.3s\n",
      "[CV 1/5] END ..............pca__n_components=18;, score=0.949 total time=   6.9s\n",
      "[CV 4/5] END ..............pca__n_components=18;, score=0.939 total time=   6.5s\n",
      "[CV 2/5] END ..............pca__n_components=18;, score=0.942 total time=   6.9s\n",
      "[CV 3/5] END ..............pca__n_components=18;, score=0.948 total time=   6.8s\n",
      "[CV 5/5] END ..............pca__n_components=18;, score=0.957 total time=   4.6s\n",
      "[CV 1/5] END ..............pca__n_components=19;, score=0.947 total time=   5.0s\n",
      "[CV 3/5] END ..............pca__n_components=19;, score=0.953 total time=   4.4s\n",
      "[CV 2/5] END ..............pca__n_components=19;, score=0.943 total time=   4.9s\n",
      "[CV 4/5] END ..............pca__n_components=19;, score=0.938 total time=   4.5s\n",
      "[CV 5/5] END ..............pca__n_components=19;, score=0.958 total time=   4.8s\n",
      "[CV 1/5] END ..............pca__n_components=20;, score=0.942 total time=   4.7s\n",
      "[CV 2/5] END ..............pca__n_components=20;, score=0.943 total time=   4.7s\n",
      "[CV 3/5] END ..............pca__n_components=20;, score=0.944 total time=   4.5s\n",
      "[CV 4/5] END ..............pca__n_components=20;, score=0.937 total time=   4.9s\n",
      "[CV 5/5] END ..............pca__n_components=20;, score=0.956 total time=   4.8s\n",
      "[CV 1/5] END ..............pca__n_components=21;, score=0.938 total time=   4.8s\n",
      "[CV 2/5] END ..............pca__n_components=21;, score=0.942 total time=   4.7s\n",
      "[CV 3/5] END ..............pca__n_components=21;, score=0.945 total time=   4.7s\n",
      "[CV 4/5] END ..............pca__n_components=21;, score=0.937 total time=   4.8s\n",
      "[CV 5/5] END ..............pca__n_components=21;, score=0.956 total time=   4.9s\n",
      "[CV 1/5] END ..............pca__n_components=22;, score=0.943 total time=   5.0s\n",
      "[CV 2/5] END ..............pca__n_components=22;, score=0.944 total time=   4.5s\n",
      "[CV 3/5] END ..............pca__n_components=22;, score=0.945 total time=   4.8s\n",
      "[CV 4/5] END ..............pca__n_components=22;, score=0.935 total time=   4.9s\n",
      "[CV 5/5] END ..............pca__n_components=22;, score=0.956 total time=   4.7s\n",
      "[CV 1/5] END ..............pca__n_components=23;, score=0.943 total time=   4.7s\n",
      "[CV 2/5] END ..............pca__n_components=23;, score=0.941 total time=   4.8s\n",
      "[CV 3/5] END ..............pca__n_components=23;, score=0.943 total time=   4.9s\n",
      "[CV 4/5] END ..............pca__n_components=23;, score=0.934 total time=   4.9s\n",
      "[CV 5/5] END ..............pca__n_components=23;, score=0.948 total time=   4.8s\n",
      "[CV 1/5] END ..............pca__n_components=24;, score=0.942 total time=   5.0s\n",
      "[CV 2/5] END ..............pca__n_components=24;, score=0.940 total time=   5.0s\n",
      "[CV 3/5] END ..............pca__n_components=24;, score=0.944 total time=   5.3s\n",
      "[CV 5/5] END ..............pca__n_components=24;, score=0.950 total time=   4.9s\n",
      "[CV 4/5] END ..............pca__n_components=24;, score=0.939 total time=   5.3s\n",
      "[CV 1/5] END ..............pca__n_components=25;, score=0.939 total time=   5.4s\n",
      "[CV 2/5] END ..............pca__n_components=25;, score=0.940 total time=   5.1s\n",
      "[CV 3/5] END ..............pca__n_components=25;, score=0.941 total time=   5.2s\n",
      "[CV 5/5] END ..............pca__n_components=25;, score=0.948 total time=   4.9s\n",
      "[CV 4/5] END ..............pca__n_components=25;, score=0.935 total time=   5.2s\n",
      "[CV 1/5] END ..............pca__n_components=26;, score=0.934 total time=   5.3s\n",
      "[CV 3/5] END ..............pca__n_components=26;, score=0.947 total time=   5.4s\n",
      "[CV 2/5] END ..............pca__n_components=26;, score=0.941 total time=   5.5s\n",
      "[CV 4/5] END ..............pca__n_components=26;, score=0.936 total time=   5.0s\n",
      "[CV 5/5] END ..............pca__n_components=26;, score=0.947 total time=   5.3s\n",
      "[CV 1/5] END ..............pca__n_components=27;, score=0.935 total time=   5.3s\n",
      "[CV 2/5] END ..............pca__n_components=27;, score=0.938 total time=   5.4s\n",
      "[CV 3/5] END ..............pca__n_components=27;, score=0.937 total time=   6.2s\n",
      "[CV 4/5] END ..............pca__n_components=27;, score=0.933 total time=   5.9s\n",
      "[CV 5/5] END ..............pca__n_components=27;, score=0.949 total time=   5.8s\n",
      "[CV 1/5] END ..............pca__n_components=28;, score=0.935 total time=   5.8s\n",
      "[CV 2/5] END ..............pca__n_components=28;, score=0.936 total time=   5.9s\n",
      "[CV 3/5] END ..............pca__n_components=28;, score=0.942 total time=   5.7s\n",
      "[CV 4/5] END ..............pca__n_components=28;, score=0.932 total time=   5.6s\n",
      "[CV 5/5] END ..............pca__n_components=28;, score=0.946 total time=   5.1s\n",
      "[CV 1/5] END ..............pca__n_components=29;, score=0.937 total time=   5.2s\n",
      "[CV 2/5] END ..............pca__n_components=29;, score=0.938 total time=   5.5s\n",
      "[CV 3/5] END ..............pca__n_components=29;, score=0.938 total time=   5.8s\n",
      "[CV 4/5] END ..............pca__n_components=29;, score=0.938 total time=   6.0s\n",
      "[CV 5/5] END ..............pca__n_components=29;, score=0.943 total time=   5.7s\n",
      "[CV 1/5] END ..............pca__n_components=30;, score=0.930 total time=   5.6s\n",
      "[CV 2/5] END ..............pca__n_components=30;, score=0.933 total time=   6.3s\n",
      "[CV 3/5] END ..............pca__n_components=30;, score=0.937 total time=   5.9s\n",
      "[CV 4/5] END ..............pca__n_components=30;, score=0.939 total time=   6.1s\n",
      "[CV 5/5] END ..............pca__n_components=30;, score=0.946 total time=   6.4s\n",
      "[CV 1/5] END ..............pca__n_components=31;, score=0.932 total time=   6.3s\n",
      "[CV 2/5] END ..............pca__n_components=31;, score=0.938 total time=   6.8s\n",
      "[CV 3/5] END ..............pca__n_components=31;, score=0.937 total time=   6.7s\n",
      "[CV 4/5] END ..............pca__n_components=31;, score=0.938 total time=   6.7s\n",
      "[CV 1/5] END ..............pca__n_components=32;, score=0.935 total time=   6.5s\n",
      "[CV 5/5] END ..............pca__n_components=31;, score=0.943 total time=   6.8s\n",
      "[CV 2/5] END ..............pca__n_components=32;, score=0.929 total time=   5.7s\n",
      "[CV 3/5] END ..............pca__n_components=32;, score=0.939 total time=   5.5s\n",
      "[CV 4/5] END ..............pca__n_components=32;, score=0.934 total time=   6.1s\n",
      "[CV 5/5] END ..............pca__n_components=32;, score=0.945 total time=   5.6s\n",
      "[CV 1/5] END ..............pca__n_components=33;, score=0.935 total time=   6.2s\n",
      "[CV 2/5] END ..............pca__n_components=33;, score=0.931 total time=   6.4s\n",
      "[CV 4/5] END ..............pca__n_components=33;, score=0.933 total time=   5.7s\n",
      "[CV 3/5] END ..............pca__n_components=33;, score=0.939 total time=   6.4s\n",
      "[CV 5/5] END ..............pca__n_components=33;, score=0.951 total time=   6.6s\n",
      "[CV 1/5] END ..............pca__n_components=34;, score=0.933 total time=   6.0s\n",
      "[CV 2/5] END ..............pca__n_components=34;, score=0.934 total time=   5.9s\n",
      "[CV 3/5] END ..............pca__n_components=34;, score=0.941 total time=   6.4s\n",
      "[CV 4/5] END ..............pca__n_components=34;, score=0.935 total time=   6.2s\n",
      "[CV 5/5] END ..............pca__n_components=34;, score=0.948 total time=   6.0s\n",
      "[CV 1/5] END ..............pca__n_components=35;, score=0.939 total time=   6.0s\n",
      "[CV 2/5] END ..............pca__n_components=35;, score=0.933 total time=   6.1s\n",
      "[CV 3/5] END ..............pca__n_components=35;, score=0.939 total time=   6.3s\n",
      "[CV 4/5] END ..............pca__n_components=35;, score=0.930 total time=   5.9s\n",
      "[CV 5/5] END ..............pca__n_components=35;, score=0.948 total time=   6.1s\n",
      "[CV 1/5] END ..............pca__n_components=36;, score=0.934 total time=   6.3s\n",
      "[CV 2/5] END ..............pca__n_components=36;, score=0.934 total time=   5.9s\n",
      "[CV 3/5] END ..............pca__n_components=36;, score=0.934 total time=   6.2s\n",
      "[CV 4/5] END ..............pca__n_components=36;, score=0.930 total time=   6.0s\n",
      "[CV 5/5] END ..............pca__n_components=36;, score=0.944 total time=   6.4s\n",
      "[CV 1/5] END ..............pca__n_components=37;, score=0.935 total time=   6.5s\n",
      "[CV 2/5] END ..............pca__n_components=37;, score=0.934 total time=   6.4s\n",
      "[CV 3/5] END ..............pca__n_components=37;, score=0.937 total time=   6.7s\n",
      "[CV 4/5] END ..............pca__n_components=37;, score=0.932 total time=   6.2s\n",
      "[CV 5/5] END ..............pca__n_components=37;, score=0.946 total time=   6.9s\n",
      "[CV 1/5] END ..............pca__n_components=38;, score=0.939 total time=   6.5s\n",
      "[CV 2/5] END ..............pca__n_components=38;, score=0.933 total time=   6.7s\n",
      "[CV 3/5] END ..............pca__n_components=38;, score=0.935 total time=   6.2s\n",
      "[CV 4/5] END ..............pca__n_components=38;, score=0.928 total time=   6.5s\n",
      "[CV 5/5] END ..............pca__n_components=38;, score=0.944 total time=   6.9s\n",
      "[CV 1/5] END ..............pca__n_components=39;, score=0.932 total time=   6.4s\n",
      "[CV 2/5] END ..............pca__n_components=39;, score=0.928 total time=   6.3s\n",
      "[CV 3/5] END ..............pca__n_components=39;, score=0.935 total time=   6.1s\n",
      "[CV 4/5] END ..............pca__n_components=39;, score=0.926 total time=   6.7s\n",
      "[CV 5/5] END ..............pca__n_components=39;, score=0.942 total time=   6.3s\n",
      "[CV 1/5] END ..............pca__n_components=40;, score=0.936 total time=   6.7s\n",
      "[CV 2/5] END ..............pca__n_components=40;, score=0.936 total time=   6.7s\n",
      "[CV 3/5] END ..............pca__n_components=40;, score=0.932 total time=   6.6s\n",
      "[CV 4/5] END ..............pca__n_components=40;, score=0.923 total time=   6.3s\n",
      "[CV 5/5] END ..............pca__n_components=40;, score=0.941 total time=   6.5s\n",
      "[CV 1/5] END ..............pca__n_components=41;, score=0.927 total time=   6.9s\n",
      "[CV 2/5] END ..............pca__n_components=41;, score=0.926 total time=   6.8s\n",
      "[CV 3/5] END ..............pca__n_components=41;, score=0.933 total time=   7.3s\n",
      "[CV 4/5] END ..............pca__n_components=41;, score=0.924 total time=   7.1s\n",
      "[CV 5/5] END ..............pca__n_components=41;, score=0.932 total time=   6.8s\n",
      "[CV 1/5] END ..............pca__n_components=42;, score=0.930 total time=   7.0s\n",
      "[CV 2/5] END ..............pca__n_components=42;, score=0.929 total time=   6.6s\n",
      "[CV 3/5] END ..............pca__n_components=42;, score=0.937 total time=   7.3s\n",
      "[CV 4/5] END ..............pca__n_components=42;, score=0.924 total time=   7.1s\n",
      "[CV 5/5] END ..............pca__n_components=42;, score=0.938 total time=   6.6s\n",
      "[CV 1/5] END ..............pca__n_components=43;, score=0.932 total time=   6.7s\n",
      "[CV 2/5] END ..............pca__n_components=43;, score=0.931 total time=   6.9s\n",
      "[CV 3/5] END ..............pca__n_components=43;, score=0.930 total time=   7.3s\n",
      "[CV 4/5] END ..............pca__n_components=43;, score=0.927 total time=   6.6s\n",
      "[CV 5/5] END ..............pca__n_components=43;, score=0.934 total time=   7.2s\n",
      "[CV 1/5] END ..............pca__n_components=44;, score=0.930 total time=   7.8s\n",
      "[CV 2/5] END ..............pca__n_components=44;, score=0.926 total time=   7.2s\n",
      "[CV 3/5] END ..............pca__n_components=44;, score=0.936 total time=   8.6s\n",
      "[CV 4/5] END ..............pca__n_components=44;, score=0.925 total time=   8.3s\n",
      "[CV 5/5] END ..............pca__n_components=44;, score=0.936 total time=   8.2s\n",
      "[CV 1/5] END ..............pca__n_components=45;, score=0.928 total time=   8.0s\n",
      "[CV 2/5] END ..............pca__n_components=45;, score=0.927 total time=   9.3s\n",
      "[CV 3/5] END ..............pca__n_components=45;, score=0.932 total time=   8.1s\n",
      "[CV 4/5] END ..............pca__n_components=45;, score=0.926 total time=   8.2s\n",
      "[CV 5/5] END ..............pca__n_components=45;, score=0.938 total time=   8.4s\n",
      "[CV 1/5] END ..............pca__n_components=46;, score=0.925 total time=   7.6s\n",
      "[CV 2/5] END ..............pca__n_components=46;, score=0.926 total time=   7.5s\n",
      "[CV 3/5] END ..............pca__n_components=46;, score=0.933 total time=   7.5s\n",
      "[CV 4/5] END ..............pca__n_components=46;, score=0.921 total time=   7.3s\n",
      "[CV 5/5] END ..............pca__n_components=46;, score=0.934 total time=   7.0s\n",
      "[CV 1/5] END ..............pca__n_components=47;, score=0.923 total time=   7.5s\n",
      "[CV 2/5] END ..............pca__n_components=47;, score=0.923 total time=   7.5s\n",
      "[CV 3/5] END ..............pca__n_components=47;, score=0.931 total time=   8.1s\n",
      "[CV 5/5] END ..............pca__n_components=47;, score=0.934 total time=   7.7s\n",
      "[CV 4/5] END ..............pca__n_components=47;, score=0.927 total time=   8.1s\n",
      "[CV 1/5] END ..............pca__n_components=48;, score=0.924 total time=   8.0s\n",
      "[CV 2/5] END ..............pca__n_components=48;, score=0.923 total time=   7.9s\n",
      "[CV 3/5] END ..............pca__n_components=48;, score=0.927 total time=   8.6s\n",
      "[CV 4/5] END ..............pca__n_components=48;, score=0.918 total time=   8.6s\n",
      "[CV 5/5] END ..............pca__n_components=48;, score=0.929 total time=   8.0s\n",
      "[CV 1/5] END ..............pca__n_components=49;, score=0.922 total time=   8.3s\n",
      "[CV 2/5] END ..............pca__n_components=49;, score=0.917 total time=   9.0s\n",
      "[CV 3/5] END ..............pca__n_components=49;, score=0.931 total time=   9.0s\n",
      "[CV 4/5] END ..............pca__n_components=49;, score=0.919 total time=   8.6s\n",
      "[CV 5/5] END ..............pca__n_components=49;, score=0.932 total time=   8.2s\n",
      "[CV 1/5] END ..............pca__n_components=50;, score=0.923 total time=   7.6s\n",
      "[CV 2/5] END ..............pca__n_components=50;, score=0.921 total time=   6.8s\n",
      "[CV 3/5] END ..............pca__n_components=50;, score=0.934 total time=   6.9s\n",
      "[CV 4/5] END ..............pca__n_components=50;, score=0.923 total time=   6.0s\n",
      "[CV 5/5] END ..............pca__n_components=50;, score=0.933 total time=   5.1s\n",
      "Pipeline(steps=[('pca', PCA(n_components=7)), ('model', GaussianNB())])\n",
      "best score: 0.9588729609490855\n"
     ]
    }
   ],
   "source": [
    "tf_idf = TfidfVectorizer(max_features=5000, stop_words=\"english\")\n",
    "xs = tf_idf.fit_transform(all_df.text).toarray()\n",
    "\n",
    "train_xs, test_xs, train_ys, test_ys = train_test_split(\n",
    "    xs, ys, test_size=0.3, random_state=0, shuffle=True\n",
    ")\n",
    "\n",
    "# grid search parameter for PCA\n",
    "# param_grid = {\"pca__n_components\": [2, 5, 7, 10, 15, 30, 50, 100, 200, 300, 500]} #### the first time we find the best number of dim is 7\n",
    "param_grid = {\"pca__n_components\": np.linspace(1,50, 50).astype(int)} #### so the second time we can cheat a little to get a fancy boxplot\n",
    "\n",
    "# pipeline combining PCA and GaussianNB\n",
    "pipe = Pipeline(steps=[(\"pca\", decomposition.PCA()), (\"model\", naive_bayes.GaussianNB())])\n",
    "\n",
    "grid = GridSearchCV(\n",
    "    pipe, param_grid=param_grid, n_jobs=-1, verbose=3, cv=5\n",
    ")\n",
    "grid.fit(train_xs, train_ys)\n",
    "y_pred = grid.best_estimator_.predict(test_xs)\n",
    "\n",
    "print(grid.best_estimator_)\n",
    "print('best score:', grid.best_score_)"
   ]
  },
  {
   "cell_type": "code",
   "execution_count": 86,
   "id": "1495d2ff",
   "metadata": {},
   "outputs": [
    {
     "name": "stdout",
     "output_type": "stream",
     "text": [
      "accuracy with best PCA dimension 7 in test set: 0.9552479815455595\n"
     ]
    }
   ],
   "source": [
    "print(\"accuracy with best PCA dimension 7 in test set:\", accuracy_score(y_true=test_ys, y_pred=y_pred))"
   ]
  },
  {
   "cell_type": "code",
   "execution_count": 87,
   "id": "1d735e2b",
   "metadata": {},
   "outputs": [
    {
     "data": {
      "image/png": "[encoded data removed]",
      "text/plain": [
       "<Figure size 640x480 with 1 Axes>"
      ]
     },
     "metadata": {
      "image/png": {
       "height": 437,
       "width": 550
      }
     },
     "output_type": "display_data"
    }
   ],
   "source": [
    "sns.boxplot(grid.cv_results_['mean_test_score'])\n",
    "plt.title('Boxplot accuracyies for different PCA dimension(1-50)')\n",
    "plt.show()"
   ]
  },
  {
   "attachments": {},
   "cell_type": "markdown",
   "id": "4874beb9-408c-467f-9a26-9c6e39c4c678",
   "metadata": {},
   "source": [
    "## N-grams"
   ]
  },
  {
   "cell_type": "code",
   "execution_count": 88,
   "id": "06ffb414-1b14-439f-9f1b-857fc3736956",
   "metadata": {},
   "outputs": [],
   "source": [
    "# %%time\n",
    "\n",
    "vectorizer_2g = CountVectorizer(\n",
    "    analyzer=\"word\", ngram_range=(2, 2), max_features=5000,\n",
    ")\n",
    "x2gs = vectorizer_2g.fit_transform(all_df.text).toarray()"
   ]
  },
  {
   "cell_type": "code",
   "execution_count": 89,
   "id": "4ad83427-2c40-448c-a68b-2e67af18c439",
   "metadata": {},
   "outputs": [
    {
     "data": {
      "text/html": [
       "<div>\n",
       "<style scoped>\n",
       "    .dataframe tbody tr th:only-of-type {\n",
       "        vertical-align: middle;\n",
       "    }\n",
       "\n",
       "    .dataframe tbody tr th {\n",
       "        vertical-align: top;\n",
       "    }\n",
       "\n",
       "    .dataframe thead th {\n",
       "        text-align: right;\n",
       "    }\n",
       "</style>\n",
       "<table border=\"1\" class=\"dataframe\">\n",
       "  <thead>\n",
       "    <tr style=\"text-align: right;\">\n",
       "      <th></th>\n",
       "      <th>bigrams</th>\n",
       "    </tr>\n",
       "  </thead>\n",
       "  <tbody>\n",
       "    <tr>\n",
       "      <th>0</th>\n",
       "      <td>17th century</td>\n",
       "    </tr>\n",
       "    <tr>\n",
       "      <th>1</th>\n",
       "      <td>18th century</td>\n",
       "    </tr>\n",
       "    <tr>\n",
       "      <th>2</th>\n",
       "      <td>19th century</td>\n",
       "    </tr>\n",
       "    <tr>\n",
       "      <th>3</th>\n",
       "      <td>20th century</td>\n",
       "    </tr>\n",
       "    <tr>\n",
       "      <th>4</th>\n",
       "      <td>24 hours</td>\n",
       "    </tr>\n",
       "    <tr>\n",
       "      <th>...</th>\n",
       "      <td>...</td>\n",
       "    </tr>\n",
       "    <tr>\n",
       "      <th>4995</th>\n",
       "      <td>your question</td>\n",
       "    </tr>\n",
       "    <tr>\n",
       "      <th>4996</th>\n",
       "      <td>your robot</td>\n",
       "    </tr>\n",
       "    <tr>\n",
       "      <th>4997</th>\n",
       "      <td>your system</td>\n",
       "    </tr>\n",
       "    <tr>\n",
       "      <th>4998</th>\n",
       "      <td>youtube com</td>\n",
       "    </tr>\n",
       "    <tr>\n",
       "      <th>4999</th>\n",
       "      <td>zeus and</td>\n",
       "    </tr>\n",
       "  </tbody>\n",
       "</table>\n",
       "<p>5000 rows × 1 columns</p>\n",
       "</div>"
      ],
      "text/plain": [
       "            bigrams\n",
       "0      17th century\n",
       "1      18th century\n",
       "2      19th century\n",
       "3      20th century\n",
       "4          24 hours\n",
       "...             ...\n",
       "4995  your question\n",
       "4996     your robot\n",
       "4997    your system\n",
       "4998    youtube com\n",
       "4999       zeus and\n",
       "\n",
       "[5000 rows x 1 columns]"
      ]
     },
     "execution_count": 89,
     "metadata": {},
     "output_type": "execute_result"
    }
   ],
   "source": [
    "pd.DataFrame(vectorizer_2g.get_feature_names_out(), columns=[\"bigrams\"])"
   ]
  },
  {
   "cell_type": "code",
   "execution_count": 90,
   "id": "4ffc1cd1-36a2-41e4-9d6a-9e51a550e6a3",
   "metadata": {},
   "outputs": [
    {
     "name": "stdout",
     "output_type": "stream",
     "text": [
      "(10115, 5000)\n",
      "(4335, 5000)\n"
     ]
    }
   ],
   "source": [
    "train_xs, test_xs, train_ys, test_ys = train_test_split(\n",
    "    x2gs, ys, test_size=0.3, random_state=0, shuffle=True\n",
    ")\n",
    "print(train_xs.shape)\n",
    "print(test_xs.shape)"
   ]
  },
  {
   "attachments": {},
   "cell_type": "markdown",
   "id": "b9dada15-875a-4aea-8d31-01011ef6662b",
   "metadata": {},
   "source": [
    "#### 🚧 TODO: Train on Ngrams\n",
    "\n",
    "*   Train on the `CountVectorizer` with ngrams using the `MultinomialNB` classifier\n",
    "\n",
    "*   Compare the results with the previous \"raw\" `CountVectorizer`"
   ]
  },
  {
   "cell_type": "code",
   "execution_count": 99,
   "id": "455d530b",
   "metadata": {},
   "outputs": [
    {
     "name": "stdout",
     "output_type": "stream",
     "text": [
      "using MultinomialNB on 2-gram CountVectorizer, the accuracy is 0.9370242214532872\n"
     ]
    }
   ],
   "source": [
    "model = naive_bayes.MultinomialNB()\n",
    "model.fit(X=train_xs, y=train_ys)\n",
    "y_pred = model.predict(test_xs)\n",
    "acc_MultinomialNB = accuracy_score(y_true=test_ys, y_pred=y_pred)\n",
    "print(\"using MultinomialNB on 2-gram CountVectorizer, the accuracy is\", acc_MultinomialNB)"
   ]
  },
  {
   "attachments": {},
   "cell_type": "markdown",
   "id": "cc354630",
   "metadata": {},
   "source": [
    "<font color=orange>  \n",
    "\n",
    "As alrady done above, using MultinomialNB on 1-gram CountVectorizer, the accuracy is 0.9741637831603229.  \n",
    "\n",
    "Compared with 1-gram situation, although 2-gram brings more constraints, its prediction is less reliable.\n",
    "<font>"
   ]
  },
  {
   "attachments": {},
   "cell_type": "markdown",
   "id": "8c71a315-40b6-4739-bb20-a6a6a3724c7c",
   "metadata": {},
   "source": [
    "---\n",
    "## Building an n-gram generator\n",
    "___"
   ]
  },
  {
   "attachments": {},
   "cell_type": "markdown",
   "id": "549f111f-d2ae-4ee4-bb99-689b2dd8ec68",
   "metadata": {},
   "source": [
    "### Let's build character trigrams first"
   ]
  },
  {
   "cell_type": "code",
   "execution_count": 100,
   "id": "7042cea6-8886-4bc1-b824-75a84de70b75",
   "metadata": {},
   "outputs": [
    {
     "data": {
      "text/plain": [
       "['Thi', 'his', 'is ', 's i', ' is', 'is ', 's c', ' co', 'coo', 'ool', 'ol!']"
      ]
     },
     "execution_count": 100,
     "metadata": {},
     "output_type": "execute_result"
    }
   ],
   "source": [
    "LINE = \"This is cool!\"\n",
    "N = 3\n",
    "[LINE[i : i + N] for i in range(len(LINE) - N + 1)]"
   ]
  },
  {
   "cell_type": "code",
   "execution_count": 101,
   "id": "2c7d6a3b-6032-498d-8317-2091c402c5e5",
   "metadata": {},
   "outputs": [
    {
     "data": {
      "text/plain": [
       "[('T', 'h', 'i'),\n",
       " ('h', 'i', 's'),\n",
       " ('i', 's', ' '),\n",
       " ('s', ' ', 'i'),\n",
       " (' ', 'i', 's'),\n",
       " ('i', 's', ' '),\n",
       " ('s', ' ', 'c'),\n",
       " (' ', 'c', 'o'),\n",
       " ('c', 'o', 'o'),\n",
       " ('o', 'o', 'l'),\n",
       " ('o', 'l', '!')]"
      ]
     },
     "execution_count": 101,
     "metadata": {},
     "output_type": "execute_result"
    }
   ],
   "source": [
    "[tuple(LINE[i : i + N]) for i in range(len(LINE) - N + 1)]"
   ]
  },
  {
   "cell_type": "code",
   "execution_count": 102,
   "id": "61fa1606-e4c9-448d-b6a8-bf6d06339a71",
   "metadata": {},
   "outputs": [
    {
     "data": {
      "text/plain": [
       "['this is cool!', 'this is amazing!', 'but why is this his fish?']"
      ]
     },
     "execution_count": 102,
     "metadata": {},
     "output_type": "execute_result"
    }
   ],
   "source": [
    "LINES = \"\"\"This is cool!\n",
    "This is amazing!\n",
    "But why is this his fish?\"\"\"\n",
    "\n",
    "re.split(\"\\n+\", LINES.lower())"
   ]
  },
  {
   "cell_type": "code",
   "execution_count": 106,
   "id": "83ac1be4-fb00-451a-a4ec-e402e6e7fd97",
   "metadata": {},
   "outputs": [
    {
     "name": "stdout",
     "output_type": "stream",
     "text": [
      "Counter({'is ': 7, 'his': 4, 'thi': 3, ' is': 3, 's i': 2, 's c': 1, ' co': 1, 'coo': 1, 'ool': 1, 'ol!': 1, 's a': 1, ' am': 1, 'ama': 1, 'maz': 1, 'azi': 1, 'zin': 1, 'ing': 1, 'ng!': 1, 'but': 1, 'ut ': 1, 't w': 1, ' wh': 1, 'why': 1, 'hy ': 1, 'y i': 1, 's t': 1, ' th': 1, 's h': 1, ' hi': 1, 's f': 1, ' fi': 1, 'fis': 1, 'ish': 1, 'sh?': 1})\n"
     ]
    },
    {
     "data": {
      "text/html": [
       "<div>\n",
       "<style scoped>\n",
       "    .dataframe tbody tr th:only-of-type {\n",
       "        vertical-align: middle;\n",
       "    }\n",
       "\n",
       "    .dataframe tbody tr th {\n",
       "        vertical-align: top;\n",
       "    }\n",
       "\n",
       "    .dataframe thead th {\n",
       "        text-align: right;\n",
       "    }\n",
       "</style>\n",
       "<table border=\"1\" class=\"dataframe\">\n",
       "  <thead>\n",
       "    <tr style=\"text-align: right;\">\n",
       "      <th></th>\n",
       "      <th>freq</th>\n",
       "    </tr>\n",
       "  </thead>\n",
       "  <tbody>\n",
       "    <tr>\n",
       "      <th>is</th>\n",
       "      <td>7</td>\n",
       "    </tr>\n",
       "    <tr>\n",
       "      <th>his</th>\n",
       "      <td>4</td>\n",
       "    </tr>\n",
       "    <tr>\n",
       "      <th>thi</th>\n",
       "      <td>3</td>\n",
       "    </tr>\n",
       "    <tr>\n",
       "      <th>is</th>\n",
       "      <td>3</td>\n",
       "    </tr>\n",
       "    <tr>\n",
       "      <th>s i</th>\n",
       "      <td>2</td>\n",
       "    </tr>\n",
       "    <tr>\n",
       "      <th>th</th>\n",
       "      <td>1</td>\n",
       "    </tr>\n",
       "    <tr>\n",
       "      <th>wh</th>\n",
       "      <td>1</td>\n",
       "    </tr>\n",
       "  </tbody>\n",
       "</table>\n",
       "</div>"
      ],
      "text/plain": [
       "     freq\n",
       "is      7\n",
       "his     4\n",
       "thi     3\n",
       " is     3\n",
       "s i     2\n",
       " th     1\n",
       " wh     1"
      ]
     },
     "execution_count": 106,
     "metadata": {},
     "output_type": "execute_result"
    }
   ],
   "source": [
    "ngrams = collections.Counter()\n",
    "for line in re.split(\"\\n+\", LINES.lower()):\n",
    "    ngrams.update([line[i : i + N] for i in range(len(line) - N + 1)])\n",
    "print(ngrams)\n",
    "\n",
    "nc_df = pd.DataFrame.from_dict(\n",
    "    ngrams, orient=\"index\", columns=[\"freq\"]\n",
    ").sort_values(\"freq\", ascending=False)\n",
    "\n",
    "nc_df.head(7)"
   ]
  },
  {
   "attachments": {},
   "cell_type": "markdown",
   "id": "b9dada15-875a-4aea-8d31-01011ef6662b",
   "metadata": {},
   "source": [
    "#### 🚧 TODO: Manual word ngrams\n",
    "\n",
    "*   Build a small ngram generator from the lines above\n",
    "\n",
    "*   Compute the ngrams frequency and keep it in a dictionary and/or a DataFrame"
   ]
  },
  {
   "cell_type": "code",
   "execution_count": 122,
   "id": "592398e1",
   "metadata": {},
   "outputs": [
    {
     "data": {
      "text/plain": [
       "['This',\n",
       " 'is',\n",
       " 'cool',\n",
       " '!',\n",
       " 'This',\n",
       " 'is',\n",
       " 'amazing',\n",
       " '!',\n",
       " 'But',\n",
       " 'why',\n",
       " 'is',\n",
       " 'this',\n",
       " 'his',\n",
       " 'fish',\n",
       " '?']"
      ]
     },
     "execution_count": 122,
     "metadata": {},
     "output_type": "execute_result"
    }
   ],
   "source": [
    "word_tokenize(LINES)"
   ]
  },
  {
   "cell_type": "code",
   "execution_count": 115,
   "id": "5128b466",
   "metadata": {},
   "outputs": [],
   "source": [
    "def ngrams_generator(n, corpus, tokenize=False):\n",
    "    \"\"\"\n",
    "        :param n: number of grams\n",
    "        :param corpus: text\n",
    "        :param if_tokenized: True if already tokenized, False if not tokenized yet\n",
    "    \"\"\"\n",
    "    ngrams = collections.Counter()\n",
    "    \n",
    "    if tokenize == False:\n",
    "        # if text is not tokenized yet, we hvae do this first\n",
    "        tokens = word_tokenize(corpus)\n",
    "        ngrams.update([ \" \".join(tokens[i : i + n]) for i in range(len(tokens) - n + 1)])\n",
    "    else:\n",
    "        ngrams.update([ \" \".join(corpus[i : i + n]) for i in range(len(corpus) - n + 1)])\n",
    "    \n",
    "    nc_df = pd.DataFrame.from_dict(\n",
    "            ngrams, orient=\"index\", columns=[\"freq\"]\n",
    "        ).sort_values(\"freq\", ascending=False)    \n",
    "    return nc_df\n"
   ]
  },
  {
   "cell_type": "code",
   "execution_count": 123,
   "id": "c5571294",
   "metadata": {},
   "outputs": [
    {
     "data": {
      "text/html": [
       "<div>\n",
       "<style scoped>\n",
       "    .dataframe tbody tr th:only-of-type {\n",
       "        vertical-align: middle;\n",
       "    }\n",
       "\n",
       "    .dataframe tbody tr th {\n",
       "        vertical-align: top;\n",
       "    }\n",
       "\n",
       "    .dataframe thead th {\n",
       "        text-align: right;\n",
       "    }\n",
       "</style>\n",
       "<table border=\"1\" class=\"dataframe\">\n",
       "  <thead>\n",
       "    <tr style=\"text-align: right;\">\n",
       "      <th></th>\n",
       "      <th>freq</th>\n",
       "    </tr>\n",
       "  </thead>\n",
       "  <tbody>\n",
       "    <tr>\n",
       "      <th>This is cool</th>\n",
       "      <td>1</td>\n",
       "    </tr>\n",
       "    <tr>\n",
       "      <th>is cool !</th>\n",
       "      <td>1</td>\n",
       "    </tr>\n",
       "    <tr>\n",
       "      <th>cool ! This</th>\n",
       "      <td>1</td>\n",
       "    </tr>\n",
       "    <tr>\n",
       "      <th>! This is</th>\n",
       "      <td>1</td>\n",
       "    </tr>\n",
       "    <tr>\n",
       "      <th>This is amazing</th>\n",
       "      <td>1</td>\n",
       "    </tr>\n",
       "    <tr>\n",
       "      <th>is amazing !</th>\n",
       "      <td>1</td>\n",
       "    </tr>\n",
       "    <tr>\n",
       "      <th>amazing ! But</th>\n",
       "      <td>1</td>\n",
       "    </tr>\n",
       "    <tr>\n",
       "      <th>! But why</th>\n",
       "      <td>1</td>\n",
       "    </tr>\n",
       "    <tr>\n",
       "      <th>But why is</th>\n",
       "      <td>1</td>\n",
       "    </tr>\n",
       "    <tr>\n",
       "      <th>why is this</th>\n",
       "      <td>1</td>\n",
       "    </tr>\n",
       "  </tbody>\n",
       "</table>\n",
       "</div>"
      ],
      "text/plain": [
       "                 freq\n",
       "This is cool        1\n",
       "is cool !           1\n",
       "cool ! This         1\n",
       "! This is           1\n",
       "This is amazing     1\n",
       "is amazing !        1\n",
       "amazing ! But       1\n",
       "! But why           1\n",
       "But why is          1\n",
       "why is this         1"
      ]
     },
     "execution_count": 123,
     "metadata": {},
     "output_type": "execute_result"
    }
   ],
   "source": [
    "# already tokenized\n",
    "ngrams_generator(n=3, corpus=word_tokenize(LINES), tokenize=True).head(10)"
   ]
  },
  {
   "cell_type": "code",
   "execution_count": 120,
   "id": "62e8e132",
   "metadata": {},
   "outputs": [
    {
     "data": {
      "text/html": [
       "<div>\n",
       "<style scoped>\n",
       "    .dataframe tbody tr th:only-of-type {\n",
       "        vertical-align: middle;\n",
       "    }\n",
       "\n",
       "    .dataframe tbody tr th {\n",
       "        vertical-align: top;\n",
       "    }\n",
       "\n",
       "    .dataframe thead th {\n",
       "        text-align: right;\n",
       "    }\n",
       "</style>\n",
       "<table border=\"1\" class=\"dataframe\">\n",
       "  <thead>\n",
       "    <tr style=\"text-align: right;\">\n",
       "      <th></th>\n",
       "      <th>freq</th>\n",
       "    </tr>\n",
       "  </thead>\n",
       "  <tbody>\n",
       "    <tr>\n",
       "      <th>This is cool</th>\n",
       "      <td>1</td>\n",
       "    </tr>\n",
       "    <tr>\n",
       "      <th>is cool !</th>\n",
       "      <td>1</td>\n",
       "    </tr>\n",
       "    <tr>\n",
       "      <th>cool ! This</th>\n",
       "      <td>1</td>\n",
       "    </tr>\n",
       "    <tr>\n",
       "      <th>! This is</th>\n",
       "      <td>1</td>\n",
       "    </tr>\n",
       "    <tr>\n",
       "      <th>This is amazing</th>\n",
       "      <td>1</td>\n",
       "    </tr>\n",
       "    <tr>\n",
       "      <th>is amazing !</th>\n",
       "      <td>1</td>\n",
       "    </tr>\n",
       "    <tr>\n",
       "      <th>amazing ! But</th>\n",
       "      <td>1</td>\n",
       "    </tr>\n",
       "    <tr>\n",
       "      <th>! But why</th>\n",
       "      <td>1</td>\n",
       "    </tr>\n",
       "    <tr>\n",
       "      <th>But why is</th>\n",
       "      <td>1</td>\n",
       "    </tr>\n",
       "    <tr>\n",
       "      <th>why is this</th>\n",
       "      <td>1</td>\n",
       "    </tr>\n",
       "  </tbody>\n",
       "</table>\n",
       "</div>"
      ],
      "text/plain": [
       "                 freq\n",
       "This is cool        1\n",
       "is cool !           1\n",
       "cool ! This         1\n",
       "! This is           1\n",
       "This is amazing     1\n",
       "is amazing !        1\n",
       "amazing ! But       1\n",
       "! But why           1\n",
       "But why is          1\n",
       "why is this         1"
      ]
     },
     "execution_count": 120,
     "metadata": {},
     "output_type": "execute_result"
    }
   ],
   "source": [
    "# not tokennized yet\n",
    "ngrams_generator(n=3, corpus=LINES).head(10)"
   ]
  },
  {
   "attachments": {},
   "cell_type": "markdown",
   "id": "ca11b3ea-589e-4f1b-840f-67c386a0edb3",
   "metadata": {},
   "source": [
    "### Back to our corpora"
   ]
  },
  {
   "attachments": {},
   "cell_type": "markdown",
   "id": "b9dada15-875a-4aea-8d31-01011ef6662b",
   "metadata": {},
   "source": [
    "#### 🚧 TODO: Apply the ngram generator to the `\"woodworking\"` corpus\n",
    "\n",
    "*   Tokenize the corpus first with `nltk.word_tokenize`\n",
    "\n",
    "*   Normalize the tokens by simply lowercasing them\n",
    "\n",
    "*   Give the tokens frequency to the ngram generator"
   ]
  },
  {
   "cell_type": "code",
   "execution_count": 43,
   "id": "8b4d2af9-32ff-4e0b-abe1-ad70b29c5685",
   "metadata": {},
   "outputs": [
    {
     "data": {
      "text/html": [
       "<div>\n",
       "<style scoped>\n",
       "    .dataframe tbody tr th:only-of-type {\n",
       "        vertical-align: middle;\n",
       "    }\n",
       "\n",
       "    .dataframe tbody tr th {\n",
       "        vertical-align: top;\n",
       "    }\n",
       "\n",
       "    .dataframe thead th {\n",
       "        text-align: right;\n",
       "    }\n",
       "</style>\n",
       "<table border=\"1\" class=\"dataframe\">\n",
       "  <thead>\n",
       "    <tr style=\"text-align: right;\">\n",
       "      <th></th>\n",
       "      <th>text</th>\n",
       "      <th>category</th>\n",
       "      <th>cat_id</th>\n",
       "    </tr>\n",
       "    <tr>\n",
       "      <th>id</th>\n",
       "      <th></th>\n",
       "      <th></th>\n",
       "      <th></th>\n",
       "    </tr>\n",
       "  </thead>\n",
       "  <tbody>\n",
       "    <tr>\n",
       "      <th>woodworking.stackexchange_0000009855</th>\n",
       "      <td>Q:\\n\\nGlue-up for butcher block-style countert...</td>\n",
       "      <td>woodworking</td>\n",
       "      <td>1</td>\n",
       "    </tr>\n",
       "    <tr>\n",
       "      <th>woodworking.stackexchange_0000009869</th>\n",
       "      <td>Q:\\n\\nPlunge router base plate has a bit stick...</td>\n",
       "      <td>woodworking</td>\n",
       "      <td>1</td>\n",
       "    </tr>\n",
       "    <tr>\n",
       "      <th>woodworking.stackexchange_0000004395</th>\n",
       "      <td>Q:\\n\\nWhat is the proper way to sharpen a roun...</td>\n",
       "      <td>woodworking</td>\n",
       "      <td>1</td>\n",
       "    </tr>\n",
       "    <tr>\n",
       "      <th>woodworking.stackexchange_0000002928</th>\n",
       "      <td>Q:\\n\\nWhat woods take stain well?\\n\\nI'm just ...</td>\n",
       "      <td>woodworking</td>\n",
       "      <td>1</td>\n",
       "    </tr>\n",
       "    <tr>\n",
       "      <th>woodworking.stackexchange_0000005921</th>\n",
       "      <td>Q:\\n\\nHarden soft pine\\n\\nI made a dutch tool ...</td>\n",
       "      <td>woodworking</td>\n",
       "      <td>1</td>\n",
       "    </tr>\n",
       "    <tr>\n",
       "      <th>...</th>\n",
       "      <td>...</td>\n",
       "      <td>...</td>\n",
       "      <td>...</td>\n",
       "    </tr>\n",
       "    <tr>\n",
       "      <th>woodworking.stackexchange_0000013196</th>\n",
       "      <td>Q:\\n\\nHow To fasten rubberwood desktop to elec...</td>\n",
       "      <td>woodworking</td>\n",
       "      <td>1</td>\n",
       "    </tr>\n",
       "    <tr>\n",
       "      <th>woodworking.stackexchange_0000003385</th>\n",
       "      <td>Q:\\n\\nA good way to store wood \"outside\"?\\n\\nI...</td>\n",
       "      <td>woodworking</td>\n",
       "      <td>1</td>\n",
       "    </tr>\n",
       "    <tr>\n",
       "      <th>woodworking.stackexchange_0000007861</th>\n",
       "      <td>Q:\\n\\nAre mortises with angled walls cut the s...</td>\n",
       "      <td>woodworking</td>\n",
       "      <td>1</td>\n",
       "    </tr>\n",
       "    <tr>\n",
       "      <th>woodworking.stackexchange_0000002919</th>\n",
       "      <td>Q:\\n\\nWhat is the best drill bit for MDF?\\n\\nI...</td>\n",
       "      <td>woodworking</td>\n",
       "      <td>1</td>\n",
       "    </tr>\n",
       "    <tr>\n",
       "      <th>woodworking.stackexchange_0000005910</th>\n",
       "      <td>Q:\\n\\nUsing 1x4 instead of 2x4 for laminated w...</td>\n",
       "      <td>woodworking</td>\n",
       "      <td>1</td>\n",
       "    </tr>\n",
       "  </tbody>\n",
       "</table>\n",
       "<p>2461 rows × 3 columns</p>\n",
       "</div>"
      ],
      "text/plain": [
       "                                                                                   text  \\\n",
       "id                                                                                        \n",
       "woodworking.stackexchange_0000009855  Q:\\n\\nGlue-up for butcher block-style countert...   \n",
       "woodworking.stackexchange_0000009869  Q:\\n\\nPlunge router base plate has a bit stick...   \n",
       "woodworking.stackexchange_0000004395  Q:\\n\\nWhat is the proper way to sharpen a roun...   \n",
       "woodworking.stackexchange_0000002928  Q:\\n\\nWhat woods take stain well?\\n\\nI'm just ...   \n",
       "woodworking.stackexchange_0000005921  Q:\\n\\nHarden soft pine\\n\\nI made a dutch tool ...   \n",
       "...                                                                                 ...   \n",
       "woodworking.stackexchange_0000013196  Q:\\n\\nHow To fasten rubberwood desktop to elec...   \n",
       "woodworking.stackexchange_0000003385  Q:\\n\\nA good way to store wood \"outside\"?\\n\\nI...   \n",
       "woodworking.stackexchange_0000007861  Q:\\n\\nAre mortises with angled walls cut the s...   \n",
       "woodworking.stackexchange_0000002919  Q:\\n\\nWhat is the best drill bit for MDF?\\n\\nI...   \n",
       "woodworking.stackexchange_0000005910  Q:\\n\\nUsing 1x4 instead of 2x4 for laminated w...   \n",
       "\n",
       "                                         category  cat_id  \n",
       "id                                                         \n",
       "woodworking.stackexchange_0000009855  woodworking       1  \n",
       "woodworking.stackexchange_0000009869  woodworking       1  \n",
       "woodworking.stackexchange_0000004395  woodworking       1  \n",
       "woodworking.stackexchange_0000002928  woodworking       1  \n",
       "woodworking.stackexchange_0000005921  woodworking       1  \n",
       "...                                           ...     ...  \n",
       "woodworking.stackexchange_0000013196  woodworking       1  \n",
       "woodworking.stackexchange_0000003385  woodworking       1  \n",
       "woodworking.stackexchange_0000007861  woodworking       1  \n",
       "woodworking.stackexchange_0000002919  woodworking       1  \n",
       "woodworking.stackexchange_0000005910  woodworking       1  \n",
       "\n",
       "[2461 rows x 3 columns]"
      ]
     },
     "execution_count": 43,
     "metadata": {},
     "output_type": "execute_result"
    }
   ],
   "source": [
    "wood_df = all_df[all_df.category == \"woodworking\"]\n",
    "wood_df"
   ]
  },
  {
   "cell_type": "code",
   "execution_count": 129,
   "id": "74899092-8c6d-432a-bb04-eaf2c104b2e7",
   "metadata": {},
   "outputs": [
    {
     "name": "stdout",
     "output_type": "stream",
     "text": [
      "Q:\n",
      "\n",
      "Glue-up for butcher block-style countertop\n",
      "\n",
      "Background\n",
      "I am working on a butcher block style countertop / tabletop, and am wondering how best to glue the wood together.  The countertop is unfinished maple hardwood floor, with the tongue / groove cut off, flipped on its side.  So, the final result will be about 1 3/4\" thick, mos\n"
     ]
    }
   ],
   "source": [
    "wood_txt = wood_df.iloc[0].text\n",
    "print(wood_txt[:333])"
   ]
  },
  {
   "cell_type": "code",
   "execution_count": 132,
   "id": "ca6f1dd5",
   "metadata": {},
   "outputs": [
    {
     "data": {
      "application/vnd.jupyter.widget-view+json": {
       "model_id": "5255f7772eba436ea6a2b53669873229",
       "version_major": 2,
       "version_minor": 0
      },
      "text/plain": [
       "  0%|          | 0/2461 [00:00<?, ?it/s]"
      ]
     },
     "metadata": {},
     "output_type": "display_data"
    },
    {
     "data": {
      "application/vnd.jupyter.widget-view+json": {
       "model_id": "1eee183a5d7d4f96ad827fe7d4830e91",
       "version_major": 2,
       "version_minor": 0
      },
      "text/plain": [
       "  0%|          | 0/2461 [00:00<?, ?it/s]"
      ]
     },
     "metadata": {},
     "output_type": "display_data"
    },
    {
     "name": "stderr",
     "output_type": "stream",
     "text": [
      "/var/folders/67/398kj6w97qd5336d3vvgf8b40000gn/T/ipykernel_61965/2743942180.py:2: SettingWithCopyWarning: \n",
      "A value is trying to be set on a copy of a slice from a DataFrame.\n",
      "Try using .loc[row_indexer,col_indexer] = value instead\n",
      "\n",
      "See the caveats in the documentation: https://pandas.pydata.org/pandas-docs/stable/user_guide/indexing.html#returning-a-view-versus-a-copy\n",
      "  wood_df['tokens'] = wood_df.text.progress_map(str.lower).progress_map(word_tokenize)\n"
     ]
    },
    {
     "data": {
      "text/html": [
       "<div>\n",
       "<style scoped>\n",
       "    .dataframe tbody tr th:only-of-type {\n",
       "        vertical-align: middle;\n",
       "    }\n",
       "\n",
       "    .dataframe tbody tr th {\n",
       "        vertical-align: top;\n",
       "    }\n",
       "\n",
       "    .dataframe thead th {\n",
       "        text-align: right;\n",
       "    }\n",
       "</style>\n",
       "<table border=\"1\" class=\"dataframe\">\n",
       "  <thead>\n",
       "    <tr style=\"text-align: right;\">\n",
       "      <th></th>\n",
       "      <th>text</th>\n",
       "      <th>category</th>\n",
       "      <th>cat_id</th>\n",
       "      <th>tokens</th>\n",
       "    </tr>\n",
       "    <tr>\n",
       "      <th>id</th>\n",
       "      <th></th>\n",
       "      <th></th>\n",
       "      <th></th>\n",
       "      <th></th>\n",
       "    </tr>\n",
       "  </thead>\n",
       "  <tbody>\n",
       "    <tr>\n",
       "      <th>woodworking.stackexchange_0000009855</th>\n",
       "      <td>Q:\\n\\nGlue-up for butcher block-style countert...</td>\n",
       "      <td>woodworking</td>\n",
       "      <td>1</td>\n",
       "      <td>[q, :, glue-up, for, butcher, block-style, cou...</td>\n",
       "    </tr>\n",
       "    <tr>\n",
       "      <th>woodworking.stackexchange_0000009869</th>\n",
       "      <td>Q:\\n\\nPlunge router base plate has a bit stick...</td>\n",
       "      <td>woodworking</td>\n",
       "      <td>1</td>\n",
       "      <td>[q, :, plunge, router, base, plate, has, a, bi...</td>\n",
       "    </tr>\n",
       "    <tr>\n",
       "      <th>woodworking.stackexchange_0000004395</th>\n",
       "      <td>Q:\\n\\nWhat is the proper way to sharpen a roun...</td>\n",
       "      <td>woodworking</td>\n",
       "      <td>1</td>\n",
       "      <td>[q, :, what, is, the, proper, way, to, sharpen...</td>\n",
       "    </tr>\n",
       "    <tr>\n",
       "      <th>woodworking.stackexchange_0000002928</th>\n",
       "      <td>Q:\\n\\nWhat woods take stain well?\\n\\nI'm just ...</td>\n",
       "      <td>woodworking</td>\n",
       "      <td>1</td>\n",
       "      <td>[q, :, what, woods, take, stain, well, ?, i, '...</td>\n",
       "    </tr>\n",
       "    <tr>\n",
       "      <th>woodworking.stackexchange_0000005921</th>\n",
       "      <td>Q:\\n\\nHarden soft pine\\n\\nI made a dutch tool ...</td>\n",
       "      <td>woodworking</td>\n",
       "      <td>1</td>\n",
       "      <td>[q, :, harden, soft, pine, i, made, a, dutch, ...</td>\n",
       "    </tr>\n",
       "    <tr>\n",
       "      <th>...</th>\n",
       "      <td>...</td>\n",
       "      <td>...</td>\n",
       "      <td>...</td>\n",
       "      <td>...</td>\n",
       "    </tr>\n",
       "    <tr>\n",
       "      <th>woodworking.stackexchange_0000013196</th>\n",
       "      <td>Q:\\n\\nHow To fasten rubberwood desktop to elec...</td>\n",
       "      <td>woodworking</td>\n",
       "      <td>1</td>\n",
       "      <td>[q, :, how, to, fasten, rubberwood, desktop, t...</td>\n",
       "    </tr>\n",
       "    <tr>\n",
       "      <th>woodworking.stackexchange_0000003385</th>\n",
       "      <td>Q:\\n\\nA good way to store wood \"outside\"?\\n\\nI...</td>\n",
       "      <td>woodworking</td>\n",
       "      <td>1</td>\n",
       "      <td>[q, :, a, good, way, to, store, wood, ``, outs...</td>\n",
       "    </tr>\n",
       "    <tr>\n",
       "      <th>woodworking.stackexchange_0000007861</th>\n",
       "      <td>Q:\\n\\nAre mortises with angled walls cut the s...</td>\n",
       "      <td>woodworking</td>\n",
       "      <td>1</td>\n",
       "      <td>[q, :, are, mortises, with, angled, walls, cut...</td>\n",
       "    </tr>\n",
       "    <tr>\n",
       "      <th>woodworking.stackexchange_0000002919</th>\n",
       "      <td>Q:\\n\\nWhat is the best drill bit for MDF?\\n\\nI...</td>\n",
       "      <td>woodworking</td>\n",
       "      <td>1</td>\n",
       "      <td>[q, :, what, is, the, best, drill, bit, for, m...</td>\n",
       "    </tr>\n",
       "    <tr>\n",
       "      <th>woodworking.stackexchange_0000005910</th>\n",
       "      <td>Q:\\n\\nUsing 1x4 instead of 2x4 for laminated w...</td>\n",
       "      <td>woodworking</td>\n",
       "      <td>1</td>\n",
       "      <td>[q, :, using, 1x4, instead, of, 2x4, for, lami...</td>\n",
       "    </tr>\n",
       "  </tbody>\n",
       "</table>\n",
       "<p>2461 rows × 4 columns</p>\n",
       "</div>"
      ],
      "text/plain": [
       "                                                                                   text  \\\n",
       "id                                                                                        \n",
       "woodworking.stackexchange_0000009855  Q:\\n\\nGlue-up for butcher block-style countert...   \n",
       "woodworking.stackexchange_0000009869  Q:\\n\\nPlunge router base plate has a bit stick...   \n",
       "woodworking.stackexchange_0000004395  Q:\\n\\nWhat is the proper way to sharpen a roun...   \n",
       "woodworking.stackexchange_0000002928  Q:\\n\\nWhat woods take stain well?\\n\\nI'm just ...   \n",
       "woodworking.stackexchange_0000005921  Q:\\n\\nHarden soft pine\\n\\nI made a dutch tool ...   \n",
       "...                                                                                 ...   \n",
       "woodworking.stackexchange_0000013196  Q:\\n\\nHow To fasten rubberwood desktop to elec...   \n",
       "woodworking.stackexchange_0000003385  Q:\\n\\nA good way to store wood \"outside\"?\\n\\nI...   \n",
       "woodworking.stackexchange_0000007861  Q:\\n\\nAre mortises with angled walls cut the s...   \n",
       "woodworking.stackexchange_0000002919  Q:\\n\\nWhat is the best drill bit for MDF?\\n\\nI...   \n",
       "woodworking.stackexchange_0000005910  Q:\\n\\nUsing 1x4 instead of 2x4 for laminated w...   \n",
       "\n",
       "                                         category  cat_id  \\\n",
       "id                                                          \n",
       "woodworking.stackexchange_0000009855  woodworking       1   \n",
       "woodworking.stackexchange_0000009869  woodworking       1   \n",
       "woodworking.stackexchange_0000004395  woodworking       1   \n",
       "woodworking.stackexchange_0000002928  woodworking       1   \n",
       "woodworking.stackexchange_0000005921  woodworking       1   \n",
       "...                                           ...     ...   \n",
       "woodworking.stackexchange_0000013196  woodworking       1   \n",
       "woodworking.stackexchange_0000003385  woodworking       1   \n",
       "woodworking.stackexchange_0000007861  woodworking       1   \n",
       "woodworking.stackexchange_0000002919  woodworking       1   \n",
       "woodworking.stackexchange_0000005910  woodworking       1   \n",
       "\n",
       "                                                                                 tokens  \n",
       "id                                                                                       \n",
       "woodworking.stackexchange_0000009855  [q, :, glue-up, for, butcher, block-style, cou...  \n",
       "woodworking.stackexchange_0000009869  [q, :, plunge, router, base, plate, has, a, bi...  \n",
       "woodworking.stackexchange_0000004395  [q, :, what, is, the, proper, way, to, sharpen...  \n",
       "woodworking.stackexchange_0000002928  [q, :, what, woods, take, stain, well, ?, i, '...  \n",
       "woodworking.stackexchange_0000005921  [q, :, harden, soft, pine, i, made, a, dutch, ...  \n",
       "...                                                                                 ...  \n",
       "woodworking.stackexchange_0000013196  [q, :, how, to, fasten, rubberwood, desktop, t...  \n",
       "woodworking.stackexchange_0000003385  [q, :, a, good, way, to, store, wood, ``, outs...  \n",
       "woodworking.stackexchange_0000007861  [q, :, are, mortises, with, angled, walls, cut...  \n",
       "woodworking.stackexchange_0000002919  [q, :, what, is, the, best, drill, bit, for, m...  \n",
       "woodworking.stackexchange_0000005910  [q, :, using, 1x4, instead, of, 2x4, for, lami...  \n",
       "\n",
       "[2461 rows x 4 columns]"
      ]
     },
     "execution_count": 132,
     "metadata": {},
     "output_type": "execute_result"
    }
   ],
   "source": [
    "# lowercase and tokenize every line\n",
    "wood_df['tokens'] = wood_df.text.progress_map(str.lower).progress_map(word_tokenize)\n",
    "wood_df"
   ]
  },
  {
   "cell_type": "code",
   "execution_count": 143,
   "id": "659d9fbd",
   "metadata": {},
   "outputs": [
    {
     "data": {
      "text/html": [
       "<div>\n",
       "<style scoped>\n",
       "    .dataframe tbody tr th:only-of-type {\n",
       "        vertical-align: middle;\n",
       "    }\n",
       "\n",
       "    .dataframe tbody tr th {\n",
       "        vertical-align: top;\n",
       "    }\n",
       "\n",
       "    .dataframe thead th {\n",
       "        text-align: right;\n",
       "    }\n",
       "</style>\n",
       "<table border=\"1\" class=\"dataframe\">\n",
       "  <thead>\n",
       "    <tr style=\"text-align: right;\">\n",
       "      <th></th>\n",
       "      <th>freq</th>\n",
       "    </tr>\n",
       "  </thead>\n",
       "  <tbody>\n",
       "    <tr>\n",
       "      <th>, and</th>\n",
       "      <td>11</td>\n",
       "    </tr>\n",
       "    <tr>\n",
       "      <th>. i</th>\n",
       "      <td>8</td>\n",
       "    </tr>\n",
       "    <tr>\n",
       "      <th>will be</th>\n",
       "      <td>7</td>\n",
       "    </tr>\n",
       "    <tr>\n",
       "      <th>on the</th>\n",
       "      <td>7</td>\n",
       "    </tr>\n",
       "    <tr>\n",
       "      <th>. the</th>\n",
       "      <td>5</td>\n",
       "    </tr>\n",
       "    <tr>\n",
       "      <th>...</th>\n",
       "      <td>...</td>\n",
       "    </tr>\n",
       "    <tr>\n",
       "      <th>i suppose</th>\n",
       "      <td>1</td>\n",
       "    </tr>\n",
       "    <tr>\n",
       "      <th>suppose that</th>\n",
       "      <td>1</td>\n",
       "    </tr>\n",
       "    <tr>\n",
       "      <th>that starting</th>\n",
       "      <td>1</td>\n",
       "    </tr>\n",
       "    <tr>\n",
       "      <th>starting with</th>\n",
       "      <td>1</td>\n",
       "    </tr>\n",
       "    <tr>\n",
       "      <th>jig ?</th>\n",
       "      <td>1</td>\n",
       "    </tr>\n",
       "  </tbody>\n",
       "</table>\n",
       "<p>1173 rows × 1 columns</p>\n",
       "</div>"
      ],
      "text/plain": [
       "               freq\n",
       ", and            11\n",
       ". i               8\n",
       "will be           7\n",
       "on the            7\n",
       ". the             5\n",
       "...             ...\n",
       "i suppose         1\n",
       "suppose that      1\n",
       "that starting     1\n",
       "starting with     1\n",
       "jig ?             1\n",
       "\n",
       "[1173 rows x 1 columns]"
      ]
     },
     "execution_count": 143,
     "metadata": {},
     "output_type": "execute_result"
    }
   ],
   "source": [
    "# the fisrt row\n",
    "ngrams_generator(n=2, corpus=wood_df.iloc[0].tokens, tokenize=True)"
   ]
  },
  {
   "cell_type": "code",
   "execution_count": 142,
   "id": "2cf3712a",
   "metadata": {},
   "outputs": [
    {
     "data": {
      "text/html": [
       "<div>\n",
       "<style scoped>\n",
       "    .dataframe tbody tr th:only-of-type {\n",
       "        vertical-align: middle;\n",
       "    }\n",
       "\n",
       "    .dataframe tbody tr th {\n",
       "        vertical-align: top;\n",
       "    }\n",
       "\n",
       "    .dataframe thead th {\n",
       "        text-align: right;\n",
       "    }\n",
       "</style>\n",
       "<table border=\"1\" class=\"dataframe\">\n",
       "  <thead>\n",
       "    <tr style=\"text-align: right;\">\n",
       "      <th></th>\n",
       "      <th>freq</th>\n",
       "    </tr>\n",
       "  </thead>\n",
       "  <tbody>\n",
       "    <tr>\n",
       "      <th>of the</th>\n",
       "      <td>7538</td>\n",
       "    </tr>\n",
       "    <tr>\n",
       "      <th>. i</th>\n",
       "      <td>5388</td>\n",
       "    </tr>\n",
       "    <tr>\n",
       "      <th>, and</th>\n",
       "      <td>4186</td>\n",
       "    </tr>\n",
       "    <tr>\n",
       "      <th>, but</th>\n",
       "      <td>4063</td>\n",
       "    </tr>\n",
       "    <tr>\n",
       "      <th>in the</th>\n",
       "      <td>3771</td>\n",
       "    </tr>\n",
       "    <tr>\n",
       "      <th>...</th>\n",
       "      <td>...</td>\n",
       "    </tr>\n",
       "    <tr>\n",
       "      <th>it lock</th>\n",
       "      <td>1</td>\n",
       "    </tr>\n",
       "    <tr>\n",
       "      <th>they wanted</th>\n",
       "      <td>1</td>\n",
       "    </tr>\n",
       "    <tr>\n",
       "      <th>remove or</th>\n",
       "      <td>1</td>\n",
       "    </tr>\n",
       "    <tr>\n",
       "      <th>light tap</th>\n",
       "      <td>1</td>\n",
       "    </tr>\n",
       "    <tr>\n",
       "      <th>4 .</th>\n",
       "      <td>1</td>\n",
       "    </tr>\n",
       "  </tbody>\n",
       "</table>\n",
       "<p>331742 rows × 1 columns</p>\n",
       "</div>"
      ],
      "text/plain": [
       "             freq\n",
       "of the       7538\n",
       ". i          5388\n",
       ", and        4186\n",
       ", but        4063\n",
       "in the       3771\n",
       "...           ...\n",
       "it lock         1\n",
       "they wanted     1\n",
       "remove or       1\n",
       "light tap       1\n",
       "4 .             1\n",
       "\n",
       "[331742 rows x 1 columns]"
      ]
     },
     "execution_count": 142,
     "metadata": {},
     "output_type": "execute_result"
    }
   ],
   "source": [
    "# all the rows\n",
    "ngrams_generator(n=2, corpus=sum(wood_df['tokens'], []), tokenize=True)"
   ]
  },
  {
   "attachments": {},
   "cell_type": "markdown",
   "id": "b9dada15-875a-4aea-8d31-01011ef6662b",
   "metadata": {},
   "source": [
    "#### 🚧 TODO: Text generation with ngrams\n",
    "\n",
    "*   Generate a text of words until a stop word is generated (`.`)\n",
    "\n",
    "*   Assign a random probability to each ngrams based on their frequency\n",
    "\n",
    " *Note:* [`default_rng`](https://numpy.org/doc/stable/reference/random/generator.html#numpy.random.default_rng) is the recommended constructor for random number generation in NumPy."
   ]
  },
  {
   "cell_type": "code",
   "execution_count": 144,
   "id": "4b1f33df",
   "metadata": {},
   "outputs": [
    {
     "data": {
      "text/html": [
       "<div>\n",
       "<style scoped>\n",
       "    .dataframe tbody tr th:only-of-type {\n",
       "        vertical-align: middle;\n",
       "    }\n",
       "\n",
       "    .dataframe tbody tr th {\n",
       "        vertical-align: top;\n",
       "    }\n",
       "\n",
       "    .dataframe thead th {\n",
       "        text-align: right;\n",
       "    }\n",
       "</style>\n",
       "<table border=\"1\" class=\"dataframe\">\n",
       "  <thead>\n",
       "    <tr style=\"text-align: right;\">\n",
       "      <th></th>\n",
       "      <th>freq</th>\n",
       "      <th>prob</th>\n",
       "    </tr>\n",
       "  </thead>\n",
       "  <tbody>\n",
       "    <tr>\n",
       "      <th>the</th>\n",
       "      <td>69921</td>\n",
       "      <td>5.0289e-02</td>\n",
       "    </tr>\n",
       "    <tr>\n",
       "      <th>.</th>\n",
       "      <td>52036</td>\n",
       "      <td>3.7426e-02</td>\n",
       "    </tr>\n",
       "    <tr>\n",
       "      <th>a</th>\n",
       "      <td>41898</td>\n",
       "      <td>3.0134e-02</td>\n",
       "    </tr>\n",
       "    <tr>\n",
       "      <th>,</th>\n",
       "      <td>41321</td>\n",
       "      <td>2.9719e-02</td>\n",
       "    </tr>\n",
       "    <tr>\n",
       "      <th>to</th>\n",
       "      <td>38993</td>\n",
       "      <td>2.8045e-02</td>\n",
       "    </tr>\n",
       "    <tr>\n",
       "      <th>...</th>\n",
       "      <td>...</td>\n",
       "      <td>...</td>\n",
       "    </tr>\n",
       "    <tr>\n",
       "      <th>48x68</th>\n",
       "      <td>1</td>\n",
       "      <td>7.1923e-07</td>\n",
       "    </tr>\n",
       "    <tr>\n",
       "      <th>1784mm</th>\n",
       "      <td>1</td>\n",
       "      <td>7.1923e-07</td>\n",
       "    </tr>\n",
       "    <tr>\n",
       "      <th>unmoving</th>\n",
       "      <td>1</td>\n",
       "      <td>7.1923e-07</td>\n",
       "    </tr>\n",
       "    <tr>\n",
       "      <th>dismantle</th>\n",
       "      <td>1</td>\n",
       "      <td>7.1923e-07</td>\n",
       "    </tr>\n",
       "    <tr>\n",
       "      <th>'scooped</th>\n",
       "      <td>1</td>\n",
       "      <td>7.1923e-07</td>\n",
       "    </tr>\n",
       "  </tbody>\n",
       "</table>\n",
       "<p>27942 rows × 2 columns</p>\n",
       "</div>"
      ],
      "text/plain": [
       "            freq        prob\n",
       "the        69921  5.0289e-02\n",
       ".          52036  3.7426e-02\n",
       "a          41898  3.0134e-02\n",
       ",          41321  2.9719e-02\n",
       "to         38993  2.8045e-02\n",
       "...          ...         ...\n",
       "48x68          1  7.1923e-07\n",
       "1784mm         1  7.1923e-07\n",
       "unmoving       1  7.1923e-07\n",
       "dismantle      1  7.1923e-07\n",
       "'scooped       1  7.1923e-07\n",
       "\n",
       "[27942 rows x 2 columns]"
      ]
     },
     "execution_count": 144,
     "metadata": {},
     "output_type": "execute_result"
    }
   ],
   "source": [
    "nc = ngrams_generator(n=1, corpus=sum(wood_df['tokens'], []), tokenize=True)\n",
    "nc['prob'] = nc.freq / nc.freq.sum()\n",
    "nc"
   ]
  },
  {
   "cell_type": "code",
   "execution_count": 175,
   "id": "a33463e0",
   "metadata": {},
   "outputs": [],
   "source": [
    "def text_generate_simple(tokens, prob):\n",
    "    text = ''\n",
    "    token = ''\n",
    "    \n",
    "    while(token != '.'): # we stop if a '.' is generated\n",
    "        token = np.random.choice(tokens, p = prob)\n",
    "        # there is a space after every word except the last '.'\n",
    "        if token == '.':\n",
    "            text += token\n",
    "        else:\n",
    "            text += token + ' '\n",
    "    \n",
    "    return text"
   ]
  },
  {
   "cell_type": "code",
   "execution_count": 176,
   "id": "99c5b3a4",
   "metadata": {},
   "outputs": [
    {
     "name": "stdout",
     "output_type": "stream",
     "text": [
      "i it it is the complete want research the whatever different ad-hoc on cling weight which metal and of the most for potential surface pull-out this .\n"
     ]
    }
   ],
   "source": [
    "print(text_generate_simple(nc.index, nc['prob']))"
   ]
  },
  {
   "attachments": {},
   "cell_type": "markdown",
   "id": "ca86525f-c78b-465b-bcc8-7f281bfd6176",
   "metadata": {},
   "source": [
    "### TODO (optional): improve this algorithm\n",
    "\n",
    "- Make it deterministic, by preparing exceptions\n",
    "\n",
    "- Improve the output spacing and maybe upper case\n",
    "\n",
    "- Try on a different domain of our corpus"
   ]
  },
  {
   "cell_type": "code",
   "execution_count": 181,
   "id": "6fb3527f",
   "metadata": {},
   "outputs": [],
   "source": [
    "# here we use corpus directly(there is no prob parameter)\n",
    "def text_generate(corpus_df):\n",
    "    tokens = corpus_df.text.progress_map(str.lower).progress_map(word_tokenize)\n",
    "    corpus_tokens = sum(tokens, [])\n",
    "    nc = ngrams_generator(n=1, corpus=corpus_tokens,tokenize=True)\n",
    "    nc['prob'] = nc.freq / nc.freq.sum()\n",
    "    \n",
    "    text = ''\n",
    "    # the first word should be uppercase\n",
    "    token = np.random.choice(nc.index, p = nc.prob)\n",
    "    token = str.upper(token[0]) + token[1:]\n",
    "    text += token\n",
    "    # from second word        \n",
    "    while(token != '.'): # we stop if a '.' is generated\n",
    "        token = np.random.choice(nc.index, p = nc.prob)\n",
    "        # there is a space after every word except the last '.'\n",
    "        if token == '.':\n",
    "            text += token\n",
    "        else:\n",
    "            text += token + ' '\n",
    "    \n",
    "    return text"
   ]
  },
  {
   "cell_type": "code",
   "execution_count": 184,
   "id": "e2f0835a",
   "metadata": {},
   "outputs": [
    {
     "data": {
      "application/vnd.jupyter.widget-view+json": {
       "model_id": "58c3018ca8c94297a1b24229cb9e7e11",
       "version_major": 2,
       "version_minor": 0
      },
      "text/plain": [
       "  0%|          | 0/2461 [00:00<?, ?it/s]"
      ]
     },
     "metadata": {},
     "output_type": "display_data"
    },
    {
     "data": {
      "application/vnd.jupyter.widget-view+json": {
       "model_id": "f149f7ffaf464b93a44efb33c0adb825",
       "version_major": 2,
       "version_minor": 0
      },
      "text/plain": [
       "  0%|          | 0/2461 [00:00<?, ?it/s]"
      ]
     },
     "metadata": {},
     "output_type": "display_data"
    },
    {
     "name": "stdout",
     "output_type": "stream",
     "text": [
      "Bebeard for filler but is which by reinforce the is about sides of passes to counter if and saw or and each still this ? ways but or .\n"
     ]
    }
   ],
   "source": [
    "print(text_generate(wood_df))"
   ]
  },
  {
   "attachments": {},
   "cell_type": "markdown",
   "id": "1d850e54-f593-4be9-967b-fffd88423ed9",
   "metadata": {},
   "source": [
    "---"
   ]
  }
 ],
 "metadata": {
  "kernelspec": {
   "display_name": "HoNLP",
   "language": "python",
   "name": "python3"
  },
  "language_info": {
   "codemirror_mode": {
    "name": "ipython",
    "version": 3
   },
   "file_extension": ".py",
   "mimetype": "text/x-python",
   "name": "python",
   "nbconvert_exporter": "python",
   "pygments_lexer": "ipython3",
   "version": "3.10.8"
  },
  "vscode": {
   "interpreter": {
    "hash": "5aaf2b3507bdd4fc48a866a599b2a884dae59cdb402183f83bea31f7ecb787ec"
   }
  }
 },
 "nbformat": 4,
 "nbformat_minor": 5
}
