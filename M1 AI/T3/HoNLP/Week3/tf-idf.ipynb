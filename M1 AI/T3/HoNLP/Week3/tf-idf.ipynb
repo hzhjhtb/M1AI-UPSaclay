{
 "cells": [
  {
   "cell_type": "code",
   "execution_count": 1,
   "metadata": {},
   "outputs": [],
   "source": [
    "import numpy as np\n",
    "import pandas as pd\n",
    "from sklearn.feature_extraction.text import TfidfVectorizer"
   ]
  },
  {
   "cell_type": "code",
   "execution_count": 2,
   "metadata": {},
   "outputs": [],
   "source": [
    "pd.set_option(\"display.precision\", 4)"
   ]
  },
  {
   "cell_type": "code",
   "execution_count": 3,
   "metadata": {},
   "outputs": [
    {
     "data": {
      "text/html": [
       "<div>\n",
       "<style scoped>\n",
       "    .dataframe tbody tr th:only-of-type {\n",
       "        vertical-align: middle;\n",
       "    }\n",
       "\n",
       "    .dataframe tbody tr th {\n",
       "        vertical-align: top;\n",
       "    }\n",
       "\n",
       "    .dataframe thead th {\n",
       "        text-align: right;\n",
       "    }\n",
       "</style>\n",
       "<table border=\"1\" class=\"dataframe\">\n",
       "  <thead>\n",
       "    <tr style=\"text-align: right;\">\n",
       "      <th></th>\n",
       "      <th>and</th>\n",
       "      <th>document</th>\n",
       "      <th>first</th>\n",
       "      <th>is</th>\n",
       "      <th>one</th>\n",
       "      <th>second</th>\n",
       "      <th>the</th>\n",
       "      <th>third</th>\n",
       "      <th>this</th>\n",
       "    </tr>\n",
       "  </thead>\n",
       "  <tbody>\n",
       "    <tr>\n",
       "      <th>This is the first document.</th>\n",
       "      <td>0.0000</td>\n",
       "      <td>0.4698</td>\n",
       "      <td>0.5803</td>\n",
       "      <td>0.3841</td>\n",
       "      <td>0.0000</td>\n",
       "      <td>0.0000</td>\n",
       "      <td>0.3841</td>\n",
       "      <td>0.0000</td>\n",
       "      <td>0.3841</td>\n",
       "    </tr>\n",
       "    <tr>\n",
       "      <th>This document is the second document.</th>\n",
       "      <td>0.0000</td>\n",
       "      <td>0.6876</td>\n",
       "      <td>0.0000</td>\n",
       "      <td>0.2811</td>\n",
       "      <td>0.0000</td>\n",
       "      <td>0.5386</td>\n",
       "      <td>0.2811</td>\n",
       "      <td>0.0000</td>\n",
       "      <td>0.2811</td>\n",
       "    </tr>\n",
       "    <tr>\n",
       "      <th>And this is the third one.</th>\n",
       "      <td>0.5118</td>\n",
       "      <td>0.0000</td>\n",
       "      <td>0.0000</td>\n",
       "      <td>0.2671</td>\n",
       "      <td>0.5118</td>\n",
       "      <td>0.0000</td>\n",
       "      <td>0.2671</td>\n",
       "      <td>0.5118</td>\n",
       "      <td>0.2671</td>\n",
       "    </tr>\n",
       "    <tr>\n",
       "      <th>Is this the first document?</th>\n",
       "      <td>0.0000</td>\n",
       "      <td>0.4698</td>\n",
       "      <td>0.5803</td>\n",
       "      <td>0.3841</td>\n",
       "      <td>0.0000</td>\n",
       "      <td>0.0000</td>\n",
       "      <td>0.3841</td>\n",
       "      <td>0.0000</td>\n",
       "      <td>0.3841</td>\n",
       "    </tr>\n",
       "  </tbody>\n",
       "</table>\n",
       "</div>"
      ],
      "text/plain": [
       "                                          and  document   first      is  \\\n",
       "This is the first document.            0.0000    0.4698  0.5803  0.3841   \n",
       "This document is the second document.  0.0000    0.6876  0.0000  0.2811   \n",
       "And this is the third one.             0.5118    0.0000  0.0000  0.2671   \n",
       "Is this the first document?            0.0000    0.4698  0.5803  0.3841   \n",
       "\n",
       "                                          one  second     the   third    this  \n",
       "This is the first document.            0.0000  0.0000  0.3841  0.0000  0.3841  \n",
       "This document is the second document.  0.0000  0.5386  0.2811  0.0000  0.2811  \n",
       "And this is the third one.             0.5118  0.0000  0.2671  0.5118  0.2671  \n",
       "Is this the first document?            0.0000  0.0000  0.3841  0.0000  0.3841  "
      ]
     },
     "execution_count": 3,
     "metadata": {},
     "output_type": "execute_result"
    }
   ],
   "source": [
    "corpus = [\n",
    "    \"This is the first document.\",\n",
    "    \"This document is the second document.\",\n",
    "    \"And this is the third one.\",\n",
    "    \"Is this the first document?\",\n",
    "]\n",
    "\n",
    "tf_idf = TfidfVectorizer(norm=\"l2\", use_idf=True, smooth_idf=True)\n",
    "xs = tf_idf.fit_transform(corpus).toarray()\n",
    "\n",
    "tf_idf_df = pd.DataFrame(xs, index=corpus, columns=tf_idf.get_feature_names_out())\n",
    "tf_idf_df"
   ]
  },
  {
   "cell_type": "code",
   "execution_count": 4,
   "metadata": {},
   "outputs": [
    {
     "data": {
      "text/plain": [
       "'this is the first document'"
      ]
     },
     "metadata": {},
     "output_type": "display_data"
    },
    {
     "data": {
      "text/plain": [
       "['this is the first document',\n",
       " 'this document is the second document',\n",
       " 'and this is the third one',\n",
       " 'is this the first document']"
      ]
     },
     "metadata": {},
     "output_type": "display_data"
    },
    {
     "data": {
      "text/html": [
       "<div>\n",
       "<style scoped>\n",
       "    .dataframe tbody tr th:only-of-type {\n",
       "        vertical-align: middle;\n",
       "    }\n",
       "\n",
       "    .dataframe tbody tr th {\n",
       "        vertical-align: top;\n",
       "    }\n",
       "\n",
       "    .dataframe thead th {\n",
       "        text-align: right;\n",
       "    }\n",
       "</style>\n",
       "<table border=\"1\" class=\"dataframe\">\n",
       "  <thead>\n",
       "    <tr style=\"text-align: right;\">\n",
       "      <th></th>\n",
       "      <th>and</th>\n",
       "      <th>document</th>\n",
       "      <th>first</th>\n",
       "      <th>is</th>\n",
       "      <th>one</th>\n",
       "      <th>second</th>\n",
       "      <th>the</th>\n",
       "      <th>third</th>\n",
       "      <th>this</th>\n",
       "    </tr>\n",
       "  </thead>\n",
       "  <tbody>\n",
       "    <tr>\n",
       "      <th>this is the first document</th>\n",
       "      <td>0.0</td>\n",
       "      <td>0.4698</td>\n",
       "      <td>0.5803</td>\n",
       "      <td>0.3841</td>\n",
       "      <td>0.0</td>\n",
       "      <td>0.0</td>\n",
       "      <td>0.3841</td>\n",
       "      <td>0.0</td>\n",
       "      <td>0.3841</td>\n",
       "    </tr>\n",
       "  </tbody>\n",
       "</table>\n",
       "</div>"
      ],
      "text/plain": [
       "                            and  document   first      is  one  second  \\\n",
       "this is the first document  0.0    0.4698  0.5803  0.3841  0.0     0.0   \n",
       "\n",
       "                               the  third    this  \n",
       "this is the first document  0.3841    0.0  0.3841  "
      ]
     },
     "execution_count": 4,
     "metadata": {},
     "output_type": "execute_result"
    }
   ],
   "source": [
    "docs = [d.lower().strip(\".,!?\") for d in corpus]\n",
    "doc = docs[0]\n",
    "terms  = [\n",
    "    \"and\", \"document\", \"first\", \"is\", \"one\", \"second\", \"the\", \"third\", \"this\"\n",
    "]\n",
    "display(doc)\n",
    "display(docs)\n",
    "\n",
    "tfs, idfs = [], []\n",
    "for t in terms:\n",
    "    # Note: the term-frequency is normalization is not necessary anymore\n",
    "    tfs.append(doc.split().count(t))  # / len(doc.split()))\n",
    "    # The 1s added to the denominator and numerator is for smoothing\n",
    "    idfs.append(\n",
    "        1 + np.log((1 + len(docs)) / (1 + sum([1 for d in docs if t in d])))\n",
    "    )\n",
    "tfs = np.array(tfs)\n",
    "idfs = np.array(idfs)\n",
    "\n",
    "tf_idfs = tfs * idfs\n",
    "tf_idfs = tf_idfs / np.sqrt((tf_idfs ** 2).sum())\n",
    "\n",
    "pd.DataFrame([tf_idfs], columns=terms, index=[doc])"
   ]
  },
  {
   "cell_type": "code",
   "execution_count": 5,
   "metadata": {},
   "outputs": [
    {
     "name": "stdout",
     "output_type": "stream",
     "text": [
      "1.0000\n"
     ]
    }
   ],
   "source": [
    "print(f\"{(tf_idfs ** 2).sum():.4f}\")"
   ]
  },
  {
   "attachments": {},
   "cell_type": "markdown",
   "metadata": {},
   "source": [
    "---"
   ]
  }
 ],
 "metadata": {
  "kernelspec": {
   "display_name": "honlp",
   "language": "python",
   "name": "python3"
  },
  "language_info": {
   "codemirror_mode": {
    "name": "ipython",
    "version": 3
   },
   "file_extension": ".py",
   "mimetype": "text/x-python",
   "name": "python",
   "nbconvert_exporter": "python",
   "pygments_lexer": "ipython3",
   "version": "3.9.15"
  },
  "orig_nbformat": 4,
  "vscode": {
   "interpreter": {
    "hash": "4092beadd17a8c123802d6bfeec2845d174d6d0bf5a666f517bdff4bcd2558e4"
   }
  }
 },
 "nbformat": 4,
 "nbformat_minor": 2
}
