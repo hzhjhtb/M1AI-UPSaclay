{
 "cells": [
  {
   "attachments": {},
   "cell_type": "markdown",
   "metadata": {},
   "source": [
    "Test of connection"
   ]
  },
  {
   "cell_type": "code",
   "execution_count": null,
   "metadata": {},
   "outputs": [],
   "source": [
    "import redis\n",
    "pool = redis.ConnectionPool(host='localhost', port=6379, decode_responses=True)\n",
    "r = redis.Redis(host='localhost', port=6379, password='123456', decode_responses=True)\n",
    "r.set('key','value')\n",
    "print(r.get('key'))"
   ]
  },
  {
   "attachments": {},
   "cell_type": "markdown",
   "metadata": {},
   "source": [
    "URL Shortener and Decoder"
   ]
  },
  {
   "cell_type": "code",
   "execution_count": null,
   "metadata": {},
   "outputs": [],
   "source": [
    "import random\n",
    "\n",
    "def Short_URL_creater():\n",
    "    \"\"\"\n",
    "    Randomly create a code representing an URL\n",
    "    \n",
    "    :return s: string of length 6\n",
    "    \"\"\"\n",
    "    \n",
    "    nums = [str(i) for i in range(0, 10)]\n",
    "    words = [chr(i) for i in range(97, 123)]\n",
    "    nums.extend(words)\n",
    "    \n",
    "    for i in range(0, 100):\n",
    "        s = ''\n",
    "        for j in range(0, 6):\n",
    "            n = random.randint(0, 35)\n",
    "            s += nums[n]\n",
    "            \n",
    "    return(s)\n"
   ]
  },
  {
   "cell_type": "code",
   "execution_count": null,
   "metadata": {},
   "outputs": [],
   "source": [
    "print(\"PLease enter your e-mail\")\n",
    "username = input()\n",
    "print(\"Id of user: \", username)\n",
    "\n",
    "print(\"PLease enter the URL\")\n",
    "URL = input()\n",
    "\n",
    "table_name = \"URL_app\"\n",
    "\n",
    "if ('Short_URL.' in URL): # if we got an Short_URL\n",
    "    print(\"Got a Short_URL :\\n\", URL)\n",
    "    # We care abouot how many URLS have been inserted by this user\n",
    "    print(URL, \" had been requested for\", r.incr(URL), \"times\")\n",
    "\n",
    "    if(r.hexists(table_name, URL)): #if the long vesion of this Short_URL exists:\n",
    "        print(\"The Long verion of this Short_URL is :\\n\", r.hget(table_name, URL))\n",
    "    \n",
    "    else: # if it does not exist\n",
    "        print(\"Error: The long version of this Short_URL doesn't exist!\")\n",
    "\n",
    "else: # if we got an URL in standard format\n",
    "    print(\"Got a URL :\\n\", URL)\n",
    "    \n",
    "    if(r.hexists(table_name, URL)): # if a short version for the same URL already exists\n",
    "        print(\"A short version for the same URL already exists :\\n\", r.hget(table_name, URL))\n",
    "    \n",
    "    else: #if it does not exist\n",
    "        # Generate a Short_URL\n",
    "        Short_URL = \"Short_URL.\" + Short_URL_creater()\n",
    "        while r.exists(table_name, Short_URL): # should avoid the repetition\n",
    "            Short_URL = \"Short_URL.\" + Short_URL_creater()\n",
    "        \n",
    "        # Record the link between the long URL and the short one in the hash table\n",
    "        r.hmset(table_name, {username: URL, Short_URL: URL, URL:Short_URL})\n",
    "        # We care abouot how many URLS have been inserted by this user\n",
    "        print(username, \"had inserted\", r.incr(username), \"URLS\")\n",
    "        \n",
    "        print(\"We generate a short verion of this URL:\\n\", r.hget(table_name, URL))   "
   ]
  }
 ],
 "metadata": {
  "kernelspec": {
   "display_name": "Python 3",
   "language": "python",
   "name": "python3"
  },
  "language_info": {
   "codemirror_mode": {
    "name": "ipython",
    "version": 3
   },
   "file_extension": ".py",
   "mimetype": "text/x-python",
   "name": "python",
   "nbconvert_exporter": "python",
   "pygments_lexer": "ipython3",
   "version": "3.10.4"
  },
  "orig_nbformat": 4,
  "vscode": {
   "interpreter": {
    "hash": "980edef6b0d0d3707a666ed24c66739fc7797f0aaba231a9022c0a300886130a"
   }
  }
 },
 "nbformat": 4,
 "nbformat_minor": 2
}
