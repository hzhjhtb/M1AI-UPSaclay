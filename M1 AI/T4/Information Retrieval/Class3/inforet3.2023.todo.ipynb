{
 "cells": [
  {
   "attachments": {},
   "cell_type": "markdown",
   "id": "815566ff",
   "metadata": {
    "_cell_guid": "40379c91-c6e8-4352-933c-83ef09e64901",
    "_uuid": "d05120a7-2d3e-4050-b392-d866c04a0670",
    "papermill": {
     "duration": 0.024365,
     "end_time": "2023-03-25T18:28:20.888034",
     "exception": false,
     "start_time": "2023-03-25T18:28:20.863669",
     "status": "completed"
    },
    "tags": []
   },
   "source": [
    "# Information Retrieval 3 "
   ]
  },
  {
   "cell_type": "code",
   "execution_count": 1,
   "id": "d3ffa543",
   "metadata": {
    "_cell_guid": "93616e21-d95d-44e9-ac71-4cb11db65b8f",
    "_uuid": "441e2d3f-85d9-4456-a886-39c09dd4190f",
    "collapsed": false,
    "execution": {
     "iopub.execute_input": "2023-03-25T18:28:34.289603Z",
     "iopub.status.busy": "2023-03-25T18:28:34.289174Z",
     "iopub.status.idle": "2023-03-25T18:28:46.082113Z",
     "shell.execute_reply": "2023-03-25T18:28:46.080487Z"
    },
    "jupyter": {
     "outputs_hidden": false
    },
    "papermill": {
     "duration": 11.821248,
     "end_time": "2023-03-25T18:28:46.086022",
     "exception": false,
     "start_time": "2023-03-25T18:28:34.264774",
     "status": "completed"
    },
    "tags": []
   },
   "outputs": [
    {
     "name": "stdout",
     "output_type": "stream",
     "text": [
      "time: 178 µs (started: 2023-03-28 01:19:27 +02:00)\n"
     ]
    }
   ],
   "source": [
    "# this turns on the autotimer, so that every cell has a timing information below\n",
    "%load_ext autotime"
   ]
  },
  {
   "cell_type": "code",
   "execution_count": 2,
   "id": "02b8b149",
   "metadata": {},
   "outputs": [
    {
     "name": "stdout",
     "output_type": "stream",
     "text": [
      "time: 2.87 s (started: 2023-03-28 01:19:29 +02:00)\n"
     ]
    }
   ],
   "source": [
    "import re\n",
    "import numpy as np\n",
    "import matplotlib.pyplot as plt\n",
    "import pandas as pd\n",
    "import seaborn as sns\n",
    "from collections import Counter\n",
    "from tqdm.notebook import tqdm\n",
    "from sklearn.feature_extraction.text import CountVectorizer, TfidfVectorizer\n",
    "from rank_bm25 import BM25Okapi\n",
    "import spacy\n",
    "from sense2vec import Sense2Vec\n",
    "import gc\n",
    "\n",
    "tqdm.pandas()"
   ]
  },
  {
   "cell_type": "markdown",
   "id": "7aaf2822",
   "metadata": {
    "_cell_guid": "af1b733e-3157-44fd-b7af-d7f12c921ef7",
    "_uuid": "fe102481-27c3-4723-a3bc-c1085d8f252c",
    "papermill": {
     "duration": 0.021627,
     "end_time": "2023-03-25T18:28:46.130118",
     "exception": false,
     "start_time": "2023-03-25T18:28:46.108491",
     "status": "completed"
    },
    "tags": []
   },
   "source": [
    "## getting the best combinations from last time and writing them into files"
   ]
  },
  {
   "cell_type": "code",
   "execution_count": 3,
   "id": "77c6cd85",
   "metadata": {},
   "outputs": [
    {
     "data": {
      "text/html": [
       "<div>\n",
       "<style scoped>\n",
       "    .dataframe tbody tr th:only-of-type {\n",
       "        vertical-align: middle;\n",
       "    }\n",
       "\n",
       "    .dataframe tbody tr th {\n",
       "        vertical-align: top;\n",
       "    }\n",
       "\n",
       "    .dataframe thead th {\n",
       "        text-align: right;\n",
       "    }\n",
       "</style>\n",
       "<table border=\"1\" class=\"dataframe\">\n",
       "  <thead>\n",
       "    <tr style=\"text-align: right;\">\n",
       "      <th></th>\n",
       "      <th>docid</th>\n",
       "      <th>title</th>\n",
       "      <th>body</th>\n",
       "    </tr>\n",
       "  </thead>\n",
       "  <tbody>\n",
       "    <tr>\n",
       "      <th>0</th>\n",
       "      <td>D2981241</td>\n",
       "      <td>What do you call a group of lions?</td>\n",
       "      <td>Lions Vocabulary of the English Language Word ...</td>\n",
       "    </tr>\n",
       "    <tr>\n",
       "      <th>1</th>\n",
       "      <td>D687756</td>\n",
       "      <td>.</td>\n",
       "      <td>The A Priori Argument ( also, Rationalization;...</td>\n",
       "    </tr>\n",
       "    <tr>\n",
       "      <th>2</th>\n",
       "      <td>D913099</td>\n",
       "      <td>Everything You Need To Learn How To Cook Veget...</td>\n",
       "      <td>Home &gt; How To Cook Vegetables Everything You N...</td>\n",
       "    </tr>\n",
       "    <tr>\n",
       "      <th>3</th>\n",
       "      <td>D328017</td>\n",
       "      <td>What is the difference between latitude, longi...</td>\n",
       "      <td>Longitude Latitude Geographic Coordinate Syste...</td>\n",
       "    </tr>\n",
       "    <tr>\n",
       "      <th>4</th>\n",
       "      <td>D1636347</td>\n",
       "      <td>When was the pulley invented?</td>\n",
       "      <td>Answers.com ® Wiki Answers ® Categories Techno...</td>\n",
       "    </tr>\n",
       "    <tr>\n",
       "      <th>...</th>\n",
       "      <td>...</td>\n",
       "      <td>...</td>\n",
       "      <td>...</td>\n",
       "    </tr>\n",
       "    <tr>\n",
       "      <th>92560</th>\n",
       "      <td>D3379210</td>\n",
       "      <td>Top 39 Doctor insights on: Can An Iud Cause Ha...</td>\n",
       "      <td>Top 39 Doctor insights on: Can An Iud Cause Ha...</td>\n",
       "    </tr>\n",
       "    <tr>\n",
       "      <th>92561</th>\n",
       "      <td>D3068739</td>\n",
       "      <td>How to get back your DirecTV cancellation fees</td>\n",
       "      <td>How to get back your Direc TV cancellation fee...</td>\n",
       "    </tr>\n",
       "    <tr>\n",
       "      <th>92562</th>\n",
       "      <td>D1590402</td>\n",
       "      <td>Certification FAQs</td>\n",
       "      <td>Fingerprinting 1. Where can I get fingerprinte...</td>\n",
       "    </tr>\n",
       "    <tr>\n",
       "      <th>92563</th>\n",
       "      <td>D2175490</td>\n",
       "      <td>Greenhouse gas emissions by Canadian economic ...</td>\n",
       "      <td>Access PDF (682 KB)In 2015, Canada's total gre...</td>\n",
       "    </tr>\n",
       "    <tr>\n",
       "      <th>92564</th>\n",
       "      <td>D2580062</td>\n",
       "      <td>QuickBooks Bill Pay</td>\n",
       "      <td>Quick Books Bill Pay Simplify your accounts pa...</td>\n",
       "    </tr>\n",
       "  </tbody>\n",
       "</table>\n",
       "<p>92565 rows × 3 columns</p>\n",
       "</div>"
      ],
      "text/plain": [
       "          docid                                              title  \\\n",
       "0      D2981241                 What do you call a group of lions?   \n",
       "1       D687756                                                  .   \n",
       "2       D913099  Everything You Need To Learn How To Cook Veget...   \n",
       "3       D328017  What is the difference between latitude, longi...   \n",
       "4      D1636347                      When was the pulley invented?   \n",
       "...         ...                                                ...   \n",
       "92560  D3379210  Top 39 Doctor insights on: Can An Iud Cause Ha...   \n",
       "92561  D3068739     How to get back your DirecTV cancellation fees   \n",
       "92562  D1590402                                 Certification FAQs   \n",
       "92563  D2175490  Greenhouse gas emissions by Canadian economic ...   \n",
       "92564  D2580062                                QuickBooks Bill Pay   \n",
       "\n",
       "                                                    body  \n",
       "0      Lions Vocabulary of the English Language Word ...  \n",
       "1      The A Priori Argument ( also, Rationalization;...  \n",
       "2      Home > How To Cook Vegetables Everything You N...  \n",
       "3      Longitude Latitude Geographic Coordinate Syste...  \n",
       "4      Answers.com ® Wiki Answers ® Categories Techno...  \n",
       "...                                                  ...  \n",
       "92560  Top 39 Doctor insights on: Can An Iud Cause Ha...  \n",
       "92561  How to get back your Direc TV cancellation fee...  \n",
       "92562  Fingerprinting 1. Where can I get fingerprinte...  \n",
       "92563  Access PDF (682 KB)In 2015, Canada's total gre...  \n",
       "92564  Quick Books Bill Pay Simplify your accounts pa...  \n",
       "\n",
       "[92565 rows x 3 columns]"
      ]
     },
     "execution_count": 3,
     "metadata": {},
     "output_type": "execute_result"
    },
    {
     "name": "stdout",
     "output_type": "stream",
     "text": [
      "time: 11.1 s (started: 2023-03-28 01:19:34 +02:00)\n"
     ]
    }
   ],
   "source": [
    "origdocs = pd.read_csv('our.msmarco.docs.tsv',sep='\\t',usecols=[1,2,3])\n",
    "origdocs['title'].fillna('-', inplace=True)\n",
    "origdocs['body'].fillna('-', inplace=True)\n",
    "origdocs"
   ]
  },
  {
   "cell_type": "code",
   "execution_count": 4,
   "id": "f9dcaf92",
   "metadata": {
    "execution": {
     "iopub.execute_input": "2023-03-25T18:28:46.177169Z",
     "iopub.status.busy": "2023-03-25T18:28:46.176719Z",
     "iopub.status.idle": "2023-03-25T18:28:46.185544Z",
     "shell.execute_reply": "2023-03-25T18:28:46.184028Z"
    },
    "papermill": {
     "duration": 0.035841,
     "end_time": "2023-03-25T18:28:46.188126",
     "exception": false,
     "start_time": "2023-03-25T18:28:46.152285",
     "status": "completed"
    },
    "tags": []
   },
   "outputs": [
    {
     "data": {
      "text/html": [
       "<div>\n",
       "<style scoped>\n",
       "    .dataframe tbody tr th:only-of-type {\n",
       "        vertical-align: middle;\n",
       "    }\n",
       "\n",
       "    .dataframe tbody tr th {\n",
       "        vertical-align: top;\n",
       "    }\n",
       "\n",
       "    .dataframe thead th {\n",
       "        text-align: right;\n",
       "    }\n",
       "</style>\n",
       "<table border=\"1\" class=\"dataframe\">\n",
       "  <thead>\n",
       "    <tr style=\"text-align: right;\">\n",
       "      <th></th>\n",
       "      <th>docid</th>\n",
       "      <th>text</th>\n",
       "    </tr>\n",
       "  </thead>\n",
       "  <tbody>\n",
       "    <tr>\n",
       "      <th>0</th>\n",
       "      <td>D2981241</td>\n",
       "      <td>What do you call a group of lions? Lions Vocab...</td>\n",
       "    </tr>\n",
       "    <tr>\n",
       "      <th>1</th>\n",
       "      <td>D687756</td>\n",
       "      <td>. The A Priori Argument ( also, Rationalizatio...</td>\n",
       "    </tr>\n",
       "    <tr>\n",
       "      <th>2</th>\n",
       "      <td>D913099</td>\n",
       "      <td>Everything You Need To Learn How To Cook Veget...</td>\n",
       "    </tr>\n",
       "    <tr>\n",
       "      <th>3</th>\n",
       "      <td>D328017</td>\n",
       "      <td>What is the difference between latitude, longi...</td>\n",
       "    </tr>\n",
       "    <tr>\n",
       "      <th>4</th>\n",
       "      <td>D1636347</td>\n",
       "      <td>When was the pulley invented? Answers.com ® Wi...</td>\n",
       "    </tr>\n",
       "    <tr>\n",
       "      <th>...</th>\n",
       "      <td>...</td>\n",
       "      <td>...</td>\n",
       "    </tr>\n",
       "    <tr>\n",
       "      <th>92560</th>\n",
       "      <td>D3379210</td>\n",
       "      <td>Top 39 Doctor insights on: Can An Iud Cause Ha...</td>\n",
       "    </tr>\n",
       "    <tr>\n",
       "      <th>92561</th>\n",
       "      <td>D3068739</td>\n",
       "      <td>How to get back your DirecTV cancellation fees...</td>\n",
       "    </tr>\n",
       "    <tr>\n",
       "      <th>92562</th>\n",
       "      <td>D1590402</td>\n",
       "      <td>Certification FAQs Fingerprinting 1. Where can...</td>\n",
       "    </tr>\n",
       "    <tr>\n",
       "      <th>92563</th>\n",
       "      <td>D2175490</td>\n",
       "      <td>Greenhouse gas emissions by Canadian economic ...</td>\n",
       "    </tr>\n",
       "    <tr>\n",
       "      <th>92564</th>\n",
       "      <td>D2580062</td>\n",
       "      <td>QuickBooks Bill Pay Quick Books Bill Pay Simpl...</td>\n",
       "    </tr>\n",
       "  </tbody>\n",
       "</table>\n",
       "<p>92565 rows × 2 columns</p>\n",
       "</div>"
      ],
      "text/plain": [
       "          docid                                               text\n",
       "0      D2981241  What do you call a group of lions? Lions Vocab...\n",
       "1       D687756  . The A Priori Argument ( also, Rationalizatio...\n",
       "2       D913099  Everything You Need To Learn How To Cook Veget...\n",
       "3       D328017  What is the difference between latitude, longi...\n",
       "4      D1636347  When was the pulley invented? Answers.com ® Wi...\n",
       "...         ...                                                ...\n",
       "92560  D3379210  Top 39 Doctor insights on: Can An Iud Cause Ha...\n",
       "92561  D3068739  How to get back your DirecTV cancellation fees...\n",
       "92562  D1590402  Certification FAQs Fingerprinting 1. Where can...\n",
       "92563  D2175490  Greenhouse gas emissions by Canadian economic ...\n",
       "92564  D2580062  QuickBooks Bill Pay Quick Books Bill Pay Simpl...\n",
       "\n",
       "[92565 rows x 2 columns]"
      ]
     },
     "execution_count": 4,
     "metadata": {},
     "output_type": "execute_result"
    },
    {
     "name": "stdout",
     "output_type": "stream",
     "text": [
      "time: 841 ms (started: 2023-03-28 01:21:10 +02:00)\n"
     ]
    }
   ],
   "source": [
    "docs = pd.DataFrame(columns = ['docid', 'text'])\n",
    "docs['docid']=origdocs.docid\n",
    "docs['text']=origdocs.title+' '+origdocs.body\n",
    "docs"
   ]
  },
  {
   "cell_type": "code",
   "execution_count": 5,
   "id": "fa50955b",
   "metadata": {},
   "outputs": [
    {
     "name": "stdout",
     "output_type": "stream",
     "text": [
      "time: 193 µs (started: 2023-03-28 01:21:13 +02:00)\n"
     ]
    }
   ],
   "source": [
    "del origdocs # saving memory"
   ]
  },
  {
   "cell_type": "code",
   "execution_count": null,
   "id": "db1ce32b",
   "metadata": {},
   "outputs": [],
   "source": [
    "docs.to_csv('our.text.msmarco.docs.tsv',sep='\\t', columns=['docid','text'])"
   ]
  },
  {
   "cell_type": "markdown",
   "id": "eb74c004",
   "metadata": {
    "_cell_guid": "095e9e9c-2d95-4bf5-b341-cb89c3087cbf",
    "_uuid": "286374f6-17dc-471f-86dd-5077bd0de49a",
    "papermill": {
     "duration": 0.022771,
     "end_time": "2023-03-25T18:28:46.234162",
     "exception": false,
     "start_time": "2023-03-25T18:28:46.211391",
     "status": "completed"
    },
    "tags": []
   },
   "source": [
    "## reading back in just for checking the files - or for restarting here"
   ]
  },
  {
   "cell_type": "code",
   "execution_count": 9,
   "id": "6625bfce",
   "metadata": {
    "_cell_guid": "41a68305-c58d-4b65-9bf4-629f882bc855",
    "_uuid": "a4a9a43b-082c-4ca2-8f91-c02d76ead6af",
    "collapsed": false,
    "execution": {
     "iopub.execute_input": "2023-03-25T18:29:04.798126Z",
     "iopub.status.busy": "2023-03-25T18:29:04.797251Z",
     "iopub.status.idle": "2023-03-25T18:29:04.804628Z",
     "shell.execute_reply": "2023-03-25T18:29:04.802759Z"
    },
    "jupyter": {
     "outputs_hidden": false
    },
    "papermill": {
     "duration": 0.034974,
     "end_time": "2023-03-25T18:29:04.807920",
     "exception": false,
     "start_time": "2023-03-25T18:29:04.772946",
     "status": "completed"
    },
    "tags": []
   },
   "outputs": [
    {
     "data": {
      "text/html": [
       "<div>\n",
       "<style scoped>\n",
       "    .dataframe tbody tr th:only-of-type {\n",
       "        vertical-align: middle;\n",
       "    }\n",
       "\n",
       "    .dataframe tbody tr th {\n",
       "        vertical-align: top;\n",
       "    }\n",
       "\n",
       "    .dataframe thead th {\n",
       "        text-align: right;\n",
       "    }\n",
       "</style>\n",
       "<table border=\"1\" class=\"dataframe\">\n",
       "  <thead>\n",
       "    <tr style=\"text-align: right;\">\n",
       "      <th></th>\n",
       "      <th>docid</th>\n",
       "      <th>text</th>\n",
       "    </tr>\n",
       "  </thead>\n",
       "  <tbody>\n",
       "    <tr>\n",
       "      <th>0</th>\n",
       "      <td>D2981241</td>\n",
       "      <td>What do you call a group of lions? Lions Vocab...</td>\n",
       "    </tr>\n",
       "    <tr>\n",
       "      <th>1</th>\n",
       "      <td>D687756</td>\n",
       "      <td>. The A Priori Argument ( also, Rationalizatio...</td>\n",
       "    </tr>\n",
       "    <tr>\n",
       "      <th>2</th>\n",
       "      <td>D913099</td>\n",
       "      <td>Everything You Need To Learn How To Cook Veget...</td>\n",
       "    </tr>\n",
       "    <tr>\n",
       "      <th>3</th>\n",
       "      <td>D328017</td>\n",
       "      <td>What is the difference between latitude, longi...</td>\n",
       "    </tr>\n",
       "    <tr>\n",
       "      <th>4</th>\n",
       "      <td>D1636347</td>\n",
       "      <td>When was the pulley invented? Answers.com ® Wi...</td>\n",
       "    </tr>\n",
       "    <tr>\n",
       "      <th>...</th>\n",
       "      <td>...</td>\n",
       "      <td>...</td>\n",
       "    </tr>\n",
       "    <tr>\n",
       "      <th>92560</th>\n",
       "      <td>D3379210</td>\n",
       "      <td>Top 39 Doctor insights on: Can An Iud Cause Ha...</td>\n",
       "    </tr>\n",
       "    <tr>\n",
       "      <th>92561</th>\n",
       "      <td>D3068739</td>\n",
       "      <td>How to get back your DirecTV cancellation fees...</td>\n",
       "    </tr>\n",
       "    <tr>\n",
       "      <th>92562</th>\n",
       "      <td>D1590402</td>\n",
       "      <td>Certification FAQs Fingerprinting 1. Where can...</td>\n",
       "    </tr>\n",
       "    <tr>\n",
       "      <th>92563</th>\n",
       "      <td>D2175490</td>\n",
       "      <td>Greenhouse gas emissions by Canadian economic ...</td>\n",
       "    </tr>\n",
       "    <tr>\n",
       "      <th>92564</th>\n",
       "      <td>D2580062</td>\n",
       "      <td>QuickBooks Bill Pay Quick Books Bill Pay Simpl...</td>\n",
       "    </tr>\n",
       "  </tbody>\n",
       "</table>\n",
       "<p>92565 rows × 2 columns</p>\n",
       "</div>"
      ],
      "text/plain": [
       "          docid                                               text\n",
       "0      D2981241  What do you call a group of lions? Lions Vocab...\n",
       "1       D687756  . The A Priori Argument ( also, Rationalizatio...\n",
       "2       D913099  Everything You Need To Learn How To Cook Veget...\n",
       "3       D328017  What is the difference between latitude, longi...\n",
       "4      D1636347  When was the pulley invented? Answers.com ® Wi...\n",
       "...         ...                                                ...\n",
       "92560  D3379210  Top 39 Doctor insights on: Can An Iud Cause Ha...\n",
       "92561  D3068739  How to get back your DirecTV cancellation fees...\n",
       "92562  D1590402  Certification FAQs Fingerprinting 1. Where can...\n",
       "92563  D2175490  Greenhouse gas emissions by Canadian economic ...\n",
       "92564  D2580062  QuickBooks Bill Pay Quick Books Bill Pay Simpl...\n",
       "\n",
       "[92565 rows x 2 columns]"
      ]
     },
     "execution_count": 9,
     "metadata": {},
     "output_type": "execute_result"
    },
    {
     "name": "stdout",
     "output_type": "stream",
     "text": [
      "time: 12.7 s (started: 2023-03-28 01:22:17 +02:00)\n"
     ]
    }
   ],
   "source": [
    "# this is a different doc, no longer distinguishing title and body\n",
    "docs = pd.read_csv('our.text.msmarco.docs.tsv',sep='\\t',usecols=[1,2]) \n",
    "docs"
   ]
  },
  {
   "cell_type": "code",
   "execution_count": 10,
   "id": "e0ba492c",
   "metadata": {
    "_cell_guid": "9af05597-63a8-45b0-9277-fa20e8ce9020",
    "_uuid": "b2cf0d98-35db-4803-8d07-f58e47041803",
    "collapsed": false,
    "execution": {
     "iopub.execute_input": "2023-03-25T18:29:42.909575Z",
     "iopub.status.busy": "2023-03-25T18:29:42.908958Z",
     "iopub.status.idle": "2023-03-25T18:29:42.958570Z",
     "shell.execute_reply": "2023-03-25T18:29:42.956791Z"
    },
    "jupyter": {
     "outputs_hidden": false
    },
    "papermill": {
     "duration": 0.078808,
     "end_time": "2023-03-25T18:29:42.962139",
     "exception": false,
     "start_time": "2023-03-25T18:29:42.883331",
     "status": "completed"
    },
    "tags": []
   },
   "outputs": [
    {
     "data": {
      "text/html": [
       "<div>\n",
       "<style scoped>\n",
       "    .dataframe tbody tr th:only-of-type {\n",
       "        vertical-align: middle;\n",
       "    }\n",
       "\n",
       "    .dataframe tbody tr th {\n",
       "        vertical-align: top;\n",
       "    }\n",
       "\n",
       "    .dataframe thead th {\n",
       "        text-align: right;\n",
       "    }\n",
       "</style>\n",
       "<table border=\"1\" class=\"dataframe\">\n",
       "  <thead>\n",
       "    <tr style=\"text-align: right;\">\n",
       "      <th></th>\n",
       "      <th>qid</th>\n",
       "      <th>query</th>\n",
       "    </tr>\n",
       "  </thead>\n",
       "  <tbody>\n",
       "    <tr>\n",
       "      <th>0</th>\n",
       "      <td>687888</td>\n",
       "      <td>what is a jpe</td>\n",
       "    </tr>\n",
       "    <tr>\n",
       "      <th>1</th>\n",
       "      <td>480210</td>\n",
       "      <td>price for asphalt driveway</td>\n",
       "    </tr>\n",
       "    <tr>\n",
       "      <th>2</th>\n",
       "      <td>591004</td>\n",
       "      <td>what causes pressure skin bruising</td>\n",
       "    </tr>\n",
       "    <tr>\n",
       "      <th>3</th>\n",
       "      <td>260536</td>\n",
       "      <td>how long drive from flagstaff to grand canyon</td>\n",
       "    </tr>\n",
       "    <tr>\n",
       "      <th>4</th>\n",
       "      <td>39422</td>\n",
       "      <td>average number of bowel movements per day for ...</td>\n",
       "    </tr>\n",
       "    <tr>\n",
       "      <th>...</th>\n",
       "      <td>...</td>\n",
       "      <td>...</td>\n",
       "    </tr>\n",
       "    <tr>\n",
       "      <th>495</th>\n",
       "      <td>133970</td>\n",
       "      <td>definition of dietary fiber</td>\n",
       "    </tr>\n",
       "    <tr>\n",
       "      <th>496</th>\n",
       "      <td>79788</td>\n",
       "      <td>can you start up a video record?</td>\n",
       "    </tr>\n",
       "    <tr>\n",
       "      <th>497</th>\n",
       "      <td>791583</td>\n",
       "      <td>what is rheumatoid spondylosis</td>\n",
       "    </tr>\n",
       "    <tr>\n",
       "      <th>498</th>\n",
       "      <td>732078</td>\n",
       "      <td>what is coleman fuel made out of</td>\n",
       "    </tr>\n",
       "    <tr>\n",
       "      <th>499</th>\n",
       "      <td>197098</td>\n",
       "      <td>greyhound phone number in sacramento ca</td>\n",
       "    </tr>\n",
       "  </tbody>\n",
       "</table>\n",
       "<p>500 rows × 2 columns</p>\n",
       "</div>"
      ],
      "text/plain": [
       "        qid                                              query\n",
       "0    687888                                      what is a jpe\n",
       "1    480210                         price for asphalt driveway\n",
       "2    591004                 what causes pressure skin bruising\n",
       "3    260536      how long drive from flagstaff to grand canyon\n",
       "4     39422  average number of bowel movements per day for ...\n",
       "..      ...                                                ...\n",
       "495  133970                        definition of dietary fiber\n",
       "496   79788                   can you start up a video record?\n",
       "497  791583                     what is rheumatoid spondylosis\n",
       "498  732078                   what is coleman fuel made out of\n",
       "499  197098            greyhound phone number in sacramento ca\n",
       "\n",
       "[500 rows x 2 columns]"
      ]
     },
     "execution_count": 10,
     "metadata": {},
     "output_type": "execute_result"
    },
    {
     "name": "stdout",
     "output_type": "stream",
     "text": [
      "time: 7.31 ms (started: 2023-03-28 01:22:36 +02:00)\n"
     ]
    }
   ],
   "source": [
    "# use only col 1 if you have memory problems and do BM25 only\n",
    "queries = pd.read_csv('./our.msmarco.queries.tsv',sep='\\t',usecols=[1,2]) \n",
    "training_queries=queries.iloc[:500]\n",
    "testing_queries=queries.iloc[500:]\n",
    "training_queries"
   ]
  },
  {
   "cell_type": "code",
   "execution_count": 11,
   "id": "e57f404e",
   "metadata": {
    "_cell_guid": "4660e6b6-212c-4a26-80d4-4290a95f4629",
    "_uuid": "15e54e0a-640c-4f6c-8da7-d2d120019adc",
    "collapsed": false,
    "execution": {
     "iopub.execute_input": "2023-03-25T18:29:43.011167Z",
     "iopub.status.busy": "2023-03-25T18:29:43.010369Z",
     "iopub.status.idle": "2023-03-25T18:29:43.270111Z",
     "shell.execute_reply": "2023-03-25T18:29:43.268787Z"
    },
    "jupyter": {
     "outputs_hidden": false
    },
    "papermill": {
     "duration": 0.287397,
     "end_time": "2023-03-25T18:29:43.272931",
     "exception": false,
     "start_time": "2023-03-25T18:29:42.985534",
     "status": "completed"
    },
    "tags": []
   },
   "outputs": [
    {
     "data": {
      "text/html": [
       "<div>\n",
       "<style scoped>\n",
       "    .dataframe tbody tr th:only-of-type {\n",
       "        vertical-align: middle;\n",
       "    }\n",
       "\n",
       "    .dataframe tbody tr th {\n",
       "        vertical-align: top;\n",
       "    }\n",
       "\n",
       "    .dataframe thead th {\n",
       "        text-align: right;\n",
       "    }\n",
       "</style>\n",
       "<table border=\"1\" class=\"dataframe\">\n",
       "  <thead>\n",
       "    <tr style=\"text-align: right;\">\n",
       "      <th></th>\n",
       "      <th>qid</th>\n",
       "      <th>docid</th>\n",
       "      <th>rank</th>\n",
       "      <th>score</th>\n",
       "    </tr>\n",
       "  </thead>\n",
       "  <tbody>\n",
       "    <tr>\n",
       "      <th>0</th>\n",
       "      <td>310290</td>\n",
       "      <td>D579750</td>\n",
       "      <td>1</td>\n",
       "      <td>-5.11498</td>\n",
       "    </tr>\n",
       "    <tr>\n",
       "      <th>1</th>\n",
       "      <td>310290</td>\n",
       "      <td>D579754</td>\n",
       "      <td>2</td>\n",
       "      <td>-5.57703</td>\n",
       "    </tr>\n",
       "    <tr>\n",
       "      <th>2</th>\n",
       "      <td>310290</td>\n",
       "      <td>D2380815</td>\n",
       "      <td>3</td>\n",
       "      <td>-5.84852</td>\n",
       "    </tr>\n",
       "    <tr>\n",
       "      <th>3</th>\n",
       "      <td>310290</td>\n",
       "      <td>D822566</td>\n",
       "      <td>4</td>\n",
       "      <td>-5.95002</td>\n",
       "    </tr>\n",
       "    <tr>\n",
       "      <th>4</th>\n",
       "      <td>310290</td>\n",
       "      <td>D2249695</td>\n",
       "      <td>5</td>\n",
       "      <td>-6.08326</td>\n",
       "    </tr>\n",
       "    <tr>\n",
       "      <th>...</th>\n",
       "      <td>...</td>\n",
       "      <td>...</td>\n",
       "      <td>...</td>\n",
       "      <td>...</td>\n",
       "    </tr>\n",
       "    <tr>\n",
       "      <th>99995</th>\n",
       "      <td>257942</td>\n",
       "      <td>D253854</td>\n",
       "      <td>96</td>\n",
       "      <td>-6.32693</td>\n",
       "    </tr>\n",
       "    <tr>\n",
       "      <th>99996</th>\n",
       "      <td>257942</td>\n",
       "      <td>D3056621</td>\n",
       "      <td>97</td>\n",
       "      <td>-6.32837</td>\n",
       "    </tr>\n",
       "    <tr>\n",
       "      <th>99997</th>\n",
       "      <td>257942</td>\n",
       "      <td>D1323491</td>\n",
       "      <td>98</td>\n",
       "      <td>-6.32871</td>\n",
       "    </tr>\n",
       "    <tr>\n",
       "      <th>99998</th>\n",
       "      <td>257942</td>\n",
       "      <td>D2722485</td>\n",
       "      <td>99</td>\n",
       "      <td>-6.33100</td>\n",
       "    </tr>\n",
       "    <tr>\n",
       "      <th>99999</th>\n",
       "      <td>257942</td>\n",
       "      <td>D2339077</td>\n",
       "      <td>100</td>\n",
       "      <td>-6.33441</td>\n",
       "    </tr>\n",
       "  </tbody>\n",
       "</table>\n",
       "<p>100000 rows × 4 columns</p>\n",
       "</div>"
      ],
      "text/plain": [
       "          qid     docid  rank    score\n",
       "0      310290   D579750     1 -5.11498\n",
       "1      310290   D579754     2 -5.57703\n",
       "2      310290  D2380815     3 -5.84852\n",
       "3      310290   D822566     4 -5.95002\n",
       "4      310290  D2249695     5 -6.08326\n",
       "...       ...       ...   ...      ...\n",
       "99995  257942   D253854    96 -6.32693\n",
       "99996  257942  D3056621    97 -6.32837\n",
       "99997  257942  D1323491    98 -6.32871\n",
       "99998  257942  D2722485    99 -6.33100\n",
       "99999  257942  D2339077   100 -6.33441\n",
       "\n",
       "[100000 rows x 4 columns]"
      ]
     },
     "execution_count": 11,
     "metadata": {},
     "output_type": "execute_result"
    },
    {
     "name": "stdout",
     "output_type": "stream",
     "text": [
      "time: 63.7 ms (started: 2023-03-28 01:22:40 +02:00)\n"
     ]
    }
   ],
   "source": [
    "gold = pd.read_csv('our.msmarco.gold.tsv',sep='\\t',usecols=[1,3,4,5])\n",
    "gold"
   ]
  },
  {
   "cell_type": "markdown",
   "id": "20b980ba",
   "metadata": {
    "_cell_guid": "da6f2051-99ee-44e9-89a9-6c12cb1d0855",
    "_uuid": "f004f71f-8411-446c-b743-0896313f7f47",
    "papermill": {
     "duration": 0.022584,
     "end_time": "2023-03-25T18:29:43.319437",
     "exception": false,
     "start_time": "2023-03-25T18:29:43.296853",
     "status": "completed"
    },
    "tags": []
   },
   "source": [
    "# redoing the vectorization for my two best results"
   ]
  },
  {
   "cell_type": "markdown",
   "id": "4e6257fa",
   "metadata": {
    "_cell_guid": "2a4f9ca7-1b64-4207-be6e-17be08af252a",
    "_uuid": "aab341f2-b7d8-4639-861f-763968e13e30",
    "papermill": {
     "duration": 0.02303,
     "end_time": "2023-03-25T18:29:43.366736",
     "exception": false,
     "start_time": "2023-03-25T18:29:43.343706",
     "status": "completed"
    },
    "tags": []
   },
   "source": [
    "### 🚧 todo:\n",
    "### choose TfidfVectorizer or BM25Okapi (or both if you got time)"
   ]
  },
  {
   "cell_type": "code",
   "execution_count": 12,
   "id": "a4a760c1",
   "metadata": {},
   "outputs": [
    {
     "name": "stdout",
     "output_type": "stream",
     "text": [
      "time: 565 µs (started: 2023-03-28 01:23:02 +02:00)\n"
     ]
    }
   ],
   "source": [
    "def pAt10(qid):\n",
    "    query = queries[queries.qid==qid]['query']\n",
    "    qv = vectorizer.transform(query)\n",
    "    xqv = X*qv.T\n",
    "    pred10i = np.argpartition(xqv.A.flat, -10)[-10:]\n",
    "    intersection = np.intersect1d(docs.loc[pred10i].docid,gold[gold.qid==qid].docid)\n",
    "    return len(intersection)/10"
   ]
  },
  {
   "cell_type": "code",
   "execution_count": 13,
   "id": "f3698d92",
   "metadata": {},
   "outputs": [
    {
     "name": "stdout",
     "output_type": "stream",
     "text": [
      "2067446 features, for example ['0highest' '0highs' '0highways' '0hihow' '0hill']\n"
     ]
    },
    {
     "data": {
      "application/vnd.jupyter.widget-view+json": {
       "model_id": "36cf776dab724119b4d376770a48923d",
       "version_major": 2,
       "version_minor": 0
      },
      "text/plain": [
       "  0%|          | 0/500 [00:00<?, ?it/s]"
      ]
     },
     "metadata": {},
     "output_type": "display_data"
    },
    {
     "data": {
      "text/plain": [
       "0.9348"
      ]
     },
     "execution_count": 13,
     "metadata": {},
     "output_type": "execute_result"
    },
    {
     "name": "stdout",
     "output_type": "stream",
     "text": [
      "time: 4min 47s (started: 2023-03-28 01:23:19 +02:00)\n"
     ]
    }
   ],
   "source": [
    "vectorizer = TfidfVectorizer(sublinear_tf=True, strip_accents='unicode')\n",
    "X = vectorizer.fit_transform(docs.text)\n",
    "print(len(vectorizer.get_feature_names_out()),'features, for example',vectorizer.get_feature_names_out()[44444:44449])\n",
    "tfidfresults = training_queries.qid.progress_apply(pAt10)\n",
    "tfidfresults.mean()"
   ]
  },
  {
   "cell_type": "markdown",
   "id": "00fd74e5",
   "metadata": {
    "_cell_guid": "ee24f12f-f6d8-4103-a569-9d0ffd5bf575",
    "_uuid": "0c4959a0-b8f0-4b01-9d6a-1b04e043b876",
    "papermill": {
     "duration": 0.023211,
     "end_time": "2023-03-25T18:33:35.304357",
     "exception": false,
     "start_time": "2023-03-25T18:33:35.281146",
     "status": "completed"
    },
    "tags": []
   },
   "source": [
    "# 🔎 manual error mining\n",
    "- let's look at where things go wrong\n",
    "\n",
    "### 🚧 todo:\n",
    "- what's the lowest p@10 we got\n",
    "- what's the 10 questions that got the worst score, from worst to slightly better?"
   ]
  },
  {
   "cell_type": "code",
   "execution_count": 14,
   "id": "ee95fb7e",
   "metadata": {
    "execution": {
     "iopub.execute_input": "2023-03-25T18:33:35.354284Z",
     "iopub.status.busy": "2023-03-25T18:33:35.353858Z",
     "iopub.status.idle": "2023-03-25T18:33:35.362996Z",
     "shell.execute_reply": "2023-03-25T18:33:35.361487Z"
    },
    "papermill": {
     "duration": 0.037329,
     "end_time": "2023-03-25T18:33:35.365899",
     "exception": false,
     "start_time": "2023-03-25T18:33:35.328570",
     "status": "completed"
    },
    "tags": []
   },
   "outputs": [
    {
     "data": {
      "text/plain": [
       "0.0"
      ]
     },
     "execution_count": 14,
     "metadata": {},
     "output_type": "execute_result"
    },
    {
     "name": "stdout",
     "output_type": "stream",
     "text": [
      "time: 3.4 ms (started: 2023-03-28 01:28:06 +02:00)\n"
     ]
    }
   ],
   "source": [
    "tfidfresults.min()"
   ]
  },
  {
   "cell_type": "code",
   "execution_count": 15,
   "id": "ac48dce8",
   "metadata": {
    "_cell_guid": "4384f3d5-e732-4c46-a3a5-97fc05768181",
    "_uuid": "74857d13-4614-4ba0-beaa-835e263ed33f",
    "collapsed": false,
    "execution": {
     "iopub.execute_input": "2023-03-25T18:33:35.416978Z",
     "iopub.status.busy": "2023-03-25T18:33:35.416520Z",
     "iopub.status.idle": "2023-03-25T18:33:35.425265Z",
     "shell.execute_reply": "2023-03-25T18:33:35.423919Z"
    },
    "jupyter": {
     "outputs_hidden": false
    },
    "papermill": {
     "duration": 0.037755,
     "end_time": "2023-03-25T18:33:35.427807",
     "exception": false,
     "start_time": "2023-03-25T18:33:35.390052",
     "status": "completed"
    },
    "tags": []
   },
   "outputs": [
    {
     "data": {
      "text/plain": [
       "0    285\n",
       "1    172\n",
       "2     65\n",
       "3     37\n",
       "4    270\n",
       "5    256\n",
       "6    335\n",
       "7    300\n",
       "8     21\n",
       "9     92\n",
       "Name: qid, dtype: int64"
      ]
     },
     "execution_count": 15,
     "metadata": {},
     "output_type": "execute_result"
    },
    {
     "name": "stdout",
     "output_type": "stream",
     "text": [
      "time: 12.4 ms (started: 2023-03-28 01:28:06 +02:00)\n"
     ]
    }
   ],
   "source": [
    "worst10bm25i = tfidfresults.argsort()[:10]\n",
    "worst10bm25i"
   ]
  },
  {
   "cell_type": "code",
   "execution_count": 16,
   "id": "83500b9a",
   "metadata": {
    "_cell_guid": "caa1a5c9-f0d2-4677-99d0-52b847840bf2",
    "_uuid": "e2056f09-d26c-4278-a791-1c9d6535a20b",
    "collapsed": false,
    "execution": {
     "iopub.execute_input": "2023-03-25T18:33:35.479582Z",
     "iopub.status.busy": "2023-03-25T18:33:35.478352Z",
     "iopub.status.idle": "2023-03-25T18:33:35.495008Z",
     "shell.execute_reply": "2023-03-25T18:33:35.493598Z"
    },
    "jupyter": {
     "outputs_hidden": false
    },
    "papermill": {
     "duration": 0.045536,
     "end_time": "2023-03-25T18:33:35.498202",
     "exception": false,
     "start_time": "2023-03-25T18:33:35.452666",
     "status": "completed"
    },
    "tags": []
   },
   "outputs": [
    {
     "data": {
      "text/html": [
       "<div>\n",
       "<style scoped>\n",
       "    .dataframe tbody tr th:only-of-type {\n",
       "        vertical-align: middle;\n",
       "    }\n",
       "\n",
       "    .dataframe tbody tr th {\n",
       "        vertical-align: top;\n",
       "    }\n",
       "\n",
       "    .dataframe thead th {\n",
       "        text-align: right;\n",
       "    }\n",
       "</style>\n",
       "<table border=\"1\" class=\"dataframe\">\n",
       "  <thead>\n",
       "    <tr style=\"text-align: right;\">\n",
       "      <th></th>\n",
       "      <th>qid</th>\n",
       "      <th>query</th>\n",
       "    </tr>\n",
       "  </thead>\n",
       "  <tbody>\n",
       "    <tr>\n",
       "      <th>285</th>\n",
       "      <td>127145</td>\n",
       "      <td>define skin doctor</td>\n",
       "    </tr>\n",
       "    <tr>\n",
       "      <th>172</th>\n",
       "      <td>729561</td>\n",
       "      <td>what is channeling</td>\n",
       "    </tr>\n",
       "    <tr>\n",
       "      <th>65</th>\n",
       "      <td>71027</td>\n",
       "      <td>can lyme disease cause coughing</td>\n",
       "    </tr>\n",
       "    <tr>\n",
       "      <th>37</th>\n",
       "      <td>417380</td>\n",
       "      <td>is mark applier?</td>\n",
       "    </tr>\n",
       "    <tr>\n",
       "      <th>270</th>\n",
       "      <td>424296</td>\n",
       "      <td>is spain bigger than italy</td>\n",
       "    </tr>\n",
       "    <tr>\n",
       "      <th>256</th>\n",
       "      <td>99399</td>\n",
       "      <td>cooking time for roasted beef short ribs</td>\n",
       "    </tr>\n",
       "    <tr>\n",
       "      <th>335</th>\n",
       "      <td>850892</td>\n",
       "      <td>what is the the bug std</td>\n",
       "    </tr>\n",
       "    <tr>\n",
       "      <th>300</th>\n",
       "      <td>903134</td>\n",
       "      <td>what tests or procedures do they have for chec...</td>\n",
       "    </tr>\n",
       "    <tr>\n",
       "      <th>21</th>\n",
       "      <td>1049686</td>\n",
       "      <td>who sang almost paradise</td>\n",
       "    </tr>\n",
       "    <tr>\n",
       "      <th>92</th>\n",
       "      <td>393188</td>\n",
       "      <td>in a democracy the idea of the consent of the ...</td>\n",
       "    </tr>\n",
       "  </tbody>\n",
       "</table>\n",
       "</div>"
      ],
      "text/plain": [
       "         qid                                              query\n",
       "285   127145                                 define skin doctor\n",
       "172   729561                                 what is channeling\n",
       "65     71027                    can lyme disease cause coughing\n",
       "37    417380                                   is mark applier?\n",
       "270   424296                         is spain bigger than italy\n",
       "256    99399           cooking time for roasted beef short ribs\n",
       "335   850892                            what is the the bug std\n",
       "300   903134  what tests or procedures do they have for chec...\n",
       "21   1049686                           who sang almost paradise\n",
       "92    393188  in a democracy the idea of the consent of the ..."
      ]
     },
     "execution_count": 16,
     "metadata": {},
     "output_type": "execute_result"
    },
    {
     "name": "stdout",
     "output_type": "stream",
     "text": [
      "time: 6.43 ms (started: 2023-03-28 01:28:06 +02:00)\n"
     ]
    }
   ],
   "source": [
    "training_queries.loc[worst10bm25i]"
   ]
  },
  {
   "cell_type": "markdown",
   "id": "94e375e9",
   "metadata": {
    "_cell_guid": "6d941275-30d6-4b0e-a443-b88dfcf469e6",
    "_uuid": "bcf856cd-5bd2-40d5-9713-532df4245f8d",
    "papermill": {
     "duration": 0.024114,
     "end_time": "2023-03-25T18:33:35.546876",
     "exception": false,
     "start_time": "2023-03-25T18:33:35.522762",
     "status": "completed"
    },
    "tags": []
   },
   "source": [
    "### 🚧 todo:\n",
    "- write a function showDoc that takes qid, rank, and predicted as parameters\n",
    "    - if predicted=True, shows the predicted doc of rank rank to the query qid\n",
    "    - if predicted=False, shows the gold doc\n",
    "    - prints the first 999 characters of the texts\n",
    "- for the worst query\n",
    "    - look at the 10 best gold vs 10 best predicted \n",
    "    - hypothetize why the results are so bad for the worst query"
   ]
  },
  {
   "cell_type": "code",
   "execution_count": 84,
   "id": "d2eed084",
   "metadata": {
    "_cell_guid": "ae058d1d-c09f-48ab-b405-de8c9352c298",
    "_uuid": "55f1c4e5-d819-4900-97a4-b322c5ed4f1e",
    "collapsed": false,
    "execution": {
     "iopub.execute_input": "2023-03-25T18:33:35.598332Z",
     "iopub.status.busy": "2023-03-25T18:33:35.597859Z",
     "iopub.status.idle": "2023-03-25T18:33:36.551595Z",
     "shell.execute_reply": "2023-03-25T18:33:36.550093Z"
    },
    "jupyter": {
     "outputs_hidden": false
    },
    "papermill": {
     "duration": 0.982872,
     "end_time": "2023-03-25T18:33:36.554561",
     "exception": false,
     "start_time": "2023-03-25T18:33:35.571689",
     "status": "completed"
    },
    "tags": []
   },
   "outputs": [
    {
     "name": "stdout",
     "output_type": "stream",
     "text": [
      "What Channel Is Boomerang? Jerryt26 322 Contributions What Channel Is Boomerang? It depends on what Cable TV company or Satellite TV company you have. On Dish Network, Boomerang is on channel 175. Edit What channel is Discovery Channel on if you have Comcast?32Edit What channel is the tennis channel on Comcast? 735Edit What channel is the music channel on comcast? It is 401-446Edit Ryf4165 114 Contributions What channel is the weather channel on when you have comcast?i like channel 12 but there's 11 too. Although a lot of channels offer some weather, the weather channel is 32. Edit What channel is the outdoor channel when you have comcast? Com Cast doesn't have outdoor channel Edit What channel will the cooking channel be on comcast?channel 122Edit What comcast channel is the food channel on? It's on channel 72 only in Orlando, Florida Edit Ms WWEViper 88 Contributions Which channel is Disney channel for comcast? Channel 50 ! **EDIT** Who ever posted that is totally wrong! It is 33 fo\n",
      "time: 215 ms (started: 2023-03-28 02:55:00 +02:00)\n"
     ]
    }
   ],
   "source": [
    "qv = vectorizer.transform(training_queries['query'])\n",
    "\n",
    "def showDoc(qid, rank, predicted=False):\n",
    "    if predicted:\n",
    "        q_pos = queries[queries['qid']==qid].index[0]\n",
    "    else:\n",
    "        doc_id= gold.loc[(gold['qid']==qid)&(gold['rank']==rank)]['docid'].values[0]\n",
    "        print(docs[docs['docid']==doc_id]['text'].values[0][:999])\n",
    "        \n",
    "showDoc(729561,7)\n",
    "showDoc(729561,7, predicted=True)"
   ]
  },
  {
   "cell_type": "markdown",
   "id": "4e5e3fee",
   "metadata": {
    "_cell_guid": "3d263a98-f834-4e91-b2b1-43107f46e960",
    "_uuid": "7aed0e89-7093-4157-bb07-acc5a1db1b29",
    "papermill": {
     "duration": 0.025786,
     "end_time": "2023-03-25T18:33:39.705738",
     "exception": false,
     "start_time": "2023-03-25T18:33:39.679952",
     "status": "completed"
    },
    "tags": []
   },
   "source": [
    "### 🚧 todo: can we characterize these difficult cases?\n",
    "- do they have specicific problems?\n",
    "- do we know when we are doing badly?\n",
    "    - are the distances between query vector and the best documents bigger than average?"
   ]
  },
  {
   "attachments": {},
   "cell_type": "markdown",
   "id": "3bd3772c",
   "metadata": {},
   "source": [
    "<font color=orange>\n",
    "Firstly, there is a spelling mistake \"endolymphatic\" in the query itself. This word is already quite uncommon and with the error, it is unlikely to appear anywhere else. To retrieve the relevant documents for this query, a more algorithm hat takes into account possible spelling mistakes is required. Therefore, the gold label is not very useful, as it matches documents that have the words \"system\" or \"what\" appearing many times. As for the predictions, they seem to be completely unrelated to the query, with very few common words within the first 999 characters. The query scores 0 for all documents, so getting the top 10 scoring documents doesn't make sense and we are essentially retrieving random documents from the dataset.\n",
    "<font>"
   ]
  },
  {
   "cell_type": "markdown",
   "id": "eae4c79a",
   "metadata": {
    "_cell_guid": "02ce0a5e-1fe1-4110-8e1e-5539ef65952a",
    "_uuid": "6246381b-df8c-4fd4-8762-e2a1db0b1122",
    "papermill": {
     "duration": 0.026318,
     "end_time": "2023-03-25T18:33:41.248552",
     "exception": false,
     "start_time": "2023-03-25T18:33:41.222234",
     "status": "completed"
    },
    "tags": []
   },
   "source": [
    "# 🚀 spacy\n",
    "\n",
    "- look at https://github.com/explosion/sense2vec/blob/master/README.md"
   ]
  },
  {
   "cell_type": "code",
   "execution_count": 25,
   "id": "645b6dcb",
   "metadata": {
    "_cell_guid": "b3cb4be6-c3fe-4a65-bcc2-3bd48b41f9aa",
    "_uuid": "27fe6b0b-d640-4d53-9df9-6bb6b0d34911",
    "collapsed": false,
    "execution": {
     "iopub.execute_input": "2023-03-25T18:33:41.302675Z",
     "iopub.status.busy": "2023-03-25T18:33:41.302221Z",
     "iopub.status.idle": "2023-03-25T18:33:46.046499Z",
     "shell.execute_reply": "2023-03-25T18:33:46.045143Z"
    },
    "jupyter": {
     "outputs_hidden": false
    },
    "papermill": {
     "duration": 4.774242,
     "end_time": "2023-03-25T18:33:46.048918",
     "exception": false,
     "start_time": "2023-03-25T18:33:41.274676",
     "status": "completed"
    },
    "tags": []
   },
   "outputs": [
    {
     "name": "stdout",
     "output_type": "stream",
     "text": [
      "time: 406 ms (started: 2023-03-28 01:33:50 +02:00)\n"
     ]
    }
   ],
   "source": [
    "import en_core_web_sm\n",
    "nlp = en_core_web_sm.load()"
   ]
  },
  {
   "cell_type": "markdown",
   "id": "1893dc0c",
   "metadata": {
    "_cell_guid": "e3cc11ea-0069-4c32-97e9-bfc2821ff16c",
    "_uuid": "0adc6ce2-475c-4e1b-a319-0dfae42c520e",
    "papermill": {
     "duration": 0.026094,
     "end_time": "2023-03-25T18:33:46.102111",
     "exception": false,
     "start_time": "2023-03-25T18:33:46.076017",
     "status": "completed"
    },
    "tags": []
   },
   "source": [
    "### 🚧 todo:\n",
    "- explain what's going on here:"
   ]
  },
  {
   "cell_type": "code",
   "execution_count": 26,
   "id": "a16fe6c8",
   "metadata": {
    "_cell_guid": "b7bcbf63-c408-4e26-8c66-0e67158c07b9",
    "_uuid": "d6bf4ac7-392e-46ff-bb50-a54dd6bbc20b",
    "collapsed": false,
    "execution": {
     "iopub.execute_input": "2023-03-25T18:33:46.157353Z",
     "iopub.status.busy": "2023-03-25T18:33:46.156669Z",
     "iopub.status.idle": "2023-03-25T18:33:46.211348Z",
     "shell.execute_reply": "2023-03-25T18:33:46.209999Z"
    },
    "jupyter": {
     "outputs_hidden": false
    },
    "papermill": {
     "duration": 0.085675,
     "end_time": "2023-03-25T18:33:46.214591",
     "exception": false,
     "start_time": "2023-03-25T18:33:46.128916",
     "status": "completed"
    },
    "tags": []
   },
   "outputs": [
    {
     "name": "stderr",
     "output_type": "stream",
     "text": [
      "/var/folders/67/398kj6w97qd5336d3vvgf8b40000gn/T/ipykernel_4954/179102214.py:4: UserWarning: [W007] The model you're using has no word vectors loaded, so the result of the Doc.similarity method will be based on the tagger, parser and NER, which may not give useful similarity judgements. This may happen if you're using one of the small models, e.g. `en_core_web_sm`, which don't ship with word vectors and only use context-sensitive tensors. You can always add your own word vectors, or use one of the larger models instead if available.\n",
      "  sent1.similarity(sent2), sent1.similarity(sent3)\n"
     ]
    },
    {
     "data": {
      "text/plain": [
       "(0.9059779715129435, 0.9063014419270309)"
      ]
     },
     "execution_count": 26,
     "metadata": {},
     "output_type": "execute_result"
    },
    {
     "name": "stdout",
     "output_type": "stream",
     "text": [
      "time: 20.2 ms (started: 2023-03-28 01:33:52 +02:00)\n"
     ]
    }
   ],
   "source": [
    "sent1 = nlp(\"I am happy\")\n",
    "sent2 = nlp(\"I am sad\")\n",
    "sent3 = nlp(\"I am joyful\")\n",
    "sent1.similarity(sent2), sent1.similarity(sent3)"
   ]
  },
  {
   "attachments": {},
   "cell_type": "markdown",
   "id": "80eade8c",
   "metadata": {},
   "source": [
    "<font color = orange>\n",
    "The similarity score between two sentences is determined by analyzing the number of times words appear together in a text, which generates vector embeddings. Words that are related in meaning, such as \"happy\" and \"joyful,\" are likely to appear in similar contexts and have higher similarity scores. However, even words that are opposite in meaning, such as \"happy\" and \"sad,\" can have high similarity scores if they are commonly associated with similar words and phrases, such as \"heart,\" \"feel,\" and \"emotion.\"\n",
    "<font>"
   ]
  },
  {
   "cell_type": "markdown",
   "id": "f56dbf6f",
   "metadata": {
    "_cell_guid": "5c50ccd0-09cc-4b38-a715-d6fd765c221e",
    "_uuid": "28bf14af-84dd-4c17-abe3-c510c6906ae9",
    "papermill": {
     "duration": 0.026489,
     "end_time": "2023-03-25T18:33:46.386853",
     "exception": false,
     "start_time": "2023-03-25T18:33:46.360364",
     "status": "completed"
    },
    "tags": []
   },
   "source": [
    "### let's try sense2vec"
   ]
  },
  {
   "cell_type": "markdown",
   "id": "8083baca",
   "metadata": {
    "_cell_guid": "ba9ab5b0-774b-4cdc-941c-3bd25e03e690",
    "_uuid": "6ffe552c-82f7-423b-9228-78eab05a905f",
    "papermill": {
     "duration": 0.025983,
     "end_time": "2023-03-25T18:33:46.439363",
     "exception": false,
     "start_time": "2023-03-25T18:33:46.413380",
     "status": "completed"
    },
    "tags": []
   },
   "source": [
    "- depending on your machine, download one of the two versions of sense2vec from https://github.com/explosion/sense2vec/blob/master/README.md\n",
    "  - s2v_reddit_2019_lg \t4 GB \tReddit comments 2019 (01-07) \tpart 1, part 2, part 3\n",
    "      - cat s2v_reddit_2019_lg.tar.gz.* > s2v_reddit_2019_lg.tar.gz\n",
    "  - s2v_reddit_2015_md \t573 MB \tReddit comments 2015 \tpart 1\n",
    "- unzip\n",
    "- try it, and understand what's going on:"
   ]
  },
  {
   "cell_type": "code",
   "execution_count": 32,
   "id": "97375157",
   "metadata": {},
   "outputs": [
    {
     "name": "stdout",
     "output_type": "stream",
     "text": [
      "time: 2.23 s (started: 2023-03-28 01:55:29 +02:00)\n"
     ]
    }
   ],
   "source": [
    "# ! cat ./s2v_reddit_2019_lg.tar.gz.* > s2v_reddit_2019_lg.tar.gz"
   ]
  },
  {
   "cell_type": "code",
   "execution_count": 33,
   "id": "38bc80b8",
   "metadata": {
    "_cell_guid": "0e17a40f-22c0-4df9-9637-738a5bfefcfe",
    "_uuid": "db805b9d-a090-4dfa-8f8e-b7e12160748c",
    "collapsed": false,
    "execution": {
     "iopub.execute_input": "2023-03-25T18:36:50.389641Z",
     "iopub.status.busy": "2023-03-25T18:36:50.389104Z",
     "iopub.status.idle": "2023-03-25T18:37:19.064882Z",
     "shell.execute_reply": "2023-03-25T18:37:19.061651Z"
    },
    "jupyter": {
     "outputs_hidden": false
    },
    "papermill": {
     "duration": 28.739329,
     "end_time": "2023-03-25T18:37:19.069871",
     "exception": false,
     "start_time": "2023-03-25T18:36:50.330542",
     "status": "completed"
    },
    "tags": []
   },
   "outputs": [
    {
     "name": "stdout",
     "output_type": "stream",
     "text": [
      "time: 14 s (started: 2023-03-28 01:56:24 +02:00)\n"
     ]
    }
   ],
   "source": [
    "s2v = Sense2Vec().from_disk(\"./s2v_reddit_2019_lg\")"
   ]
  },
  {
   "cell_type": "code",
   "execution_count": 34,
   "id": "5550f2fc",
   "metadata": {
    "_cell_guid": "1f937a76-2d27-462e-87ec-ea24e06886f5",
    "_uuid": "489b2743-5c7d-4954-a37e-29bc739672c6",
    "collapsed": false,
    "execution": {
     "iopub.execute_input": "2023-03-25T18:37:19.206814Z",
     "iopub.status.busy": "2023-03-25T18:37:19.206369Z",
     "iopub.status.idle": "2023-03-25T18:37:19.222577Z",
     "shell.execute_reply": "2023-03-25T18:37:19.220756Z"
    },
    "jupyter": {
     "outputs_hidden": false
    },
    "papermill": {
     "duration": 0.083776,
     "end_time": "2023-03-25T18:37:19.227521",
     "exception": false,
     "start_time": "2023-03-25T18:37:19.143745",
     "status": "completed"
    },
    "tags": []
   },
   "outputs": [
    {
     "data": {
      "text/plain": [
       "['natural_language_processing|NOUN',\n",
       " 'machine_learning|NOUN',\n",
       " 'artificial_intelligence|NOUN']"
      ]
     },
     "execution_count": 34,
     "metadata": {},
     "output_type": "execute_result"
    },
    {
     "name": "stdout",
     "output_type": "stream",
     "text": [
      "time: 7.69 ms (started: 2023-03-28 01:56:50 +02:00)\n"
     ]
    }
   ],
   "source": [
    "seeds = \"natural language processing, machine learning, artificial intelligence\".split(',')\n",
    "seed_keys = [s2v.get_best_sense(seed.strip()) for seed in seeds]\n",
    "seed_keys"
   ]
  },
  {
   "cell_type": "code",
   "execution_count": 35,
   "id": "52a68ccb",
   "metadata": {
    "_cell_guid": "3df4ce24-63a7-41f4-97d5-4032b7801602",
    "_uuid": "44027ea5-3441-49b8-9a86-74fa7cb4dc85",
    "collapsed": false,
    "execution": {
     "iopub.execute_input": "2023-03-25T18:37:19.346512Z",
     "iopub.status.busy": "2023-03-25T18:37:19.346044Z",
     "iopub.status.idle": "2023-03-25T18:37:42.029483Z",
     "shell.execute_reply": "2023-03-25T18:37:42.027333Z"
    },
    "jupyter": {
     "outputs_hidden": false
    },
    "papermill": {
     "duration": 22.745813,
     "end_time": "2023-03-25T18:37:42.033153",
     "exception": false,
     "start_time": "2023-03-25T18:37:19.287340",
     "status": "completed"
    },
    "tags": []
   },
   "outputs": [
    {
     "data": {
      "text/plain": [
       "[('deep_learning|NOUN', 0.832),\n",
       " ('Machine_Learning|ORG', 0.818),\n",
       " ('computer_vision|NOUN', 0.8114),\n",
       " ('neural_networks|NOUN', 0.798),\n",
       " ('Machine_learning|NOUN', 0.7933),\n",
       " ('big_data|NOUN', 0.7931),\n",
       " ('machine_learning_algorithms|NOUN', 0.7915),\n",
       " ('Artificial_Intelligence|ORG', 0.774),\n",
       " ('deep_reinforcement_learning|NOUN', 0.7715),\n",
       " ('neural_nets|NOUN', 0.7642)]"
      ]
     },
     "execution_count": 35,
     "metadata": {},
     "output_type": "execute_result"
    },
    {
     "name": "stdout",
     "output_type": "stream",
     "text": [
      "time: 20.6 s (started: 2023-03-28 01:57:00 +02:00)\n"
     ]
    }
   ],
   "source": [
    "most_similar = s2v.most_similar(seed_keys, n=10)\n",
    "most_similar"
   ]
  },
  {
   "attachments": {},
   "cell_type": "markdown",
   "id": "4278a22a",
   "metadata": {
    "_cell_guid": "858ebdff-7519-4fb9-b79b-9bbb1cfb57b2",
    "_uuid": "c4c11aa7-b9e6-496d-b23e-ab4e0cc130c0",
    "papermill": {
     "duration": 0.065152,
     "end_time": "2023-03-25T18:37:42.156971",
     "exception": false,
     "start_time": "2023-03-25T18:37:42.091819",
     "status": "completed"
    },
    "tags": []
   },
   "source": [
    "### 🚧 todo: what is it that you couldn't do in Word2Vec?\n",
    "- just one line of answer.\n",
    "- answer: We cannot capture multi-word phrases or expressions as a single unit."
   ]
  },
  {
   "cell_type": "markdown",
   "id": "904d5e24",
   "metadata": {
    "_cell_guid": "c70d88dc-1886-4c58-a4e1-da3bbc103028",
    "_uuid": "935d1c0a-8f6f-4e83-b3c9-1dad85651f89",
    "papermill": {
     "duration": 0.059339,
     "end_time": "2023-03-25T18:37:42.285111",
     "exception": false,
     "start_time": "2023-03-25T18:37:42.225772",
     "status": "completed"
    },
    "tags": []
   },
   "source": [
    "- most_similar is very slow. check this to speed things up (optional): https://towardsdatascience.com/how-to-build-a-fast-most-similar-words-method-in-spacy-32ed104fe498\n",
    "### 🚧 todo:\n",
    "- try also the following functions: \n",
    "    - similarity, get_other_senses, get_freq, s2v[query]"
   ]
  },
  {
   "cell_type": "code",
   "execution_count": 37,
   "id": "95404caf",
   "metadata": {
    "_cell_guid": "04072fe1-afcf-48dc-9716-effa610fda06",
    "_uuid": "bbb38283-4aa6-49e8-b0e6-9a63d171dc4e",
    "collapsed": false,
    "execution": {
     "iopub.execute_input": "2023-03-25T18:37:42.410472Z",
     "iopub.status.busy": "2023-03-25T18:37:42.409966Z",
     "iopub.status.idle": "2023-03-25T18:37:42.424241Z",
     "shell.execute_reply": "2023-03-25T18:37:42.422470Z"
    },
    "jupyter": {
     "outputs_hidden": false
    },
    "papermill": {
     "duration": 0.080199,
     "end_time": "2023-03-25T18:37:42.427565",
     "exception": false,
     "start_time": "2023-03-25T18:37:42.347366",
     "status": "completed"
    },
    "tags": []
   },
   "outputs": [
    {
     "data": {
      "text/plain": [
       "0.1635851"
      ]
     },
     "execution_count": 37,
     "metadata": {},
     "output_type": "execute_result"
    },
    {
     "name": "stdout",
     "output_type": "stream",
     "text": [
      "time: 44.2 ms (started: 2023-03-28 01:58:39 +02:00)\n"
     ]
    }
   ],
   "source": [
    "s2v.similarity(s2v.get_best_sense('hot dog'), s2v.get_best_sense('white snow'))"
   ]
  },
  {
   "cell_type": "code",
   "execution_count": 41,
   "id": "2138c237",
   "metadata": {
    "execution": {
     "iopub.execute_input": "2023-03-25T18:37:42.550180Z",
     "iopub.status.busy": "2023-03-25T18:37:42.549148Z",
     "iopub.status.idle": "2023-03-25T18:37:42.621204Z",
     "shell.execute_reply": "2023-03-25T18:37:42.619514Z"
    },
    "papermill": {
     "duration": 0.137262,
     "end_time": "2023-03-25T18:37:42.624377",
     "exception": false,
     "start_time": "2023-03-25T18:37:42.487115",
     "status": "completed"
    },
    "tags": []
   },
   "outputs": [
    {
     "data": {
      "text/plain": [
       "['Hot_Dog|EVENT', 'Hot_Dog|PROPN', 'hot_dog|PROPN']"
      ]
     },
     "execution_count": 41,
     "metadata": {},
     "output_type": "execute_result"
    },
    {
     "name": "stdout",
     "output_type": "stream",
     "text": [
      "time: 2.22 ms (started: 2023-03-28 02:00:46 +02:00)\n"
     ]
    }
   ],
   "source": [
    "s2v.get_other_senses(s2v.get_best_sense('hot dog'))"
   ]
  },
  {
   "cell_type": "code",
   "execution_count": 42,
   "id": "c37f2319",
   "metadata": {},
   "outputs": [
    {
     "data": {
      "text/plain": [
       "22276"
      ]
     },
     "execution_count": 42,
     "metadata": {},
     "output_type": "execute_result"
    },
    {
     "name": "stdout",
     "output_type": "stream",
     "text": [
      "time: 2.08 ms (started: 2023-03-28 02:01:35 +02:00)\n"
     ]
    }
   ],
   "source": [
    "s2v.get_freq(s2v.get_best_sense('hot dog'))"
   ]
  },
  {
   "cell_type": "code",
   "execution_count": 45,
   "id": "050abe9b",
   "metadata": {},
   "outputs": [
    {
     "data": {
      "text/plain": [
       "array([ 2.3108e-01, -1.9360e-01, -1.7003e-01,  9.8480e-02,  5.1809e-02,\n",
       "       -7.0313e-02,  1.1311e-01, -1.1817e-01, -1.9109e-01,  2.0811e-01,\n",
       "       -7.4227e-02,  1.5543e-02,  2.5959e-01, -3.0133e-02,  1.6546e-01,\n",
       "        3.1536e-01, -1.8114e-01, -7.5966e-02,  2.0037e-02,  2.1310e-01,\n",
       "       -3.0050e-01, -1.4920e-02, -5.6571e-02,  9.6602e-02,  2.0127e-02,\n",
       "       -3.0549e-01, -9.1782e-02,  2.6700e-01, -1.2370e-01,  3.5850e-01,\n",
       "       -1.1671e-01,  8.1833e-02,  8.4239e-02,  1.4250e-01, -2.1132e-01,\n",
       "       -2.1688e-01,  3.2394e-01, -1.7889e-01,  1.3094e-01, -1.3539e-01,\n",
       "        5.1521e-01, -1.5152e-02,  2.2745e-01,  1.6857e-02,  1.0836e-01,\n",
       "       -4.7195e-02,  4.4912e-03,  3.7202e-02,  7.1748e-02,  3.6461e-01,\n",
       "        3.0984e-01, -2.5067e-01,  9.8961e-02,  1.3698e-01, -1.8832e-01,\n",
       "        3.6232e-01,  1.2284e-01, -2.5241e-01,  5.0017e-01, -1.4389e-01,\n",
       "       -9.4602e-02,  1.8595e-01, -1.1870e-02, -1.1623e-01,  1.6984e-01,\n",
       "        4.7125e-02, -1.1045e-01, -4.8309e-04, -6.8791e-02, -1.3699e-01,\n",
       "        2.0219e-01, -2.0388e-01,  3.5273e-02,  5.8538e-02, -1.6571e-01,\n",
       "        2.4367e-01, -3.9038e-02,  2.2079e-01, -2.0482e-01,  2.4022e-01,\n",
       "       -3.2308e-01,  5.9482e-02,  4.3036e-01, -3.7427e-02,  1.8391e-01,\n",
       "       -1.2185e-01,  5.6800e-02,  1.0564e-01,  1.0901e-01,  1.7261e-01,\n",
       "       -2.4910e-02,  2.0369e-01,  4.8035e-01, -2.3876e-02,  2.7343e-01,\n",
       "       -2.7736e-01, -1.2772e-01, -1.2288e-01, -3.1917e-01, -3.9810e-02,\n",
       "        2.2237e-01, -5.5022e-03,  5.0979e-01, -9.6331e-02, -1.1908e-01,\n",
       "        4.0217e-01,  4.5482e-02,  2.8714e-01,  3.4078e-01, -5.4271e-01,\n",
       "        3.2592e-01,  2.7460e-01, -1.7638e-01,  4.7571e-01,  1.5338e-01,\n",
       "        1.9775e-01,  1.0435e-01,  1.2586e-01,  1.2814e-01, -3.0637e-01,\n",
       "       -2.6648e-01,  3.4693e-01,  4.9351e-01, -2.2925e-01, -2.5993e-01,\n",
       "       -8.0079e-01,  2.4726e-01, -3.9011e-02, -3.3985e-02, -1.6396e-01,\n",
       "        1.7148e-03, -2.4516e-01,  4.2818e-01, -5.4159e-01, -3.1788e-01,\n",
       "       -3.9917e-01, -2.3510e-01, -3.1303e-02,  2.6344e-01, -4.4947e-02,\n",
       "       -1.0616e-01,  4.2603e-01, -2.9199e-01,  4.1222e-01, -1.7133e-01,\n",
       "       -4.9235e-02,  3.4199e-01,  4.1374e-01,  3.4712e-01, -1.2712e-01,\n",
       "       -1.1346e-02,  2.7790e-01, -2.6837e-01,  2.7976e-01, -2.3140e-02,\n",
       "       -4.2453e-02, -2.4880e-01, -9.4525e-02, -7.2434e-02, -8.0798e-02,\n",
       "        2.2977e-01, -6.6223e-03,  1.3612e-01, -1.3846e-01,  2.9619e-01,\n",
       "       -6.2321e-02,  1.3106e-01, -1.2122e-01,  1.0296e-01,  2.4522e-02,\n",
       "        4.3366e-02, -1.8797e-01,  3.4787e-02, -1.2965e-01, -5.6924e-02,\n",
       "        8.2940e-02, -3.1711e-02, -1.0334e-01,  5.5999e-01, -1.4370e-02,\n",
       "        2.4406e-01, -1.9656e-01, -2.5979e-01,  2.7468e-01,  7.0937e-01,\n",
       "        2.0663e-01, -5.0739e-03, -3.5247e-01, -9.1857e-02,  4.9724e-01,\n",
       "        9.0564e-02, -1.6672e-01,  1.0637e-01, -2.0555e-01, -3.5504e-01,\n",
       "       -2.1655e-01, -5.3299e-01,  2.3488e-01, -1.5647e-01,  2.5886e-01,\n",
       "        3.5482e-01, -5.9471e-02, -4.1846e-02,  1.9309e-01, -3.1834e-01,\n",
       "       -5.6009e-01, -3.3490e-01,  1.0863e-01, -2.9302e-01,  2.2375e-01,\n",
       "       -2.9529e-01,  3.5079e-01, -4.4016e-02,  3.0190e-02,  1.8806e-01,\n",
       "        7.4253e-03,  8.2545e-03,  7.8418e-02, -2.2846e-01, -9.3908e-02,\n",
       "       -1.5532e-01,  3.7162e-01,  2.0374e-01, -7.9687e-02,  9.0542e-02,\n",
       "        7.8546e-02,  2.6072e-01, -1.6282e-01,  3.0323e-01,  1.0459e-01,\n",
       "        8.2796e-02,  3.2294e-01, -3.3433e-01, -7.3078e-01,  2.5206e-01,\n",
       "       -2.1868e-01, -8.5990e-02, -6.1137e-02,  6.3147e-02,  1.1997e-01,\n",
       "       -2.0705e-01,  2.8230e-01, -7.2704e-02, -2.2152e-01,  1.4120e-01,\n",
       "        2.7940e-01,  1.8642e-01,  4.1185e-02,  1.5691e-03, -2.0681e-01,\n",
       "       -6.7033e-03, -2.9439e-01, -2.9033e-01,  1.7552e-01,  6.0552e-02,\n",
       "       -1.8773e-01,  2.3631e-02, -6.7343e-01,  2.2187e-01,  2.1702e-01,\n",
       "        4.6489e-01, -1.8428e-01,  4.3373e-01,  1.5416e-01,  2.8214e-01,\n",
       "       -4.6523e-02, -1.6735e-01,  9.9792e-02,  7.4389e-02,  2.2516e-01,\n",
       "        4.6593e-02,  4.7141e-02,  2.3171e-01, -3.9969e-01, -2.4308e-01,\n",
       "       -7.5745e-02, -1.1131e-01, -2.1621e-01, -6.0675e-01,  2.6140e-01,\n",
       "        2.9831e-01, -7.7173e-02, -4.5427e-01, -3.2974e-01,  2.8283e-02,\n",
       "        1.1809e-01,  6.7218e-01, -3.9057e-02,  3.1705e-01, -4.6746e-02,\n",
       "        4.3885e-02, -2.4375e-01,  2.3834e-01, -1.1138e-01, -5.6529e-02,\n",
       "       -1.7875e-01, -1.3512e-01,  3.6357e-02,  7.6968e-02,  6.7698e-02],\n",
       "      dtype=float32)"
      ]
     },
     "execution_count": 45,
     "metadata": {},
     "output_type": "execute_result"
    },
    {
     "name": "stdout",
     "output_type": "stream",
     "text": [
      "time: 9.43 ms (started: 2023-03-28 02:03:31 +02:00)\n"
     ]
    }
   ],
   "source": [
    "s2v[s2v.get_best_sense('hot dog')]"
   ]
  },
  {
   "cell_type": "markdown",
   "id": "ce90cede",
   "metadata": {
    "_cell_guid": "640a923a-cd4d-48a8-ac7a-e823486cc3b9",
    "_uuid": "4bcf1076-ec57-4ad2-a227-5689508a85f9",
    "papermill": {
     "duration": 0.061089,
     "end_time": "2023-03-25T18:37:43.753212",
     "exception": false,
     "start_time": "2023-03-25T18:37:43.692123",
     "status": "completed"
    },
    "tags": []
   },
   "source": [
    "### 🚧 todo:\n",
    "- try whether expanding your query by adding similar terms to the 10 worst queries improves the results"
   ]
  },
  {
   "cell_type": "code",
   "execution_count": 51,
   "id": "e09193e2",
   "metadata": {},
   "outputs": [
    {
     "data": {
      "text/plain": [
       "[('skies|NOUN', 0.7452), ('clouds|NOUN', 0.736), ('night_sky|NOUN', 0.6994)]"
      ]
     },
     "execution_count": 51,
     "metadata": {},
     "output_type": "execute_result"
    },
    {
     "name": "stdout",
     "output_type": "stream",
     "text": [
      "time: 28.3 s (started: 2023-03-28 02:05:57 +02:00)\n"
     ]
    }
   ],
   "source": [
    "s2v.most_similar(s2v.get_best_sense('sky'), n=3)"
   ]
  },
  {
   "cell_type": "code",
   "execution_count": 52,
   "id": "7e4c3149",
   "metadata": {},
   "outputs": [
    {
     "data": {
      "text/html": [
       "<div>\n",
       "<style scoped>\n",
       "    .dataframe tbody tr th:only-of-type {\n",
       "        vertical-align: middle;\n",
       "    }\n",
       "\n",
       "    .dataframe tbody tr th {\n",
       "        vertical-align: top;\n",
       "    }\n",
       "\n",
       "    .dataframe thead th {\n",
       "        text-align: right;\n",
       "    }\n",
       "</style>\n",
       "<table border=\"1\" class=\"dataframe\">\n",
       "  <thead>\n",
       "    <tr style=\"text-align: right;\">\n",
       "      <th></th>\n",
       "      <th>qid</th>\n",
       "      <th>query</th>\n",
       "    </tr>\n",
       "  </thead>\n",
       "  <tbody>\n",
       "    <tr>\n",
       "      <th>285</th>\n",
       "      <td>127145</td>\n",
       "      <td>define skin doctor</td>\n",
       "    </tr>\n",
       "    <tr>\n",
       "      <th>172</th>\n",
       "      <td>729561</td>\n",
       "      <td>what is channeling</td>\n",
       "    </tr>\n",
       "    <tr>\n",
       "      <th>65</th>\n",
       "      <td>71027</td>\n",
       "      <td>can lyme disease cause coughing</td>\n",
       "    </tr>\n",
       "    <tr>\n",
       "      <th>37</th>\n",
       "      <td>417380</td>\n",
       "      <td>is mark applier?</td>\n",
       "    </tr>\n",
       "    <tr>\n",
       "      <th>270</th>\n",
       "      <td>424296</td>\n",
       "      <td>is spain bigger than italy</td>\n",
       "    </tr>\n",
       "    <tr>\n",
       "      <th>256</th>\n",
       "      <td>99399</td>\n",
       "      <td>cooking time for roasted beef short ribs</td>\n",
       "    </tr>\n",
       "    <tr>\n",
       "      <th>335</th>\n",
       "      <td>850892</td>\n",
       "      <td>what is the the bug std</td>\n",
       "    </tr>\n",
       "    <tr>\n",
       "      <th>300</th>\n",
       "      <td>903134</td>\n",
       "      <td>what tests or procedures do they have for chec...</td>\n",
       "    </tr>\n",
       "    <tr>\n",
       "      <th>21</th>\n",
       "      <td>1049686</td>\n",
       "      <td>who sang almost paradise</td>\n",
       "    </tr>\n",
       "    <tr>\n",
       "      <th>92</th>\n",
       "      <td>393188</td>\n",
       "      <td>in a democracy the idea of the consent of the ...</td>\n",
       "    </tr>\n",
       "  </tbody>\n",
       "</table>\n",
       "</div>"
      ],
      "text/plain": [
       "         qid                                              query\n",
       "285   127145                                 define skin doctor\n",
       "172   729561                                 what is channeling\n",
       "65     71027                    can lyme disease cause coughing\n",
       "37    417380                                   is mark applier?\n",
       "270   424296                         is spain bigger than italy\n",
       "256    99399           cooking time for roasted beef short ribs\n",
       "335   850892                            what is the the bug std\n",
       "300   903134  what tests or procedures do they have for chec...\n",
       "21   1049686                           who sang almost paradise\n",
       "92    393188  in a democracy the idea of the consent of the ..."
      ]
     },
     "execution_count": 52,
     "metadata": {},
     "output_type": "execute_result"
    },
    {
     "name": "stdout",
     "output_type": "stream",
     "text": [
      "time: 73.4 ms (started: 2023-03-28 02:07:16 +02:00)\n"
     ]
    }
   ],
   "source": [
    "training_queries.loc[worst10bm25i]"
   ]
  },
  {
   "cell_type": "code",
   "execution_count": 56,
   "id": "3f928beb",
   "metadata": {},
   "outputs": [
    {
     "data": {
      "text/plain": [
       "['skin|NOUN',\n",
       " 'channeling|VERB',\n",
       " 'Lyme|PERSON',\n",
       " 'applier|NOUN',\n",
       " 'Spain|GPE',\n",
       " 'cooking|VERB',\n",
       " 'bug|NOUN',\n",
       " 'procedures|NOUN',\n",
       " 'paradise|PROPN',\n",
       " 'democracy|NOUN']"
      ]
     },
     "execution_count": 56,
     "metadata": {},
     "output_type": "execute_result"
    },
    {
     "name": "stdout",
     "output_type": "stream",
     "text": [
      "time: 6.66 ms (started: 2023-03-28 02:11:41 +02:00)\n"
     ]
    }
   ],
   "source": [
    "terms = ['skin', 'channeling', 'lyme', 'applier', 'spain', 'cooking', 'bug', 'procedures', 'paradise', 'democracy']\n",
    "matched = [s2v.get_best_sense(term) for term in terms]\n",
    "matched"
   ]
  },
  {
   "cell_type": "code",
   "execution_count": 57,
   "id": "e85311b7",
   "metadata": {},
   "outputs": [
    {
     "data": {
      "text/plain": [
       "[[('normal_skin|NOUN', 0.7841),\n",
       "  ('skin-|NOUN', 0.773),\n",
       "  ('regular_skin|NOUN', 0.769)],\n",
       " [('channelling|VERB', 0.9046),\n",
       "  ('channeled|VERB', 0.8007),\n",
       "  ('channel|VERB', 0.7373)],\n",
       " [('Lyme_disease|NOUN', 0.873),\n",
       "  ('Lyme|PROPN', 0.8672),\n",
       "  ('lyme|PROPN', 0.8205)],\n",
       " [('Only_highest_value|NOUN', 0.5053),\n",
       "  ('applie|PROPN', 0.4925),\n",
       "  ('y_seconds|TIME', 0.4877)],\n",
       " [('Italy|GPE', 0.8596), ('Portugal|GPE', 0.8363), ('France|GPE', 0.8066)],\n",
       " [('cook|VERB', 0.8391), ('cooking|NOUN', 0.8163), ('cooked|VERB', 0.7729)],\n",
       " [('known_bug|NOUN', 0.7786),\n",
       "  ('new_bug|NOUN', 0.7711),\n",
       "  ('glitch|NOUN', 0.7699)],\n",
       " [('procedure|NOUN', 0.7739),\n",
       "  ('specific_procedures|NOUN', 0.7493),\n",
       "  ('certain_procedures|NOUN', 0.7321)],\n",
       " [('Paradise|LOC', 0.7969),\n",
       "  ('paradise|NOUN', 0.7795),\n",
       "  ('Paradise|PROPN', 0.6687)],\n",
       " [('Democracy|NOUN', 0.8686),\n",
       "  ('democratic_system|NOUN', 0.8461),\n",
       "  ('liberal_democracy|NOUN', 0.8399)]]"
      ]
     },
     "execution_count": 57,
     "metadata": {},
     "output_type": "execute_result"
    },
    {
     "name": "stdout",
     "output_type": "stream",
     "text": [
      "time: 4min 4s (started: 2023-03-28 02:11:43 +02:00)\n"
     ]
    }
   ],
   "source": [
    "similar = [s2v.most_similar(term, n=3) for term in matched]\n",
    "similar"
   ]
  },
  {
   "cell_type": "code",
   "execution_count": 66,
   "id": "eaeda466",
   "metadata": {},
   "outputs": [
    {
     "name": "stdout",
     "output_type": "stream",
     "text": [
      "0.0\n",
      "0.1\n",
      "time: 1.96 ms (started: 2023-03-28 02:23:08 +02:00)\n"
     ]
    }
   ],
   "source": [
    "qid2query = {285: 'define skin doctor', 172: 'what is the meaning of the name kameren cameron'}\n",
    "\n",
    "for qid, query in qid2query.items():\n",
    "    print(tfidfresults[qid])"
   ]
  },
  {
   "cell_type": "markdown",
   "id": "cf2bc55c",
   "metadata": {
    "_cell_guid": "87f9505b-2928-4d9b-9249-5e094ad20b00",
    "_uuid": "d2f46c55-f539-4151-87c0-2fde22ec14aa",
    "papermill": {
     "duration": 0.061857,
     "end_time": "2023-03-25T18:39:33.459377",
     "exception": false,
     "start_time": "2023-03-25T18:39:33.397520",
     "status": "completed"
    },
    "tags": []
   },
   "source": [
    "### 🚧 todo:\n",
    "- try misspelling a word and see whether you can fix that with sense2vec"
   ]
  },
  {
   "cell_type": "code",
   "execution_count": 73,
   "id": "75645f67",
   "metadata": {
    "_cell_guid": "7e4c2d7d-bda7-4c93-9753-a616f9c0df03",
    "_uuid": "7e02f736-5bc8-4e86-be8d-acefe88f20ec",
    "collapsed": false,
    "execution": {
     "iopub.execute_input": "2023-03-25T18:39:33.589749Z",
     "iopub.status.busy": "2023-03-25T18:39:33.589202Z",
     "iopub.status.idle": "2023-03-25T18:39:33.597434Z",
     "shell.execute_reply": "2023-03-25T18:39:33.595529Z"
    },
    "jupyter": {
     "outputs_hidden": false
    },
    "papermill": {
     "duration": 0.076643,
     "end_time": "2023-03-25T18:39:33.600378",
     "exception": false,
     "start_time": "2023-03-25T18:39:33.523735",
     "status": "completed"
    },
    "tags": []
   },
   "outputs": [
    {
     "name": "stdout",
     "output_type": "stream",
     "text": [
      "time: 37 ms (started: 2023-03-28 02:25:43 +02:00)\n"
     ]
    }
   ],
   "source": [
    "s2v.get_best_sense('wordd')"
   ]
  },
  {
   "cell_type": "code",
   "execution_count": 75,
   "id": "7f70249f",
   "metadata": {},
   "outputs": [
    {
     "data": {
      "text/plain": [
       "[('Glooks|PERSON', 0.6875), ('epiv|NOUN', 0.6838)]"
      ]
     },
     "execution_count": 75,
     "metadata": {},
     "output_type": "execute_result"
    },
    {
     "name": "stdout",
     "output_type": "stream",
     "text": [
      "time: 19.6 s (started: 2023-03-28 02:26:14 +02:00)\n"
     ]
    }
   ],
   "source": [
    "s2v.most_similar(s2v.get_best_sense('wordd'), n=2)"
   ]
  },
  {
   "cell_type": "markdown",
   "id": "064d824d",
   "metadata": {
    "_cell_guid": "25bb87f1-c70b-413b-80d8-0f2dc95313b4",
    "_uuid": "2375459a-7f2d-4d64-bd2d-7942c9b10f3e",
    "execution": {
     "iopub.execute_input": "2023-03-25T17:49:28.042272Z",
     "iopub.status.busy": "2023-03-25T17:49:28.041794Z",
     "iopub.status.idle": "2023-03-25T17:49:28.053144Z",
     "shell.execute_reply": "2023-03-25T17:49:28.051229Z",
     "shell.execute_reply.started": "2023-03-25T17:49:28.042230Z"
    },
    "papermill": {
     "duration": 0.079693,
     "end_time": "2023-03-25T18:40:03.707558",
     "exception": false,
     "start_time": "2023-03-25T18:40:03.627865",
     "status": "completed"
    },
    "tags": []
   },
   "source": [
    "### 🚧 todo:\n",
    "- try embeddings for a few queries (all would take to long except if you have a GPU)\n",
    "    - are the gold top 10 similar to the query itself?\n",
    "    - check whether the gold top 10 answers for our most difficult question are really closer to the question than the currently predicted top10\n",
    "         - how to get every doc as a vector: \n",
    "             - https://spacy.io/api/doc#vector \"A real-valued meaning representation. Defaults to an average of the token vectors.\"\n",
    "        - every doc has a similarity function taking another doc as argument: \n",
    "            - https://spacy.io/api/doc#similarity"
   ]
  },
  {
   "cell_type": "code",
   "execution_count": 78,
   "id": "992220a8",
   "metadata": {},
   "outputs": [
    {
     "name": "stdout",
     "output_type": "stream",
     "text": [
      "what is endolymhatic system\n",
      "Similarity: 0.500770622380886\n",
      "Body Systems Quiz 2 What body system does the PATELLA belong in? Skeletal What body system does the STERNUM belong in? Skeletal What body system does the RADIUS belong in? Skeletal What body system do \n",
      "\n",
      "Similarity: 0.3648865543160146\n",
      "Body Systems 36 terms sc229207Body Systems The following flash cards will help you to study the material we've learned about the body systems Learn Flashcards Write Spell Test Match Gravity Advertisem \n",
      "\n"
     ]
    },
    {
     "name": "stderr",
     "output_type": "stream",
     "text": [
      "/var/folders/67/398kj6w97qd5336d3vvgf8b40000gn/T/ipykernel_4954/1640358854.py:6: FutureWarning: The behavior of `series[i:j]` with an integer-dtype index is deprecated. In a future version, this will be treated as *label-based* indexing, consistent with e.g. `series[i]` lookups. To retain the old behavior, use `series.iloc[i:j]`. To get the future behavior, use `series.loc[i:j]`.\n",
      "  top_10 = gold[gold['qid']==qid].sort_values('rank')['docid'][:5]\n",
      "/var/folders/67/398kj6w97qd5336d3vvgf8b40000gn/T/ipykernel_4954/1640358854.py:9: UserWarning: [W007] The model you're using has no word vectors loaded, so the result of the Doc.similarity method will be based on the tagger, parser and NER, which may not give useful similarity judgements. This may happen if you're using one of the small models, e.g. `en_core_web_sm`, which don't ship with word vectors and only use context-sensitive tensors. You can always add your own word vectors, or use one of the larger models instead if available.\n",
      "  print('Similarity:', vector.similarity(nlp(doc['text'])))\n"
     ]
    },
    {
     "name": "stdout",
     "output_type": "stream",
     "text": [
      "Similarity: 0.4280795891236894\n",
      "TEAS V- Human Body Science 158 terms rplauche1TEAS V- Human Body Science Notes from Human Body Science portion of TEAS V Study Guide by ATILearn Flashcards Write Spell Test Match Gravity Advertisement \n",
      "\n",
      "Similarity: 0.46693242458042405\n",
      "CIS 300 Chapter 10 48 terms joselin_theobald CIS 300 Chapter 10Learn Flashcards Write Spell Test Match Gravity Advertisement Upgrade to remove ads Like this study set? Create a free account to save it \n",
      "\n",
      "Similarity: 0.4201511423924317\n",
      "ANS 59 terms jramsey89ANSPathophysiology Learn Flashcards Write Spell Test Match Gravity Sort Name the two subsystems of the Nervous System Central Nervous System and the Peripheral Nervous System Nam \n",
      "\n",
      "what is channeling\n",
      "Similarity: 0.2511835406983005\n",
      "What channel is NBC on XFINITY? Comcast Xfinity (product) NBC Comcast Products and Services TV Channels Television What channel is NBC on XFINITY?3 Answers Greg Monti, Radio broadcast engineer fascina \n",
      "\n",
      "Similarity: 0.13733032058308664\n",
      "What channel is discovery channel on direct tv? Answers.com ® Wiki Answers ® Categories Technology Electronics Consumer Electronics Television and Video Satellite Television Direc TV What channel is d \n",
      "\n",
      "Similarity: 0.12977203431375778\n",
      "What channel is the yes network on comcast in Florida? Answers.com ® Wiki Answers ® Categories Travel & Places Countries, States, and Cities United States of America Florida What channel is the yes ne \n",
      "\n",
      "Similarity: 0.17504284869492026\n",
      "What channel is CBS for DISH Network? Answers.com ® Wiki Answers ® Categories Technology Electronics Consumer Electronics Television and Video Satellite Television Dish Network What channel is CBS for \n",
      "\n",
      "Similarity: 0.15741591046990305\n",
      "What tv channel is syfy on if you have dish network? Answers.com ® Wiki Answers ® Categories Technology Electronics Consumer Electronics Television and Video Satellite Television Dish Network What tv  \n",
      "\n",
      "time: 1.24 s (started: 2023-03-28 02:31:32 +02:00)\n"
     ]
    }
   ],
   "source": [
    "for qid in [743838, 729561]:\n",
    "    query = queries[queries['qid']==qid]['query'].values[0]\n",
    "    print(query)\n",
    "    \n",
    "    vector = nlp(query)\n",
    "    top_10 = gold[gold['qid']==qid].sort_values('rank')['docid'][:5]\n",
    "    for docid in top_10:\n",
    "        doc = docs[docs['docid']==docid].iloc[0]\n",
    "        print('Similarity:', vector.similarity(nlp(doc['text'])))\n",
    "        print(doc['text'][:200], '\\n')\n"
   ]
  },
  {
   "cell_type": "code",
   "execution_count": 79,
   "id": "14d4e73c",
   "metadata": {},
   "outputs": [
    {
     "name": "stdout",
     "output_type": "stream",
     "text": [
      "time: 5.86 ms (started: 2023-03-28 02:33:55 +02:00)\n"
     ]
    }
   ],
   "source": [
    "qid = 127145\n",
    "vector = nlp('define skin doctor')"
   ]
  },
  {
   "cell_type": "code",
   "execution_count": 80,
   "id": "a2245fe0",
   "metadata": {},
   "outputs": [
    {
     "name": "stderr",
     "output_type": "stream",
     "text": [
      "/var/folders/67/398kj6w97qd5336d3vvgf8b40000gn/T/ipykernel_4954/1877796616.py:2: FutureWarning: The behavior of `series[i:j]` with an integer-dtype index is deprecated. In a future version, this will be treated as *label-based* indexing, consistent with e.g. `series[i]` lookups. To retain the old behavior, use `series.iloc[i:j]`. To get the future behavior, use `series.loc[i:j]`.\n",
      "  best_docs_ids = gold[gold['qid']==qid].sort_values('rank')['docid'][:10]\n",
      "/var/folders/67/398kj6w97qd5336d3vvgf8b40000gn/T/ipykernel_4954/1877796616.py:6: UserWarning: [W007] The model you're using has no word vectors loaded, so the result of the Doc.similarity method will be based on the tagger, parser and NER, which may not give useful similarity judgements. This may happen if you're using one of the small models, e.g. `en_core_web_sm`, which don't ship with word vectors and only use context-sensitive tensors. You can always add your own word vectors, or use one of the larger models instead if available.\n",
      "  gold_similar.append(vector.similarity(nlp(doc['text'])))\n"
     ]
    },
    {
     "name": "stdout",
     "output_type": "stream",
     "text": [
      "time: 2.8 s (started: 2023-03-28 02:34:43 +02:00)\n"
     ]
    }
   ],
   "source": [
    "gold_similar = []\n",
    "best_docs_ids = gold[gold['qid']==qid].sort_values('rank')['docid'][:10]\n",
    "\n",
    "for doc_id in best_docs_ids:\n",
    "    doc = docs[docs['docid']==doc_id].iloc[0]\n",
    "    gold_similar.append(vector.similarity(nlp(doc['text'])))"
   ]
  },
  {
   "cell_type": "code",
   "execution_count": 82,
   "id": "b12da503",
   "metadata": {},
   "outputs": [
    {
     "data": {
      "text/plain": [
       "min     0.384936\n",
       "mean    0.449560\n",
       "max     0.509249\n",
       "dtype: float64"
      ]
     },
     "execution_count": 82,
     "metadata": {},
     "output_type": "execute_result"
    },
    {
     "name": "stdout",
     "output_type": "stream",
     "text": [
      "time: 16.3 ms (started: 2023-03-28 02:45:08 +02:00)\n"
     ]
    }
   ],
   "source": [
    "pd.Series(gold_similar).agg(['min', 'mean', 'max'])"
   ]
  }
 ],
 "metadata": {
  "kernelspec": {
   "display_name": "HoNLP",
   "language": "python",
   "name": "python3"
  },
  "language_info": {
   "codemirror_mode": {
    "name": "ipython",
    "version": 3
   },
   "file_extension": ".py",
   "mimetype": "text/x-python",
   "name": "python",
   "nbconvert_exporter": "python",
   "pygments_lexer": "ipython3",
   "version": "3.10.8"
  },
  "papermill": {
   "default_parameters": {},
   "duration": 732.851272,
   "end_time": "2023-03-25T18:40:22.638692",
   "environment_variables": {},
   "exception": null,
   "input_path": "__notebook__.ipynb",
   "output_path": "__notebook__.ipynb",
   "parameters": {},
   "start_time": "2023-03-25T18:28:09.787420",
   "version": "2.4.0"
  },
  "vscode": {
   "interpreter": {
    "hash": "5aaf2b3507bdd4fc48a866a599b2a884dae59cdb402183f83bea31f7ecb787ec"
   }
  }
 },
 "nbformat": 4,
 "nbformat_minor": 5
}
