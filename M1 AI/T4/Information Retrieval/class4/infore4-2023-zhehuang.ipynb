{
 "cells": [
  {
   "cell_type": "markdown",
   "id": "59cf7be5",
   "metadata": {
    "papermill": {
     "duration": 0.017236,
     "end_time": "2023-04-06T21:43:14.277164",
     "exception": false,
     "start_time": "2023-04-06T21:43:14.259928",
     "status": "completed"
    },
    "tags": []
   },
   "source": [
    "## ZheHUANG AI 22208901"
   ]
  },
  {
   "cell_type": "markdown",
   "id": "6e5a156a",
   "metadata": {
    "papermill": {
     "duration": 0.014787,
     "end_time": "2023-04-06T21:43:14.307394",
     "exception": false,
     "start_time": "2023-04-06T21:43:14.292607",
     "status": "completed"
    },
    "tags": []
   },
   "source": [
    "# inforet 2023 4\n",
    "\n",
    "- experimental session\n",
    "- finding multi-word terminology by statistics\n",
    "- matching terminology from a list\n",
    "- training a NER for terminology"
   ]
  },
  {
   "cell_type": "code",
   "execution_count": 1,
   "id": "80662f67",
   "metadata": {
    "execution": {
     "iopub.execute_input": "2023-04-06T21:43:14.340524Z",
     "iopub.status.busy": "2023-04-06T21:43:14.339752Z",
     "iopub.status.idle": "2023-04-06T21:43:32.028481Z",
     "shell.execute_reply": "2023-04-06T21:43:32.026766Z"
    },
    "papermill": {
     "duration": 17.708415,
     "end_time": "2023-04-06T21:43:32.031448",
     "exception": false,
     "start_time": "2023-04-06T21:43:14.323033",
     "status": "completed"
    },
    "tags": []
   },
   "outputs": [
    {
     "name": "stdout",
     "output_type": "stream",
     "text": [
      "spacy version: 3.5.1\n"
     ]
    }
   ],
   "source": [
    "import re, regex, timeit, gzip, random\n",
    "import numpy as np\n",
    "import matplotlib.pyplot as plt\n",
    "import seaborn as sns\n",
    "import pandas as pd\n",
    "from collections import Counter\n",
    "from tqdm.notebook import tqdm\n",
    "tqdm.pandas()\n",
    "\n",
    "from sklearn.feature_extraction.text import CountVectorizer, TfidfVectorizer\n",
    "\n",
    "\n",
    "from nltk.tokenize import MWETokenizer\n",
    "from nltk.util import Trie\n",
    "\n",
    "import spacy\n",
    "print('spacy version: {}'.format(spacy.__version__))\n",
    "\n",
    "from collections import defaultdict"
   ]
  },
  {
   "cell_type": "code",
   "execution_count": 2,
   "id": "54aeb49c",
   "metadata": {
    "execution": {
     "iopub.execute_input": "2023-04-06T21:43:32.066489Z",
     "iopub.status.busy": "2023-04-06T21:43:32.065661Z",
     "iopub.status.idle": "2023-04-06T21:43:44.876246Z",
     "shell.execute_reply": "2023-04-06T21:43:44.874698Z"
    },
    "papermill": {
     "duration": 12.83022,
     "end_time": "2023-04-06T21:43:44.879132",
     "exception": false,
     "start_time": "2023-04-06T21:43:32.048912",
     "status": "completed"
    },
    "tags": []
   },
   "outputs": [
    {
     "name": "stdout",
     "output_type": "stream",
     "text": [
      "Collecting ipython-autotime\r\n",
      "  Downloading ipython_autotime-0.3.1-py2.py3-none-any.whl (6.8 kB)\r\n",
      "Requirement already satisfied: ipython in /opt/conda/lib/python3.7/site-packages (from ipython-autotime) (7.34.0)\r\n",
      "Requirement already satisfied: prompt-toolkit!=3.0.0,!=3.0.1,<3.1.0,>=2.0.0 in /opt/conda/lib/python3.7/site-packages (from ipython->ipython-autotime) (3.0.36)\r\n",
      "Requirement already satisfied: pickleshare in /opt/conda/lib/python3.7/site-packages (from ipython->ipython-autotime) (0.7.5)\r\n",
      "Requirement already satisfied: pygments in /opt/conda/lib/python3.7/site-packages (from ipython->ipython-autotime) (2.14.0)\r\n",
      "Requirement already satisfied: matplotlib-inline in /opt/conda/lib/python3.7/site-packages (from ipython->ipython-autotime) (0.1.6)\r\n",
      "Requirement already satisfied: backcall in /opt/conda/lib/python3.7/site-packages (from ipython->ipython-autotime) (0.2.0)\r\n",
      "Requirement already satisfied: jedi>=0.16 in /opt/conda/lib/python3.7/site-packages (from ipython->ipython-autotime) (0.18.2)\r\n",
      "Requirement already satisfied: decorator in /opt/conda/lib/python3.7/site-packages (from ipython->ipython-autotime) (5.1.1)\r\n",
      "Requirement already satisfied: traitlets>=4.2 in /opt/conda/lib/python3.7/site-packages (from ipython->ipython-autotime) (5.8.1)\r\n",
      "Requirement already satisfied: pexpect>4.3 in /opt/conda/lib/python3.7/site-packages (from ipython->ipython-autotime) (4.8.0)\r\n",
      "Requirement already satisfied: setuptools>=18.5 in /opt/conda/lib/python3.7/site-packages (from ipython->ipython-autotime) (59.8.0)\r\n",
      "Requirement already satisfied: parso<0.9.0,>=0.8.0 in /opt/conda/lib/python3.7/site-packages (from jedi>=0.16->ipython->ipython-autotime) (0.8.3)\r\n",
      "Requirement already satisfied: ptyprocess>=0.5 in /opt/conda/lib/python3.7/site-packages (from pexpect>4.3->ipython->ipython-autotime) (0.7.0)\r\n",
      "Requirement already satisfied: wcwidth in /opt/conda/lib/python3.7/site-packages (from prompt-toolkit!=3.0.0,!=3.0.1,<3.1.0,>=2.0.0->ipython->ipython-autotime) (0.2.6)\r\n",
      "Installing collected packages: ipython-autotime\r\n",
      "Successfully installed ipython-autotime-0.3.1\r\n",
      "\u001b[33mWARNING: Running pip as the 'root' user can result in broken permissions and conflicting behaviour with the system package manager. It is recommended to use a virtual environment instead: https://pip.pypa.io/warnings/venv\u001b[0m\u001b[33m\r\n",
      "\u001b[0mtime: 638 µs (started: 2023-04-06 21:43:44 +00:00)\n"
     ]
    }
   ],
   "source": [
    "# this turns on the autotimer, so that every cell has a timing information below\n",
    "try:\n",
    "    %load_ext autotime\n",
    "except:\n",
    "    !pip install ipython-autotime\n",
    "    %load_ext autotime"
   ]
  },
  {
   "cell_type": "code",
   "execution_count": 3,
   "id": "dbb0c988",
   "metadata": {
    "execution": {
     "iopub.execute_input": "2023-04-06T21:43:44.914711Z",
     "iopub.status.busy": "2023-04-06T21:43:44.913520Z",
     "iopub.status.idle": "2023-04-06T21:43:44.920541Z",
     "shell.execute_reply": "2023-04-06T21:43:44.919062Z"
    },
    "papermill": {
     "duration": 0.027913,
     "end_time": "2023-04-06T21:43:44.923335",
     "exception": false,
     "start_time": "2023-04-06T21:43:44.895422",
     "status": "completed"
    },
    "tags": []
   },
   "outputs": [
    {
     "name": "stdout",
     "output_type": "stream",
     "text": [
      "time: 561 µs (started: 2023-04-06 21:43:44 +00:00)\n"
     ]
    }
   ],
   "source": [
    "path = '/kaggle/input/ir-week-4-dataset'"
   ]
  },
  {
   "cell_type": "markdown",
   "id": "c7cdaa5e",
   "metadata": {
    "papermill": {
     "duration": 0.015594,
     "end_time": "2023-04-06T21:43:44.954967",
     "exception": false,
     "start_time": "2023-04-06T21:43:44.939373",
     "status": "completed"
    },
    "tags": []
   },
   "source": [
    "### are frequent n-grams terms?\n",
    "#### political domain:"
   ]
  },
  {
   "cell_type": "code",
   "execution_count": 4,
   "id": "25530508",
   "metadata": {
    "execution": {
     "iopub.execute_input": "2023-04-06T21:43:44.989352Z",
     "iopub.status.busy": "2023-04-06T21:43:44.988935Z",
     "iopub.status.idle": "2023-04-06T21:43:48.981211Z",
     "shell.execute_reply": "2023-04-06T21:43:48.979864Z"
    },
    "papermill": {
     "duration": 4.012604,
     "end_time": "2023-04-06T21:43:48.983621",
     "exception": false,
     "start_time": "2023-04-06T21:43:44.971017",
     "status": "completed"
    },
    "tags": []
   },
   "outputs": [
    {
     "data": {
      "text/plain": [
       "(7507, 7)"
      ]
     },
     "metadata": {},
     "output_type": "display_data"
    },
    {
     "data": {
      "text/html": [
       "<div>\n",
       "<style scoped>\n",
       "    .dataframe tbody tr th:only-of-type {\n",
       "        vertical-align: middle;\n",
       "    }\n",
       "\n",
       "    .dataframe tbody tr th {\n",
       "        vertical-align: top;\n",
       "    }\n",
       "\n",
       "    .dataframe thead th {\n",
       "        text-align: right;\n",
       "    }\n",
       "</style>\n",
       "<table border=\"1\" class=\"dataframe\">\n",
       "  <thead>\n",
       "    <tr style=\"text-align: right;\">\n",
       "      <th></th>\n",
       "      <th>session</th>\n",
       "      <th>year</th>\n",
       "      <th>country</th>\n",
       "      <th>country_name</th>\n",
       "      <th>speaker</th>\n",
       "      <th>position</th>\n",
       "      <th>text</th>\n",
       "    </tr>\n",
       "  </thead>\n",
       "  <tbody>\n",
       "    <tr>\n",
       "      <th>221</th>\n",
       "      <td>27</td>\n",
       "      <td>1972</td>\n",
       "      <td>ESP</td>\n",
       "      <td>Spain</td>\n",
       "      <td>Mr. Lopez-Bravo</td>\n",
       "      <td>NaN</td>\n",
       "      <td>Mr. President, before addressing this twenty- ...</td>\n",
       "    </tr>\n",
       "    <tr>\n",
       "      <th>6975</th>\n",
       "      <td>68</td>\n",
       "      <td>2013</td>\n",
       "      <td>DZA</td>\n",
       "      <td>Algeria</td>\n",
       "      <td>Ramtane Lamamra</td>\n",
       "      <td>Minister for Foreign Affairs</td>\n",
       "      <td>I would \\nlike first of all to warmly congratu...</td>\n",
       "    </tr>\n",
       "    <tr>\n",
       "      <th>3096</th>\n",
       "      <td>47</td>\n",
       "      <td>1992</td>\n",
       "      <td>EGY</td>\n",
       "      <td>Egypt</td>\n",
       "      <td>Mr. MOUSSA</td>\n",
       "      <td>NaN</td>\n",
       "      <td>At the outset, I \\nwish to convey the Egyptian...</td>\n",
       "    </tr>\n",
       "    <tr>\n",
       "      <th>5726</th>\n",
       "      <td>61</td>\n",
       "      <td>2006</td>\n",
       "      <td>RUS</td>\n",
       "      <td>Russian Federation</td>\n",
       "      <td>Mr. Sergey V. Lavrov</td>\n",
       "      <td>Minister for Foreign Affairs</td>\n",
       "      <td>Traditionally, the General Assembly session \\n...</td>\n",
       "    </tr>\n",
       "    <tr>\n",
       "      <th>153</th>\n",
       "      <td>26</td>\n",
       "      <td>1971</td>\n",
       "      <td>PHL</td>\n",
       "      <td>Philippines</td>\n",
       "      <td>Mr. ROMULO</td>\n",
       "      <td>NaN</td>\n",
       "      <td>51.\\t  Mr. President, your unanimous election ...</td>\n",
       "    </tr>\n",
       "    <tr>\n",
       "      <th>4473</th>\n",
       "      <td>55</td>\n",
       "      <td>2000</td>\n",
       "      <td>BFA</td>\n",
       "      <td>Burkina Faso</td>\n",
       "      <td>Youssouf Ouedraogo</td>\n",
       "      <td>Minister for Foreign Affairs</td>\n",
       "      <td>Exactly one week ago, the Millennium\\nSummit w...</td>\n",
       "    </tr>\n",
       "    <tr>\n",
       "      <th>549</th>\n",
       "      <td>29</td>\n",
       "      <td>1974</td>\n",
       "      <td>TUR</td>\n",
       "      <td>Turkey</td>\n",
       "      <td>Mr. Gune</td>\n",
       "      <td>NaN</td>\n",
       "      <td>Mr. President, first I should like to extend m...</td>\n",
       "    </tr>\n",
       "    <tr>\n",
       "      <th>469</th>\n",
       "      <td>29</td>\n",
       "      <td>1974</td>\n",
       "      <td>EGY</td>\n",
       "      <td>Egypt</td>\n",
       "      <td>Mr. Fahmy</td>\n",
       "      <td>NaN</td>\n",
       "      <td>Mr. President, it is a source of pride and gra...</td>\n",
       "    </tr>\n",
       "    <tr>\n",
       "      <th>2792</th>\n",
       "      <td>45</td>\n",
       "      <td>1990</td>\n",
       "      <td>GUY</td>\n",
       "      <td>Guyana</td>\n",
       "      <td>INSANALLY</td>\n",
       "      <td>NaN</td>\n",
       "      <td>﻿There is now abroad in the world a mood of op...</td>\n",
       "    </tr>\n",
       "    <tr>\n",
       "      <th>6579</th>\n",
       "      <td>66</td>\n",
       "      <td>2011</td>\n",
       "      <td>CUB</td>\n",
       "      <td>Cuba</td>\n",
       "      <td>Bruno Rodriguez Parrilla</td>\n",
       "      <td>Minister for Foreign Affairs</td>\n",
       "      <td>I am pleased to welcome the Government of \\nSo...</td>\n",
       "    </tr>\n",
       "    <tr>\n",
       "      <th>4319</th>\n",
       "      <td>54</td>\n",
       "      <td>1999</td>\n",
       "      <td>CZE</td>\n",
       "      <td>Czechia</td>\n",
       "      <td>Jan Kavan</td>\n",
       "      <td>Minister for Foreign Affairs</td>\n",
       "      <td>By way of introduction,\\nlet me congratulate y...</td>\n",
       "    </tr>\n",
       "  </tbody>\n",
       "</table>\n",
       "</div>"
      ],
      "text/plain": [
       "      session  year country        country_name                   speaker  \\\n",
       "221        27  1972     ESP               Spain           Mr. Lopez-Bravo   \n",
       "6975       68  2013     DZA             Algeria           Ramtane Lamamra   \n",
       "3096       47  1992     EGY               Egypt                Mr. MOUSSA   \n",
       "5726       61  2006     RUS  Russian Federation      Mr. Sergey V. Lavrov   \n",
       "153        26  1971     PHL         Philippines                Mr. ROMULO   \n",
       "4473       55  2000     BFA        Burkina Faso        Youssouf Ouedraogo   \n",
       "549        29  1974     TUR              Turkey                  Mr. Gune   \n",
       "469        29  1974     EGY               Egypt                 Mr. Fahmy   \n",
       "2792       45  1990     GUY              Guyana                 INSANALLY   \n",
       "6579       66  2011     CUB                Cuba  Bruno Rodriguez Parrilla   \n",
       "4319       54  1999     CZE             Czechia                 Jan Kavan   \n",
       "\n",
       "                          position  \\\n",
       "221                            NaN   \n",
       "6975  Minister for Foreign Affairs   \n",
       "3096                           NaN   \n",
       "5726  Minister for Foreign Affairs   \n",
       "153                            NaN   \n",
       "4473  Minister for Foreign Affairs   \n",
       "549                            NaN   \n",
       "469                            NaN   \n",
       "2792                           NaN   \n",
       "6579  Minister for Foreign Affairs   \n",
       "4319  Minister for Foreign Affairs   \n",
       "\n",
       "                                                   text  \n",
       "221   Mr. President, before addressing this twenty- ...  \n",
       "6975  I would \\nlike first of all to warmly congratu...  \n",
       "3096  At the outset, I \\nwish to convey the Egyptian...  \n",
       "5726  Traditionally, the General Assembly session \\n...  \n",
       "153   51.\\t  Mr. President, your unanimous election ...  \n",
       "4473  Exactly one week ago, the Millennium\\nSummit w...  \n",
       "549   Mr. President, first I should like to extend m...  \n",
       "469   Mr. President, it is a source of pride and gra...  \n",
       "2792  ﻿There is now abroad in the world a mood of op...  \n",
       "6579  I am pleased to welcome the Government of \\nSo...  \n",
       "4319  By way of introduction,\\nlet me congratulate y...  "
      ]
     },
     "execution_count": 4,
     "metadata": {},
     "output_type": "execute_result"
    },
    {
     "name": "stdout",
     "output_type": "stream",
     "text": [
      "time: 3.99 s (started: 2023-04-06 21:43:44 +00:00)\n"
     ]
    }
   ],
   "source": [
    "df = pd.read_csv(path + \"/un-general-debates-blueprint.csv\")\n",
    "display(df.shape)\n",
    "df.sample(11)"
   ]
  },
  {
   "cell_type": "markdown",
   "id": "7dd07b81",
   "metadata": {
    "papermill": {
     "duration": 0.015982,
     "end_time": "2023-04-06T21:43:49.016608",
     "exception": false,
     "start_time": "2023-04-06T21:43:49.000626",
     "status": "completed"
    },
    "tags": []
   },
   "source": [
    "### 🚧 todo:\n",
    "- use the CountVectorizer(ngram_range=(2, 3), min_df=10) to build a list of potential terms\n",
    "    - raise min_df or lower max_features if you have an out of memory error\n",
    "        - this is no exercice in auto-flagellation!\n",
    "    - sort by frequency of occurrence of the n-gram\n",
    "    - give the first rank where the n-gram is not a term\n",
    "- use the \"stop_words='english'\" parameter\n",
    "    - give the first rank where the n-gram is not a term\n",
    "- explain why neither method is satisfactory"
   ]
  },
  {
   "cell_type": "code",
   "execution_count": 5,
   "id": "0be17da3",
   "metadata": {
    "execution": {
     "iopub.execute_input": "2023-04-06T21:43:49.051314Z",
     "iopub.status.busy": "2023-04-06T21:43:49.050879Z",
     "iopub.status.idle": "2023-04-06T21:45:17.015429Z",
     "shell.execute_reply": "2023-04-06T21:45:17.014149Z"
    },
    "papermill": {
     "duration": 88.002816,
     "end_time": "2023-04-06T21:45:17.035663",
     "exception": false,
     "start_time": "2023-04-06T21:43:49.032847",
     "status": "completed"
    },
    "tags": []
   },
   "outputs": [
    {
     "data": {
      "text/plain": [
       "<7507x389472 sparse matrix of type '<class 'numpy.int64'>'\n",
       "\twith 22737299 stored elements in Compressed Sparse Row format>"
      ]
     },
     "execution_count": 5,
     "metadata": {},
     "output_type": "execute_result"
    },
    {
     "name": "stdout",
     "output_type": "stream",
     "text": [
      "time: 1min 27s (started: 2023-04-06 21:43:49 +00:00)\n"
     ]
    }
   ],
   "source": [
    "# Use CounVectorizer to build a list of potential terms\n",
    "cvectorizer = CountVectorizer(ngram_range=(2, 3), min_df=10)\n",
    "X=cvectorizer.fit_transform(df.text)\n",
    "X"
   ]
  },
  {
   "cell_type": "code",
   "execution_count": 6,
   "id": "d1be1aa0",
   "metadata": {
    "execution": {
     "iopub.execute_input": "2023-04-06T21:45:17.070931Z",
     "iopub.status.busy": "2023-04-06T21:45:17.070482Z",
     "iopub.status.idle": "2023-04-06T21:45:17.076958Z",
     "shell.execute_reply": "2023-04-06T21:45:17.076108Z"
    },
    "papermill": {
     "duration": 0.02784,
     "end_time": "2023-04-06T21:45:17.080113",
     "exception": false,
     "start_time": "2023-04-06T21:45:17.052273",
     "status": "completed"
    },
    "tags": []
   },
   "outputs": [
    {
     "data": {
      "text/plain": [
       "(7507, 389472)"
      ]
     },
     "execution_count": 6,
     "metadata": {},
     "output_type": "execute_result"
    },
    {
     "name": "stdout",
     "output_type": "stream",
     "text": [
      "time: 2.62 ms (started: 2023-04-06 21:45:17 +00:00)\n"
     ]
    }
   ],
   "source": [
    "# (number of texts, number of n-grams)\n",
    "X.shape"
   ]
  },
  {
   "cell_type": "code",
   "execution_count": 7,
   "id": "d1e8cd9b",
   "metadata": {
    "execution": {
     "iopub.execute_input": "2023-04-06T21:45:17.115795Z",
     "iopub.status.busy": "2023-04-06T21:45:17.115380Z",
     "iopub.status.idle": "2023-04-06T21:45:17.239063Z",
     "shell.execute_reply": "2023-04-06T21:45:17.237606Z"
    },
    "papermill": {
     "duration": 0.145061,
     "end_time": "2023-04-06T21:45:17.241979",
     "exception": false,
     "start_time": "2023-04-06T21:45:17.096918",
     "status": "completed"
    },
    "tags": []
   },
   "outputs": [
    {
     "data": {
      "text/plain": [
       "(1, 389472)"
      ]
     },
     "execution_count": 7,
     "metadata": {},
     "output_type": "execute_result"
    },
    {
     "name": "stdout",
     "output_type": "stream",
     "text": [
      "time: 118 ms (started: 2023-04-06 21:45:17 +00:00)\n"
     ]
    }
   ],
   "source": [
    "# (1, number of n-grams)\n",
    "np.sum(X, axis=0).shape"
   ]
  },
  {
   "cell_type": "code",
   "execution_count": 8,
   "id": "2e4f0a2b",
   "metadata": {
    "execution": {
     "iopub.execute_input": "2023-04-06T21:45:17.278650Z",
     "iopub.status.busy": "2023-04-06T21:45:17.277611Z",
     "iopub.status.idle": "2023-04-06T21:45:18.147866Z",
     "shell.execute_reply": "2023-04-06T21:45:18.146475Z"
    },
    "papermill": {
     "duration": 0.891289,
     "end_time": "2023-04-06T21:45:18.150645",
     "exception": false,
     "start_time": "2023-04-06T21:45:17.259356",
     "status": "completed"
    },
    "tags": []
   },
   "outputs": [
    {
     "data": {
      "text/html": [
       "<div>\n",
       "<style scoped>\n",
       "    .dataframe tbody tr th:only-of-type {\n",
       "        vertical-align: middle;\n",
       "    }\n",
       "\n",
       "    .dataframe tbody tr th {\n",
       "        vertical-align: top;\n",
       "    }\n",
       "\n",
       "    .dataframe thead th {\n",
       "        text-align: right;\n",
       "    }\n",
       "</style>\n",
       "<table border=\"1\" class=\"dataframe\">\n",
       "  <thead>\n",
       "    <tr style=\"text-align: right;\">\n",
       "      <th></th>\n",
       "      <th>0</th>\n",
       "    </tr>\n",
       "  </thead>\n",
       "  <tbody>\n",
       "    <tr>\n",
       "      <th>of the</th>\n",
       "      <td>397342</td>\n",
       "    </tr>\n",
       "    <tr>\n",
       "      <th>in the</th>\n",
       "      <td>154303</td>\n",
       "    </tr>\n",
       "    <tr>\n",
       "      <th>to the</th>\n",
       "      <td>118439</td>\n",
       "    </tr>\n",
       "    <tr>\n",
       "      <th>united nations</th>\n",
       "      <td>103514</td>\n",
       "    </tr>\n",
       "    <tr>\n",
       "      <th>the united</th>\n",
       "      <td>103063</td>\n",
       "    </tr>\n",
       "    <tr>\n",
       "      <th>the united nations</th>\n",
       "      <td>89150</td>\n",
       "    </tr>\n",
       "    <tr>\n",
       "      <th>and the</th>\n",
       "      <td>86232</td>\n",
       "    </tr>\n",
       "    <tr>\n",
       "      <th>for the</th>\n",
       "      <td>66418</td>\n",
       "    </tr>\n",
       "    <tr>\n",
       "      <th>on the</th>\n",
       "      <td>64648</td>\n",
       "    </tr>\n",
       "    <tr>\n",
       "      <th>that the</th>\n",
       "      <td>55059</td>\n",
       "    </tr>\n",
       "    <tr>\n",
       "      <th>it is</th>\n",
       "      <td>54349</td>\n",
       "    </tr>\n",
       "    <tr>\n",
       "      <th>by the</th>\n",
       "      <td>51306</td>\n",
       "    </tr>\n",
       "    <tr>\n",
       "      <th>the world</th>\n",
       "      <td>50939</td>\n",
       "    </tr>\n",
       "    <tr>\n",
       "      <th>the international</th>\n",
       "      <td>43945</td>\n",
       "    </tr>\n",
       "    <tr>\n",
       "      <th>with the</th>\n",
       "      <td>41519</td>\n",
       "    </tr>\n",
       "  </tbody>\n",
       "</table>\n",
       "</div>"
      ],
      "text/plain": [
       "                         0\n",
       "of the              397342\n",
       "in the              154303\n",
       "to the              118439\n",
       "united nations      103514\n",
       "the united          103063\n",
       "the united nations   89150\n",
       "and the              86232\n",
       "for the              66418\n",
       "on the               64648\n",
       "that the             55059\n",
       "it is                54349\n",
       "by the               51306\n",
       "the world            50939\n",
       "the international    43945\n",
       "with the             41519"
      ]
     },
     "execution_count": 8,
     "metadata": {},
     "output_type": "execute_result"
    },
    {
     "name": "stdout",
     "output_type": "stream",
     "text": [
      "time: 864 ms (started: 2023-04-06 21:45:17 +00:00)\n"
     ]
    }
   ],
   "source": [
    "# Frequency of occurrence of every n-gram\n",
    "Xdf = pd.DataFrame(np.sum(X, axis=0), \n",
    "                   columns=cvectorizer.get_feature_names_out()).T\n",
    "\n",
    "# Sort by frequency of occurrence of the n-gram, from high to low\n",
    "Xdf = Xdf.sort_values(by = 0, ascending = False)\n",
    "\n",
    "Xdf.head(15)"
   ]
  },
  {
   "cell_type": "code",
   "execution_count": 9,
   "id": "d61cc5ae",
   "metadata": {
    "execution": {
     "iopub.execute_input": "2023-04-06T21:45:18.187123Z",
     "iopub.status.busy": "2023-04-06T21:45:18.186722Z",
     "iopub.status.idle": "2023-04-06T21:45:18.234280Z",
     "shell.execute_reply": "2023-04-06T21:45:18.232960Z"
    },
    "papermill": {
     "duration": 0.069455,
     "end_time": "2023-04-06T21:45:18.237370",
     "exception": false,
     "start_time": "2023-04-06T21:45:18.167915",
     "status": "completed"
    },
    "tags": []
   },
   "outputs": [
    {
     "data": {
      "text/html": [
       "<div>\n",
       "<style scoped>\n",
       "    .dataframe tbody tr th:only-of-type {\n",
       "        vertical-align: middle;\n",
       "    }\n",
       "\n",
       "    .dataframe tbody tr th {\n",
       "        vertical-align: top;\n",
       "    }\n",
       "\n",
       "    .dataframe thead th {\n",
       "        text-align: right;\n",
       "    }\n",
       "</style>\n",
       "<table border=\"1\" class=\"dataframe\">\n",
       "  <thead>\n",
       "    <tr style=\"text-align: right;\">\n",
       "      <th></th>\n",
       "      <th>n-gram</th>\n",
       "      <th>0</th>\n",
       "    </tr>\n",
       "  </thead>\n",
       "  <tbody>\n",
       "    <tr>\n",
       "      <th>0</th>\n",
       "      <td>of the</td>\n",
       "      <td>397342</td>\n",
       "    </tr>\n",
       "    <tr>\n",
       "      <th>1</th>\n",
       "      <td>in the</td>\n",
       "      <td>154303</td>\n",
       "    </tr>\n",
       "    <tr>\n",
       "      <th>2</th>\n",
       "      <td>to the</td>\n",
       "      <td>118439</td>\n",
       "    </tr>\n",
       "    <tr>\n",
       "      <th>3</th>\n",
       "      <td>united nations</td>\n",
       "      <td>103514</td>\n",
       "    </tr>\n",
       "    <tr>\n",
       "      <th>4</th>\n",
       "      <td>the united</td>\n",
       "      <td>103063</td>\n",
       "    </tr>\n",
       "    <tr>\n",
       "      <th>5</th>\n",
       "      <td>the united nations</td>\n",
       "      <td>89150</td>\n",
       "    </tr>\n",
       "    <tr>\n",
       "      <th>6</th>\n",
       "      <td>and the</td>\n",
       "      <td>86232</td>\n",
       "    </tr>\n",
       "    <tr>\n",
       "      <th>7</th>\n",
       "      <td>for the</td>\n",
       "      <td>66418</td>\n",
       "    </tr>\n",
       "    <tr>\n",
       "      <th>8</th>\n",
       "      <td>on the</td>\n",
       "      <td>64648</td>\n",
       "    </tr>\n",
       "    <tr>\n",
       "      <th>9</th>\n",
       "      <td>that the</td>\n",
       "      <td>55059</td>\n",
       "    </tr>\n",
       "    <tr>\n",
       "      <th>10</th>\n",
       "      <td>it is</td>\n",
       "      <td>54349</td>\n",
       "    </tr>\n",
       "    <tr>\n",
       "      <th>11</th>\n",
       "      <td>by the</td>\n",
       "      <td>51306</td>\n",
       "    </tr>\n",
       "    <tr>\n",
       "      <th>12</th>\n",
       "      <td>the world</td>\n",
       "      <td>50939</td>\n",
       "    </tr>\n",
       "    <tr>\n",
       "      <th>13</th>\n",
       "      <td>the international</td>\n",
       "      <td>43945</td>\n",
       "    </tr>\n",
       "    <tr>\n",
       "      <th>14</th>\n",
       "      <td>with the</td>\n",
       "      <td>41519</td>\n",
       "    </tr>\n",
       "  </tbody>\n",
       "</table>\n",
       "</div>"
      ],
      "text/plain": [
       "                n-gram       0\n",
       "0               of the  397342\n",
       "1               in the  154303\n",
       "2               to the  118439\n",
       "3       united nations  103514\n",
       "4           the united  103063\n",
       "5   the united nations   89150\n",
       "6              and the   86232\n",
       "7              for the   66418\n",
       "8               on the   64648\n",
       "9             that the   55059\n",
       "10               it is   54349\n",
       "11              by the   51306\n",
       "12           the world   50939\n",
       "13   the international   43945\n",
       "14            with the   41519"
      ]
     },
     "execution_count": 9,
     "metadata": {},
     "output_type": "execute_result"
    },
    {
     "name": "stdout",
     "output_type": "stream",
     "text": [
      "time: 42.4 ms (started: 2023-04-06 21:45:18 +00:00)\n"
     ]
    }
   ],
   "source": [
    "# Reset index\n",
    "Xdf = Xdf.reset_index().rename(columns={'index': 'n-gram'})\n",
    "Xdf.head(15)"
   ]
  },
  {
   "cell_type": "markdown",
   "id": "3b6a882c",
   "metadata": {
    "papermill": {
     "duration": 0.017724,
     "end_time": "2023-04-06T21:45:18.273215",
     "exception": false,
     "start_time": "2023-04-06T21:45:18.255491",
     "status": "completed"
    },
    "tags": []
   },
   "source": [
    "<font color='orange'>\n",
    "The first rank where the n-gram is not a term is just the first one: \"of the\".\n",
    "<font>"
   ]
  },
  {
   "cell_type": "code",
   "execution_count": 10,
   "id": "620b0968",
   "metadata": {
    "execution": {
     "iopub.execute_input": "2023-04-06T21:45:18.310177Z",
     "iopub.status.busy": "2023-04-06T21:45:18.309783Z",
     "iopub.status.idle": "2023-04-06T21:46:19.709780Z",
     "shell.execute_reply": "2023-04-06T21:46:19.707936Z"
    },
    "papermill": {
     "duration": 61.441783,
     "end_time": "2023-04-06T21:46:19.732465",
     "exception": false,
     "start_time": "2023-04-06T21:45:18.290682",
     "status": "completed"
    },
    "tags": []
   },
   "outputs": [
    {
     "data": {
      "text/html": [
       "<div>\n",
       "<style scoped>\n",
       "    .dataframe tbody tr th:only-of-type {\n",
       "        vertical-align: middle;\n",
       "    }\n",
       "\n",
       "    .dataframe tbody tr th {\n",
       "        vertical-align: top;\n",
       "    }\n",
       "\n",
       "    .dataframe thead th {\n",
       "        text-align: right;\n",
       "    }\n",
       "</style>\n",
       "<table border=\"1\" class=\"dataframe\">\n",
       "  <thead>\n",
       "    <tr style=\"text-align: right;\">\n",
       "      <th></th>\n",
       "      <th>n-gram</th>\n",
       "      <th>0</th>\n",
       "    </tr>\n",
       "  </thead>\n",
       "  <tbody>\n",
       "    <tr>\n",
       "      <th>0</th>\n",
       "      <td>united nations</td>\n",
       "      <td>103521</td>\n",
       "    </tr>\n",
       "    <tr>\n",
       "      <th>1</th>\n",
       "      <td>international community</td>\n",
       "      <td>27779</td>\n",
       "    </tr>\n",
       "    <tr>\n",
       "      <th>2</th>\n",
       "      <td>general assembly</td>\n",
       "      <td>27112</td>\n",
       "    </tr>\n",
       "    <tr>\n",
       "      <th>3</th>\n",
       "      <td>security council</td>\n",
       "      <td>20986</td>\n",
       "    </tr>\n",
       "    <tr>\n",
       "      <th>4</th>\n",
       "      <td>human rights</td>\n",
       "      <td>20020</td>\n",
       "    </tr>\n",
       "    <tr>\n",
       "      <th>5</th>\n",
       "      <td>developing countries</td>\n",
       "      <td>18544</td>\n",
       "    </tr>\n",
       "    <tr>\n",
       "      <th>6</th>\n",
       "      <td>secretary general</td>\n",
       "      <td>17418</td>\n",
       "    </tr>\n",
       "    <tr>\n",
       "      <th>7</th>\n",
       "      <td>peace security</td>\n",
       "      <td>15244</td>\n",
       "    </tr>\n",
       "    <tr>\n",
       "      <th>8</th>\n",
       "      <td>united states</td>\n",
       "      <td>12569</td>\n",
       "    </tr>\n",
       "    <tr>\n",
       "      <th>9</th>\n",
       "      <td>middle east</td>\n",
       "      <td>12142</td>\n",
       "    </tr>\n",
       "    <tr>\n",
       "      <th>10</th>\n",
       "      <td>south africa</td>\n",
       "      <td>11132</td>\n",
       "    </tr>\n",
       "    <tr>\n",
       "      <th>11</th>\n",
       "      <td>session general</td>\n",
       "      <td>9354</td>\n",
       "    </tr>\n",
       "    <tr>\n",
       "      <th>12</th>\n",
       "      <td>session general assembly</td>\n",
       "      <td>9311</td>\n",
       "    </tr>\n",
       "    <tr>\n",
       "      <th>13</th>\n",
       "      <td>member states</td>\n",
       "      <td>9015</td>\n",
       "    </tr>\n",
       "    <tr>\n",
       "      <th>14</th>\n",
       "      <td>economic social</td>\n",
       "      <td>8131</td>\n",
       "    </tr>\n",
       "  </tbody>\n",
       "</table>\n",
       "</div>"
      ],
      "text/plain": [
       "                      n-gram       0\n",
       "0             united nations  103521\n",
       "1    international community   27779\n",
       "2           general assembly   27112\n",
       "3           security council   20986\n",
       "4               human rights   20020\n",
       "5       developing countries   18544\n",
       "6          secretary general   17418\n",
       "7             peace security   15244\n",
       "8              united states   12569\n",
       "9                middle east   12142\n",
       "10              south africa   11132\n",
       "11           session general    9354\n",
       "12  session general assembly    9311\n",
       "13             member states    9015\n",
       "14           economic social    8131"
      ]
     },
     "execution_count": 10,
     "metadata": {},
     "output_type": "execute_result"
    },
    {
     "name": "stdout",
     "output_type": "stream",
     "text": [
      "time: 1min 1s (started: 2023-04-06 21:45:18 +00:00)\n"
     ]
    }
   ],
   "source": [
    "# Add stopwords in CountVectorizer\n",
    "cvectorizer_stopwords = CountVectorizer(ngram_range=(2, 3), min_df=10, stop_words='english')\n",
    "X_stopwords = cvectorizer_stopwords.fit_transform(df.text)\n",
    "\n",
    "# Sort by frequency of occurrence of the n-gram\n",
    "X_stopwords_df = pd.DataFrame(np.sum(X_stopwords, axis=0), \n",
    "                   columns=cvectorizer_stopwords.get_feature_names_out()).T.sort_values(by=0, ascending=False)\n",
    "\n",
    "# Reset index\n",
    "X_stopwords_df = X_stopwords_df.reset_index().rename(columns={'index': 'n-gram'})\n",
    "X_stopwords_df.head(15)"
   ]
  },
  {
   "cell_type": "markdown",
   "id": "d25e9e3b",
   "metadata": {
    "papermill": {
     "duration": 0.018003,
     "end_time": "2023-04-06T21:46:19.768682",
     "exception": false,
     "start_time": "2023-04-06T21:46:19.750679",
     "status": "completed"
    },
    "tags": []
   },
   "source": [
    "<font color='orange'>\n",
    "The first rank where the n-gram is not a term is the 8th one: \"peace security\".\n",
    "<font>"
   ]
  },
  {
   "cell_type": "markdown",
   "id": "0836460a",
   "metadata": {
    "papermill": {
     "duration": 0.018297,
     "end_time": "2023-04-06T21:46:19.805392",
     "exception": false,
     "start_time": "2023-04-06T21:46:19.787095",
     "status": "completed"
    },
    "tags": []
   },
   "source": [
    "Q: Why neither method(to build a list of potential terms) is satisfactory?\n",
    "\n",
    "<font color='orange'>\n",
    "A: 1) The extracted n-grams may not be meaningful terms as they may just be random combinations in the text. \n",
    "    \n",
    "2) Some important terms may be missing from the vocabulary because they do not satisfy the threshold condition for n-grams, or because they are long phrases consisting of multiple words rather than simple n-grams.\n",
    "<font>"
   ]
  },
  {
   "cell_type": "markdown",
   "id": "87a880a7",
   "metadata": {
    "papermill": {
     "duration": 0.018174,
     "end_time": "2023-04-06T21:46:19.841783",
     "exception": false,
     "start_time": "2023-04-06T21:46:19.823609",
     "status": "completed"
    },
    "tags": []
   },
   "source": [
    "### 🚧 todo:\n",
    "#### quickly redo the same thing for the QA domain:"
   ]
  },
  {
   "cell_type": "code",
   "execution_count": 11,
   "id": "836fb1df",
   "metadata": {
    "execution": {
     "iopub.execute_input": "2023-04-06T21:46:19.880837Z",
     "iopub.status.busy": "2023-04-06T21:46:19.880369Z",
     "iopub.status.idle": "2023-04-06T21:46:54.948574Z",
     "shell.execute_reply": "2023-04-06T21:46:54.947365Z"
    },
    "papermill": {
     "duration": 35.110253,
     "end_time": "2023-04-06T21:46:54.970220",
     "exception": false,
     "start_time": "2023-04-06T21:46:19.859967",
     "status": "completed"
    },
    "tags": []
   },
   "outputs": [
    {
     "data": {
      "text/html": [
       "<div>\n",
       "<style scoped>\n",
       "    .dataframe tbody tr th:only-of-type {\n",
       "        vertical-align: middle;\n",
       "    }\n",
       "\n",
       "    .dataframe tbody tr th {\n",
       "        vertical-align: top;\n",
       "    }\n",
       "\n",
       "    .dataframe thead th {\n",
       "        text-align: right;\n",
       "    }\n",
       "</style>\n",
       "<table border=\"1\" class=\"dataframe\">\n",
       "  <thead>\n",
       "    <tr style=\"text-align: right;\">\n",
       "      <th></th>\n",
       "      <th>docid</th>\n",
       "      <th>text</th>\n",
       "    </tr>\n",
       "  </thead>\n",
       "  <tbody>\n",
       "    <tr>\n",
       "      <th>0</th>\n",
       "      <td>D2981241</td>\n",
       "      <td>What do you call a group of lions? Lions Vocab...</td>\n",
       "    </tr>\n",
       "    <tr>\n",
       "      <th>1</th>\n",
       "      <td>D687756</td>\n",
       "      <td>. The A Priori Argument ( also, Rationalizatio...</td>\n",
       "    </tr>\n",
       "    <tr>\n",
       "      <th>2</th>\n",
       "      <td>D913099</td>\n",
       "      <td>Everything You Need To Learn How To Cook Veget...</td>\n",
       "    </tr>\n",
       "    <tr>\n",
       "      <th>3</th>\n",
       "      <td>D328017</td>\n",
       "      <td>What is the difference between latitude, longi...</td>\n",
       "    </tr>\n",
       "    <tr>\n",
       "      <th>4</th>\n",
       "      <td>D1636347</td>\n",
       "      <td>When was the pulley invented? Answers.com ® Wi...</td>\n",
       "    </tr>\n",
       "    <tr>\n",
       "      <th>...</th>\n",
       "      <td>...</td>\n",
       "      <td>...</td>\n",
       "    </tr>\n",
       "    <tr>\n",
       "      <th>994</th>\n",
       "      <td>D3342489</td>\n",
       "      <td>Travis Writes from the Alamo: âVictory or Deat...</td>\n",
       "    </tr>\n",
       "    <tr>\n",
       "      <th>995</th>\n",
       "      <td>D1789587</td>\n",
       "      <td>MGM Resorts International From Wikipedia, the ...</td>\n",
       "    </tr>\n",
       "    <tr>\n",
       "      <th>996</th>\n",
       "      <td>D98171</td>\n",
       "      <td>What are five properties of acids and bases? A...</td>\n",
       "    </tr>\n",
       "    <tr>\n",
       "      <th>997</th>\n",
       "      <td>D1744728</td>\n",
       "      <td>Welcome to the next generation of mineral wate...</td>\n",
       "    </tr>\n",
       "    <tr>\n",
       "      <th>998</th>\n",
       "      <td>D3342622</td>\n",
       "      <td>If all the cells in our body have the same DNA...</td>\n",
       "    </tr>\n",
       "  </tbody>\n",
       "</table>\n",
       "<p>999 rows × 2 columns</p>\n",
       "</div>"
      ],
      "text/plain": [
       "        docid                                               text\n",
       "0    D2981241  What do you call a group of lions? Lions Vocab...\n",
       "1     D687756  . The A Priori Argument ( also, Rationalizatio...\n",
       "2     D913099  Everything You Need To Learn How To Cook Veget...\n",
       "3     D328017  What is the difference between latitude, longi...\n",
       "4    D1636347  When was the pulley invented? Answers.com ® Wi...\n",
       "..        ...                                                ...\n",
       "994  D3342489  Travis Writes from the Alamo: âVictory or Deat...\n",
       "995  D1789587  MGM Resorts International From Wikipedia, the ...\n",
       "996    D98171  What are five properties of acids and bases? A...\n",
       "997  D1744728  Welcome to the next generation of mineral wate...\n",
       "998  D3342622  If all the cells in our body have the same DNA...\n",
       "\n",
       "[999 rows x 2 columns]"
      ]
     },
     "execution_count": 11,
     "metadata": {},
     "output_type": "execute_result"
    },
    {
     "name": "stdout",
     "output_type": "stream",
     "text": [
      "time: 35.1 s (started: 2023-04-06 21:46:19 +00:00)\n"
     ]
    }
   ],
   "source": [
    "docs = pd.read_csv(path+'/our.text.msmarco.docs.tsv',sep='\\t',usecols=[1,2]) \n",
    "docs[:999]"
   ]
  },
  {
   "cell_type": "code",
   "execution_count": 12,
   "id": "e6f7bf8d",
   "metadata": {
    "execution": {
     "iopub.execute_input": "2023-04-06T21:46:55.008490Z",
     "iopub.status.busy": "2023-04-06T21:46:55.008077Z",
     "iopub.status.idle": "2023-04-06T21:53:34.369458Z",
     "shell.execute_reply": "2023-04-06T21:53:34.365827Z"
    },
    "papermill": {
     "duration": 399.409786,
     "end_time": "2023-04-06T21:53:34.398237",
     "exception": false,
     "start_time": "2023-04-06T21:46:54.988451",
     "status": "completed"
    },
    "tags": []
   },
   "outputs": [
    {
     "data": {
      "text/html": [
       "<div>\n",
       "<style scoped>\n",
       "    .dataframe tbody tr th:only-of-type {\n",
       "        vertical-align: middle;\n",
       "    }\n",
       "\n",
       "    .dataframe tbody tr th {\n",
       "        vertical-align: top;\n",
       "    }\n",
       "\n",
       "    .dataframe thead th {\n",
       "        text-align: right;\n",
       "    }\n",
       "</style>\n",
       "<table border=\"1\" class=\"dataframe\">\n",
       "  <thead>\n",
       "    <tr style=\"text-align: right;\">\n",
       "      <th></th>\n",
       "      <th>n-gram</th>\n",
       "      <th>0</th>\n",
       "    </tr>\n",
       "  </thead>\n",
       "  <tbody>\n",
       "    <tr>\n",
       "      <th>0</th>\n",
       "      <td>united states</td>\n",
       "      <td>84020</td>\n",
       "    </tr>\n",
       "    <tr>\n",
       "      <th>1</th>\n",
       "      <td>new york</td>\n",
       "      <td>61695</td>\n",
       "    </tr>\n",
       "    <tr>\n",
       "      <th>2</th>\n",
       "      <td>read dr</td>\n",
       "      <td>35957</td>\n",
       "    </tr>\n",
       "    <tr>\n",
       "      <th>3</th>\n",
       "      <td>et al</td>\n",
       "      <td>35485</td>\n",
       "    </tr>\n",
       "    <tr>\n",
       "      <th>4</th>\n",
       "      <td>archived original</td>\n",
       "      <td>32592</td>\n",
       "    </tr>\n",
       "    <tr>\n",
       "      <th>5</th>\n",
       "      <td>doi 10</td>\n",
       "      <td>30689</td>\n",
       "    </tr>\n",
       "    <tr>\n",
       "      <th>6</th>\n",
       "      <td>years ago</td>\n",
       "      <td>29094</td>\n",
       "    </tr>\n",
       "    <tr>\n",
       "      <th>7</th>\n",
       "      <td>http www</td>\n",
       "      <td>25709</td>\n",
       "    </tr>\n",
       "    <tr>\n",
       "      <th>8</th>\n",
       "      <td>long term</td>\n",
       "      <td>22322</td>\n",
       "    </tr>\n",
       "    <tr>\n",
       "      <th>9</th>\n",
       "      <td>blood pressure</td>\n",
       "      <td>21644</td>\n",
       "    </tr>\n",
       "    <tr>\n",
       "      <th>10</th>\n",
       "      <td>long does</td>\n",
       "      <td>20439</td>\n",
       "    </tr>\n",
       "    <tr>\n",
       "      <th>11</th>\n",
       "      <td>high school</td>\n",
       "      <td>20301</td>\n",
       "    </tr>\n",
       "    <tr>\n",
       "      <th>12</th>\n",
       "      <td>information page</td>\n",
       "      <td>20037</td>\n",
       "    </tr>\n",
       "    <tr>\n",
       "      <th>13</th>\n",
       "      <td>zip code</td>\n",
       "      <td>19778</td>\n",
       "    </tr>\n",
       "    <tr>\n",
       "      <th>14</th>\n",
       "      <td>make sure</td>\n",
       "      <td>19319</td>\n",
       "    </tr>\n",
       "  </tbody>\n",
       "</table>\n",
       "</div>"
      ],
      "text/plain": [
       "               n-gram      0\n",
       "0       united states  84020\n",
       "1            new york  61695\n",
       "2             read dr  35957\n",
       "3               et al  35485\n",
       "4   archived original  32592\n",
       "5              doi 10  30689\n",
       "6           years ago  29094\n",
       "7            http www  25709\n",
       "8           long term  22322\n",
       "9      blood pressure  21644\n",
       "10          long does  20439\n",
       "11        high school  20301\n",
       "12   information page  20037\n",
       "13           zip code  19778\n",
       "14          make sure  19319"
      ]
     },
     "execution_count": 12,
     "metadata": {},
     "output_type": "execute_result"
    },
    {
     "name": "stdout",
     "output_type": "stream",
     "text": [
      "time: 6min 39s (started: 2023-04-06 21:46:55 +00:00)\n"
     ]
    }
   ],
   "source": [
    "# Add stopwords in CountVectorizer\n",
    "cvectorizer_stopwords = CountVectorizer(ngram_range=(2, 2), min_df=15, stop_words='english')\n",
    "X_stopwords = cvectorizer_stopwords.fit_transform(docs.text)\n",
    "\n",
    "# Sort by frequency of occurrence of the n-gram\n",
    "X_stopwords_df = pd.DataFrame(np.sum(X_stopwords, axis=0), \n",
    "                   columns=cvectorizer_stopwords.get_feature_names_out()).T.sort_values(by=0, ascending=False)\n",
    "\n",
    "# Reset index\n",
    "X_stopwords_df = X_stopwords_df.reset_index().rename(columns={'index': 'n-gram'})\n",
    "X_stopwords_df.head(15)"
   ]
  },
  {
   "cell_type": "markdown",
   "id": "51a0cf01",
   "metadata": {
    "papermill": {
     "duration": 0.019541,
     "end_time": "2023-04-06T21:53:34.437757",
     "exception": false,
     "start_time": "2023-04-06T21:53:34.418216",
     "status": "completed"
    },
    "tags": []
   },
   "source": [
    "<font color='orange'>\n",
    "The first rank where the n-gram is not a term is the 3rd one: \"read dr\".\n",
    "<font>"
   ]
  },
  {
   "cell_type": "markdown",
   "id": "53d30244",
   "metadata": {
    "papermill": {
     "duration": 0.019032,
     "end_time": "2023-04-06T21:53:34.475319",
     "exception": false,
     "start_time": "2023-04-06T21:53:34.456287",
     "status": "completed"
    },
    "tags": []
   },
   "source": [
    "### 🚧 todo:\n",
    "#### quickly redo the same thing for the patent domain:"
   ]
  },
  {
   "cell_type": "code",
   "execution_count": 13,
   "id": "230816dd",
   "metadata": {
    "execution": {
     "iopub.execute_input": "2023-04-06T21:53:34.518537Z",
     "iopub.status.busy": "2023-04-06T21:53:34.517983Z",
     "iopub.status.idle": "2023-04-06T21:53:37.070934Z",
     "shell.execute_reply": "2023-04-06T21:53:37.069506Z"
    },
    "papermill": {
     "duration": 2.579676,
     "end_time": "2023-04-06T21:53:37.074138",
     "exception": false,
     "start_time": "2023-04-06T21:53:34.494462",
     "status": "completed"
    },
    "tags": []
   },
   "outputs": [
    {
     "name": "stdout",
     "output_type": "stream",
     "text": [
      "302426 lines of patent text\n",
      "time: 2.55 s (started: 2023-04-06 21:53:34 +00:00)\n"
     ]
    }
   ],
   "source": [
    "# read patent file (already unzipped)\n",
    "g06f=open(path+'/G06F.txt').read().strip()\n",
    "patent_lines = g06f.split('\\n')\n",
    "print(len(patent_lines),'lines of patent text')"
   ]
  },
  {
   "cell_type": "code",
   "execution_count": 14,
   "id": "72d26d4a",
   "metadata": {
    "execution": {
     "iopub.execute_input": "2023-04-06T21:53:37.114501Z",
     "iopub.status.busy": "2023-04-06T21:53:37.114062Z",
     "iopub.status.idle": "2023-04-06T21:54:17.263242Z",
     "shell.execute_reply": "2023-04-06T21:54:17.261837Z"
    },
    "papermill": {
     "duration": 40.191833,
     "end_time": "2023-04-06T21:54:17.285364",
     "exception": false,
     "start_time": "2023-04-06T21:53:37.093531",
     "status": "completed"
    },
    "tags": []
   },
   "outputs": [
    {
     "data": {
      "text/html": [
       "<div>\n",
       "<style scoped>\n",
       "    .dataframe tbody tr th:only-of-type {\n",
       "        vertical-align: middle;\n",
       "    }\n",
       "\n",
       "    .dataframe tbody tr th {\n",
       "        vertical-align: top;\n",
       "    }\n",
       "\n",
       "    .dataframe thead th {\n",
       "        text-align: right;\n",
       "    }\n",
       "</style>\n",
       "<table border=\"1\" class=\"dataframe\">\n",
       "  <thead>\n",
       "    <tr style=\"text-align: right;\">\n",
       "      <th></th>\n",
       "      <th>n-gram</th>\n",
       "      <th>0</th>\n",
       "    </tr>\n",
       "  </thead>\n",
       "  <tbody>\n",
       "    <tr>\n",
       "      <th>0</th>\n",
       "      <td>electronic device</td>\n",
       "      <td>28796</td>\n",
       "    </tr>\n",
       "    <tr>\n",
       "      <th>1</th>\n",
       "      <td>present invention</td>\n",
       "      <td>19388</td>\n",
       "    </tr>\n",
       "    <tr>\n",
       "      <th>2</th>\n",
       "      <td>present disclosure</td>\n",
       "      <td>17632</td>\n",
       "    </tr>\n",
       "    <tr>\n",
       "      <th>3</th>\n",
       "      <td>according embodiment</td>\n",
       "      <td>16176</td>\n",
       "    </tr>\n",
       "    <tr>\n",
       "      <th>4</th>\n",
       "      <td>user interface</td>\n",
       "      <td>14732</td>\n",
       "    </tr>\n",
       "    <tr>\n",
       "      <th>5</th>\n",
       "      <td>embodiment present</td>\n",
       "      <td>12729</td>\n",
       "    </tr>\n",
       "    <tr>\n",
       "      <th>6</th>\n",
       "      <td>shown fig</td>\n",
       "      <td>11232</td>\n",
       "    </tr>\n",
       "    <tr>\n",
       "      <th>7</th>\n",
       "      <td>mobile terminal</td>\n",
       "      <td>10840</td>\n",
       "    </tr>\n",
       "    <tr>\n",
       "      <th>8</th>\n",
       "      <td>control unit</td>\n",
       "      <td>10630</td>\n",
       "    </tr>\n",
       "    <tr>\n",
       "      <th>9</th>\n",
       "      <td>information processing</td>\n",
       "      <td>9704</td>\n",
       "    </tr>\n",
       "    <tr>\n",
       "      <th>10</th>\n",
       "      <td>processing unit</td>\n",
       "      <td>9115</td>\n",
       "    </tr>\n",
       "    <tr>\n",
       "      <th>11</th>\n",
       "      <td>patent application</td>\n",
       "      <td>9074</td>\n",
       "    </tr>\n",
       "    <tr>\n",
       "      <th>12</th>\n",
       "      <td>illustrated fig</td>\n",
       "      <td>8597</td>\n",
       "    </tr>\n",
       "    <tr>\n",
       "      <th>13</th>\n",
       "      <td>computing device</td>\n",
       "      <td>8197</td>\n",
       "    </tr>\n",
       "    <tr>\n",
       "      <th>14</th>\n",
       "      <td>embodiments present</td>\n",
       "      <td>7756</td>\n",
       "    </tr>\n",
       "  </tbody>\n",
       "</table>\n",
       "</div>"
      ],
      "text/plain": [
       "                    n-gram      0\n",
       "0        electronic device  28796\n",
       "1        present invention  19388\n",
       "2       present disclosure  17632\n",
       "3     according embodiment  16176\n",
       "4           user interface  14732\n",
       "5       embodiment present  12729\n",
       "6                shown fig  11232\n",
       "7          mobile terminal  10840\n",
       "8             control unit  10630\n",
       "9   information processing   9704\n",
       "10         processing unit   9115\n",
       "11      patent application   9074\n",
       "12         illustrated fig   8597\n",
       "13        computing device   8197\n",
       "14     embodiments present   7756"
      ]
     },
     "execution_count": 14,
     "metadata": {},
     "output_type": "execute_result"
    },
    {
     "name": "stdout",
     "output_type": "stream",
     "text": [
      "time: 40.1 s (started: 2023-04-06 21:53:37 +00:00)\n"
     ]
    }
   ],
   "source": [
    "X_stopwords=cvectorizer_stopwords.fit_transform(patent_lines)\n",
    "# sort by frequency of occurrence of n-gram from high to low\n",
    "X_stopwords_df = pd.DataFrame(np.sum(X_stopwords, axis=0), \n",
    "                   columns=cvectorizer_stopwords.get_feature_names_out()).T.sort_values(by=0, ascending=False)\n",
    "\n",
    "# Reset index\n",
    "X_stopwords_df = X_stopwords_df.reset_index().rename(columns={'index': 'n-gram'})\n",
    "X_stopwords_df.head(15)"
   ]
  },
  {
   "cell_type": "markdown",
   "id": "df9e2d99",
   "metadata": {
    "papermill": {
     "duration": 0.018399,
     "end_time": "2023-04-06T21:54:17.322548",
     "exception": false,
     "start_time": "2023-04-06T21:54:17.304149",
     "status": "completed"
    },
    "tags": []
   },
   "source": [
    "Q again: where do the first errors appear?\n",
    "\n",
    "<font color='orange'>\n",
    "A: The first rank where the n-gram is not a term is the 2nd one: \"present invention\".\n",
    "<font>"
   ]
  },
  {
   "cell_type": "markdown",
   "id": "4e08b025",
   "metadata": {
    "papermill": {
     "duration": 0.019598,
     "end_time": "2023-04-06T21:54:17.361927",
     "exception": false,
     "start_time": "2023-04-06T21:54:17.342329",
     "status": "completed"
    },
    "tags": []
   },
   "source": [
    "### 🚧 todo:\n",
    "\n",
    "Q: Compare this approach for the three domains (talks, QA, patents)\n",
    "\n",
    "<font color='orange'>\n",
    "A:  The effectiveness of the n-gram approach for term extraction and frequency sorting may vary depending on the domain of the text:  \n",
    "    \n",
    "Talks may benefit from the n-gram approach due to common phrases and colloquial language; QA texts may have technical terms and noise that reduce effectiveness; Patents may benefit from technical terms and standardized format, but have noise from legal jargon and references.\n",
    "    \n",
    "<font>"
   ]
  },
  {
   "cell_type": "markdown",
   "id": "d5c78242",
   "metadata": {
    "papermill": {
     "duration": 0.01915,
     "end_time": "2023-04-06T21:54:17.400001",
     "exception": false,
     "start_time": "2023-04-06T21:54:17.380851",
     "status": "completed"
    },
    "tags": []
   },
   "source": [
    "### 🤔 maybe a **term** is hard to define in statistical terms?\n",
    "\n",
    "- we could do better: \n",
    "    - mutual information, \n",
    "    - specificity, \n",
    "    - entropy (at term borders)\n",
    "\n",
    "- but let's first try to add information"
   ]
  },
  {
   "cell_type": "markdown",
   "id": "0137df06",
   "metadata": {
    "papermill": {
     "duration": 0.018631,
     "end_time": "2023-04-06T21:54:17.437492",
     "exception": false,
     "start_time": "2023-04-06T21:54:17.418861",
     "status": "completed"
    },
    "tags": []
   },
   "source": [
    "## getting external lists\n",
    "\n",
    "Wikipedia has\n",
    "- page titles\n",
    "- links (words pointing to pages)\n",
    "- redirects (alternative page titles)\n",
    "\n",
    "Wikipedia also has\n",
    "- too many pages\n",
    "- categories (not a taxonomy!)\n",
    "- XML dumps\n",
    "\n",
    "A ready-made list: \n",
    "- manyterms.lower.txt contains all these potential terms from these categories and subcategories (and some heuristics such as minimum frequency, some no-go Categories, ....): ['Category:Physics', 'Category:Technology', 'Category:Technology_by_type', 'Category:Techniques']\n",
    "- 49166 categories, 2227891 pages\n",
    "- 700k potential multi-word terms\n",
    "\n",
    "Let's get a frequency count of these potential terms in our g06f!\n",
    "That sounds easy!\n",
    "- use \n",
    "    - a regex?\n",
    "        - not working well \n",
    "    - a Tier\n",
    "    - or CountVectorizer(vocabulary=...\n",
    "    "
   ]
  },
  {
   "cell_type": "code",
   "execution_count": 15,
   "id": "cbb28261",
   "metadata": {
    "execution": {
     "iopub.execute_input": "2023-04-06T21:54:17.477559Z",
     "iopub.status.busy": "2023-04-06T21:54:17.477127Z",
     "iopub.status.idle": "2023-04-06T21:54:18.132122Z",
     "shell.execute_reply": "2023-04-06T21:54:18.130558Z"
    },
    "papermill": {
     "duration": 0.678258,
     "end_time": "2023-04-06T21:54:18.134876",
     "exception": false,
     "start_time": "2023-04-06T21:54:17.456618",
     "status": "completed"
    },
    "tags": []
   },
   "outputs": [
    {
     "name": "stdout",
     "output_type": "stream",
     "text": [
      "['alpha-numeric code', 'alpha-particle emission', 'alpha-particle scattering experiment', 'alpha-particle spectroscopy', 'alpha-to-beta transition temperature']\n",
      "743274 mwes\n",
      "time: 649 ms (started: 2023-04-06 21:54:17 +00:00)\n"
     ]
    }
   ],
   "source": [
    "# Here are the potential terms(mwe means 'multi-word expression')\n",
    "mwes = open(path+'/manyterms.lower.txt').read().strip().split('\\n') \n",
    "print(mwes[33333:33338])\n",
    "print(len(mwes),'mwes')"
   ]
  },
  {
   "cell_type": "code",
   "execution_count": 16,
   "id": "82b3b793",
   "metadata": {
    "execution": {
     "iopub.execute_input": "2023-04-06T21:54:18.174607Z",
     "iopub.status.busy": "2023-04-06T21:54:18.174197Z",
     "iopub.status.idle": "2023-04-06T21:57:00.759582Z",
     "shell.execute_reply": "2023-04-06T21:57:00.758063Z"
    },
    "papermill": {
     "duration": 162.608127,
     "end_time": "2023-04-06T21:57:00.762044",
     "exception": false,
     "start_time": "2023-04-06T21:54:18.153917",
     "status": "completed"
    },
    "tags": []
   },
   "outputs": [
    {
     "data": {
      "application/vnd.jupyter.widget-view+json": {
       "model_id": "0826ccfa3938497db230d2d895fe9d31",
       "version_major": 2,
       "version_minor": 0
      },
      "text/plain": [
       "0it [00:00, ?it/s]"
      ]
     },
     "metadata": {},
     "output_type": "display_data"
    },
    {
     "name": "stdout",
     "output_type": "stream",
     "text": [
      "[('10 seconds', 92), ('10 minutes', 84), (\"10 o'clock\", 7)]\n",
      "time: 2min 42s (started: 2023-04-06 21:54:18 +00:00)\n"
     ]
    }
   ],
   "source": [
    "# not working: already crazy slow for 500 terms. Why?\n",
    "n = 500\n",
    "termlist = [re.escape(t) for t in mwes[:n]]\n",
    "termregex = re.compile(r'\\b'+r'\\b|\\b'.join(termlist), re.I)\n",
    "termfreqs = Counter()\n",
    "for i,li in tqdm(enumerate(g06f.split('\\n'))):\n",
    "    for m in termregex.finditer(li):\n",
    "        termfreqs[m.group(0)]=termfreqs.get(m.group(0),0)+1\n",
    "print(termfreqs.most_common(3))"
   ]
  },
  {
   "cell_type": "markdown",
   "id": "c21f0308",
   "metadata": {
    "papermill": {
     "duration": 0.018832,
     "end_time": "2023-04-06T21:57:00.800644",
     "exception": false,
     "start_time": "2023-04-06T21:57:00.781812",
     "status": "completed"
    },
    "tags": []
   },
   "source": [
    "### 🚧 todo:\n",
    "- explain in two sentences why previous approaches for this task are so slow and why turning to a Trie is more promising.  \n",
    "<font color='orange'>\n",
    "Regex approaches for this task are slow because they have to check every possible match in the text, which can be computationally expensive. \n",
    "Turning to a Trie is more promising because it can efficiently search for multiple patterns at once and avoid unnecessary comparisons.\n",
    "<font>  \n",
    "    \n",
    "- understand the Trie algorithm\n",
    "- put comments behind the lines that don't have any yet"
   ]
  },
  {
   "cell_type": "code",
   "execution_count": 17,
   "id": "6af42872",
   "metadata": {
    "execution": {
     "iopub.execute_input": "2023-04-06T21:57:00.842705Z",
     "iopub.status.busy": "2023-04-06T21:57:00.842302Z",
     "iopub.status.idle": "2023-04-06T21:57:00.856778Z",
     "shell.execute_reply": "2023-04-06T21:57:00.855449Z"
    },
    "papermill": {
     "duration": 0.038527,
     "end_time": "2023-04-06T21:57:00.859414",
     "exception": false,
     "start_time": "2023-04-06T21:57:00.820887",
     "status": "completed"
    },
    "tags": []
   },
   "outputs": [
    {
     "name": "stdout",
     "output_type": "stream",
     "text": [
      "time: 3.76 ms (started: 2023-04-06 21:57:00 +00:00)\n"
     ]
    }
   ],
   "source": [
    "# a Trie, working better:\n",
    "class FreqMWETokenizer(MWETokenizer):\n",
    "    \"\"\"A tokenizer that processes tokenized text and merges multi-word expressions into single tokens.\n",
    "    \"\"\"\n",
    "    \n",
    "    def __init__(self, mwes=None, separator=\"_\"):\n",
    "        super().__init__(mwes, separator)\n",
    "\n",
    "    def freqs(self, text):\n",
    "        \"\"\"\n",
    "        :param text: A list containing tokenized text\n",
    "        :type text: list(str)\n",
    "        \n",
    "        :return: A frequency dictionary with multi-words merged together as keys\n",
    "        :rtype: dict\n",
    "        \n",
    "        :Example:\n",
    "        >>> tokenizer = FreqMWETokenizer([ mw.split() for mw in ['multilayer ceramic', 'multilayer ceramic capacitor', 'ceramic capacitor']],\n",
    "                                        separator=' ')\n",
    "        >>> tokenizer.freqs(\"Gimme that multilayer ceramic capacitor please!\".split())\n",
    "        {'multilayer ceramic': 1, 'multilayer ceramic capacitor': 1, 'ceramic capacitor': 1}\n",
    "        \"\"\"\n",
    "        i = 0  # index of token\n",
    "        n = len(text) # number of tokens\n",
    "        result = Counter()  # result stores the frequency of multi-word expressions(MWEs).\n",
    "\n",
    "        while i < n:\n",
    "            if text[i] in self._mwes:  # If the current token is in the list of MWEs.\n",
    "                j = i\n",
    "                trie = self._mwes  # Initialize the Trie object.\n",
    "                \n",
    "                while j < n and text[j] in trie: # Iterate over the tokens from i\n",
    "                    if Trie.LEAF in trie: # If the current node is a leaf.\n",
    "                        # Success! We found a MWE match.\n",
    "                        mw = self._separator.join(text[i:j])  # Merge the MWE into a single token.\n",
    "                        result[mw] = result.get(mw,0) + 1  # Increment the frequency of the MWE in the Counter.\n",
    "                    \n",
    "                    trie = trie[text[j]]  # Move one step down in the trie.\n",
    "                    j += 1\n",
    "                else:  # Executed if the while loop did not break.\n",
    "                    if Trie.LEAF in trie:  # Check if the current node is a leaf.\n",
    "                        # Success! We found a MWE match.\n",
    "                        mw = self._separator.join(text[i:j])  # Merge this MWE into a single token.\n",
    "                        result[mw] = result.get(mw,0) + 1  # Increment the frequency of this MWE in the Counter.\n",
    "                    \n",
    "                    i += 1\n",
    "            else:\n",
    "                i += 1\n",
    "\n",
    "        return result\n"
   ]
  },
  {
   "cell_type": "code",
   "execution_count": 18,
   "id": "06d4b927",
   "metadata": {
    "execution": {
     "iopub.execute_input": "2023-04-06T21:57:00.900790Z",
     "iopub.status.busy": "2023-04-06T21:57:00.900340Z",
     "iopub.status.idle": "2023-04-06T21:57:00.910460Z",
     "shell.execute_reply": "2023-04-06T21:57:00.909034Z"
    },
    "papermill": {
     "duration": 0.03384,
     "end_time": "2023-04-06T21:57:00.913273",
     "exception": false,
     "start_time": "2023-04-06T21:57:00.879433",
     "status": "completed"
    },
    "tags": []
   },
   "outputs": [
    {
     "data": {
      "text/plain": [
       "Counter({'multilayer ceramic': 1,\n",
       "         'multilayer ceramic capacitor': 1,\n",
       "         'ceramic capacitor': 1})"
      ]
     },
     "execution_count": 18,
     "metadata": {},
     "output_type": "execute_result"
    },
    {
     "name": "stdout",
     "output_type": "stream",
     "text": [
      "time: 4.33 ms (started: 2023-04-06 21:57:00 +00:00)\n"
     ]
    }
   ],
   "source": [
    "# Use example above to test FreqMWETokenizer \n",
    "tokenizer = FreqMWETokenizer([ mw.split() for mw in ['multilayer ceramic', 'multilayer ceramic capacitor', 'ceramic capacitor']],\n",
    "                             separator=' ')\n",
    "tokenizer.freqs(\"Gimme that multilayer ceramic capacitor please!\".split())"
   ]
  },
  {
   "cell_type": "code",
   "execution_count": 19,
   "id": "24dcfeb4",
   "metadata": {
    "execution": {
     "iopub.execute_input": "2023-04-06T21:57:00.954340Z",
     "iopub.status.busy": "2023-04-06T21:57:00.953909Z",
     "iopub.status.idle": "2023-04-06T21:57:15.936375Z",
     "shell.execute_reply": "2023-04-06T21:57:15.934882Z"
    },
    "papermill": {
     "duration": 15.006434,
     "end_time": "2023-04-06T21:57:15.939344",
     "exception": false,
     "start_time": "2023-04-06T21:57:00.932910",
     "status": "completed"
    },
    "tags": []
   },
   "outputs": [
    {
     "data": {
      "text/plain": [
       "Counter({'multilayer ceramic': 1,\n",
       "         'multilayer ceramic capacitor': 1,\n",
       "         'ceramic capacitor': 1})"
      ]
     },
     "execution_count": 19,
     "metadata": {},
     "output_type": "execute_result"
    },
    {
     "name": "stdout",
     "output_type": "stream",
     "text": [
      "time: 15 s (started: 2023-04-06 21:57:00 +00:00)\n"
     ]
    }
   ],
   "source": [
    "# Apply Trie to data\n",
    "splimwes = [mw.split() for mw in mwes]\n",
    "tokenizer = FreqMWETokenizer(splimwes, separator=' ')\n",
    "tokenizer.freqs(\"Gimme that multilayer ceramic capacitor please!\".split())"
   ]
  },
  {
   "cell_type": "code",
   "execution_count": 20,
   "id": "a784ffa6",
   "metadata": {
    "execution": {
     "iopub.execute_input": "2023-04-06T21:57:15.981508Z",
     "iopub.status.busy": "2023-04-06T21:57:15.981041Z",
     "iopub.status.idle": "2023-04-06T21:57:53.226087Z",
     "shell.execute_reply": "2023-04-06T21:57:53.224732Z"
    },
    "papermill": {
     "duration": 37.303342,
     "end_time": "2023-04-06T21:57:53.263112",
     "exception": false,
     "start_time": "2023-04-06T21:57:15.959770",
     "status": "completed"
    },
    "tags": []
   },
   "outputs": [
    {
     "name": "stdout",
     "output_type": "stream",
     "text": [
      "it took 37.23818162099997 seconds, 5.010020748875915e-05 per term\n",
      "time: 37.2 s (started: 2023-04-06 21:57:15 +00:00)\n"
     ]
    }
   ],
   "source": [
    "start = timeit.default_timer()\n",
    "counter = tokenizer.freqs(g06f.split())\n",
    "secs = timeit.default_timer()-start\n",
    "print('it took', secs, 'seconds,', secs/len(mwes),'per term')\n"
   ]
  },
  {
   "cell_type": "code",
   "execution_count": 21,
   "id": "ca894ebd",
   "metadata": {
    "execution": {
     "iopub.execute_input": "2023-04-06T21:57:53.314642Z",
     "iopub.status.busy": "2023-04-06T21:57:53.314183Z",
     "iopub.status.idle": "2023-04-06T21:57:53.338679Z",
     "shell.execute_reply": "2023-04-06T21:57:53.336898Z"
    },
    "papermill": {
     "duration": 0.053158,
     "end_time": "2023-04-06T21:57:53.342906",
     "exception": false,
     "start_time": "2023-04-06T21:57:53.289748",
     "status": "completed"
    },
    "tags": []
   },
   "outputs": [
    {
     "data": {
      "text/html": [
       "<div>\n",
       "<style scoped>\n",
       "    .dataframe tbody tr th:only-of-type {\n",
       "        vertical-align: middle;\n",
       "    }\n",
       "\n",
       "    .dataframe tbody tr th {\n",
       "        vertical-align: top;\n",
       "    }\n",
       "\n",
       "    .dataframe thead th {\n",
       "        text-align: right;\n",
       "    }\n",
       "</style>\n",
       "<table border=\"1\" class=\"dataframe\">\n",
       "  <thead>\n",
       "    <tr style=\"text-align: right;\">\n",
       "      <th></th>\n",
       "      <th>0</th>\n",
       "    </tr>\n",
       "  </thead>\n",
       "  <tbody>\n",
       "    <tr>\n",
       "      <th>the present</th>\n",
       "      <td>44578</td>\n",
       "    </tr>\n",
       "    <tr>\n",
       "      <th>electronic device</th>\n",
       "      <td>24272</td>\n",
       "    </tr>\n",
       "    <tr>\n",
       "      <th>number of</th>\n",
       "      <td>17680</td>\n",
       "    </tr>\n",
       "    <tr>\n",
       "      <th>the image</th>\n",
       "      <td>11835</td>\n",
       "    </tr>\n",
       "    <tr>\n",
       "      <th>user interface</th>\n",
       "      <td>11694</td>\n",
       "    </tr>\n",
       "    <tr>\n",
       "      <th>...</th>\n",
       "      <td>...</td>\n",
       "    </tr>\n",
       "    <tr>\n",
       "      <th>mammary carcinoma</th>\n",
       "      <td>1</td>\n",
       "    </tr>\n",
       "    <tr>\n",
       "      <th>phone lines</th>\n",
       "      <td>1</td>\n",
       "    </tr>\n",
       "    <tr>\n",
       "      <th>epidermal growth factor receptor 2</th>\n",
       "      <td>1</td>\n",
       "    </tr>\n",
       "    <tr>\n",
       "      <th>epidermal growth factor receptor</th>\n",
       "      <td>1</td>\n",
       "    </tr>\n",
       "    <tr>\n",
       "      <th>environmental control system</th>\n",
       "      <td>1</td>\n",
       "    </tr>\n",
       "  </tbody>\n",
       "</table>\n",
       "<p>15918 rows × 1 columns</p>\n",
       "</div>"
      ],
      "text/plain": [
       "                                        0\n",
       "the present                         44578\n",
       "electronic device                   24272\n",
       "number of                           17680\n",
       "the image                           11835\n",
       "user interface                      11694\n",
       "...                                   ...\n",
       "mammary carcinoma                       1\n",
       "phone lines                             1\n",
       "epidermal growth factor receptor 2      1\n",
       "epidermal growth factor receptor        1\n",
       "environmental control system            1\n",
       "\n",
       "[15918 rows x 1 columns]"
      ]
     },
     "execution_count": 21,
     "metadata": {},
     "output_type": "execute_result"
    },
    {
     "name": "stdout",
     "output_type": "stream",
     "text": [
      "time: 18.6 ms (started: 2023-04-06 21:57:53 +00:00)\n"
     ]
    }
   ],
   "source": [
    "g06fdf = pd.DataFrame.from_dict(counter, orient='index').sort_values(by = 0, ascending = False)\n",
    "g06fdf"
   ]
  },
  {
   "cell_type": "markdown",
   "id": "415e1cc2",
   "metadata": {
    "papermill": {
     "duration": 0.020624,
     "end_time": "2023-04-06T21:57:53.385687",
     "exception": false,
     "start_time": "2023-04-06T21:57:53.365063",
     "status": "completed"
    },
    "tags": []
   },
   "source": [
    "- is it clear why there are only 10k terms in the dataframe now?\n",
    "<font color='orange'>\n",
    "It remains only 15918 terms because only terms in the wikipedia list are counted as a term, not all n-grams.\n",
    "<font>\n",
    "\n",
    "- and now with the CountVectorizer"
   ]
  },
  {
   "cell_type": "code",
   "execution_count": 22,
   "id": "c895dfe7",
   "metadata": {
    "execution": {
     "iopub.execute_input": "2023-04-06T21:57:53.428241Z",
     "iopub.status.busy": "2023-04-06T21:57:53.427644Z",
     "iopub.status.idle": "2023-04-06T21:59:22.332584Z",
     "shell.execute_reply": "2023-04-06T21:59:22.331057Z"
    },
    "papermill": {
     "duration": 88.950713,
     "end_time": "2023-04-06T21:59:22.356677",
     "exception": false,
     "start_time": "2023-04-06T21:57:53.405964",
     "status": "completed"
    },
    "tags": []
   },
   "outputs": [
    {
     "name": "stderr",
     "output_type": "stream",
     "text": [
      "/opt/conda/lib/python3.7/site-packages/sklearn/feature_extraction/text.py:1323: UserWarning: Upper case characters found in vocabulary while 'lowercase' is True. These entries will not be matched with any documents\n",
      "  \"Upper case characters found in\"\n"
     ]
    },
    {
     "name": "stdout",
     "output_type": "stream",
     "text": [
      "time: 1min 28s (started: 2023-04-06 21:57:53 +00:00)\n"
     ]
    }
   ],
   "source": [
    "vectorizernb = CountVectorizer(vocabulary=mwes, binary=False, min_df=1, lowercase=True, ngram_range=(1,4))\n",
    "Xnb = vectorizernb.fit_transform(patent_lines)"
   ]
  },
  {
   "cell_type": "code",
   "execution_count": 23,
   "id": "b176ac27",
   "metadata": {
    "execution": {
     "iopub.execute_input": "2023-04-06T21:59:22.400397Z",
     "iopub.status.busy": "2023-04-06T21:59:22.399929Z",
     "iopub.status.idle": "2023-04-06T21:59:22.408387Z",
     "shell.execute_reply": "2023-04-06T21:59:22.407193Z"
    },
    "papermill": {
     "duration": 0.03433,
     "end_time": "2023-04-06T21:59:22.412061",
     "exception": false,
     "start_time": "2023-04-06T21:59:22.377731",
     "status": "completed"
    },
    "tags": []
   },
   "outputs": [
    {
     "data": {
      "text/plain": [
       "<302426x743274 sparse matrix of type '<class 'numpy.int64'>'\n",
       "\twith 671191 stored elements in Compressed Sparse Row format>"
      ]
     },
     "execution_count": 23,
     "metadata": {},
     "output_type": "execute_result"
    },
    {
     "name": "stdout",
     "output_type": "stream",
     "text": [
      "time: 3.52 ms (started: 2023-04-06 21:59:22 +00:00)\n"
     ]
    }
   ],
   "source": [
    "Xnb"
   ]
  },
  {
   "cell_type": "code",
   "execution_count": 24,
   "id": "23401c4d",
   "metadata": {
    "execution": {
     "iopub.execute_input": "2023-04-06T21:59:22.456839Z",
     "iopub.status.busy": "2023-04-06T21:59:22.455321Z",
     "iopub.status.idle": "2023-04-06T21:59:22.475417Z",
     "shell.execute_reply": "2023-04-06T21:59:22.473996Z"
    },
    "papermill": {
     "duration": 0.045129,
     "end_time": "2023-04-06T21:59:22.478305",
     "exception": false,
     "start_time": "2023-04-06T21:59:22.433176",
     "status": "completed"
    },
    "tags": []
   },
   "outputs": [
    {
     "data": {
      "text/plain": [
       "(1, 743274)"
      ]
     },
     "execution_count": 24,
     "metadata": {},
     "output_type": "execute_result"
    },
    {
     "name": "stdout",
     "output_type": "stream",
     "text": [
      "time: 13.2 ms (started: 2023-04-06 21:59:22 +00:00)\n"
     ]
    }
   ],
   "source": [
    "Xnb.sum(axis=0).shape"
   ]
  },
  {
   "cell_type": "code",
   "execution_count": 25,
   "id": "94bc0cfe",
   "metadata": {
    "execution": {
     "iopub.execute_input": "2023-04-06T21:59:22.522331Z",
     "iopub.status.busy": "2023-04-06T21:59:22.521606Z",
     "iopub.status.idle": "2023-04-06T21:59:23.060701Z",
     "shell.execute_reply": "2023-04-06T21:59:23.059229Z"
    },
    "papermill": {
     "duration": 0.564338,
     "end_time": "2023-04-06T21:59:23.063787",
     "exception": false,
     "start_time": "2023-04-06T21:59:22.499449",
     "status": "completed"
    },
    "tags": []
   },
   "outputs": [
    {
     "data": {
      "text/plain": [
       "'the present'"
      ]
     },
     "execution_count": 25,
     "metadata": {},
     "output_type": "execute_result"
    },
    {
     "name": "stdout",
     "output_type": "stream",
     "text": [
      "time: 533 ms (started: 2023-04-06 21:59:22 +00:00)\n"
     ]
    }
   ],
   "source": [
    "vectorizernb.get_feature_names_out()[Xnb.sum(axis=0).argmax()]"
   ]
  },
  {
   "cell_type": "code",
   "execution_count": 26,
   "id": "94ae4251",
   "metadata": {
    "execution": {
     "iopub.execute_input": "2023-04-06T21:59:23.109448Z",
     "iopub.status.busy": "2023-04-06T21:59:23.108571Z",
     "iopub.status.idle": "2023-04-06T21:59:27.755204Z",
     "shell.execute_reply": "2023-04-06T21:59:27.753800Z"
    },
    "papermill": {
     "duration": 4.672205,
     "end_time": "2023-04-06T21:59:27.758061",
     "exception": false,
     "start_time": "2023-04-06T21:59:23.085856",
     "status": "completed"
    },
    "tags": []
   },
   "outputs": [
    {
     "name": "stdout",
     "output_type": "stream",
     "text": [
      "information processing\n",
      "control unit\n",
      "mobile terminal\n",
      "the following\n",
      "the system\n",
      "the image\n",
      "the present\n",
      "electronic device\n",
      "number of\n",
      "user interface\n",
      "time: 4.64 s (started: 2023-04-06 21:59:23 +00:00)\n"
     ]
    }
   ],
   "source": [
    "### 🚧 todo:\n",
    "#     - find the terms from the lexicon with the 10 highest match in the patent texts\n",
    "\n",
    "for i in np.array(np.argpartition(Xnb.sum(axis=0), -10))[0][-10:]:\n",
    "    print(vectorizernb.get_feature_names_out()[i])"
   ]
  },
  {
   "cell_type": "markdown",
   "id": "7d6f9d78",
   "metadata": {
    "papermill": {
     "duration": 0.020886,
     "end_time": "2023-04-06T21:59:27.801303",
     "exception": false,
     "start_time": "2023-04-06T21:59:27.780417",
     "status": "completed"
    },
    "tags": []
   },
   "source": [
    "## preparing a Gold corpus\n",
    "\n",
    "### 🚧 todo: \n",
    "\n",
    "- sort the patents of the G06F corpus into those that have reference numerals R and those that don't N\n",
    "- count how many you have of each type\n",
    "- for each patent of the R corpus, extract a list of numbered terms, verify manually for a few patents\n",
    "- compare these terms with the ones detected using the previous methods\n",
    "- later, in the spacy section: visualize the annotations using Spacy\n"
   ]
  },
  {
   "cell_type": "code",
   "execution_count": 27,
   "id": "87a95e94",
   "metadata": {
    "execution": {
     "iopub.execute_input": "2023-04-06T21:59:27.847050Z",
     "iopub.status.busy": "2023-04-06T21:59:27.846277Z",
     "iopub.status.idle": "2023-04-06T21:59:27.869085Z",
     "shell.execute_reply": "2023-04-06T21:59:27.867067Z"
    },
    "papermill": {
     "duration": 0.04879,
     "end_time": "2023-04-06T21:59:27.871934",
     "exception": false,
     "start_time": "2023-04-06T21:59:27.823144",
     "status": "completed"
    },
    "tags": []
   },
   "outputs": [
    {
     "data": {
      "text/html": [
       "<div>\n",
       "<style scoped>\n",
       "    .dataframe tbody tr th:only-of-type {\n",
       "        vertical-align: middle;\n",
       "    }\n",
       "\n",
       "    .dataframe tbody tr th {\n",
       "        vertical-align: top;\n",
       "    }\n",
       "\n",
       "    .dataframe thead th {\n",
       "        text-align: right;\n",
       "    }\n",
       "</style>\n",
       "<table border=\"1\" class=\"dataframe\">\n",
       "  <thead>\n",
       "    <tr style=\"text-align: right;\">\n",
       "      <th></th>\n",
       "      <th>title</th>\n",
       "      <th>text</th>\n",
       "      <th>type</th>\n",
       "      <th>terms</th>\n",
       "    </tr>\n",
       "  </thead>\n",
       "  <tbody>\n",
       "  </tbody>\n",
       "</table>\n",
       "</div>"
      ],
      "text/plain": [
       "Empty DataFrame\n",
       "Columns: [title, text, type, terms]\n",
       "Index: []"
      ]
     },
     "execution_count": 27,
     "metadata": {},
     "output_type": "execute_result"
    },
    {
     "name": "stdout",
     "output_type": "stream",
     "text": [
      "time: 15.3 ms (started: 2023-04-06 21:59:27 +00:00)\n"
     ]
    }
   ],
   "source": [
    "# create an empty dataframe with predefined columns\n",
    "patent_df = pd.DataFrame(columns=[\"title\", \"text\", \"type\", \"terms\"])\n",
    "patent_df"
   ]
  },
  {
   "cell_type": "code",
   "execution_count": 28,
   "id": "d04ea997",
   "metadata": {
    "execution": {
     "iopub.execute_input": "2023-04-06T21:59:27.918853Z",
     "iopub.status.busy": "2023-04-06T21:59:27.918409Z",
     "iopub.status.idle": "2023-04-06T21:59:43.629943Z",
     "shell.execute_reply": "2023-04-06T21:59:43.628423Z"
    },
    "papermill": {
     "duration": 15.738484,
     "end_time": "2023-04-06T21:59:43.633037",
     "exception": false,
     "start_time": "2023-04-06T21:59:27.894553",
     "status": "completed"
    },
    "tags": []
   },
   "outputs": [
    {
     "name": "stdout",
     "output_type": "stream",
     "text": [
      "time: 15.7 s (started: 2023-04-06 21:59:27 +00:00)\n"
     ]
    }
   ],
   "source": [
    "# Initialize variables\n",
    "newpatent = True\n",
    "title = \"\"\n",
    "text = \"\"\n",
    "terms = {}\n",
    "\n",
    "# Loop over the patent_lines\n",
    "i = 0\n",
    "while i+1 < len(patent_lines):\n",
    "    if newpatent:\n",
    "        title = patent_lines[i]\n",
    "        text = \"\"\n",
    "        terms = {}\n",
    "        i+=1\n",
    "        newpatent = False\n",
    "        \n",
    "    elif patent_lines[i] == \"\" and patent_lines[i+1] == \"\":\n",
    "        newpatent = True\n",
    "        \n",
    "        # Create a dictionary with most frequent term for each term id\n",
    "        truetermdict = {}\n",
    "        for termid in terms:\n",
    "            freq = defaultdict(int)\n",
    "\n",
    "            # Count frequency of each possible term\n",
    "            for c in terms[termid]:\n",
    "                for j in range(len(c)):\n",
    "                    term = ' '.join(c[j:])\n",
    "                    freq[term] += 1\n",
    "\n",
    "            # If no terms were found, skip to the next one\n",
    "            if not freq:\n",
    "                continue\n",
    "            \n",
    "            # The most frequent term\n",
    "            most_likely_term = max(freq, key=freq.get)\n",
    "            \n",
    "            # Filter out terms with \"FIG\" or \"FIGS\"\n",
    "            if not (\"FIG\" in most_likely_term or \"FIGS\" in most_likely_term):\n",
    "                truetermdict[termid] = most_likely_term\n",
    "        \n",
    "        # Add a new row to the dataframe with the processed data\n",
    "        patent_df.loc[len(patent_df)] = [\n",
    "            title,\n",
    "            text,\n",
    "            \"R\" if truetermdict else \"N\",\n",
    "            truetermdict\n",
    "        ]\n",
    "        i += 1\n",
    "        \n",
    "    else:\n",
    "        # Add current line to the text of the patent\n",
    "        text += patent_lines[i]+\"\\n\"\n",
    "        \n",
    "        # Process potential term ids\n",
    "        words = patent_lines[i].split()\n",
    "        for j in range(len(words)):\n",
    "            if words[j].isnumeric():\n",
    "                # Potential term id\n",
    "                try:\n",
    "                    termid = int(words[j])\n",
    "                except ValueError:\n",
    "                    continue\n",
    "                \n",
    "                # Create a list of words that precede the term id\n",
    "                if not termid in terms:\n",
    "                    terms[termid] = []\n",
    "                toadd = words[max(0, j-4):j]\n",
    "                if toadd not in terms[termid]:\n",
    "                    terms[termid].append(words[max(0, j-4):j])\n",
    "    i += 1"
   ]
  },
  {
   "cell_type": "code",
   "execution_count": 29,
   "id": "dd31ed48",
   "metadata": {
    "execution": {
     "iopub.execute_input": "2023-04-06T21:59:43.679196Z",
     "iopub.status.busy": "2023-04-06T21:59:43.678785Z",
     "iopub.status.idle": "2023-04-06T21:59:43.689369Z",
     "shell.execute_reply": "2023-04-06T21:59:43.687855Z"
    },
    "papermill": {
     "duration": 0.037253,
     "end_time": "2023-04-06T21:59:43.692330",
     "exception": false,
     "start_time": "2023-04-06T21:59:43.655077",
     "status": "completed"
    },
    "tags": []
   },
   "outputs": [
    {
     "data": {
      "text/plain": [
       "{102: 'The model',\n",
       " 116: 'coil',\n",
       " 115: 'cooler',\n",
       " 105: 'chiller',\n",
       " 108: 'water',\n",
       " 112: 'from the storage tank',\n",
       " 119: 'water from the cooler',\n",
       " 110: 'storage tank',\n",
       " 118: 'bypass loop',\n",
       " 106: 'to form the water',\n",
       " 104: 'The model',\n",
       " 138: 'Air',\n",
       " 130: 'the plenum',\n",
       " 140: 'temperature of Tp. Air',\n",
       " 120: 'the room',\n",
       " 142: 'air',\n",
       " 144: 'Trm, to form air',\n",
       " 135: 'IT equipment',\n",
       " 146: 'Air',\n",
       " 136: 'form mixed room air',\n",
       " 124: 'walls',\n",
       " 122: 'ceiling',\n",
       " 126: 'the floor',\n",
       " 103: 'combined model',\n",
       " 10: 'is expressed in Equation',\n",
       " 650: 'the input section',\n",
       " 400: 'process',\n",
       " 18: 'used to solve the',\n",
       " 454: 'the chiller q˙chmax at',\n",
       " 458: 'the chiller ṁch at',\n",
       " 452: 'and begins again at',\n",
       " 13: 'lists the coefficients for',\n",
       " 100: 'where heat energy (e.g.,',\n",
       " 20: 'data in the system',\n",
       " 150: 'after the power outage.',\n",
       " 600: 'screen',\n",
       " 654: 'The cooling equipment input',\n",
       " 656: 'equipment start time input',\n",
       " 658: 'A simulation input subsection',\n",
       " 660: 'The example results section',\n",
       " 33: 'which is set at',\n",
       " 50: 'at least the first',\n",
       " 15: 'off for the first',\n",
       " 38: 'and stabilize in about',\n",
       " 700: 'system',\n",
       " 703: 'processor',\n",
       " 717: 'for storing data. Memory',\n",
       " 707: 'interconnection mechanism',\n",
       " 709: 'or more input devices',\n",
       " 719: 'facility systems',\n",
       " 713: 'One or more sensors',\n",
       " 823: 'medium',\n",
       " 825: 'memory',\n",
       " 723: 'data to the medium'}"
      ]
     },
     "execution_count": 29,
     "metadata": {},
     "output_type": "execute_result"
    },
    {
     "name": "stdout",
     "output_type": "stream",
     "text": [
      "time: 5.4 ms (started: 2023-04-06 21:59:43 +00:00)\n"
     ]
    }
   ],
   "source": [
    "# The terms dictionary\n",
    "patent_df.terms[0]"
   ]
  },
  {
   "cell_type": "code",
   "execution_count": 30,
   "id": "7a6b3a41",
   "metadata": {
    "execution": {
     "iopub.execute_input": "2023-04-06T21:59:43.738777Z",
     "iopub.status.busy": "2023-04-06T21:59:43.738330Z",
     "iopub.status.idle": "2023-04-06T21:59:43.752294Z",
     "shell.execute_reply": "2023-04-06T21:59:43.751068Z"
    },
    "papermill": {
     "duration": 0.040713,
     "end_time": "2023-04-06T21:59:43.754841",
     "exception": false,
     "start_time": "2023-04-06T21:59:43.714128",
     "status": "completed"
    },
    "tags": []
   },
   "outputs": [
    {
     "data": {
      "text/plain": [
       "R    1993\n",
       "N       5\n",
       "Name: type, dtype: int64"
      ]
     },
     "execution_count": 30,
     "metadata": {},
     "output_type": "execute_result"
    },
    {
     "name": "stdout",
     "output_type": "stream",
     "text": [
      "time: 9.41 ms (started: 2023-04-06 21:59:43 +00:00)\n"
     ]
    }
   ],
   "source": [
    "# Count how many we have for each type\n",
    "patent_df.type.value_counts()"
   ]
  },
  {
   "cell_type": "markdown",
   "id": "3f1d2841",
   "metadata": {
    "papermill": {
     "duration": 0.021906,
     "end_time": "2023-04-06T21:59:43.798905",
     "exception": false,
     "start_time": "2023-04-06T21:59:43.776999",
     "status": "completed"
    },
    "tags": []
   },
   "source": [
    "## 🪐 back to spacy\n",
    "https://spacy.io/usage/rule-based-matching#phrasematcher"
   ]
  },
  {
   "cell_type": "code",
   "execution_count": 31,
   "id": "59134d1e",
   "metadata": {
    "execution": {
     "iopub.execute_input": "2023-04-06T21:59:43.846013Z",
     "iopub.status.busy": "2023-04-06T21:59:43.845600Z",
     "iopub.status.idle": "2023-04-06T21:59:44.852790Z",
     "shell.execute_reply": "2023-04-06T21:59:44.851409Z"
    },
    "papermill": {
     "duration": 1.033464,
     "end_time": "2023-04-06T21:59:44.855450",
     "exception": false,
     "start_time": "2023-04-06T21:59:43.821986",
     "status": "completed"
    },
    "tags": []
   },
   "outputs": [
    {
     "name": "stdout",
     "output_type": "stream",
     "text": [
      "Angela Merkel\n",
      "Barack Obama\n",
      "Washington, D.C.\n",
      "time: 999 ms (started: 2023-04-06 21:59:43 +00:00)\n"
     ]
    }
   ],
   "source": [
    "import spacy\n",
    "from spacy.matcher import PhraseMatcher\n",
    "\n",
    "# load vocab\n",
    "nlp = spacy.load(\"en_core_web_sm\")\n",
    "# init matcher with the vocab\n",
    "matcher = PhraseMatcher(nlp.vocab)\n",
    "terms = [\"Barack Obama\", \"Angela Merkel\", \"Washington, D.C.\"]\n",
    "# [doc] If you only need the tokenization and lexical attributes, you can run nlp.make_doc\n",
    "patterns = [nlp.make_doc(text) for text in terms]\n",
    "# add patterns to the matcher\n",
    "matcher.add(\"TerminologyList\", patterns)\n",
    "\n",
    "# init string to be matched\n",
    "doc = nlp(\"German Chancellor Angela Merkel and US President Barack Obama \"\n",
    "          \"converse in the Oval Office inside the White House in Washington, D.C.\")\n",
    "\n",
    "# get matches\n",
    "matches = matcher(doc)\n",
    "\n",
    "# iterate over the matches and print the span text\n",
    "for match_id, start, end in matches:\n",
    "    span = doc[start:end]\n",
    "    print(span.text)"
   ]
  },
  {
   "cell_type": "code",
   "execution_count": 32,
   "id": "3460494c",
   "metadata": {
    "execution": {
     "iopub.execute_input": "2023-04-06T21:59:44.902265Z",
     "iopub.status.busy": "2023-04-06T21:59:44.901865Z",
     "iopub.status.idle": "2023-04-06T21:59:44.911141Z",
     "shell.execute_reply": "2023-04-06T21:59:44.909785Z"
    },
    "papermill": {
     "duration": 0.036644,
     "end_time": "2023-04-06T21:59:44.914221",
     "exception": false,
     "start_time": "2023-04-06T21:59:44.877577",
     "status": "completed"
    },
    "tags": []
   },
   "outputs": [
    {
     "data": {
      "text/html": [
       "<span class=\"tex2jax_ignore\"><div class=\"entities\" style=\"line-height: 2.5; direction: ltr\">\n",
       "<mark class=\"entity\" style=\"background: #c887fb; padding: 0.45em 0.6em; margin: 0 0.25em; line-height: 1; border-radius: 0.35em;\">\n",
       "    German\n",
       "    <span style=\"font-size: 0.8em; font-weight: bold; line-height: 1; border-radius: 0.35em; vertical-align: middle; margin-left: 0.5rem\">NORP</span>\n",
       "</mark>\n",
       " Chancellor \n",
       "<mark class=\"entity\" style=\"background: #aa9cfc; padding: 0.45em 0.6em; margin: 0 0.25em; line-height: 1; border-radius: 0.35em;\">\n",
       "    Angela Merkel\n",
       "    <span style=\"font-size: 0.8em; font-weight: bold; line-height: 1; border-radius: 0.35em; vertical-align: middle; margin-left: 0.5rem\">PERSON</span>\n",
       "</mark>\n",
       " and \n",
       "<mark class=\"entity\" style=\"background: #feca74; padding: 0.45em 0.6em; margin: 0 0.25em; line-height: 1; border-radius: 0.35em;\">\n",
       "    US\n",
       "    <span style=\"font-size: 0.8em; font-weight: bold; line-height: 1; border-radius: 0.35em; vertical-align: middle; margin-left: 0.5rem\">GPE</span>\n",
       "</mark>\n",
       " President \n",
       "<mark class=\"entity\" style=\"background: #aa9cfc; padding: 0.45em 0.6em; margin: 0 0.25em; line-height: 1; border-radius: 0.35em;\">\n",
       "    Barack Obama\n",
       "    <span style=\"font-size: 0.8em; font-weight: bold; line-height: 1; border-radius: 0.35em; vertical-align: middle; margin-left: 0.5rem\">PERSON</span>\n",
       "</mark>\n",
       " converse in \n",
       "<mark class=\"entity\" style=\"background: #9cc9cc; padding: 0.45em 0.6em; margin: 0 0.25em; line-height: 1; border-radius: 0.35em;\">\n",
       "    the Oval Office\n",
       "    <span style=\"font-size: 0.8em; font-weight: bold; line-height: 1; border-radius: 0.35em; vertical-align: middle; margin-left: 0.5rem\">FAC</span>\n",
       "</mark>\n",
       " inside \n",
       "<mark class=\"entity\" style=\"background: #7aecec; padding: 0.45em 0.6em; margin: 0 0.25em; line-height: 1; border-radius: 0.35em;\">\n",
       "    the White House\n",
       "    <span style=\"font-size: 0.8em; font-weight: bold; line-height: 1; border-radius: 0.35em; vertical-align: middle; margin-left: 0.5rem\">ORG</span>\n",
       "</mark>\n",
       " in \n",
       "<mark class=\"entity\" style=\"background: #feca74; padding: 0.45em 0.6em; margin: 0 0.25em; line-height: 1; border-radius: 0.35em;\">\n",
       "    Washington\n",
       "    <span style=\"font-size: 0.8em; font-weight: bold; line-height: 1; border-radius: 0.35em; vertical-align: middle; margin-left: 0.5rem\">GPE</span>\n",
       "</mark>\n",
       ", \n",
       "<mark class=\"entity\" style=\"background: #feca74; padding: 0.45em 0.6em; margin: 0 0.25em; line-height: 1; border-radius: 0.35em;\">\n",
       "    D.C.\n",
       "    <span style=\"font-size: 0.8em; font-weight: bold; line-height: 1; border-radius: 0.35em; vertical-align: middle; margin-left: 0.5rem\">GPE</span>\n",
       "</mark>\n",
       "</div></span>"
      ],
      "text/plain": [
       "<IPython.core.display.HTML object>"
      ]
     },
     "metadata": {},
     "output_type": "display_data"
    },
    {
     "name": "stdout",
     "output_type": "stream",
     "text": [
      "time: 4.04 ms (started: 2023-04-06 21:59:44 +00:00)\n"
     ]
    }
   ],
   "source": [
    "from spacy import displacy\n",
    "displacy.render(doc, style=\"ent\")"
   ]
  },
  {
   "cell_type": "markdown",
   "id": "58b0997d",
   "metadata": {
    "papermill": {
     "duration": 0.022745,
     "end_time": "2023-04-06T21:59:44.960357",
     "exception": false,
     "start_time": "2023-04-06T21:59:44.937612",
     "status": "completed"
    },
    "tags": []
   },
   "source": [
    "In SpaCy, the pretrained default pipeline may consist of various componenets. If we want to train specific pipeline, it can be initiated as a blank and we can add only necessary elements."
   ]
  },
  {
   "cell_type": "code",
   "execution_count": 33,
   "id": "d0a50d90",
   "metadata": {
    "execution": {
     "iopub.execute_input": "2023-04-06T21:59:45.009050Z",
     "iopub.status.busy": "2023-04-06T21:59:45.007998Z",
     "iopub.status.idle": "2023-04-06T21:59:45.016888Z",
     "shell.execute_reply": "2023-04-06T21:59:45.015531Z"
    },
    "papermill": {
     "duration": 0.035558,
     "end_time": "2023-04-06T21:59:45.019224",
     "exception": false,
     "start_time": "2023-04-06T21:59:44.983666",
     "status": "completed"
    },
    "tags": []
   },
   "outputs": [
    {
     "data": {
      "text/plain": [
       "[('tok2vec', <spacy.pipeline.tok2vec.Tok2Vec at 0x76331917b6e0>),\n",
       " ('tagger', <spacy.pipeline.tagger.Tagger at 0x76331917b750>),\n",
       " ('parser', <spacy.pipeline.dep_parser.DependencyParser at 0x76332f562250>),\n",
       " ('attribute_ruler',\n",
       "  <spacy.pipeline.attributeruler.AttributeRuler at 0x763448016f00>),\n",
       " ('lemmatizer',\n",
       "  <spacy.lang.en.lemmatizer.EnglishLemmatizer at 0x7633cf420b40>),\n",
       " ('ner', <spacy.pipeline.ner.EntityRecognizer at 0x7633c0d17f50>)]"
      ]
     },
     "execution_count": 33,
     "metadata": {},
     "output_type": "execute_result"
    },
    {
     "name": "stdout",
     "output_type": "stream",
     "text": [
      "time: 2.87 ms (started: 2023-04-06 21:59:45 +00:00)\n"
     ]
    }
   ],
   "source": [
    "nlp.pipeline"
   ]
  },
  {
   "cell_type": "code",
   "execution_count": 34,
   "id": "60689d54",
   "metadata": {
    "execution": {
     "iopub.execute_input": "2023-04-06T21:59:45.065999Z",
     "iopub.status.busy": "2023-04-06T21:59:45.065546Z",
     "iopub.status.idle": "2023-04-06T21:59:51.258198Z",
     "shell.execute_reply": "2023-04-06T21:59:51.256829Z"
    },
    "papermill": {
     "duration": 6.21973,
     "end_time": "2023-04-06T21:59:51.261321",
     "exception": false,
     "start_time": "2023-04-06T21:59:45.041591",
     "status": "completed"
    },
    "tags": []
   },
   "outputs": [
    {
     "data": {
      "text/html": [
       "<span class=\"tex2jax_ignore\"><div class=\"entities\" style=\"line-height: 2.5; direction: ltr\">er and has a temperature of \n",
       "<mark class=\"entity\" style=\"background: #feca74; padding: 0.45em 0.6em; margin: 0 0.25em; line-height: 1; border-radius: 0.35em;\">\n",
       "    Tchr\n",
       "    <span style=\"font-size: 0.8em; font-weight: bold; line-height: 1; border-radius: 0.35em; vertical-align: middle; margin-left: 0.5rem\">GPE</span>\n",
       "</mark>\n",
       ".</br>The model \n",
       "<mark class=\"entity\" style=\"background: #e4e7d2; padding: 0.45em 0.6em; margin: 0 0.25em; line-height: 1; border-radius: 0.35em;\">\n",
       "    104\n",
       "    <span style=\"font-size: 0.8em; font-weight: bold; line-height: 1; border-radius: 0.35em; vertical-align: middle; margin-left: 0.5rem\">CARDINAL</span>\n",
       "</mark>\n",
       " of the air loop shown in \n",
       "<mark class=\"entity\" style=\"background: #feca74; padding: 0.45em 0.6em; margin: 0 0.25em; line-height: 1; border-radius: 0.35em;\">\n",
       "    FIG\n",
       "    <span style=\"font-size: 0.8em; font-weight: bold; line-height: 1; border-radius: 0.35em; vertical-align: middle; margin-left: 0.5rem\">GPE</span>\n",
       "</mark>\n",
       ". \n",
       "<mark class=\"entity\" style=\"background: #e4e7d2; padding: 0.45em 0.6em; margin: 0 0.25em; line-height: 1; border-radius: 0.35em;\">\n",
       "    2\n",
       "    <span style=\"font-size: 0.8em; font-weight: bold; line-height: 1; border-radius: 0.35em; vertical-align: middle; margin-left: 0.5rem\">CARDINAL</span>\n",
       "</mark>\n",
       " depicts air flow in the data center. The air loop in a chilled water cooling scheme in the example shown in \n",
       "<mark class=\"entity\" style=\"background: #feca74; padding: 0.45em 0.6em; margin: 0 0.25em; line-height: 1; border-radius: 0.35em;\">\n",
       "    FIG\n",
       "    <span style=\"font-size: 0.8em; font-weight: bold; line-height: 1; border-radius: 0.35em; vertical-align: middle; margin-left: 0.5rem\">GPE</span>\n",
       "</mark>\n",
       ". \n",
       "<mark class=\"entity\" style=\"background: #e4e7d2; padding: 0.45em 0.6em; margin: 0 0.25em; line-height: 1; border-radius: 0.35em;\">\n",
       "    2\n",
       "    <span style=\"font-size: 0.8em; font-weight: bold; line-height: 1; border-radius: 0.35em; vertical-align: middle; margin-left: 0.5rem\">CARDINAL</span>\n",
       "</mark>\n",
       " includes the interaction of air streams with the CRAH mass, the plenum \n",
       "<mark class=\"entity\" style=\"background: #e4e7d2; padding: 0.45em 0.6em; margin: 0 0.25em; line-height: 1; border-radius: 0.35em;\">\n",
       "    130\n",
       "    <span style=\"font-size: 0.8em; font-weight: bold; line-height: 1; border-radius: 0.35em; vertical-align: middle; margin-left: 0.5rem\">CARDINAL</span>\n",
       "</mark>\n",
       ", IT equipment \n",
       "<mark class=\"entity\" style=\"background: #e4e7d2; padding: 0.45em 0.6em; margin: 0 0.25em; line-height: 1; border-radius: 0.35em;\">\n",
       "    135\n",
       "    <span style=\"font-size: 0.8em; font-weight: bold; line-height: 1; border-radius: 0.35em; vertical-align: middle; margin-left: 0.5rem\">CARDINAL</span>\n",
       "</mark>\n",
       ", the room \n",
       "<mark class=\"entity\" style=\"background: #e4e7d2; padding: 0.45em 0.6em; margin: 0 0.25em; line-height: 1; border-radius: 0.35em;\">\n",
       "    120\n",
       "    <span style=\"font-size: 0.8em; font-weight: bold; line-height: 1; border-radius: 0.35em; vertical-align: middle; margin-left: 0.5rem\">CARDINAL</span>\n",
       "</mark>\n",
       ", walls \n",
       "<mark class=\"entity\" style=\"background: #e4e7d2; padding: 0.45em 0.6em; margin: 0 0.25em; line-height: 1; border-radius: 0.35em;\">\n",
       "    124\n",
       "    <span style=\"font-size: 0.8em; font-weight: bold; line-height: 1; border-radius: 0.35em; vertical-align: middle; margin-left: 0.5rem\">CARDINAL</span>\n",
       "</mark>\n",
       ", floor \n",
       "<mark class=\"entity\" style=\"background: #e4e7d2; padding: 0.45em 0.6em; margin: 0 0.25em; line-height: 1; border-radius: 0.35em;\">\n",
       "    126\n",
       "    <span style=\"font-size: 0.8em; font-weight: bold; line-height: 1; border-radius: 0.35em; vertical-align: middle; margin-left: 0.5rem\">CARDINAL</span>\n",
       "</mark>\n",
       ", and ceiling \n",
       "<mark class=\"entity\" style=\"background: #e4e7d2; padding: 0.45em 0.6em; margin: 0 0.25em; line-height: 1; border-radius: 0.35em;\">\n",
       "    122\n",
       "    <span style=\"font-size: 0.8em; font-weight: bold; line-height: 1; border-radius: 0.35em; vertical-align: middle; margin-left: 0.5rem\">CARDINAL</span>\n",
       "</mark>\n",
       ".</br>\n",
       "<mark class=\"entity\" style=\"background: #bfeeb7; padding: 0.45em 0.6em; margin: 0 0.25em; line-height: 1; border-radius: 0.35em;\">\n",
       "    Air 138\n",
       "    <span style=\"font-size: 0.8em; font-weight: bold; line-height: 1; border-radius: 0.35em; vertical-align: middle; margin-left: 0.5rem\">PRODUCT</span>\n",
       "</mark>\n",
       " from the cooler \n",
       "<mark class=\"entity\" style=\"background: #e4e7d2; padding: 0.45em 0.6em; margin: 0 0.25em; line-height: 1; border-radius: 0.35em;\">\n",
       "    115\n",
       "    <span style=\"font-size: 0.8em; font-weight: bold; line-height: 1; border-radius: 0.35em; vertical-align: middle; margin-left: 0.5rem\">CARDINAL</span>\n",
       "</mark>\n",
       " having a temperature of Tsa is introduced to the plenum \n",
       "<mark class=\"entity\" style=\"background: #e4e7d2; padding: 0.45em 0.6em; margin: 0 0.25em; line-height: 1; border-radius: 0.35em;\">\n",
       "    130\n",
       "    <span style=\"font-size: 0.8em; font-weight: bold; line-height: 1; border-radius: 0.35em; vertical-align: middle; margin-left: 0.5rem\">CARDINAL</span>\n",
       "</mark>\n",
       " and mixes with air in the plenum to form air having a temperature of Tp. Air \n",
       "<mark class=\"entity\" style=\"background: #e4e7d2; padding: 0.45em 0.6em; margin: 0 0.25em; line-height: 1; border-radius: 0.35em;\">\n",
       "    140\n",
       "    <span style=\"font-size: 0.8em; font-weight: bold; line-height: 1; border-radius: 0.35em; vertical-align: middle; margin-left: 0.5rem\">CARDINAL</span>\n",
       "</mark>\n",
       " from the plenum having temperature Tp passes through perforated floor tiles (and various leakage paths) into the room \n",
       "<mark class=\"entity\" style=\"background: #e4e7d2; padding: 0.45em 0.6em; margin: 0 0.25em; line-height: 1; border-radius: 0.35em;\">\n",
       "    120\n",
       "    <span style=\"font-size: 0.8em; font-weight: bold; line-height: 1; border-radius: 0.35em; vertical-align: middle; margin-left: 0.5rem\">CARDINAL</span>\n",
       "</mark>\n",
       " as air \n",
       "<mark class=\"entity\" style=\"background: #bfeeb7; padding: 0.45em 0.6em; margin: 0 0.25em; line-height: 1; border-radius: 0.35em;\">\n",
       "    140a\n",
       "    <span style=\"font-size: 0.8em; font-weight: bold; line-height: 1; border-radius: 0.35em; vertical-align: middle; margin-left: 0.5rem\">PRODUCT</span>\n",
       "</mark>\n",
       ". Air from the plenum \n",
       "<mark class=\"entity\" style=\"background: #e4e7d2; padding: 0.45em 0.6em; margin: 0 0.25em; line-height: 1; border-radius: 0.35em;\">\n",
       "    130\n",
       "    <span style=\"font-size: 0.8em; font-weight: bold; line-height: 1; border-radius: 0.35em; vertical-align: middle; margin-left: 0.5rem\">CARDINAL</span>\n",
       "</mark>\n",
       " having temperature Tp (and labeled 140b in \n",
       "<mark class=\"entity\" style=\"background: #feca74; padding: 0.45em 0.6em; margin: 0 0.25em; line-height: 1; border-radius: 0.35em;\">\n",
       "    FIG\n",
       "    <span style=\"font-size: 0.8em; font-weight: bold; line-height: 1; border-radius: 0.35em; vertical-align: middle; margin-left: 0.5rem\">GPE</span>\n",
       "</mark>\n",
       ". \n",
       "<mark class=\"entity\" style=\"background: #e4e7d2; padding: 0.45em 0.6em; margin: 0 0.25em; line-height: 1; border-radius: 0.35em;\">\n",
       "    2\n",
       "    <span style=\"font-size: 0.8em; font-weight: bold; line-height: 1; border-radius: 0.35em; vertical-align: middle; margin-left: 0.5rem\">CARDINAL</span>\n",
       "</mark>\n",
       ") also mixes with air \n",
       "<mark class=\"entity\" style=\"background: #e4e7d2; padding: 0.45em 0.6em; margin: 0 0.25em; line-height: 1; border-radius: 0.35em;\">\n",
       "    142\n",
       "    <span style=\"font-size: 0.8em; font-weight: bold; line-height: 1; border-radius: 0.35em; vertical-align: middle; margin-left: 0.5rem\">CARDINAL</span>\n",
       "</mark>\n",
       " from the room having a temperature of Trm, to form air \n",
       "<mark class=\"entity\" style=\"background: #e4e7d2; padding: 0.45em 0.6em; margin: 0 0.25em; line-height: 1; border-radius: 0.35em;\">\n",
       "    144\n",
       "    <span style=\"font-size: 0.8em; font-weight: bold; line-height: 1; border-radius: 0.35em; vertical-align: middle; margin-left: 0.5rem\">CARDINAL</span>\n",
       "</mark>\n",
       " having temperature TITin that enters an inlet of IT equipment \n",
       "<mark class=\"entity\" style=\"background: #e4e7d2; padding: 0.45em 0.6em; margin: 0 0.25em; line-height: 1; border-radius: 0.35em;\">\n",
       "    135\n",
       "    <span style=\"font-size: 0.8em; font-weight: bold; line-height: 1; border-radius: 0.35em; vertical-align: middle; margin-left: 0.5rem\">CARDINAL</span>\n",
       "</mark>\n",
       ", which includes all IT equipment (and is positioned in the room), such as servers positioned in equipment racks, and may also be referred to herein as an &quot;equipment rack&quot; or simply &quot;rack.&quot; \n",
       "<mark class=\"entity\" style=\"background: #bfeeb7; padding: 0.45em 0.6em; margin: 0 0.25em; line-height: 1; border-radius: 0.35em;\">\n",
       "    Air 144\n",
       "    <span style=\"font-size: 0.8em; font-weight: bold; line-height: 1; border-radius: 0.35em; vertical-align: middle; margin-left: 0.5rem\">PRODUCT</span>\n",
       "</mark>\n",
       " which flows through IT equipment \n",
       "<mark class=\"entity\" style=\"background: #e4e7d2; padding: 0.45em 0.6em; margin: 0 0.25em; line-height: 1; border-radius: 0.35em;\">\n",
       "    135\n",
       "    <span style=\"font-size: 0.8em; font-weight: bold; line-height: 1; border-radius: 0.35em; vertical-align: middle; margin-left: 0.5rem\">CARDINAL</span>\n",
       "</mark>\n",
       " exits an outlet of the IT equipment \n",
       "<mark class=\"entity\" style=\"background: #e4e7d2; padding: 0.45em 0.6em; margin: 0 0.25em; line-height: 1; border-radius: 0.35em;\">\n",
       "    135\n",
       "    <span style=\"font-size: 0.8em; font-weight: bold; line-height: 1; border-radius: 0.35em; vertical-align: middle; margin-left: 0.5rem\">CARDINAL</span>\n",
       "</mark>\n",
       " as air \n",
       "<mark class=\"entity\" style=\"background: #e4e7d2; padding: 0.45em 0.6em; margin: 0 0.25em; line-height: 1; border-radius: 0.35em;\">\n",
       "    146\n",
       "    <span style=\"font-size: 0.8em; font-weight: bold; line-height: 1; border-radius: 0.35em; vertical-align: middle; margin-left: 0.5rem\">CARDINAL</span>\n",
       "</mark>\n",
       " having a temperature of TITex. Air \n",
       "<mark class=\"entity\" style=\"background: #e4e7d2; padding: 0.45em 0.6em; margin: 0 0.25em; line-height: 1; border-radius: 0.35em;\">\n",
       "    146\n",
       "    <span style=\"font-size: 0.8em; font-weight: bold; line-height: 1; border-radius: 0.35em; vertical-align: middle; margin-left: 0.5rem\">CARDINAL</span>\n",
       "</mark>\n",
       " exiting the IT equipment \n",
       "<mark class=\"entity\" style=\"background: #e4e7d2; padding: 0.45em 0.6em; margin: 0 0.25em; line-height: 1; border-radius: 0.35em;\">\n",
       "    135\n",
       "    <span style=\"font-size: 0.8em; font-weight: bold; line-height: 1; border-radius: 0.35em; vertical-align: middle; margin-left: 0.5rem\">CARDINAL</span>\n",
       "</mark>\n",
       " with temperature TITexenters the room \n",
       "<mark class=\"entity\" style=\"background: #e4e7d2; padding: 0.45em 0.6em; margin: 0 0.25em; line-height: 1; border-radius: 0.35em;\">\n",
       "    120\n",
       "    <span style=\"font-size: 0.8em; font-weight: bold; line-height: 1; border-radius: 0.35em; vertical-align: middle; margin-left: 0.5rem\">CARDINAL</span>\n",
       "</mark>\n",
       " as air \n",
       "<mark class=\"entity\" style=\"background: #e4e7d2; padding: 0.45em 0.6em; margin: 0 0.25em; line-height: 1; border-radius: 0.35em;\">\n",
       "    146a\n",
       "    <span style=\"font-size: 0.8em; font-weight: bold; line-height: 1; border-radius: 0.35em; vertical-align: middle; margin-left: 0.5rem\">CARDINAL</span>\n",
       "</mark>\n",
       ". Air \n",
       "<mark class=\"entity\" style=\"background: #e4e7d2; padding: 0.45em 0.6em; margin: 0 0.25em; line-height: 1; border-radius: 0.35em;\">\n",
       "    146\n",
       "    <span style=\"font-size: 0.8em; font-weight: bold; line-height: 1; border-radius: 0.35em; vertical-align: middle; margin-left: 0.5rem\">CARDINAL</span>\n",
       "</mark>\n",
       " exiting the IT equipment \n",
       "<mark class=\"entity\" style=\"background: #e4e7d2; padding: 0.45em 0.6em; margin: 0 0.25em; line-height: 1; border-radius: 0.35em;\">\n",
       "    135\n",
       "    <span style=\"font-size: 0.8em; font-weight: bold; line-height: 1; border-radius: 0.35em; vertical-align: middle; margin-left: 0.5rem\">CARDINAL</span>\n",
       "</mark>\n",
       " with temperature \n",
       "<mark class=\"entity\" style=\"background: #7aecec; padding: 0.45em 0.6em; margin: 0 0.25em; line-height: 1; border-radius: 0.35em;\">\n",
       "    TITexalso\n",
       "    <span style=\"font-size: 0.8em; font-weight: bold; line-height: 1; border-radius: 0.35em; vertical-align: middle; margin-left: 0.5rem\">ORG</span>\n",
       "</mark>\n",
       " mixes with room air \n",
       "<mark class=\"entity\" style=\"background: #e4e7d2; padding: 0.45em 0.6em; margin: 0 0.25em; line-height: 1; border-radius: 0.35em;\">\n",
       "    142\n",
       "    <span style=\"font-size: 0.8em; font-weight: bold; line-height: 1; border-radius: 0.35em; vertical-align: middle; margin-left: 0.5rem\">CARDINAL</span>\n",
       "</mark>\n",
       " having temperature Trm to form mixed room air \n",
       "<mark class=\"entity\" style=\"background: #e4e7d2; padding: 0.45em 0.6em; margin: 0 0.25em; line-height: 1; border-radius: 0.35em;\">\n",
       "    136\n",
       "    <span style=\"font-size: 0.8em; font-weight: bold; line-height: 1; border-radius: 0.35em; vertical-align: middle; margin-left: 0.5rem\">CARDINAL</span>\n",
       "</mark>\n",
       " having temperature \n",
       "<mark class=\"entity\" style=\"background: #bfeeb7; padding: 0.45em 0.6em; margin: 0 0.25em; line-height: 1; border-radius: 0.35em;\">\n",
       "    Tra\n",
       "    <span style=\"font-size: 0.8em; font-weight: bold; line-height: 1; border-radius: 0.35em; vertical-align: middle; margin-left: 0.5rem\">PRODUCT</span>\n",
       "</mark>\n",
       " that returns to the cooler \n",
       "<mark class=\"entity\" style=\"background: #e4e7d2; padding: 0.45em 0.6em; margin: 0 0.25em; line-height: 1; border-radius: 0.35em;\">\n",
       "    115\n",
       "    <span style=\"font-size: 0.8em; font-weight: bold; line-height: 1; border-radius: 0.35em; vertical-align: middle; margin-left: 0.5rem\">CARDINAL</span>\n",
       "</mark>\n",
       ".</br>As will be explained in further detail below, the model shown in \n",
       "<mark class=\"entity\" style=\"background: #feca74; padding: 0.45em 0.6em; margin: 0 0.25em; line-height: 1; border-radius: 0.35em;\">\n",
       "    FIG\n",
       "    <span style=\"font-size: 0.8em; font-weight: bold; line-height: 1; border-radius: 0.35em; vertical-align: middle; margin-left: 0.5rem\">GPE</span>\n",
       "</mark>\n",
       ". \n",
       "<mark class=\"entity\" style=\"background: #e4e7d2; padding: 0.45em 0.6em; margin: 0 0.25em; line-height: 1; border-radius: 0.35em;\">\n",
       "    2\n",
       "    <span style=\"font-size: 0.8em; font-weight: bold; line-height: 1; border-radius: 0.35em; vertical-align: middle; margin-left: 0.5rem\">CARDINAL</span>\n",
       "</mark>\n",
       " also indicates that the temperature of the room air Trm is affected by heat transfer through the walls \n",
       "<mark class=\"entity\" style=\"background: #e4e7d2; padding: 0.45em 0.6em; margin: 0 0.25em; line-height: 1; border-radius: 0.35em;\">\n",
       "    124\n",
       "    <span style=\"font-size: 0.8em; font-weight: bold; line-height: 1; border-radius: 0.35em; vertical-align: middle; margin-left: 0.5rem\">CARDINAL</span>\n",
       "</mark>\n",
       " and ceiling \n",
       "<mark class=\"entity\" style=\"background: #e4e7d2; padding: 0.45em 0.6em; margin: 0 0.25em; line-height: 1; border-radius: 0.35em;\">\n",
       "    122\n",
       "    <span style=\"font-size: 0.8em; font-weight: bold; line-height: 1; border-radius: 0.35em; vertical-align: middle; margin-left: 0.5rem\">CARDINAL</span>\n",
       "</mark>\n",
       " to ambient (external to data center). The temperature of air in the plenum Tp is also affected by heat transfer through the floor \n",
       "<mark class=\"entity\" style=\"background: #e4e7d2; padding: 0.45em 0.6em; margin: 0 0.25em; line-height: 1; border-radius: 0.35em;\">\n",
       "    126\n",
       "    <span style=\"font-size: 0.8em; font-weight: bold; line-height: 1; border-radius: 0.35em; vertical-align: middle; margin-left: 0.5rem\">CARDINAL</span>\n",
       "</mark>\n",
       " to the plenum \n",
       "<mark class=\"entity\" style=\"background: #e4e7d2; padding: 0.45em 0.6em; margin: 0 0.25em; line-height: 1; border-radius: 0.35em;\">\n",
       "    130\n",
       "    <span style=\"font-size: 0.8em; font-weight: bold; line-height: 1; border-radius: 0.35em; vertical-align: middle; margin-left: 0.5rem\">CARDINAL</span>\n",
       "</mark>\n",
       ", or other external environment according to alternative configurations.</br>The model presented in FIGS. \n",
       "<mark class=\"entity\" style=\"background: #e4e7d2; padding: 0.45em 0.6em; margin: 0 0.25em; line-height: 1; border-radius: 0.35em;\">\n",
       "    1\n",
       "    <span style=\"font-size: 0.8em; font-weight: bold; line-height: 1; border-radius: 0.35em; vertical-align: middle; margin-left: 0.5rem\">CARDINAL</span>\n",
       "</mark>\n",
       " and \n",
       "<mark class=\"entity\" style=\"background: #e4e7d2; padding: 0.45em 0.6em; margin: 0 0.25em; line-height: 1; border-radius: 0.35em;\">\n",
       "    2\n",
       "    <span style=\"font-size: 0.8em; font-weight: bold; line-height: 1; border-radius: 0.35em; vertical-align: middle; margin-left: 0.5rem\">CARDINAL</span>\n",
       "</mark>\n",
       " shows a data center cooling configuration that includes a chilled water s</div></span>"
      ],
      "text/plain": [
       "<IPython.core.display.HTML object>"
      ]
     },
     "metadata": {},
     "output_type": "display_data"
    },
    {
     "name": "stdout",
     "output_type": "stream",
     "text": [
      "time: 6.19 s (started: 2023-04-06 21:59:45 +00:00)\n"
     ]
    }
   ],
   "source": [
    "# !python -m spacy download en_core_web_lg\n",
    "g06f=open(path+'/G06F.txt').read().strip()\n",
    "\n",
    "from spacy.util import filter_spans\n",
    "from spacy import displacy\n",
    "from spacy.tokens import DocBin\n",
    "from spacy.tokens import Span\n",
    "\n",
    "patent_texts = g06f.split('\\n\\n')\n",
    "patent_lines = g06f.split('\\n')\n",
    "\n",
    "nlp = spacy.load(\"en_core_web_lg\")\n",
    "doc = nlp(patent_texts[0][18000:20000]) # \n",
    "displacy.render(doc, style=\"ent\", jupyter = True)"
   ]
  },
  {
   "cell_type": "code",
   "execution_count": 35,
   "id": "4d00113b",
   "metadata": {
    "execution": {
     "iopub.execute_input": "2023-04-06T21:59:51.311757Z",
     "iopub.status.busy": "2023-04-06T21:59:51.311321Z",
     "iopub.status.idle": "2023-04-06T22:00:53.059637Z",
     "shell.execute_reply": "2023-04-06T22:00:53.058365Z"
    },
    "papermill": {
     "duration": 61.798232,
     "end_time": "2023-04-06T22:00:53.084447",
     "exception": false,
     "start_time": "2023-04-06T21:59:51.286215",
     "status": "completed"
    },
    "tags": []
   },
   "outputs": [
    {
     "name": "stdout",
     "output_type": "stream",
     "text": [
      "302426 lines of patent text\n",
      "time: 1min 1s (started: 2023-04-06 21:59:51 +00:00)\n"
     ]
    }
   ],
   "source": [
    "# if restarting here: (17 secs)\n",
    "from spacy.matcher import PhraseMatcher\n",
    "\n",
    "g06f_lines = g06f.split('\\n')\n",
    "print(len(g06f_lines),'lines of patent text')\n",
    "cvectorizer = CountVectorizer(ngram_range=(2, 3), stop_words='english', min_df=500,) # , stop_words='english'  max_features\n",
    "X=cvectorizer.fit_transform(g06f_lines)\n",
    "Xdf = pd.DataFrame(np.sum(X, axis=0), columns=cvectorizer.get_feature_names_out()).T.sort_values(by = 0, ascending = False)\n"
   ]
  },
  {
   "cell_type": "markdown",
   "id": "e8b5fc7a",
   "metadata": {
    "papermill": {
     "duration": 0.023721,
     "end_time": "2023-04-06T22:00:53.131475",
     "exception": false,
     "start_time": "2023-04-06T22:00:53.107754",
     "status": "completed"
    },
    "tags": []
   },
   "source": [
    "### 🚧 todo: explain in one line what each of the following cells does (up to the next existing comment)"
   ]
  },
  {
   "cell_type": "markdown",
   "id": "0ffe6447",
   "metadata": {
    "papermill": {
     "duration": 0.023078,
     "end_time": "2023-04-06T22:00:53.178244",
     "exception": false,
     "start_time": "2023-04-06T22:00:53.155166",
     "status": "completed"
    },
    "tags": []
   },
   "source": [
    "<font color='orange'>\n",
    "This cell initializes a PhraseMatcher with the spaCy pipeline vocabulary and adds patterns as documents to match against with the label \"Tech\".\n",
    "<font>"
   ]
  },
  {
   "cell_type": "code",
   "execution_count": 36,
   "id": "4efc913f",
   "metadata": {
    "execution": {
     "iopub.execute_input": "2023-04-06T22:00:53.227709Z",
     "iopub.status.busy": "2023-04-06T22:00:53.227238Z",
     "iopub.status.idle": "2023-04-06T22:00:53.278581Z",
     "shell.execute_reply": "2023-04-06T22:00:53.277533Z"
    },
    "papermill": {
     "duration": 0.079154,
     "end_time": "2023-04-06T22:00:53.281097",
     "exception": false,
     "start_time": "2023-04-06T22:00:53.201943",
     "status": "completed"
    },
    "tags": []
   },
   "outputs": [
    {
     "name": "stdout",
     "output_type": "stream",
     "text": [
      "time: 45.3 ms (started: 2023-04-06 22:00:53 +00:00)\n"
     ]
    }
   ],
   "source": [
    "matcher = PhraseMatcher(nlp.vocab, attr=\"LOWER\")\n",
    "patterns = [nlp.make_doc(text) for text in Xdf.index]\n",
    "matcher.add(\"Tech\", patterns)"
   ]
  },
  {
   "cell_type": "markdown",
   "id": "7d29905b",
   "metadata": {
    "papermill": {
     "duration": 0.023777,
     "end_time": "2023-04-06T22:00:53.329675",
     "exception": false,
     "start_time": "2023-04-06T22:00:53.305898",
     "status": "completed"
    },
    "tags": []
   },
   "source": [
    "<font color='orange'>\n",
    "This cell splits the patent_lines list into two sublists: train_lines and test_lines with a test size of 30%.\n",
    "<font>"
   ]
  },
  {
   "cell_type": "code",
   "execution_count": 37,
   "id": "edeadcbe",
   "metadata": {
    "execution": {
     "iopub.execute_input": "2023-04-06T22:00:53.379881Z",
     "iopub.status.busy": "2023-04-06T22:00:53.378920Z",
     "iopub.status.idle": "2023-04-06T22:00:53.517774Z",
     "shell.execute_reply": "2023-04-06T22:00:53.516220Z"
    },
    "papermill": {
     "duration": 0.166721,
     "end_time": "2023-04-06T22:00:53.520751",
     "exception": false,
     "start_time": "2023-04-06T22:00:53.354030",
     "status": "completed"
    },
    "tags": []
   },
   "outputs": [
    {
     "name": "stdout",
     "output_type": "stream",
     "text": [
      "time: 132 ms (started: 2023-04-06 22:00:53 +00:00)\n"
     ]
    }
   ],
   "source": [
    "from sklearn.model_selection import train_test_split\n",
    "train_lines, test_lines = train_test_split(patent_lines, test_size=0.3, random_state=42)\n"
   ]
  },
  {
   "cell_type": "markdown",
   "id": "3a1fa679",
   "metadata": {
    "papermill": {
     "duration": 0.022862,
     "end_time": "2023-04-06T22:00:53.566880",
     "exception": false,
     "start_time": "2023-04-06T22:00:53.544018",
     "status": "completed"
    },
    "tags": []
   },
   "source": [
    "<font color='orange'>\n",
    "This cell iterates over the first 30,000 lines of train_lines, converts each line into a spaCy Doc object, and adds entities (matching with the PhraseMatcher) to each document, which are then filtered and added to doc_bin_train.\n",
    "<font>"
   ]
  },
  {
   "cell_type": "code",
   "execution_count": 38,
   "id": "f2fb9adf",
   "metadata": {
    "execution": {
     "iopub.execute_input": "2023-04-06T22:00:53.615561Z",
     "iopub.status.busy": "2023-04-06T22:00:53.615162Z",
     "iopub.status.idle": "2023-04-06T22:01:16.432569Z",
     "shell.execute_reply": "2023-04-06T22:01:16.431842Z"
    },
    "papermill": {
     "duration": 23.145234,
     "end_time": "2023-04-06T22:01:16.735183",
     "exception": false,
     "start_time": "2023-04-06T22:00:53.589949",
     "status": "completed"
    },
    "tags": []
   },
   "outputs": [
    {
     "data": {
      "application/vnd.jupyter.widget-view+json": {
       "model_id": "4ab670d03bb64f4bbccb413beafabbd1",
       "version_major": 2,
       "version_minor": 0
      },
      "text/plain": [
       "  0%|          | 0/30000 [00:00<?, ?it/s]"
      ]
     },
     "metadata": {},
     "output_type": "display_data"
    },
    {
     "name": "stdout",
     "output_type": "stream",
     "text": [
      "time: 22.8 s (started: 2023-04-06 22:00:53 +00:00)\n"
     ]
    }
   ],
   "source": [
    "LABEL = \"TT\"\n",
    "doc_bin_train = DocBin() # create a DocBin object\n",
    "\n",
    "# nlp.max_length = 2000000\n",
    "for training_example  in tqdm(train_lines[:30000]): #~50 patents\n",
    "    doc = nlp.make_doc(training_example) \n",
    "    ents = []\n",
    "    \n",
    "    for match_id, start, end in matcher(doc):\n",
    "        #print(i,\"Matched based on lowercase token text:\", doc[:10], '::::::::',doc[start:end],start, end)\n",
    "        span = Span(doc, start, end, label=LABEL)\n",
    "        #print(span, span.label_)\n",
    "        if span is None:\n",
    "            print(\"Skipping entity\")\n",
    "        else:\n",
    "            ents.append(span)\n",
    "\n",
    "    filtered_ents = filter_spans(ents)\n",
    "    #print(filtered_ents[:3])\n",
    "    doc.ents = filtered_ents \n",
    "    doc_bin_train.add(doc)"
   ]
  },
  {
   "cell_type": "markdown",
   "id": "16147eeb",
   "metadata": {
    "papermill": {
     "duration": 0.023223,
     "end_time": "2023-04-06T22:01:16.783829",
     "exception": false,
     "start_time": "2023-04-06T22:01:16.760606",
     "status": "completed"
    },
    "tags": []
   },
   "source": [
    "<font color='orange'>\n",
    "This cell uses the trained PhraseMatcher to extract entities from the test_lines data and adds them to a DocBin object for validation, limiting the number of patents processed to 15.\n",
    "<font>"
   ]
  },
  {
   "cell_type": "code",
   "execution_count": 39,
   "id": "62b9105e",
   "metadata": {
    "execution": {
     "iopub.execute_input": "2023-04-06T22:01:16.834762Z",
     "iopub.status.busy": "2023-04-06T22:01:16.833506Z",
     "iopub.status.idle": "2023-04-06T22:01:25.018674Z",
     "shell.execute_reply": "2023-04-06T22:01:25.012437Z"
    },
    "papermill": {
     "duration": 8.321807,
     "end_time": "2023-04-06T22:01:25.129485",
     "exception": false,
     "start_time": "2023-04-06T22:01:16.807678",
     "status": "completed"
    },
    "tags": []
   },
   "outputs": [
    {
     "data": {
      "application/vnd.jupyter.widget-view+json": {
       "model_id": "a46cedcbc24540f8969a74bf3de86a8d",
       "version_major": 2,
       "version_minor": 0
      },
      "text/plain": [
       "  0%|          | 0/10000 [00:00<?, ?it/s]"
      ]
     },
     "metadata": {},
     "output_type": "display_data"
    },
    {
     "name": "stdout",
     "output_type": "stream",
     "text": [
      "time: 8.14 s (started: 2023-04-06 22:01:16 +00:00)\n"
     ]
    }
   ],
   "source": [
    "LABEL = \"TT\"\n",
    "doc_bin_valid = DocBin() # create a DocBin object\n",
    "nlp = spacy.blank(\"en\")\n",
    "# nlp.max_length = 2000000\n",
    "for training_example  in tqdm(test_lines[:10000]): #~15 patents\n",
    "    doc = nlp.make_doc(training_example) \n",
    "    ents = []\n",
    "    \n",
    "    for match_id, start, end in matcher(doc):\n",
    "        #print(i,\"Matched based on lowercase token text:\", doc[:10], '::::::::',doc[start:end],start, end)\n",
    "        span = Span(doc, start, end, label=LABEL)\n",
    "        #print(span, span.label_)\n",
    "        if span is None:\n",
    "            print(\"Skipping entity\")\n",
    "        else:\n",
    "            ents.append(span)\n",
    "\n",
    "    filtered_ents = filter_spans(ents)\n",
    "    #print(filtered_ents[:3])\n",
    "    doc.ents = filtered_ents \n",
    "    doc_bin_valid.add(doc)"
   ]
  },
  {
   "cell_type": "markdown",
   "id": "e2805422",
   "metadata": {
    "papermill": {
     "duration": 0.023416,
     "end_time": "2023-04-06T22:01:25.176574",
     "exception": false,
     "start_time": "2023-04-06T22:01:25.153158",
     "status": "completed"
    },
    "tags": []
   },
   "source": [
    "<font color='orange'>\n",
    "This cell iterates over a portion of the test_lines list, filters the entities and adds the filtered Doc object to the doc_bin_test DocBin.\n",
    "<font>"
   ]
  },
  {
   "cell_type": "code",
   "execution_count": 40,
   "id": "2e1b9801",
   "metadata": {
    "execution": {
     "iopub.execute_input": "2023-04-06T22:01:25.226519Z",
     "iopub.status.busy": "2023-04-06T22:01:25.226123Z",
     "iopub.status.idle": "2023-04-06T22:01:27.310578Z",
     "shell.execute_reply": "2023-04-06T22:01:27.309033Z"
    },
    "papermill": {
     "duration": 2.143185,
     "end_time": "2023-04-06T22:01:27.343431",
     "exception": false,
     "start_time": "2023-04-06T22:01:25.200246",
     "status": "completed"
    },
    "tags": []
   },
   "outputs": [
    {
     "data": {
      "application/vnd.jupyter.widget-view+json": {
       "model_id": "f8c0dd57b320433fb61707a9b74fa3e9",
       "version_major": 2,
       "version_minor": 0
      },
      "text/plain": [
       "  0%|          | 0/2000 [00:00<?, ?it/s]"
      ]
     },
     "metadata": {},
     "output_type": "display_data"
    },
    {
     "name": "stdout",
     "output_type": "stream",
     "text": [
      "time: 2.07 s (started: 2023-04-06 22:01:25 +00:00)\n"
     ]
    }
   ],
   "source": [
    "LABEL = \"TT\"\n",
    "doc_bin_test = DocBin() # create a DocBin object\n",
    "nlp = spacy.blank(\"en\")\n",
    "# nlp.max_length = 2000000\n",
    "for training_example  in tqdm(test_lines[10000:12000]): #~5 patents\n",
    "    doc = nlp.make_doc(training_example) \n",
    "    ents = []\n",
    "    \n",
    "    for match_id, start, end in matcher(doc):\n",
    "        #print(i,\"Matched based on lowercase token text:\", doc[:10], '::::::::',doc[start:end],start, end)\n",
    "        span = Span(doc, start, end, label=LABEL)\n",
    "        #print(span, span.label_)\n",
    "        if span is None:\n",
    "            print(\"Skipping entity\")\n",
    "        else:\n",
    "            ents.append(span)\n",
    "\n",
    "    filtered_ents = filter_spans(ents)\n",
    "    #print(filtered_ents[:3])\n",
    "    doc.ents = filtered_ents \n",
    "    doc_bin_test.add(doc)"
   ]
  },
  {
   "cell_type": "markdown",
   "id": "e1aec038",
   "metadata": {
    "papermill": {
     "duration": 0.025137,
     "end_time": "2023-04-06T22:01:27.392855",
     "exception": false,
     "start_time": "2023-04-06T22:01:27.367718",
     "status": "completed"
    },
    "tags": []
   },
   "source": [
    "<font color='orange'>\n",
    "This cell saves the DocBin objects containing the training, validation, and testing data in spaCy format, and saves the training, validation, and testing data as text files.\n",
    "<font>"
   ]
  },
  {
   "cell_type": "code",
   "execution_count": 41,
   "id": "f3dadbca",
   "metadata": {
    "execution": {
     "iopub.execute_input": "2023-04-06T22:01:27.444525Z",
     "iopub.status.busy": "2023-04-06T22:01:27.444048Z",
     "iopub.status.idle": "2023-04-06T22:01:35.744067Z",
     "shell.execute_reply": "2023-04-06T22:01:35.742190Z"
    },
    "papermill": {
     "duration": 8.328478,
     "end_time": "2023-04-06T22:01:35.746759",
     "exception": false,
     "start_time": "2023-04-06T22:01:27.418281",
     "status": "completed"
    },
    "tags": []
   },
   "outputs": [
    {
     "name": "stdout",
     "output_type": "stream",
     "text": [
      "time: 8.29 s (started: 2023-04-06 22:01:27 +00:00)\n"
     ]
    }
   ],
   "source": [
    "doc_bin_train.to_disk(\"training_data.spacy\") # save the docbin object\n",
    "doc_bin_valid.to_disk(\"valid_data.spacy\") # save the docbin object\n",
    "doc_bin_test.to_disk(\"test_data.spacy\") # save the docbin object\n",
    "\n",
    "# save train_lines to txt file\n",
    "with open('train_lines.txt', 'w') as f:\n",
    "    for line in train_lines:\n",
    "        f.write(line)\n",
    "        f.write('\\n')\n",
    "f.close()\n",
    "\n",
    "# save train_lines to txt file\n",
    "with open('valid_lines.txt', 'w') as f:\n",
    "    for line in test_lines[:10000]:\n",
    "        f.write(line)\n",
    "        f.write('\\n')\n",
    "f.close()\n",
    "\n",
    "# save test_lines to txt file\n",
    "with open('test_lines.txt', 'w') as f:\n",
    "    for line in test_lines[10000:12000]:\n",
    "        f.write(line)\n",
    "        f.write('\\n')\n",
    "f.close()"
   ]
  },
  {
   "cell_type": "markdown",
   "id": "d3d1976a",
   "metadata": {
    "papermill": {
     "duration": 0.023503,
     "end_time": "2023-04-06T22:01:35.795095",
     "exception": false,
     "start_time": "2023-04-06T22:01:35.771592",
     "status": "completed"
    },
    "tags": []
   },
   "source": [
    "Donwnload __base_config.cfg__ for your system at https://spacy.io/usage/training#quickstart"
   ]
  },
  {
   "cell_type": "code",
   "execution_count": 42,
   "id": "6f7bd2f6",
   "metadata": {
    "execution": {
     "iopub.execute_input": "2023-04-06T22:01:35.845713Z",
     "iopub.status.busy": "2023-04-06T22:01:35.845248Z",
     "iopub.status.idle": "2023-04-06T22:01:37.880969Z",
     "shell.execute_reply": "2023-04-06T22:01:37.879249Z"
    },
    "papermill": {
     "duration": 2.064249,
     "end_time": "2023-04-06T22:01:37.883717",
     "exception": false,
     "start_time": "2023-04-06T22:01:35.819468",
     "status": "completed"
    },
    "tags": []
   },
   "outputs": [
    {
     "name": "stdout",
     "output_type": "stream",
     "text": [
      "--2023-04-06 22:01:37--  https://docs.google.com/uc?export=download&id=1znItIeR-868aeNihbAMSlwwvFbnQyamk\r\n",
      "Resolving docs.google.com (docs.google.com)... 74.125.197.101, 74.125.197.113, 74.125.197.100, ...\r\n",
      "Connecting to docs.google.com (docs.google.com)|74.125.197.101|:443... connected.\r\n",
      "HTTP request sent, awaiting response... 303 See Other\r\n",
      "Location: https://doc-0c-9o-docs.googleusercontent.com/docs/securesc/ha0ro937gcuc7l7deffksulhg5h7mbp1/17pl3pfv9mgup611tpjvcptk4dsl8t0g/1680818475000/12415620844995071159/*/1znItIeR-868aeNihbAMSlwwvFbnQyamk?e=download&uuid=774e046d-37c0-41bb-b2ce-7a89c42bf97f [following]\r\n",
      "Warning: wildcards not supported in HTTP.\r\n",
      "--2023-04-06 22:01:37--  https://doc-0c-9o-docs.googleusercontent.com/docs/securesc/ha0ro937gcuc7l7deffksulhg5h7mbp1/17pl3pfv9mgup611tpjvcptk4dsl8t0g/1680818475000/12415620844995071159/*/1znItIeR-868aeNihbAMSlwwvFbnQyamk?e=download&uuid=774e046d-37c0-41bb-b2ce-7a89c42bf97f\r\n",
      "Resolving doc-0c-9o-docs.googleusercontent.com (doc-0c-9o-docs.googleusercontent.com)... 74.125.195.132, 2607:f8b0:400e:c09::84\r\n",
      "Connecting to doc-0c-9o-docs.googleusercontent.com (doc-0c-9o-docs.googleusercontent.com)|74.125.195.132|:443... connected.\r\n",
      "HTTP request sent, awaiting response... 200 OK\r\n",
      "Length: 1740 (1.7K) [text/plain]\r\n",
      "Saving to: ‘base_config.cfg’\r\n",
      "\r\n",
      "base_config.cfg     100%[===================>]   1.70K  --.-KB/s    in 0s      \r\n",
      "\r\n",
      "2023-04-06 22:01:37 (61.3 MB/s) - ‘base_config.cfg’ saved [1740/1740]\r\n",
      "\r\n",
      "time: 2.03 s (started: 2023-04-06 22:01:35 +00:00)\n"
     ]
    }
   ],
   "source": [
    "!wget --no-check-certificate 'https://docs.google.com/uc?export=download&id=1znItIeR-868aeNihbAMSlwwvFbnQyamk' -O base_config.cfg"
   ]
  },
  {
   "cell_type": "code",
   "execution_count": 43,
   "id": "6b0c4cf1",
   "metadata": {
    "execution": {
     "iopub.execute_input": "2023-04-06T22:01:37.937045Z",
     "iopub.status.busy": "2023-04-06T22:01:37.935612Z",
     "iopub.status.idle": "2023-04-06T22:01:54.896389Z",
     "shell.execute_reply": "2023-04-06T22:01:54.894718Z"
    },
    "papermill": {
     "duration": 16.990598,
     "end_time": "2023-04-06T22:01:54.899827",
     "exception": false,
     "start_time": "2023-04-06T22:01:37.909229",
     "status": "completed"
    },
    "tags": []
   },
   "outputs": [
    {
     "name": "stdout",
     "output_type": "stream",
     "text": [
      "\u001b[38;5;2m✔ Auto-filled config with all values\u001b[0m\r\n",
      "\u001b[38;5;2m✔ Saved config\u001b[0m\r\n",
      "config.cfg\r\n",
      "You can now add your data and train your pipeline:\r\n",
      "python -m spacy train config.cfg --paths.train ./train.spacy --paths.dev ./dev.spacy\r\n",
      "time: 17 s (started: 2023-04-06 22:01:37 +00:00)\n"
     ]
    }
   ],
   "source": [
    "# Run to generate full training config\n",
    "!python -m spacy init fill-config base_config.cfg config.cfg"
   ]
  },
  {
   "cell_type": "markdown",
   "id": "162eee11",
   "metadata": {
    "papermill": {
     "duration": 0.025029,
     "end_time": "2023-04-06T22:01:54.951884",
     "exception": false,
     "start_time": "2023-04-06T22:01:54.926855",
     "status": "completed"
    },
    "tags": []
   },
   "source": [
    "#### Training\n",
    "Run training. All results are stored into __./spacy_output__ "
   ]
  },
  {
   "cell_type": "code",
   "execution_count": 44,
   "id": "995638c6",
   "metadata": {
    "execution": {
     "iopub.execute_input": "2023-04-06T22:01:55.005908Z",
     "iopub.status.busy": "2023-04-06T22:01:55.005423Z",
     "iopub.status.idle": "2023-04-07T06:36:34.037186Z",
     "shell.execute_reply": "2023-04-07T06:36:34.031581Z"
    },
    "papermill": {
     "duration": 30879.064303,
     "end_time": "2023-04-07T06:36:34.041502",
     "exception": false,
     "start_time": "2023-04-06T22:01:54.977199",
     "status": "completed"
    },
    "tags": []
   },
   "outputs": [
    {
     "name": "stdout",
     "output_type": "stream",
     "text": [
      "\u001b[38;5;2m✔ Created output directory: spacy_output\u001b[0m\r\n",
      "\u001b[38;5;4mℹ Saving to output directory: spacy_output\u001b[0m\r\n",
      "\u001b[38;5;4mℹ Using CPU\u001b[0m\r\n",
      "\u001b[1m\r\n",
      "=========================== Initializing pipeline ===========================\u001b[0m\r\n",
      "[2023-04-06 22:02:04,534] [INFO] Set up nlp object from config\r\n",
      "[2023-04-06 22:02:04,550] [INFO] Pipeline: ['tok2vec', 'ner']\r\n",
      "[2023-04-06 22:02:04,557] [INFO] Created vocabulary\r\n",
      "[2023-04-06 22:02:07,090] [INFO] Added vectors: en_core_web_lg\r\n",
      "[2023-04-06 22:02:11,016] [INFO] Finished initializing nlp object\r\n",
      "[2023-04-06 22:02:57,020] [INFO] Initialized pipeline components: ['tok2vec', 'ner']\r\n",
      "\u001b[38;5;2m✔ Initialized pipeline\u001b[0m\r\n",
      "\u001b[1m\r\n",
      "============================= Training pipeline =============================\u001b[0m\r\n",
      "\u001b[38;5;4mℹ Pipeline: ['tok2vec', 'ner']\u001b[0m\r\n",
      "\u001b[38;5;4mℹ Initial learn rate: 0.001\u001b[0m\r\n",
      "E    #       LOSS TOK2VEC  LOSS NER  ENTS_F  ENTS_P  ENTS_R  SCORE \r\n",
      "---  ------  ------------  --------  ------  ------  ------  ------\r\n",
      "  0       0          0.00    137.17    0.87    0.55    2.12    0.01\r\n",
      "  0     200         13.56   1647.98   41.35   32.19   57.80    0.41\r\n",
      "  0     400         20.55    924.96   48.76   59.87   41.13    0.49\r\n",
      "  0     600         47.92   1021.55   46.43   67.36   35.43    0.46\r\n",
      "  0     800         75.10   1048.48   61.89   64.72   59.30    0.62\r\n",
      "  0    1000        116.71   1022.97   67.40   66.39   68.44    0.67\r\n",
      "  0    1200         62.33    997.24   62.96   70.25   57.05    0.63\r\n",
      "  0    1400        341.01   1253.75   67.58   71.83   63.80    0.68\r\n",
      "  0    1600        184.38   1350.50   68.68   74.76   63.52    0.69\r\n",
      "  0    1800        254.67   1526.63   74.97   76.36   73.63    0.75\r\n",
      "  0    2000        288.78   1867.81   71.53   78.42   65.75    0.72\r\n",
      "  0    2200        283.58   1872.14   75.84   83.58   69.41    0.76\r\n",
      "  0    2400        446.31   2204.91   79.91   80.16   79.66    0.80\r\n",
      "  0    2600        681.31   2532.71   74.92   84.70   67.17    0.75\r\n",
      "  0    2800        814.57   2234.92   82.52   85.94   79.36    0.83\r\n",
      "  0    3000        993.43   2059.51   86.25   83.88   88.77    0.86\r\n",
      "  0    3200        785.64   1893.86   86.53   83.73   89.52    0.87\r\n",
      "  0    3400       1577.68   1834.20   89.16   88.37   89.96    0.89\r\n",
      "  0    3600      17502.35   1812.01   89.58   90.90   88.29    0.90\r\n",
      "  0    3800       1518.48   1546.62   89.50   87.90   91.16    0.90\r\n",
      "  0    4000       1113.72   1515.43   90.92   89.10   92.81    0.91\r\n",
      "  0    4200      10410.06   1416.41   91.72   92.37   91.07    0.92\r\n",
      "  0    4400        486.69   1173.39   92.14   92.32   91.96    0.92\r\n",
      "  0    4600       1097.03   1254.26   93.76   91.62   96.00    0.94\r\n",
      "  1    4800       1881.37   1089.35   94.04   92.48   95.64    0.94\r\n",
      "  1    5000        785.08    932.53   92.96   93.56   92.36    0.93\r\n",
      "  1    5200        718.13    913.34   94.64   94.71   94.57    0.95\r\n",
      "  1    5400      13162.41    861.13   94.78   94.86   94.71    0.95\r\n",
      "  1    5600       1936.87    822.99   94.59   93.07   96.16    0.95\r\n",
      "  1    5800       1253.54    735.69   94.63   91.91   97.51    0.95\r\n",
      "  1    6000       1596.56    659.25   95.98   94.52   97.48    0.96\r\n",
      "  1    6200       2555.61    649.25   96.11   94.35   97.93    0.96\r\n",
      "  1    6400       2180.34    708.02   95.15   93.30   97.09    0.95\r\n",
      "  1    6600       2264.61    694.50   95.12   96.65   93.64    0.95\r\n",
      "  1    6800       1464.58    568.47   96.74   96.09   97.41    0.97\r\n",
      "  1    7000       2737.19    600.21   95.01   95.58   94.45    0.95\r\n",
      "  1    7200       5282.84    543.64   96.30   96.51   96.09    0.96\r\n",
      "  1    7400       2414.68    620.65   96.64   95.20   98.13    0.97\r\n",
      "  1    7600       2281.92    475.09   96.62   95.35   97.93    0.97\r\n",
      "  2    7800       1403.43    537.74   96.68   96.67   96.69    0.97\r\n",
      "  2    8000       6582.98    395.85   97.12   96.24   98.03    0.97\r\n",
      "  2    8200       5701.44    427.93   97.18   96.68   97.69    0.97\r\n",
      "  2    8400       7505.00    414.13   97.04   95.57   98.57    0.97\r\n",
      "  2    8600       7985.94    555.79   96.88   95.50   98.31    0.97\r\n",
      "  2    8800       3035.15    425.25   96.96   95.30   98.67    0.97\r\n",
      "  2    9000       5853.21    429.07   97.21   98.43   96.02    0.97\r\n",
      "  2    9200      10520.35    451.06   97.60   96.83   98.38    0.98\r\n",
      "  2    9400      11178.69    429.27   96.84   97.41   96.27    0.97\r\n",
      "  2    9600       5272.99    369.40   97.21   96.31   98.14    0.97\r\n",
      "  2    9800       7802.92    376.43   97.16   95.39   99.00    0.97\r\n",
      "  2   10000       4637.82    372.63   97.06   97.40   96.73    0.97\r\n",
      "  2   10200      15538.03    407.96   97.78   97.09   98.48    0.98\r\n",
      "  2   10400       3502.10    437.79   98.30   97.93   98.67    0.98\r\n",
      "  2   10600       4009.34    307.87   97.32   95.94   98.74    0.97\r\n",
      "  3   10800       6103.49    350.25   98.17   97.56   98.79    0.98\r\n",
      "  3   11000      11503.57    256.70   98.42   97.62   99.24    0.98\r\n",
      "  3   11200      20667.35    273.93   98.13   97.58   98.68    0.98\r\n",
      "  3   11400      11796.98    281.35   98.55   98.13   98.97    0.99\r\n",
      "  3   11600       5431.12    255.05   98.13   97.54   98.72    0.98\r\n",
      "  3   11800       6587.47    329.79   98.46   97.64   99.29    0.98\r\n",
      "  3   12000    1475187.27    373.38   98.15   97.64   98.66    0.98\r\n",
      "  3   12200      13165.24    331.67   96.93   95.70   98.18    0.97\r\n",
      "  3   12400      13005.72    346.14   97.73   97.98   97.47    0.98\r\n",
      "  3   12600      17398.12    245.96   97.98   97.21   98.75    0.98\r\n",
      "  3   12800      16538.60    286.79   98.43   98.11   98.74    0.98\r\n",
      "  3   13000     100321.82    302.39   97.67   98.03   97.31    0.98\r\n",
      "\u001b[38;5;2m✔ Saved pipeline to output directory\u001b[0m\r\n",
      "spacy_output/model-last\r\n",
      "time: 8h 34min 39s (started: 2023-04-06 22:01:55 +00:00)\n"
     ]
    }
   ],
   "source": [
    "# takes some time!\n",
    "# if it crashes VS Code you may want to try to run this line directly in the command line\n",
    "!python -m spacy train config.cfg --output ./spacy_output --paths.train ./training_data.spacy --paths.dev ./valid_data.spacy"
   ]
  },
  {
   "cell_type": "markdown",
   "id": "043a9327",
   "metadata": {
    "papermill": {
     "duration": 0.030408,
     "end_time": "2023-04-07T06:36:34.103088",
     "exception": false,
     "start_time": "2023-04-07T06:36:34.072680",
     "status": "completed"
    },
    "tags": []
   },
   "source": [
    "### Testing"
   ]
  },
  {
   "cell_type": "code",
   "execution_count": 45,
   "id": "d22c8fc5",
   "metadata": {
    "execution": {
     "iopub.execute_input": "2023-04-07T06:36:34.172214Z",
     "iopub.status.busy": "2023-04-07T06:36:34.171055Z",
     "iopub.status.idle": "2023-04-07T06:36:41.828318Z",
     "shell.execute_reply": "2023-04-07T06:36:41.826783Z"
    },
    "papermill": {
     "duration": 7.698205,
     "end_time": "2023-04-07T06:36:41.831321",
     "exception": false,
     "start_time": "2023-04-07T06:36:34.133116",
     "status": "completed"
    },
    "tags": []
   },
   "outputs": [
    {
     "data": {
      "text/html": [
       "<span class=\"tex2jax_ignore\"><div class=\"entities\" style=\"line-height: 2.5; direction: ltr\">Web scraping or web data extraction methods are known in the art. Web scraping is used to access the World Wide Web directly using the Hypertext Transfer Protocol, or through a \n",
       "<mark class=\"entity\" style=\"background: #ddd; padding: 0.45em 0.6em; margin: 0 0.25em; line-height: 1; border-radius: 0.35em;\">\n",
       "    web browser\n",
       "    <span style=\"font-size: 0.8em; font-weight: bold; line-height: 1; border-radius: 0.35em; vertical-align: middle; margin-left: 0.5rem\">TT</span>\n",
       "</mark>\n",
       ". Web scraping typically refers to automated processes \n",
       "<mark class=\"entity\" style=\"background: #ddd; padding: 0.45em 0.6em; margin: 0 0.25em; line-height: 1; border-radius: 0.35em;\">\n",
       "    implemented using\n",
       "    <span style=\"font-size: 0.8em; font-weight: bold; line-height: 1; border-radius: 0.35em; vertical-align: middle; margin-left: 0.5rem\">TT</span>\n",
       "</mark>\n",
       " a bot or web crawler. It is a form of copying, in which specific data is gathered and copied from the web, typically into a central local database or spreadsheet, for later retrieval or analysis.Web scraping a \n",
       "<mark class=\"entity\" style=\"background: #ddd; padding: 0.45em 0.6em; margin: 0 0.25em; line-height: 1; border-radius: 0.35em;\">\n",
       "    web page\n",
       "    <span style=\"font-size: 0.8em; font-weight: bold; line-height: 1; border-radius: 0.35em; vertical-align: middle; margin-left: 0.5rem\">TT</span>\n",
       "</mark>\n",
       " involves retrieving a predefined Hypertext Markup Language (HTML) page and extracting data from it. Fetching is the downloading of a page which is stored under a static Web address typically specified by a Uniform Resource Locator (URL). Once the page is fetched from where it had been stored, extraction can take place. The content of a page may then be parsed, searched, reformatted, etc. Web scrapers typically extract certain parts of a page to make use of it for another purpose. An example is to find and copy names and phone numbers, or companies and their URLs, to a list (so-called contact scraping).Prior art Web scraping tools can retrieve \n",
       "<mark class=\"entity\" style=\"background: #ddd; padding: 0.45em 0.6em; margin: 0 0.25em; line-height: 1; border-radius: 0.35em;\">\n",
       "    web page\n",
       "    <span style=\"font-size: 0.8em; font-weight: bold; line-height: 1; border-radius: 0.35em; vertical-align: middle; margin-left: 0.5rem\">TT</span>\n",
       "</mark>\n",
       " content from pages which are stored as predefined HTML data. Such content is referred to as static content herein because it relates to content provided by static web pages. However, current web technology allows to dynamically generate web pages on a web server in response to requests which may be received from a user or a computer system. As a consequence, data shown on websites can continuously change. A \n",
       "<mark class=\"entity\" style=\"background: #ddd; padding: 0.45em 0.6em; margin: 0 0.25em; line-height: 1; border-radius: 0.35em;\">\n",
       "    web page\n",
       "    <span style=\"font-size: 0.8em; font-weight: bold; line-height: 1; border-radius: 0.35em; vertical-align: middle; margin-left: 0.5rem\">TT</span>\n",
       "</mark>\n",
       " containing respective data can change its layout and new data fields may be introduced at any time. The content of such dynamic web pages (dynamic content) typically depends on the navigation history through a website. In other words, it depends on where the user currently is and which information and requests have been sent previously. Current Web scraping tools fail to scrape dynamic content data from such dynamically generated web pages and provide respective content data in a machine-readable format so that the content can be further processed by other computer systems provided with the extracted data.SummaryHence, there is a need for providing improved methods and systems to enable web scraping for dynamic content on dynamic web pages. This technical problem is solved by a computer system, a computer-\n",
       "<mark class=\"entity\" style=\"background: #ddd; padding: 0.45em 0.6em; margin: 0 0.25em; line-height: 1; border-radius: 0.35em;\">\n",
       "    implemented method\n",
       "    <span style=\"font-size: 0.8em; font-weight: bold; line-height: 1; border-radius: 0.35em; vertical-align: middle; margin-left: 0.5rem\">TT</span>\n",
       "</mark>\n",
       " and a \n",
       "<mark class=\"entity\" style=\"background: #ddd; padding: 0.45em 0.6em; margin: 0 0.25em; line-height: 1; border-radius: 0.35em;\">\n",
       "    computer program product\n",
       "    <span style=\"font-size: 0.8em; font-weight: bold; line-height: 1; border-radius: 0.35em; vertical-align: middle; margin-left: 0.5rem\">TT</span>\n",
       "</mark>\n",
       " as disclosed in the independent claims. The \n",
       "<mark class=\"entity\" style=\"background: #ddd; padding: 0.45em 0.6em; margin: 0 0.25em; line-height: 1; border-radius: 0.35em;\">\n",
       "    disclosed embodiments\n",
       "    <span style=\"font-size: 0.8em; font-weight: bold; line-height: 1; border-radius: 0.35em; vertical-align: middle; margin-left: 0.5rem\">TT</span>\n",
       "</mark>\n",
       " define a screen-scraping framework which addresses the above problem by automatically connecting to a target website and extracting dynamic data from said target website.</div></span>"
      ],
      "text/plain": [
       "<IPython.core.display.HTML object>"
      ]
     },
     "metadata": {},
     "output_type": "display_data"
    },
    {
     "name": "stdout",
     "output_type": "stream",
     "text": [
      "time: 7.64 s (started: 2023-04-07 06:36:34 +00:00)\n"
     ]
    }
   ],
   "source": [
    "# Load best model\n",
    "nlp_ner = spacy.load(\"./spacy_output/model-best\")\n",
    "\n",
    "# Just text snippet\n",
    "doc = nlp_ner(\"Web scraping or web data extraction methods are known in the art. Web scraping is used to access the World Wide Web directly using the Hypertext Transfer Protocol, or through a web browser. Web scraping typically refers to automated processes implemented using a bot or web crawler. It is a form of copying, in which specific data is gathered and copied from the web, typically into a central local database or spreadsheet, for later retrieval or analysis.\\\n",
    "Web scraping a web page involves retrieving a predefined Hypertext Markup Language (HTML) page and extracting data from it. Fetching is the downloading of a page which is stored under a static Web address typically specified by a Uniform Resource Locator (URL). Once the page is fetched from where it had been stored, extraction can take place. The content of a page may then be parsed, searched, reformatted, etc. Web scrapers typically extract certain parts of a page to make use \\\n",
    "of it for another purpose. An example is to find and copy names and phone numbers, \\\n",
    "or companies and their URLs, to a list (so-called contact scraping).\\\n",
    "Prior art Web scraping tools can retrieve web page content from pages which are stored as predefined HTML data. Such content is referred to as static content herein because it relates to content provided by static web pages. However, current web technology allows to dynamically generate web pages on a web server in response to requests which may be received from a user or a computer system. As a consequence, data shown on websites can continuously change. A web page containing respective data can change \\\n",
    "its layout and new data fields may be introduced at any time. The content of such dynamic web pages (dynamic content) typically depends on the navigation history through a website. In other words, it depends on where the user currently is and which information and requests have been sent previously.\\\n",
    " Current Web scraping tools fail to scrape dynamic content data from such dynamically generated web pages and provide respective content data in a machine-readable format so that the content can be further processed by other computer systems provided with the extracted data.\\\n",
    "Summary\\\n",
    "Hence, there is a need for providing improved methods and systems to enable web scraping for dynamic content on dynamic web pages. \\\n",
    "This technical problem is solved by a computer system, a computer-implemented method and a computer program product as disclosed in the independent claims. The disclosed embodiments define a screen-scraping framework which addresses the above problem by automatically connecting to a target website and extracting dynamic data from said target website.\\\n",
    "\")\n",
    "\n",
    "# Show NER results\n",
    "spacy.displacy.render(doc, style=\"ent\", jupyter=True)"
   ]
  },
  {
   "cell_type": "code",
   "execution_count": null,
   "id": "061e5a40",
   "metadata": {
    "papermill": {
     "duration": 0.029678,
     "end_time": "2023-04-07T06:36:41.891551",
     "exception": false,
     "start_time": "2023-04-07T06:36:41.861873",
     "status": "completed"
    },
    "tags": []
   },
   "outputs": [],
   "source": []
  }
 ],
 "metadata": {
  "kernelspec": {
   "display_name": "Python 3",
   "language": "python",
   "name": "python3"
  },
  "language_info": {
   "codemirror_mode": {
    "name": "ipython",
    "version": 3
   },
   "file_extension": ".py",
   "mimetype": "text/x-python",
   "name": "python",
   "nbconvert_exporter": "python",
   "pygments_lexer": "ipython3",
   "version": "3.7.12"
  },
  "papermill": {
   "default_parameters": {},
   "duration": 32021.827415,
   "end_time": "2023-04-07T06:36:45.323895",
   "environment_variables": {},
   "exception": null,
   "input_path": "__notebook__.ipynb",
   "output_path": "__notebook__.ipynb",
   "parameters": {},
   "start_time": "2023-04-06T21:43:03.496480",
   "version": "2.4.0"
  },
  "widgets": {
   "application/vnd.jupyter.widget-state+json": {
    "state": {
     "03c3e64a6ed441e38ae3674be7913c7f": {
      "model_module": "@jupyter-widgets/controls",
      "model_module_version": "1.5.0",
      "model_name": "HTMLModel",
      "state": {
       "_dom_classes": [],
       "_model_module": "@jupyter-widgets/controls",
       "_model_module_version": "1.5.0",
       "_model_name": "HTMLModel",
       "_view_count": null,
       "_view_module": "@jupyter-widgets/controls",
       "_view_module_version": "1.5.0",
       "_view_name": "HTMLView",
       "description": "",
       "description_tooltip": null,
       "layout": "IPY_MODEL_db7206414aa04a218edf1ea4c4ed5211",
       "placeholder": "​",
       "style": "IPY_MODEL_5babb1f1358448dd9438d1edcf12578d",
       "value": " 30000/30000 [00:22&lt;00:00, 1525.08it/s]"
      }
     },
     "0826ccfa3938497db230d2d895fe9d31": {
      "model_module": "@jupyter-widgets/controls",
      "model_module_version": "1.5.0",
      "model_name": "HBoxModel",
      "state": {
       "_dom_classes": [],
       "_model_module": "@jupyter-widgets/controls",
       "_model_module_version": "1.5.0",
       "_model_name": "HBoxModel",
       "_view_count": null,
       "_view_module": "@jupyter-widgets/controls",
       "_view_module_version": "1.5.0",
       "_view_name": "HBoxView",
       "box_style": "",
       "children": [
        "IPY_MODEL_401a08377eea4a4b9084190c5878495c",
        "IPY_MODEL_fffc4eb6955b4c81983937741e2d98a2",
        "IPY_MODEL_582e87d29c3245eaa47b97a04cd146b7"
       ],
       "layout": "IPY_MODEL_fa0fa30af80b4d7c8093c88e20b1fbb6"
      }
     },
     "083ff0c16972451a9690de521c38c0e2": {
      "model_module": "@jupyter-widgets/controls",
      "model_module_version": "1.5.0",
      "model_name": "DescriptionStyleModel",
      "state": {
       "_model_module": "@jupyter-widgets/controls",
       "_model_module_version": "1.5.0",
       "_model_name": "DescriptionStyleModel",
       "_view_count": null,
       "_view_module": "@jupyter-widgets/base",
       "_view_module_version": "1.2.0",
       "_view_name": "StyleView",
       "description_width": ""
      }
     },
     "127c9a4fc9ba4506870c17ca17107c63": {
      "model_module": "@jupyter-widgets/base",
      "model_module_version": "1.2.0",
      "model_name": "LayoutModel",
      "state": {
       "_model_module": "@jupyter-widgets/base",
       "_model_module_version": "1.2.0",
       "_model_name": "LayoutModel",
       "_view_count": null,
       "_view_module": "@jupyter-widgets/base",
       "_view_module_version": "1.2.0",
       "_view_name": "LayoutView",
       "align_content": null,
       "align_items": null,
       "align_self": null,
       "border": null,
       "bottom": null,
       "display": null,
       "flex": null,
       "flex_flow": null,
       "grid_area": null,
       "grid_auto_columns": null,
       "grid_auto_flow": null,
       "grid_auto_rows": null,
       "grid_column": null,
       "grid_gap": null,
       "grid_row": null,
       "grid_template_areas": null,
       "grid_template_columns": null,
       "grid_template_rows": null,
       "height": null,
       "justify_content": null,
       "justify_items": null,
       "left": null,
       "margin": null,
       "max_height": null,
       "max_width": null,
       "min_height": null,
       "min_width": null,
       "object_fit": null,
       "object_position": null,
       "order": null,
       "overflow": null,
       "overflow_x": null,
       "overflow_y": null,
       "padding": null,
       "right": null,
       "top": null,
       "visibility": null,
       "width": null
      }
     },
     "176054e15db94f1ba466389645ad2597": {
      "model_module": "@jupyter-widgets/base",
      "model_module_version": "1.2.0",
      "model_name": "LayoutModel",
      "state": {
       "_model_module": "@jupyter-widgets/base",
       "_model_module_version": "1.2.0",
       "_model_name": "LayoutModel",
       "_view_count": null,
       "_view_module": "@jupyter-widgets/base",
       "_view_module_version": "1.2.0",
       "_view_name": "LayoutView",
       "align_content": null,
       "align_items": null,
       "align_self": null,
       "border": null,
       "bottom": null,
       "display": null,
       "flex": null,
       "flex_flow": null,
       "grid_area": null,
       "grid_auto_columns": null,
       "grid_auto_flow": null,
       "grid_auto_rows": null,
       "grid_column": null,
       "grid_gap": null,
       "grid_row": null,
       "grid_template_areas": null,
       "grid_template_columns": null,
       "grid_template_rows": null,
       "height": null,
       "justify_content": null,
       "justify_items": null,
       "left": null,
       "margin": null,
       "max_height": null,
       "max_width": null,
       "min_height": null,
       "min_width": null,
       "object_fit": null,
       "object_position": null,
       "order": null,
       "overflow": null,
       "overflow_x": null,
       "overflow_y": null,
       "padding": null,
       "right": null,
       "top": null,
       "visibility": null,
       "width": "20px"
      }
     },
     "2016f6c5ee4a417cb2493d483c83c961": {
      "model_module": "@jupyter-widgets/controls",
      "model_module_version": "1.5.0",
      "model_name": "FloatProgressModel",
      "state": {
       "_dom_classes": [],
       "_model_module": "@jupyter-widgets/controls",
       "_model_module_version": "1.5.0",
       "_model_name": "FloatProgressModel",
       "_view_count": null,
       "_view_module": "@jupyter-widgets/controls",
       "_view_module_version": "1.5.0",
       "_view_name": "ProgressView",
       "bar_style": "success",
       "description": "",
       "description_tooltip": null,
       "layout": "IPY_MODEL_43ecd1ef544b40789031e0124d6a3e99",
       "max": 2000.0,
       "min": 0.0,
       "orientation": "horizontal",
       "style": "IPY_MODEL_79289f3ccc484cea8051c2808f9dc93e",
       "value": 2000.0
      }
     },
     "2acacf50653b4706b08c98d4fe059b73": {
      "model_module": "@jupyter-widgets/controls",
      "model_module_version": "1.5.0",
      "model_name": "FloatProgressModel",
      "state": {
       "_dom_classes": [],
       "_model_module": "@jupyter-widgets/controls",
       "_model_module_version": "1.5.0",
       "_model_name": "FloatProgressModel",
       "_view_count": null,
       "_view_module": "@jupyter-widgets/controls",
       "_view_module_version": "1.5.0",
       "_view_name": "ProgressView",
       "bar_style": "success",
       "description": "",
       "description_tooltip": null,
       "layout": "IPY_MODEL_127c9a4fc9ba4506870c17ca17107c63",
       "max": 10000.0,
       "min": 0.0,
       "orientation": "horizontal",
       "style": "IPY_MODEL_c84c5cfd0b1d4ddaacfa99ba57ecfa6e",
       "value": 10000.0
      }
     },
     "2dc3bbb162134ab199371f6dbedd334a": {
      "model_module": "@jupyter-widgets/base",
      "model_module_version": "1.2.0",
      "model_name": "LayoutModel",
      "state": {
       "_model_module": "@jupyter-widgets/base",
       "_model_module_version": "1.2.0",
       "_model_name": "LayoutModel",
       "_view_count": null,
       "_view_module": "@jupyter-widgets/base",
       "_view_module_version": "1.2.0",
       "_view_name": "LayoutView",
       "align_content": null,
       "align_items": null,
       "align_self": null,
       "border": null,
       "bottom": null,
       "display": null,
       "flex": null,
       "flex_flow": null,
       "grid_area": null,
       "grid_auto_columns": null,
       "grid_auto_flow": null,
       "grid_auto_rows": null,
       "grid_column": null,
       "grid_gap": null,
       "grid_row": null,
       "grid_template_areas": null,
       "grid_template_columns": null,
       "grid_template_rows": null,
       "height": null,
       "justify_content": null,
       "justify_items": null,
       "left": null,
       "margin": null,
       "max_height": null,
       "max_width": null,
       "min_height": null,
       "min_width": null,
       "object_fit": null,
       "object_position": null,
       "order": null,
       "overflow": null,
       "overflow_x": null,
       "overflow_y": null,
       "padding": null,
       "right": null,
       "top": null,
       "visibility": null,
       "width": null
      }
     },
     "3cff6ea093e94672b814c415e1249177": {
      "model_module": "@jupyter-widgets/controls",
      "model_module_version": "1.5.0",
      "model_name": "FloatProgressModel",
      "state": {
       "_dom_classes": [],
       "_model_module": "@jupyter-widgets/controls",
       "_model_module_version": "1.5.0",
       "_model_name": "FloatProgressModel",
       "_view_count": null,
       "_view_module": "@jupyter-widgets/controls",
       "_view_module_version": "1.5.0",
       "_view_name": "ProgressView",
       "bar_style": "success",
       "description": "",
       "description_tooltip": null,
       "layout": "IPY_MODEL_4ebc68c78b52459b8b2327cc69c4f488",
       "max": 30000.0,
       "min": 0.0,
       "orientation": "horizontal",
       "style": "IPY_MODEL_9254558ce6724e5aa36327ef2120835b",
       "value": 30000.0
      }
     },
     "3eb8d9004f224b0f86224e56c6b2868f": {
      "model_module": "@jupyter-widgets/controls",
      "model_module_version": "1.5.0",
      "model_name": "DescriptionStyleModel",
      "state": {
       "_model_module": "@jupyter-widgets/controls",
       "_model_module_version": "1.5.0",
       "_model_name": "DescriptionStyleModel",
       "_view_count": null,
       "_view_module": "@jupyter-widgets/base",
       "_view_module_version": "1.2.0",
       "_view_name": "StyleView",
       "description_width": ""
      }
     },
     "401a08377eea4a4b9084190c5878495c": {
      "model_module": "@jupyter-widgets/controls",
      "model_module_version": "1.5.0",
      "model_name": "HTMLModel",
      "state": {
       "_dom_classes": [],
       "_model_module": "@jupyter-widgets/controls",
       "_model_module_version": "1.5.0",
       "_model_name": "HTMLModel",
       "_view_count": null,
       "_view_module": "@jupyter-widgets/controls",
       "_view_module_version": "1.5.0",
       "_view_name": "HTMLView",
       "description": "",
       "description_tooltip": null,
       "layout": "IPY_MODEL_8c54650bcbd54668bb8c7e8e87ccd779",
       "placeholder": "​",
       "style": "IPY_MODEL_9d26051e067245ac8afa785bd08fb5cf",
       "value": ""
      }
     },
     "43ecd1ef544b40789031e0124d6a3e99": {
      "model_module": "@jupyter-widgets/base",
      "model_module_version": "1.2.0",
      "model_name": "LayoutModel",
      "state": {
       "_model_module": "@jupyter-widgets/base",
       "_model_module_version": "1.2.0",
       "_model_name": "LayoutModel",
       "_view_count": null,
       "_view_module": "@jupyter-widgets/base",
       "_view_module_version": "1.2.0",
       "_view_name": "LayoutView",
       "align_content": null,
       "align_items": null,
       "align_self": null,
       "border": null,
       "bottom": null,
       "display": null,
       "flex": null,
       "flex_flow": null,
       "grid_area": null,
       "grid_auto_columns": null,
       "grid_auto_flow": null,
       "grid_auto_rows": null,
       "grid_column": null,
       "grid_gap": null,
       "grid_row": null,
       "grid_template_areas": null,
       "grid_template_columns": null,
       "grid_template_rows": null,
       "height": null,
       "justify_content": null,
       "justify_items": null,
       "left": null,
       "margin": null,
       "max_height": null,
       "max_width": null,
       "min_height": null,
       "min_width": null,
       "object_fit": null,
       "object_position": null,
       "order": null,
       "overflow": null,
       "overflow_x": null,
       "overflow_y": null,
       "padding": null,
       "right": null,
       "top": null,
       "visibility": null,
       "width": null
      }
     },
     "4ab670d03bb64f4bbccb413beafabbd1": {
      "model_module": "@jupyter-widgets/controls",
      "model_module_version": "1.5.0",
      "model_name": "HBoxModel",
      "state": {
       "_dom_classes": [],
       "_model_module": "@jupyter-widgets/controls",
       "_model_module_version": "1.5.0",
       "_model_name": "HBoxModel",
       "_view_count": null,
       "_view_module": "@jupyter-widgets/controls",
       "_view_module_version": "1.5.0",
       "_view_name": "HBoxView",
       "box_style": "",
       "children": [
        "IPY_MODEL_863f3931aa5440da8fd9b9642f7242af",
        "IPY_MODEL_3cff6ea093e94672b814c415e1249177",
        "IPY_MODEL_03c3e64a6ed441e38ae3674be7913c7f"
       ],
       "layout": "IPY_MODEL_8f477549d2294c22b23d4b3a674056ed"
      }
     },
     "4ebc68c78b52459b8b2327cc69c4f488": {
      "model_module": "@jupyter-widgets/base",
      "model_module_version": "1.2.0",
      "model_name": "LayoutModel",
      "state": {
       "_model_module": "@jupyter-widgets/base",
       "_model_module_version": "1.2.0",
       "_model_name": "LayoutModel",
       "_view_count": null,
       "_view_module": "@jupyter-widgets/base",
       "_view_module_version": "1.2.0",
       "_view_name": "LayoutView",
       "align_content": null,
       "align_items": null,
       "align_self": null,
       "border": null,
       "bottom": null,
       "display": null,
       "flex": null,
       "flex_flow": null,
       "grid_area": null,
       "grid_auto_columns": null,
       "grid_auto_flow": null,
       "grid_auto_rows": null,
       "grid_column": null,
       "grid_gap": null,
       "grid_row": null,
       "grid_template_areas": null,
       "grid_template_columns": null,
       "grid_template_rows": null,
       "height": null,
       "justify_content": null,
       "justify_items": null,
       "left": null,
       "margin": null,
       "max_height": null,
       "max_width": null,
       "min_height": null,
       "min_width": null,
       "object_fit": null,
       "object_position": null,
       "order": null,
       "overflow": null,
       "overflow_x": null,
       "overflow_y": null,
       "padding": null,
       "right": null,
       "top": null,
       "visibility": null,
       "width": null
      }
     },
     "4f0ececc971146b28fb2357b680d2873": {
      "model_module": "@jupyter-widgets/controls",
      "model_module_version": "1.5.0",
      "model_name": "HTMLModel",
      "state": {
       "_dom_classes": [],
       "_model_module": "@jupyter-widgets/controls",
       "_model_module_version": "1.5.0",
       "_model_name": "HTMLModel",
       "_view_count": null,
       "_view_module": "@jupyter-widgets/controls",
       "_view_module_version": "1.5.0",
       "_view_name": "HTMLView",
       "description": "",
       "description_tooltip": null,
       "layout": "IPY_MODEL_9fc0f1d1e9af45428ae543a1eb4476e0",
       "placeholder": "​",
       "style": "IPY_MODEL_580cdfe064ea44a6a064fe344e5fd41a",
       "value": " 2000/2000 [00:01&lt;00:00, 1195.78it/s]"
      }
     },
     "57ee4ca8bd934203ab6cfef317b2dddc": {
      "model_module": "@jupyter-widgets/base",
      "model_module_version": "1.2.0",
      "model_name": "LayoutModel",
      "state": {
       "_model_module": "@jupyter-widgets/base",
       "_model_module_version": "1.2.0",
       "_model_name": "LayoutModel",
       "_view_count": null,
       "_view_module": "@jupyter-widgets/base",
       "_view_module_version": "1.2.0",
       "_view_name": "LayoutView",
       "align_content": null,
       "align_items": null,
       "align_self": null,
       "border": null,
       "bottom": null,
       "display": null,
       "flex": null,
       "flex_flow": null,
       "grid_area": null,
       "grid_auto_columns": null,
       "grid_auto_flow": null,
       "grid_auto_rows": null,
       "grid_column": null,
       "grid_gap": null,
       "grid_row": null,
       "grid_template_areas": null,
       "grid_template_columns": null,
       "grid_template_rows": null,
       "height": null,
       "justify_content": null,
       "justify_items": null,
       "left": null,
       "margin": null,
       "max_height": null,
       "max_width": null,
       "min_height": null,
       "min_width": null,
       "object_fit": null,
       "object_position": null,
       "order": null,
       "overflow": null,
       "overflow_x": null,
       "overflow_y": null,
       "padding": null,
       "right": null,
       "top": null,
       "visibility": null,
       "width": null
      }
     },
     "580cdfe064ea44a6a064fe344e5fd41a": {
      "model_module": "@jupyter-widgets/controls",
      "model_module_version": "1.5.0",
      "model_name": "DescriptionStyleModel",
      "state": {
       "_model_module": "@jupyter-widgets/controls",
       "_model_module_version": "1.5.0",
       "_model_name": "DescriptionStyleModel",
       "_view_count": null,
       "_view_module": "@jupyter-widgets/base",
       "_view_module_version": "1.2.0",
       "_view_name": "StyleView",
       "description_width": ""
      }
     },
     "582e87d29c3245eaa47b97a04cd146b7": {
      "model_module": "@jupyter-widgets/controls",
      "model_module_version": "1.5.0",
      "model_name": "HTMLModel",
      "state": {
       "_dom_classes": [],
       "_model_module": "@jupyter-widgets/controls",
       "_model_module_version": "1.5.0",
       "_model_name": "HTMLModel",
       "_view_count": null,
       "_view_module": "@jupyter-widgets/controls",
       "_view_module_version": "1.5.0",
       "_view_name": "HTMLView",
       "description": "",
       "description_tooltip": null,
       "layout": "IPY_MODEL_dda56337f34241639f32ca232616ef51",
       "placeholder": "​",
       "style": "IPY_MODEL_3eb8d9004f224b0f86224e56c6b2868f",
       "value": " 302426/? [02:42&lt;00:00, 2365.41it/s]"
      }
     },
     "5b20dd9c41d8432ca2750009cbe5350f": {
      "model_module": "@jupyter-widgets/base",
      "model_module_version": "1.2.0",
      "model_name": "LayoutModel",
      "state": {
       "_model_module": "@jupyter-widgets/base",
       "_model_module_version": "1.2.0",
       "_model_name": "LayoutModel",
       "_view_count": null,
       "_view_module": "@jupyter-widgets/base",
       "_view_module_version": "1.2.0",
       "_view_name": "LayoutView",
       "align_content": null,
       "align_items": null,
       "align_self": null,
       "border": null,
       "bottom": null,
       "display": null,
       "flex": null,
       "flex_flow": null,
       "grid_area": null,
       "grid_auto_columns": null,
       "grid_auto_flow": null,
       "grid_auto_rows": null,
       "grid_column": null,
       "grid_gap": null,
       "grid_row": null,
       "grid_template_areas": null,
       "grid_template_columns": null,
       "grid_template_rows": null,
       "height": null,
       "justify_content": null,
       "justify_items": null,
       "left": null,
       "margin": null,
       "max_height": null,
       "max_width": null,
       "min_height": null,
       "min_width": null,
       "object_fit": null,
       "object_position": null,
       "order": null,
       "overflow": null,
       "overflow_x": null,
       "overflow_y": null,
       "padding": null,
       "right": null,
       "top": null,
       "visibility": null,
       "width": null
      }
     },
     "5babb1f1358448dd9438d1edcf12578d": {
      "model_module": "@jupyter-widgets/controls",
      "model_module_version": "1.5.0",
      "model_name": "DescriptionStyleModel",
      "state": {
       "_model_module": "@jupyter-widgets/controls",
       "_model_module_version": "1.5.0",
       "_model_name": "DescriptionStyleModel",
       "_view_count": null,
       "_view_module": "@jupyter-widgets/base",
       "_view_module_version": "1.2.0",
       "_view_name": "StyleView",
       "description_width": ""
      }
     },
     "5db52ed132034d55b4a79ece88283fb9": {
      "model_module": "@jupyter-widgets/base",
      "model_module_version": "1.2.0",
      "model_name": "LayoutModel",
      "state": {
       "_model_module": "@jupyter-widgets/base",
       "_model_module_version": "1.2.0",
       "_model_name": "LayoutModel",
       "_view_count": null,
       "_view_module": "@jupyter-widgets/base",
       "_view_module_version": "1.2.0",
       "_view_name": "LayoutView",
       "align_content": null,
       "align_items": null,
       "align_self": null,
       "border": null,
       "bottom": null,
       "display": null,
       "flex": null,
       "flex_flow": null,
       "grid_area": null,
       "grid_auto_columns": null,
       "grid_auto_flow": null,
       "grid_auto_rows": null,
       "grid_column": null,
       "grid_gap": null,
       "grid_row": null,
       "grid_template_areas": null,
       "grid_template_columns": null,
       "grid_template_rows": null,
       "height": null,
       "justify_content": null,
       "justify_items": null,
       "left": null,
       "margin": null,
       "max_height": null,
       "max_width": null,
       "min_height": null,
       "min_width": null,
       "object_fit": null,
       "object_position": null,
       "order": null,
       "overflow": null,
       "overflow_x": null,
       "overflow_y": null,
       "padding": null,
       "right": null,
       "top": null,
       "visibility": null,
       "width": null
      }
     },
     "68a5e826fd83410b9e6b94e3377002f8": {
      "model_module": "@jupyter-widgets/base",
      "model_module_version": "1.2.0",
      "model_name": "LayoutModel",
      "state": {
       "_model_module": "@jupyter-widgets/base",
       "_model_module_version": "1.2.0",
       "_model_name": "LayoutModel",
       "_view_count": null,
       "_view_module": "@jupyter-widgets/base",
       "_view_module_version": "1.2.0",
       "_view_name": "LayoutView",
       "align_content": null,
       "align_items": null,
       "align_self": null,
       "border": null,
       "bottom": null,
       "display": null,
       "flex": null,
       "flex_flow": null,
       "grid_area": null,
       "grid_auto_columns": null,
       "grid_auto_flow": null,
       "grid_auto_rows": null,
       "grid_column": null,
       "grid_gap": null,
       "grid_row": null,
       "grid_template_areas": null,
       "grid_template_columns": null,
       "grid_template_rows": null,
       "height": null,
       "justify_content": null,
       "justify_items": null,
       "left": null,
       "margin": null,
       "max_height": null,
       "max_width": null,
       "min_height": null,
       "min_width": null,
       "object_fit": null,
       "object_position": null,
       "order": null,
       "overflow": null,
       "overflow_x": null,
       "overflow_y": null,
       "padding": null,
       "right": null,
       "top": null,
       "visibility": null,
       "width": null
      }
     },
     "7883bedcd2b34144816ed3b894992609": {
      "model_module": "@jupyter-widgets/base",
      "model_module_version": "1.2.0",
      "model_name": "LayoutModel",
      "state": {
       "_model_module": "@jupyter-widgets/base",
       "_model_module_version": "1.2.0",
       "_model_name": "LayoutModel",
       "_view_count": null,
       "_view_module": "@jupyter-widgets/base",
       "_view_module_version": "1.2.0",
       "_view_name": "LayoutView",
       "align_content": null,
       "align_items": null,
       "align_self": null,
       "border": null,
       "bottom": null,
       "display": null,
       "flex": null,
       "flex_flow": null,
       "grid_area": null,
       "grid_auto_columns": null,
       "grid_auto_flow": null,
       "grid_auto_rows": null,
       "grid_column": null,
       "grid_gap": null,
       "grid_row": null,
       "grid_template_areas": null,
       "grid_template_columns": null,
       "grid_template_rows": null,
       "height": null,
       "justify_content": null,
       "justify_items": null,
       "left": null,
       "margin": null,
       "max_height": null,
       "max_width": null,
       "min_height": null,
       "min_width": null,
       "object_fit": null,
       "object_position": null,
       "order": null,
       "overflow": null,
       "overflow_x": null,
       "overflow_y": null,
       "padding": null,
       "right": null,
       "top": null,
       "visibility": null,
       "width": null
      }
     },
     "79289f3ccc484cea8051c2808f9dc93e": {
      "model_module": "@jupyter-widgets/controls",
      "model_module_version": "1.5.0",
      "model_name": "ProgressStyleModel",
      "state": {
       "_model_module": "@jupyter-widgets/controls",
       "_model_module_version": "1.5.0",
       "_model_name": "ProgressStyleModel",
       "_view_count": null,
       "_view_module": "@jupyter-widgets/base",
       "_view_module_version": "1.2.0",
       "_view_name": "StyleView",
       "bar_color": null,
       "description_width": ""
      }
     },
     "863f3931aa5440da8fd9b9642f7242af": {
      "model_module": "@jupyter-widgets/controls",
      "model_module_version": "1.5.0",
      "model_name": "HTMLModel",
      "state": {
       "_dom_classes": [],
       "_model_module": "@jupyter-widgets/controls",
       "_model_module_version": "1.5.0",
       "_model_name": "HTMLModel",
       "_view_count": null,
       "_view_module": "@jupyter-widgets/controls",
       "_view_module_version": "1.5.0",
       "_view_name": "HTMLView",
       "description": "",
       "description_tooltip": null,
       "layout": "IPY_MODEL_57ee4ca8bd934203ab6cfef317b2dddc",
       "placeholder": "​",
       "style": "IPY_MODEL_d99782f286eb41c68ca8f99b8157e25b",
       "value": "100%"
      }
     },
     "8c54650bcbd54668bb8c7e8e87ccd779": {
      "model_module": "@jupyter-widgets/base",
      "model_module_version": "1.2.0",
      "model_name": "LayoutModel",
      "state": {
       "_model_module": "@jupyter-widgets/base",
       "_model_module_version": "1.2.0",
       "_model_name": "LayoutModel",
       "_view_count": null,
       "_view_module": "@jupyter-widgets/base",
       "_view_module_version": "1.2.0",
       "_view_name": "LayoutView",
       "align_content": null,
       "align_items": null,
       "align_self": null,
       "border": null,
       "bottom": null,
       "display": null,
       "flex": null,
       "flex_flow": null,
       "grid_area": null,
       "grid_auto_columns": null,
       "grid_auto_flow": null,
       "grid_auto_rows": null,
       "grid_column": null,
       "grid_gap": null,
       "grid_row": null,
       "grid_template_areas": null,
       "grid_template_columns": null,
       "grid_template_rows": null,
       "height": null,
       "justify_content": null,
       "justify_items": null,
       "left": null,
       "margin": null,
       "max_height": null,
       "max_width": null,
       "min_height": null,
       "min_width": null,
       "object_fit": null,
       "object_position": null,
       "order": null,
       "overflow": null,
       "overflow_x": null,
       "overflow_y": null,
       "padding": null,
       "right": null,
       "top": null,
       "visibility": null,
       "width": null
      }
     },
     "8f477549d2294c22b23d4b3a674056ed": {
      "model_module": "@jupyter-widgets/base",
      "model_module_version": "1.2.0",
      "model_name": "LayoutModel",
      "state": {
       "_model_module": "@jupyter-widgets/base",
       "_model_module_version": "1.2.0",
       "_model_name": "LayoutModel",
       "_view_count": null,
       "_view_module": "@jupyter-widgets/base",
       "_view_module_version": "1.2.0",
       "_view_name": "LayoutView",
       "align_content": null,
       "align_items": null,
       "align_self": null,
       "border": null,
       "bottom": null,
       "display": null,
       "flex": null,
       "flex_flow": null,
       "grid_area": null,
       "grid_auto_columns": null,
       "grid_auto_flow": null,
       "grid_auto_rows": null,
       "grid_column": null,
       "grid_gap": null,
       "grid_row": null,
       "grid_template_areas": null,
       "grid_template_columns": null,
       "grid_template_rows": null,
       "height": null,
       "justify_content": null,
       "justify_items": null,
       "left": null,
       "margin": null,
       "max_height": null,
       "max_width": null,
       "min_height": null,
       "min_width": null,
       "object_fit": null,
       "object_position": null,
       "order": null,
       "overflow": null,
       "overflow_x": null,
       "overflow_y": null,
       "padding": null,
       "right": null,
       "top": null,
       "visibility": null,
       "width": null
      }
     },
     "9254558ce6724e5aa36327ef2120835b": {
      "model_module": "@jupyter-widgets/controls",
      "model_module_version": "1.5.0",
      "model_name": "ProgressStyleModel",
      "state": {
       "_model_module": "@jupyter-widgets/controls",
       "_model_module_version": "1.5.0",
       "_model_name": "ProgressStyleModel",
       "_view_count": null,
       "_view_module": "@jupyter-widgets/base",
       "_view_module_version": "1.2.0",
       "_view_name": "StyleView",
       "bar_color": null,
       "description_width": ""
      }
     },
     "993923cd2ded446f9e9870357e70d5a1": {
      "model_module": "@jupyter-widgets/controls",
      "model_module_version": "1.5.0",
      "model_name": "DescriptionStyleModel",
      "state": {
       "_model_module": "@jupyter-widgets/controls",
       "_model_module_version": "1.5.0",
       "_model_name": "DescriptionStyleModel",
       "_view_count": null,
       "_view_module": "@jupyter-widgets/base",
       "_view_module_version": "1.2.0",
       "_view_name": "StyleView",
       "description_width": ""
      }
     },
     "9d26051e067245ac8afa785bd08fb5cf": {
      "model_module": "@jupyter-widgets/controls",
      "model_module_version": "1.5.0",
      "model_name": "DescriptionStyleModel",
      "state": {
       "_model_module": "@jupyter-widgets/controls",
       "_model_module_version": "1.5.0",
       "_model_name": "DescriptionStyleModel",
       "_view_count": null,
       "_view_module": "@jupyter-widgets/base",
       "_view_module_version": "1.2.0",
       "_view_name": "StyleView",
       "description_width": ""
      }
     },
     "9fc0f1d1e9af45428ae543a1eb4476e0": {
      "model_module": "@jupyter-widgets/base",
      "model_module_version": "1.2.0",
      "model_name": "LayoutModel",
      "state": {
       "_model_module": "@jupyter-widgets/base",
       "_model_module_version": "1.2.0",
       "_model_name": "LayoutModel",
       "_view_count": null,
       "_view_module": "@jupyter-widgets/base",
       "_view_module_version": "1.2.0",
       "_view_name": "LayoutView",
       "align_content": null,
       "align_items": null,
       "align_self": null,
       "border": null,
       "bottom": null,
       "display": null,
       "flex": null,
       "flex_flow": null,
       "grid_area": null,
       "grid_auto_columns": null,
       "grid_auto_flow": null,
       "grid_auto_rows": null,
       "grid_column": null,
       "grid_gap": null,
       "grid_row": null,
       "grid_template_areas": null,
       "grid_template_columns": null,
       "grid_template_rows": null,
       "height": null,
       "justify_content": null,
       "justify_items": null,
       "left": null,
       "margin": null,
       "max_height": null,
       "max_width": null,
       "min_height": null,
       "min_width": null,
       "object_fit": null,
       "object_position": null,
       "order": null,
       "overflow": null,
       "overflow_x": null,
       "overflow_y": null,
       "padding": null,
       "right": null,
       "top": null,
       "visibility": null,
       "width": null
      }
     },
     "a46cedcbc24540f8969a74bf3de86a8d": {
      "model_module": "@jupyter-widgets/controls",
      "model_module_version": "1.5.0",
      "model_name": "HBoxModel",
      "state": {
       "_dom_classes": [],
       "_model_module": "@jupyter-widgets/controls",
       "_model_module_version": "1.5.0",
       "_model_name": "HBoxModel",
       "_view_count": null,
       "_view_module": "@jupyter-widgets/controls",
       "_view_module_version": "1.5.0",
       "_view_name": "HBoxView",
       "box_style": "",
       "children": [
        "IPY_MODEL_ce36c4b71ad442c5a34308d14b52b813",
        "IPY_MODEL_2acacf50653b4706b08c98d4fe059b73",
        "IPY_MODEL_f756bc2323294377a5e97c5fb3177b0d"
       ],
       "layout": "IPY_MODEL_2dc3bbb162134ab199371f6dbedd334a"
      }
     },
     "c0bf372de7e94c7ca96aaab0139910d9": {
      "model_module": "@jupyter-widgets/controls",
      "model_module_version": "1.5.0",
      "model_name": "DescriptionStyleModel",
      "state": {
       "_model_module": "@jupyter-widgets/controls",
       "_model_module_version": "1.5.0",
       "_model_name": "DescriptionStyleModel",
       "_view_count": null,
       "_view_module": "@jupyter-widgets/base",
       "_view_module_version": "1.2.0",
       "_view_name": "StyleView",
       "description_width": ""
      }
     },
     "c84c5cfd0b1d4ddaacfa99ba57ecfa6e": {
      "model_module": "@jupyter-widgets/controls",
      "model_module_version": "1.5.0",
      "model_name": "ProgressStyleModel",
      "state": {
       "_model_module": "@jupyter-widgets/controls",
       "_model_module_version": "1.5.0",
       "_model_name": "ProgressStyleModel",
       "_view_count": null,
       "_view_module": "@jupyter-widgets/base",
       "_view_module_version": "1.2.0",
       "_view_name": "StyleView",
       "bar_color": null,
       "description_width": ""
      }
     },
     "ce36c4b71ad442c5a34308d14b52b813": {
      "model_module": "@jupyter-widgets/controls",
      "model_module_version": "1.5.0",
      "model_name": "HTMLModel",
      "state": {
       "_dom_classes": [],
       "_model_module": "@jupyter-widgets/controls",
       "_model_module_version": "1.5.0",
       "_model_name": "HTMLModel",
       "_view_count": null,
       "_view_module": "@jupyter-widgets/controls",
       "_view_module_version": "1.5.0",
       "_view_name": "HTMLView",
       "description": "",
       "description_tooltip": null,
       "layout": "IPY_MODEL_5db52ed132034d55b4a79ece88283fb9",
       "placeholder": "​",
       "style": "IPY_MODEL_083ff0c16972451a9690de521c38c0e2",
       "value": "100%"
      }
     },
     "d99782f286eb41c68ca8f99b8157e25b": {
      "model_module": "@jupyter-widgets/controls",
      "model_module_version": "1.5.0",
      "model_name": "DescriptionStyleModel",
      "state": {
       "_model_module": "@jupyter-widgets/controls",
       "_model_module_version": "1.5.0",
       "_model_name": "DescriptionStyleModel",
       "_view_count": null,
       "_view_module": "@jupyter-widgets/base",
       "_view_module_version": "1.2.0",
       "_view_name": "StyleView",
       "description_width": ""
      }
     },
     "db7206414aa04a218edf1ea4c4ed5211": {
      "model_module": "@jupyter-widgets/base",
      "model_module_version": "1.2.0",
      "model_name": "LayoutModel",
      "state": {
       "_model_module": "@jupyter-widgets/base",
       "_model_module_version": "1.2.0",
       "_model_name": "LayoutModel",
       "_view_count": null,
       "_view_module": "@jupyter-widgets/base",
       "_view_module_version": "1.2.0",
       "_view_name": "LayoutView",
       "align_content": null,
       "align_items": null,
       "align_self": null,
       "border": null,
       "bottom": null,
       "display": null,
       "flex": null,
       "flex_flow": null,
       "grid_area": null,
       "grid_auto_columns": null,
       "grid_auto_flow": null,
       "grid_auto_rows": null,
       "grid_column": null,
       "grid_gap": null,
       "grid_row": null,
       "grid_template_areas": null,
       "grid_template_columns": null,
       "grid_template_rows": null,
       "height": null,
       "justify_content": null,
       "justify_items": null,
       "left": null,
       "margin": null,
       "max_height": null,
       "max_width": null,
       "min_height": null,
       "min_width": null,
       "object_fit": null,
       "object_position": null,
       "order": null,
       "overflow": null,
       "overflow_x": null,
       "overflow_y": null,
       "padding": null,
       "right": null,
       "top": null,
       "visibility": null,
       "width": null
      }
     },
     "dda56337f34241639f32ca232616ef51": {
      "model_module": "@jupyter-widgets/base",
      "model_module_version": "1.2.0",
      "model_name": "LayoutModel",
      "state": {
       "_model_module": "@jupyter-widgets/base",
       "_model_module_version": "1.2.0",
       "_model_name": "LayoutModel",
       "_view_count": null,
       "_view_module": "@jupyter-widgets/base",
       "_view_module_version": "1.2.0",
       "_view_name": "LayoutView",
       "align_content": null,
       "align_items": null,
       "align_self": null,
       "border": null,
       "bottom": null,
       "display": null,
       "flex": null,
       "flex_flow": null,
       "grid_area": null,
       "grid_auto_columns": null,
       "grid_auto_flow": null,
       "grid_auto_rows": null,
       "grid_column": null,
       "grid_gap": null,
       "grid_row": null,
       "grid_template_areas": null,
       "grid_template_columns": null,
       "grid_template_rows": null,
       "height": null,
       "justify_content": null,
       "justify_items": null,
       "left": null,
       "margin": null,
       "max_height": null,
       "max_width": null,
       "min_height": null,
       "min_width": null,
       "object_fit": null,
       "object_position": null,
       "order": null,
       "overflow": null,
       "overflow_x": null,
       "overflow_y": null,
       "padding": null,
       "right": null,
       "top": null,
       "visibility": null,
       "width": null
      }
     },
     "f62100b5e3454137be8317e6a66deaa6": {
      "model_module": "@jupyter-widgets/controls",
      "model_module_version": "1.5.0",
      "model_name": "ProgressStyleModel",
      "state": {
       "_model_module": "@jupyter-widgets/controls",
       "_model_module_version": "1.5.0",
       "_model_name": "ProgressStyleModel",
       "_view_count": null,
       "_view_module": "@jupyter-widgets/base",
       "_view_module_version": "1.2.0",
       "_view_name": "StyleView",
       "bar_color": null,
       "description_width": ""
      }
     },
     "f756bc2323294377a5e97c5fb3177b0d": {
      "model_module": "@jupyter-widgets/controls",
      "model_module_version": "1.5.0",
      "model_name": "HTMLModel",
      "state": {
       "_dom_classes": [],
       "_model_module": "@jupyter-widgets/controls",
       "_model_module_version": "1.5.0",
       "_model_name": "HTMLModel",
       "_view_count": null,
       "_view_module": "@jupyter-widgets/controls",
       "_view_module_version": "1.5.0",
       "_view_name": "HTMLView",
       "description": "",
       "description_tooltip": null,
       "layout": "IPY_MODEL_7883bedcd2b34144816ed3b894992609",
       "placeholder": "​",
       "style": "IPY_MODEL_993923cd2ded446f9e9870357e70d5a1",
       "value": " 10000/10000 [00:07&lt;00:00, 1362.53it/s]"
      }
     },
     "f8c0dd57b320433fb61707a9b74fa3e9": {
      "model_module": "@jupyter-widgets/controls",
      "model_module_version": "1.5.0",
      "model_name": "HBoxModel",
      "state": {
       "_dom_classes": [],
       "_model_module": "@jupyter-widgets/controls",
       "_model_module_version": "1.5.0",
       "_model_name": "HBoxModel",
       "_view_count": null,
       "_view_module": "@jupyter-widgets/controls",
       "_view_module_version": "1.5.0",
       "_view_name": "HBoxView",
       "box_style": "",
       "children": [
        "IPY_MODEL_fa772e1d52194dda8f01690d332c37be",
        "IPY_MODEL_2016f6c5ee4a417cb2493d483c83c961",
        "IPY_MODEL_4f0ececc971146b28fb2357b680d2873"
       ],
       "layout": "IPY_MODEL_68a5e826fd83410b9e6b94e3377002f8"
      }
     },
     "fa0fa30af80b4d7c8093c88e20b1fbb6": {
      "model_module": "@jupyter-widgets/base",
      "model_module_version": "1.2.0",
      "model_name": "LayoutModel",
      "state": {
       "_model_module": "@jupyter-widgets/base",
       "_model_module_version": "1.2.0",
       "_model_name": "LayoutModel",
       "_view_count": null,
       "_view_module": "@jupyter-widgets/base",
       "_view_module_version": "1.2.0",
       "_view_name": "LayoutView",
       "align_content": null,
       "align_items": null,
       "align_self": null,
       "border": null,
       "bottom": null,
       "display": null,
       "flex": null,
       "flex_flow": null,
       "grid_area": null,
       "grid_auto_columns": null,
       "grid_auto_flow": null,
       "grid_auto_rows": null,
       "grid_column": null,
       "grid_gap": null,
       "grid_row": null,
       "grid_template_areas": null,
       "grid_template_columns": null,
       "grid_template_rows": null,
       "height": null,
       "justify_content": null,
       "justify_items": null,
       "left": null,
       "margin": null,
       "max_height": null,
       "max_width": null,
       "min_height": null,
       "min_width": null,
       "object_fit": null,
       "object_position": null,
       "order": null,
       "overflow": null,
       "overflow_x": null,
       "overflow_y": null,
       "padding": null,
       "right": null,
       "top": null,
       "visibility": null,
       "width": null
      }
     },
     "fa772e1d52194dda8f01690d332c37be": {
      "model_module": "@jupyter-widgets/controls",
      "model_module_version": "1.5.0",
      "model_name": "HTMLModel",
      "state": {
       "_dom_classes": [],
       "_model_module": "@jupyter-widgets/controls",
       "_model_module_version": "1.5.0",
       "_model_name": "HTMLModel",
       "_view_count": null,
       "_view_module": "@jupyter-widgets/controls",
       "_view_module_version": "1.5.0",
       "_view_name": "HTMLView",
       "description": "",
       "description_tooltip": null,
       "layout": "IPY_MODEL_5b20dd9c41d8432ca2750009cbe5350f",
       "placeholder": "​",
       "style": "IPY_MODEL_c0bf372de7e94c7ca96aaab0139910d9",
       "value": "100%"
      }
     },
     "fffc4eb6955b4c81983937741e2d98a2": {
      "model_module": "@jupyter-widgets/controls",
      "model_module_version": "1.5.0",
      "model_name": "FloatProgressModel",
      "state": {
       "_dom_classes": [],
       "_model_module": "@jupyter-widgets/controls",
       "_model_module_version": "1.5.0",
       "_model_name": "FloatProgressModel",
       "_view_count": null,
       "_view_module": "@jupyter-widgets/controls",
       "_view_module_version": "1.5.0",
       "_view_name": "ProgressView",
       "bar_style": "success",
       "description": "",
       "description_tooltip": null,
       "layout": "IPY_MODEL_176054e15db94f1ba466389645ad2597",
       "max": 1.0,
       "min": 0.0,
       "orientation": "horizontal",
       "style": "IPY_MODEL_f62100b5e3454137be8317e6a66deaa6",
       "value": 1.0
      }
     }
    },
    "version_major": 2,
    "version_minor": 0
   }
  }
 },
 "nbformat": 4,
 "nbformat_minor": 5
}
