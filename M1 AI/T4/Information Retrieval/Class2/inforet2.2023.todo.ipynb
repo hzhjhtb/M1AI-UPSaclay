{
 "cells": [
  {
   "cell_type": "markdown",
   "id": "32e02f0b-7db2-4aa4-897c-55c388331127",
   "metadata": {},
   "source": [
    "# inforet 2022 2"
   ]
  },
  {
   "cell_type": "code",
   "execution_count": 1,
   "id": "c2e54178-39dc-4056-b037-9b486a7bdaa2",
   "metadata": {},
   "outputs": [],
   "source": [
    "# no time to lose:\n",
    "# !wget https://gerdes.fr/saclay/informationRetrieval/our_msmarco.zip\n",
    "# !unzip our_msmarco.zip\n",
    "# this will be big: 1.2gb!\n",
    "# you will get three files"
   ]
  },
  {
   "cell_type": "code",
   "execution_count": 2,
   "id": "cf60877b-7250-493a-93aa-b41d8c3b91e1",
   "metadata": {},
   "outputs": [
    {
     "name": "stdout",
     "output_type": "stream",
     "text": [
      "time: 172 µs (started: 2023-03-23 20:25:55 +01:00)\n"
     ]
    }
   ],
   "source": [
    "# this turns on the autotimer, so that every cell has a timing information below\n",
    "try:\n",
    "    %load_ext autotime\n",
    "except:\n",
    "    !pip install ipython-autotime\n",
    "    %load_ext autotime\n",
    "# stop using:\n",
    "# %unload_ext autotime"
   ]
  },
  {
   "cell_type": "code",
   "execution_count": 3,
   "id": "ff253cc3-8b08-490c-b946-3e6ff3104da0",
   "metadata": {},
   "outputs": [
    {
     "name": "stdout",
     "output_type": "stream",
     "text": [
      "time: 3.74 s (started: 2023-03-23 20:25:55 +01:00)\n"
     ]
    }
   ],
   "source": [
    "# !pip install dask\n",
    "import re\n",
    "import numpy as np\n",
    "import matplotlib.pyplot as plt\n",
    "import pandas as pd\n",
    "import seaborn as sns\n",
    "from collections import Counter\n",
    "from tqdm.notebook import tqdm\n",
    "from sklearn.feature_extraction.text import CountVectorizer\n",
    "import dask.dataframe as dd"
   ]
  },
  {
   "cell_type": "markdown",
   "id": "c2323687-17ad-497d-ae5f-6f38ad388d4f",
   "metadata": {},
   "source": [
    "## our dataset\n",
    "\n",
    "- \"TREC stands for the Text Retrieval Conference. Started in 1992 it is a series of workshops that focus on supporting research within the information retrieval community. It provides the infrastructure necessary for large-scale evaluation of text retrieval methodologies. Every year these workshops are organized, which are centered around a set of tracks. These tracks encourage new researches in the area of information retrieval.\"\n",
    "- TREC 2019 Deep Learning Track https://microsoft.github.io/msmarco/TREC-Deep-Learning-2019\n",
    "- data from MS-Marco https://microsoft.github.io/msmarco/\n",
    "- The dataset contains  367k queries and a corpus of 3.2 million documents. \n",
    "___\n",
    "- if you want to reproduce my selection or get a bigger set, uncomment and execute\n"
   ]
  },
  {
   "cell_type": "code",
   "execution_count": 4,
   "id": "0574215f-73a5-4d1a-96b3-ba4dc8314f12",
   "metadata": {},
   "outputs": [
    {
     "name": "stdout",
     "output_type": "stream",
     "text": [
      "time: 265 µs (started: 2023-03-23 20:25:58 +01:00)\n"
     ]
    }
   ],
   "source": [
    "#!wget https://msmarco.blob.core.windows.net/msmarcoranking/msmarco-docs.tsv.gz\n",
    "#!wget https://msmarco.blob.core.windows.net/msmarcoranking/msmarco-doctrain-queries.tsv.gz\n",
    "#!wget https://msmarco.blob.core.windows.net/msmarcoranking/msmarco-doctrain-top100.gz\n",
    "\t\n",
    "#!gzip -d msmarco-docs.tsv.gz\n",
    "#!gzip -d msmarco-doctrain-queries.tsv.gz\n",
    "#!gzip -d msmarco-doctrain-top100.gz\n"
   ]
  },
  {
   "cell_type": "markdown",
   "id": "961fd674-6b24-43da-9d92-19e589506666",
   "metadata": {},
   "source": [
    "- we have three datasets:\n",
    "    \n",
    "    1. the queries: msmarco-doctrain-queries.tsv\n",
    "    2. the gold: msmarco-doctrain-top100.tsv is a table containing query_id, doc_id and rank\n",
    "    3. the actual documents: msmarco-docs.tsv 21GB of text! doc_id, url, title, text"
   ]
  },
  {
   "cell_type": "code",
   "execution_count": 5,
   "id": "98275be5-2f98-486d-80ae-0d775f1dcbd6",
   "metadata": {},
   "outputs": [
    {
     "name": "stdout",
     "output_type": "stream",
     "text": [
      "Shape=> (367013, 2)\n"
     ]
    },
    {
     "data": {
      "text/html": [
       "<div>\n",
       "<style scoped>\n",
       "    .dataframe tbody tr th:only-of-type {\n",
       "        vertical-align: middle;\n",
       "    }\n",
       "\n",
       "    .dataframe tbody tr th {\n",
       "        vertical-align: top;\n",
       "    }\n",
       "\n",
       "    .dataframe thead th {\n",
       "        text-align: right;\n",
       "    }\n",
       "</style>\n",
       "<table border=\"1\" class=\"dataframe\">\n",
       "  <thead>\n",
       "    <tr style=\"text-align: right;\">\n",
       "      <th></th>\n",
       "      <th>qid</th>\n",
       "      <th>query</th>\n",
       "    </tr>\n",
       "  </thead>\n",
       "  <tbody>\n",
       "    <tr>\n",
       "      <th>0</th>\n",
       "      <td>1185869</td>\n",
       "      <td>)what was the immediate impact of the success ...</td>\n",
       "    </tr>\n",
       "    <tr>\n",
       "      <th>1</th>\n",
       "      <td>1185868</td>\n",
       "      <td>_________ justice is designed to repair the ha...</td>\n",
       "    </tr>\n",
       "    <tr>\n",
       "      <th>2</th>\n",
       "      <td>1183785</td>\n",
       "      <td>elegxo meaning</td>\n",
       "    </tr>\n",
       "    <tr>\n",
       "      <th>3</th>\n",
       "      <td>645590</td>\n",
       "      <td>what does physical medicine do</td>\n",
       "    </tr>\n",
       "    <tr>\n",
       "      <th>4</th>\n",
       "      <td>186154</td>\n",
       "      <td>feeding rice cereal how many times per day</td>\n",
       "    </tr>\n",
       "  </tbody>\n",
       "</table>\n",
       "</div>"
      ],
      "text/plain": [
       "       qid                                              query\n",
       "0  1185869  )what was the immediate impact of the success ...\n",
       "1  1185868  _________ justice is designed to repair the ha...\n",
       "2  1183785                                     elegxo meaning\n",
       "3   645590                     what does physical medicine do\n",
       "4   186154         feeding rice cereal how many times per day"
      ]
     },
     "execution_count": 5,
     "metadata": {},
     "output_type": "execute_result"
    },
    {
     "name": "stdout",
     "output_type": "stream",
     "text": [
      "time: 247 ms (started: 2023-03-23 20:25:58 +01:00)\n"
     ]
    }
   ],
   "source": [
    "all_queries=pd.read_table('./msmarco/doctrain-queries.tsv',header=None)\n",
    "all_queries.columns=['qid','query']\n",
    "print('Shape=>',all_queries.shape)\n",
    "all_queries.head()"
   ]
  },
  {
   "cell_type": "markdown",
   "id": "38bbe076-dd9d-4d97-bfba-31269a20ab86",
   "metadata": {},
   "source": [
    "#### reducing the dataset\n",
    "- here we take 1000 queries. \n",
    "- if this is too big for your computer, use this code to build smaller version, starting with the already reduced 1000 query set that we've downloaded before\n"
   ]
  },
  {
   "cell_type": "code",
   "execution_count": 6,
   "id": "710fa4f5-ca4e-4fae-b295-b35e08e6e942",
   "metadata": {},
   "outputs": [
    {
     "name": "stdout",
     "output_type": "stream",
     "text": [
      "Shape=> (1000, 2)\n"
     ]
    },
    {
     "data": {
      "text/html": [
       "<div>\n",
       "<style scoped>\n",
       "    .dataframe tbody tr th:only-of-type {\n",
       "        vertical-align: middle;\n",
       "    }\n",
       "\n",
       "    .dataframe tbody tr th {\n",
       "        vertical-align: top;\n",
       "    }\n",
       "\n",
       "    .dataframe thead th {\n",
       "        text-align: right;\n",
       "    }\n",
       "</style>\n",
       "<table border=\"1\" class=\"dataframe\">\n",
       "  <thead>\n",
       "    <tr style=\"text-align: right;\">\n",
       "      <th></th>\n",
       "      <th>qid</th>\n",
       "      <th>query</th>\n",
       "    </tr>\n",
       "  </thead>\n",
       "  <tbody>\n",
       "    <tr>\n",
       "      <th>0</th>\n",
       "      <td>687888</td>\n",
       "      <td>what is a jpe</td>\n",
       "    </tr>\n",
       "    <tr>\n",
       "      <th>1</th>\n",
       "      <td>480210</td>\n",
       "      <td>price for asphalt driveway</td>\n",
       "    </tr>\n",
       "    <tr>\n",
       "      <th>2</th>\n",
       "      <td>591004</td>\n",
       "      <td>what causes pressure skin bruising</td>\n",
       "    </tr>\n",
       "    <tr>\n",
       "      <th>3</th>\n",
       "      <td>260536</td>\n",
       "      <td>how long drive from flagstaff to grand canyon</td>\n",
       "    </tr>\n",
       "    <tr>\n",
       "      <th>4</th>\n",
       "      <td>39422</td>\n",
       "      <td>average number of bowel movements per day for ...</td>\n",
       "    </tr>\n",
       "  </tbody>\n",
       "</table>\n",
       "</div>"
      ],
      "text/plain": [
       "      qid                                              query\n",
       "0  687888                                      what is a jpe\n",
       "1  480210                         price for asphalt driveway\n",
       "2  591004                 what causes pressure skin bruising\n",
       "3  260536      how long drive from flagstaff to grand canyon\n",
       "4   39422  average number of bowel movements per day for ..."
      ]
     },
     "execution_count": 6,
     "metadata": {},
     "output_type": "execute_result"
    },
    {
     "name": "stdout",
     "output_type": "stream",
     "text": [
      "time: 10.9 ms (started: 2023-03-23 20:25:59 +01:00)\n"
     ]
    }
   ],
   "source": [
    "our_queries=all_queries.sample(n=1000,random_state=42).reset_index(drop=True)\n",
    "print('Shape=>',our_queries.shape)\n",
    "our_queries.head()"
   ]
  },
  {
   "cell_type": "code",
   "execution_count": 7,
   "id": "6e734ee2-9ce4-4c7d-9062-2f1a71d62e91",
   "metadata": {},
   "outputs": [
    {
     "name": "stdout",
     "output_type": "stream",
     "text": [
      "time: 4.89 ms (started: 2023-03-23 20:25:59 +01:00)\n"
     ]
    }
   ],
   "source": [
    "our_queries.to_csv('./our_msmarco/our.msmarco.queries.tsv',sep='\\t')"
   ]
  },
  {
   "cell_type": "markdown",
   "id": "f4f44a4f-81d3-4994-8806-07c656e814af",
   "metadata": {},
   "source": [
    "#### the gold file\n",
    "- 36m lines!"
   ]
  },
  {
   "cell_type": "code",
   "execution_count": 8,
   "id": "f97d1b2a-4fe3-4209-b75a-47f904dd9515",
   "metadata": {},
   "outputs": [
    {
     "name": "stdout",
     "output_type": "stream",
     "text": [
      "Shape=> (36701116, 6)\n"
     ]
    },
    {
     "data": {
      "text/html": [
       "<div>\n",
       "<style scoped>\n",
       "    .dataframe tbody tr th:only-of-type {\n",
       "        vertical-align: middle;\n",
       "    }\n",
       "\n",
       "    .dataframe tbody tr th {\n",
       "        vertical-align: top;\n",
       "    }\n",
       "\n",
       "    .dataframe thead th {\n",
       "        text-align: right;\n",
       "    }\n",
       "</style>\n",
       "<table border=\"1\" class=\"dataframe\">\n",
       "  <thead>\n",
       "    <tr style=\"text-align: right;\">\n",
       "      <th></th>\n",
       "      <th>qid</th>\n",
       "      <th>Q0</th>\n",
       "      <th>docid</th>\n",
       "      <th>rank</th>\n",
       "      <th>score</th>\n",
       "      <th>runstring</th>\n",
       "    </tr>\n",
       "  </thead>\n",
       "  <tbody>\n",
       "    <tr>\n",
       "      <th>0</th>\n",
       "      <td>1185869</td>\n",
       "      <td>Q0</td>\n",
       "      <td>D59221</td>\n",
       "      <td>1</td>\n",
       "      <td>-4.80433</td>\n",
       "      <td>IndriQueryLikelihood</td>\n",
       "    </tr>\n",
       "    <tr>\n",
       "      <th>1</th>\n",
       "      <td>1185869</td>\n",
       "      <td>Q0</td>\n",
       "      <td>D59220</td>\n",
       "      <td>2</td>\n",
       "      <td>-4.92127</td>\n",
       "      <td>IndriQueryLikelihood</td>\n",
       "    </tr>\n",
       "    <tr>\n",
       "      <th>2</th>\n",
       "      <td>1185869</td>\n",
       "      <td>Q0</td>\n",
       "      <td>D2192591</td>\n",
       "      <td>3</td>\n",
       "      <td>-5.05215</td>\n",
       "      <td>IndriQueryLikelihood</td>\n",
       "    </tr>\n",
       "    <tr>\n",
       "      <th>3</th>\n",
       "      <td>1185869</td>\n",
       "      <td>Q0</td>\n",
       "      <td>D2777518</td>\n",
       "      <td>4</td>\n",
       "      <td>-5.05486</td>\n",
       "      <td>IndriQueryLikelihood</td>\n",
       "    </tr>\n",
       "    <tr>\n",
       "      <th>4</th>\n",
       "      <td>1185869</td>\n",
       "      <td>Q0</td>\n",
       "      <td>D2371978</td>\n",
       "      <td>5</td>\n",
       "      <td>-5.07048</td>\n",
       "      <td>IndriQueryLikelihood</td>\n",
       "    </tr>\n",
       "  </tbody>\n",
       "</table>\n",
       "</div>"
      ],
      "text/plain": [
       "       qid  Q0     docid  rank    score             runstring\n",
       "0  1185869  Q0    D59221     1 -4.80433  IndriQueryLikelihood\n",
       "1  1185869  Q0    D59220     2 -4.92127  IndriQueryLikelihood\n",
       "2  1185869  Q0  D2192591     3 -5.05215  IndriQueryLikelihood\n",
       "3  1185869  Q0  D2777518     4 -5.05486  IndriQueryLikelihood\n",
       "4  1185869  Q0  D2371978     5 -5.07048  IndriQueryLikelihood"
      ]
     },
     "metadata": {},
     "output_type": "display_data"
    },
    {
     "name": "stdout",
     "output_type": "stream",
     "text": [
      "Shape=> (100000, 6)\n"
     ]
    },
    {
     "data": {
      "text/html": [
       "<div>\n",
       "<style scoped>\n",
       "    .dataframe tbody tr th:only-of-type {\n",
       "        vertical-align: middle;\n",
       "    }\n",
       "\n",
       "    .dataframe tbody tr th {\n",
       "        vertical-align: top;\n",
       "    }\n",
       "\n",
       "    .dataframe thead th {\n",
       "        text-align: right;\n",
       "    }\n",
       "</style>\n",
       "<table border=\"1\" class=\"dataframe\">\n",
       "  <thead>\n",
       "    <tr style=\"text-align: right;\">\n",
       "      <th></th>\n",
       "      <th>qid</th>\n",
       "      <th>Q0</th>\n",
       "      <th>docid</th>\n",
       "      <th>rank</th>\n",
       "      <th>score</th>\n",
       "      <th>runstring</th>\n",
       "    </tr>\n",
       "  </thead>\n",
       "  <tbody>\n",
       "    <tr>\n",
       "      <th>0</th>\n",
       "      <td>310290</td>\n",
       "      <td>Q0</td>\n",
       "      <td>D579750</td>\n",
       "      <td>1</td>\n",
       "      <td>-5.11498</td>\n",
       "      <td>IndriQueryLikelihood</td>\n",
       "    </tr>\n",
       "    <tr>\n",
       "      <th>1</th>\n",
       "      <td>310290</td>\n",
       "      <td>Q0</td>\n",
       "      <td>D579754</td>\n",
       "      <td>2</td>\n",
       "      <td>-5.57703</td>\n",
       "      <td>IndriQueryLikelihood</td>\n",
       "    </tr>\n",
       "    <tr>\n",
       "      <th>2</th>\n",
       "      <td>310290</td>\n",
       "      <td>Q0</td>\n",
       "      <td>D2380815</td>\n",
       "      <td>3</td>\n",
       "      <td>-5.84852</td>\n",
       "      <td>IndriQueryLikelihood</td>\n",
       "    </tr>\n",
       "    <tr>\n",
       "      <th>3</th>\n",
       "      <td>310290</td>\n",
       "      <td>Q0</td>\n",
       "      <td>D822566</td>\n",
       "      <td>4</td>\n",
       "      <td>-5.95002</td>\n",
       "      <td>IndriQueryLikelihood</td>\n",
       "    </tr>\n",
       "    <tr>\n",
       "      <th>4</th>\n",
       "      <td>310290</td>\n",
       "      <td>Q0</td>\n",
       "      <td>D2249695</td>\n",
       "      <td>5</td>\n",
       "      <td>-6.08326</td>\n",
       "      <td>IndriQueryLikelihood</td>\n",
       "    </tr>\n",
       "  </tbody>\n",
       "</table>\n",
       "</div>"
      ],
      "text/plain": [
       "      qid  Q0     docid  rank    score             runstring\n",
       "0  310290  Q0   D579750     1 -5.11498  IndriQueryLikelihood\n",
       "1  310290  Q0   D579754     2 -5.57703  IndriQueryLikelihood\n",
       "2  310290  Q0  D2380815     3 -5.84852  IndriQueryLikelihood\n",
       "3  310290  Q0   D822566     4 -5.95002  IndriQueryLikelihood\n",
       "4  310290  Q0  D2249695     5 -6.08326  IndriQueryLikelihood"
      ]
     },
     "execution_count": 8,
     "metadata": {},
     "output_type": "execute_result"
    },
    {
     "name": "stdout",
     "output_type": "stream",
     "text": [
      "time: 32.4 s (started: 2023-03-23 20:25:59 +01:00)\n"
     ]
    }
   ],
   "source": [
    "gold_top100=pd.read_table('./msmarco/doctrain-top100',delimiter=' ',header=None)\n",
    "gold_top100.columns=['qid','Q0','docid','rank','score','runstring']\n",
    "print('Shape=>',gold_top100.shape)\n",
    "display(gold_top100.head())\n",
    "\n",
    "# Reducing gold_top100 for training\n",
    "our_gold_top100=gold_top100[gold_top100['qid'].isin(our_queries['qid'].unique())].reset_index(drop=True)\n",
    "print('Shape=>',our_gold_top100.shape)\n",
    "our_gold_top100.head()"
   ]
  },
  {
   "cell_type": "code",
   "execution_count": 9,
   "id": "ab90450d-6564-4e49-a2ae-397f618a90fb",
   "metadata": {},
   "outputs": [
    {
     "name": "stdout",
     "output_type": "stream",
     "text": [
      "time: 263 ms (started: 2023-03-23 20:26:31 +01:00)\n"
     ]
    }
   ],
   "source": [
    "our_gold_top100.to_csv('./our_msmarco/our.msmarco.gold.tsv',sep='\\t')"
   ]
  },
  {
   "cell_type": "markdown",
   "id": "576936ea-3f1d-4ac7-9249-a9b4960d8691",
   "metadata": {},
   "source": [
    "#### the data file\n",
    "\n",
    "- it's so big that it's smarter to use dask: https://docs.dask.org/en/stable/"
   ]
  },
  {
   "cell_type": "code",
   "execution_count": 10,
   "id": "e3ad34c4-45f8-47cc-bcbd-37f10ab3405d",
   "metadata": {},
   "outputs": [
    {
     "data": {
      "text/html": [
       "<div>\n",
       "<style scoped>\n",
       "    .dataframe tbody tr th:only-of-type {\n",
       "        vertical-align: middle;\n",
       "    }\n",
       "\n",
       "    .dataframe tbody tr th {\n",
       "        vertical-align: top;\n",
       "    }\n",
       "\n",
       "    .dataframe thead th {\n",
       "        text-align: right;\n",
       "    }\n",
       "</style>\n",
       "<table border=\"1\" class=\"dataframe\">\n",
       "  <thead>\n",
       "    <tr style=\"text-align: right;\">\n",
       "      <th></th>\n",
       "      <th>docid</th>\n",
       "      <th>url</th>\n",
       "      <th>title</th>\n",
       "      <th>body</th>\n",
       "    </tr>\n",
       "  </thead>\n",
       "  <tbody>\n",
       "    <tr>\n",
       "      <th>0</th>\n",
       "      <td>D1555982</td>\n",
       "      <td>https://answers.yahoo.com/question/index?qid=2...</td>\n",
       "      <td>The hot glowing surfaces of stars emit energy ...</td>\n",
       "      <td>Science &amp; Mathematics Physics The hot glowing ...</td>\n",
       "    </tr>\n",
       "    <tr>\n",
       "      <th>1</th>\n",
       "      <td>D301595</td>\n",
       "      <td>http://childparenting.about.com/od/physicalemo...</td>\n",
       "      <td>Developmental Milestones and Your 8-Year-Old C...</td>\n",
       "      <td>School-Age Kids Growth &amp; Development Developme...</td>\n",
       "    </tr>\n",
       "    <tr>\n",
       "      <th>2</th>\n",
       "      <td>D1359209</td>\n",
       "      <td>http://visihow.com/Check_for_Lice_Nits</td>\n",
       "      <td>Check for Lice Nits</td>\n",
       "      <td>Check for Lice Nits Edited by Mian Sheilette O...</td>\n",
       "    </tr>\n",
       "    <tr>\n",
       "      <th>3</th>\n",
       "      <td>D2147834</td>\n",
       "      <td>http://www.nytimes.com/2010/01/05/business/glo...</td>\n",
       "      <td>Dubai Opens a Tower to Beat All</td>\n",
       "      <td>Global Business Dubai Opens a Tower to Beat Al...</td>\n",
       "    </tr>\n",
       "    <tr>\n",
       "      <th>4</th>\n",
       "      <td>D1568809</td>\n",
       "      <td>http://www.realtor.com/realestateandhomes-sear...</td>\n",
       "      <td>Coulterville, CA Real Estate &amp; Homes for Sale</td>\n",
       "      <td>Coulterville, CA Real Estate &amp; Homes for Sale4...</td>\n",
       "    </tr>\n",
       "  </tbody>\n",
       "</table>\n",
       "</div>"
      ],
      "text/plain": [
       "      docid                                                url  \\\n",
       "0  D1555982  https://answers.yahoo.com/question/index?qid=2...   \n",
       "1   D301595  http://childparenting.about.com/od/physicalemo...   \n",
       "2  D1359209             http://visihow.com/Check_for_Lice_Nits   \n",
       "3  D2147834  http://www.nytimes.com/2010/01/05/business/glo...   \n",
       "4  D1568809  http://www.realtor.com/realestateandhomes-sear...   \n",
       "\n",
       "                                               title  \\\n",
       "0  The hot glowing surfaces of stars emit energy ...   \n",
       "1  Developmental Milestones and Your 8-Year-Old C...   \n",
       "2                                Check for Lice Nits   \n",
       "3                    Dubai Opens a Tower to Beat All   \n",
       "4      Coulterville, CA Real Estate & Homes for Sale   \n",
       "\n",
       "                                                body  \n",
       "0  Science & Mathematics Physics The hot glowing ...  \n",
       "1  School-Age Kids Growth & Development Developme...  \n",
       "2  Check for Lice Nits Edited by Mian Sheilette O...  \n",
       "3  Global Business Dubai Opens a Tower to Beat Al...  \n",
       "4  Coulterville, CA Real Estate & Homes for Sale4...  "
      ]
     },
     "execution_count": 10,
     "metadata": {},
     "output_type": "execute_result"
    },
    {
     "name": "stdout",
     "output_type": "stream",
     "text": [
      "time: 1.3 s (started: 2023-03-23 20:26:31 +01:00)\n"
     ]
    }
   ],
   "source": [
    "df=dd.read_table('./msmarco/msmarco-docs.tsv',blocksize=100e6,header=None) #  partitions of 100MB\n",
    "df.columns=['docid','url','title','body']\n",
    "df.head()"
   ]
  },
  {
   "cell_type": "code",
   "execution_count": 11,
   "id": "7982a03f-f966-4883-9a6f-0980a390a1db",
   "metadata": {},
   "outputs": [
    {
     "name": "stdout",
     "output_type": "stream",
     "text": [
      " 3213835 ./msmarco/msmarco-docs.tsv\n",
      "time: 14.7 s (started: 2023-03-23 20:26:33 +01:00)\n"
     ]
    }
   ],
   "source": [
    "# can't get the number of rows quickly :s\n",
    "# very slow:\n",
    "# len(df.index)\n",
    "\n",
    "# faster:\n",
    "!wc -l ./msmarco/msmarco-docs.tsv"
   ]
  },
  {
   "cell_type": "markdown",
   "id": "096ad493-1139-48c2-baeb-a29905d0bdd4",
   "metadata": {},
   "source": [
    "- big dataset with 3m rows!\n",
    "- we want the top 100 for our queries\n",
    "- this takes some time!"
   ]
  },
  {
   "cell_type": "code",
   "execution_count": 12,
   "id": "4a4912c9-64e4-4c90-8dba-1fc3cfef013b",
   "metadata": {},
   "outputs": [
    {
     "name": "stdout",
     "output_type": "stream",
     "text": [
      "Number of Rows=> 92565\n"
     ]
    },
    {
     "data": {
      "text/html": [
       "<div>\n",
       "<style scoped>\n",
       "    .dataframe tbody tr th:only-of-type {\n",
       "        vertical-align: middle;\n",
       "    }\n",
       "\n",
       "    .dataframe tbody tr th {\n",
       "        vertical-align: top;\n",
       "    }\n",
       "\n",
       "    .dataframe thead th {\n",
       "        text-align: right;\n",
       "    }\n",
       "</style>\n",
       "<table border=\"1\" class=\"dataframe\">\n",
       "  <thead>\n",
       "    <tr style=\"text-align: right;\">\n",
       "      <th></th>\n",
       "      <th>docid</th>\n",
       "      <th>title</th>\n",
       "      <th>body</th>\n",
       "    </tr>\n",
       "  </thead>\n",
       "  <tbody>\n",
       "    <tr>\n",
       "      <th>0</th>\n",
       "      <td>D2981241</td>\n",
       "      <td>What do you call a group of lions?</td>\n",
       "      <td>Lions Vocabulary of the English Language Word ...</td>\n",
       "    </tr>\n",
       "    <tr>\n",
       "      <th>1</th>\n",
       "      <td>D687756</td>\n",
       "      <td>.</td>\n",
       "      <td>The A Priori Argument ( also, Rationalization;...</td>\n",
       "    </tr>\n",
       "    <tr>\n",
       "      <th>2</th>\n",
       "      <td>D913099</td>\n",
       "      <td>Everything You Need To Learn How To Cook Veget...</td>\n",
       "      <td>Home &gt; How To Cook Vegetables Everything You N...</td>\n",
       "    </tr>\n",
       "    <tr>\n",
       "      <th>3</th>\n",
       "      <td>D328017</td>\n",
       "      <td>What is the difference between latitude, longi...</td>\n",
       "      <td>Longitude Latitude Geographic Coordinate Syste...</td>\n",
       "    </tr>\n",
       "    <tr>\n",
       "      <th>4</th>\n",
       "      <td>D1636347</td>\n",
       "      <td>When was the pulley invented?</td>\n",
       "      <td>Answers.com ® Wiki Answers ® Categories Techno...</td>\n",
       "    </tr>\n",
       "  </tbody>\n",
       "</table>\n",
       "</div>"
      ],
      "text/plain": [
       "      docid                                              title  \\\n",
       "0  D2981241                 What do you call a group of lions?   \n",
       "1   D687756                                                  .   \n",
       "2   D913099  Everything You Need To Learn How To Cook Veget...   \n",
       "3   D328017  What is the difference between latitude, longi...   \n",
       "4  D1636347                      When was the pulley invented?   \n",
       "\n",
       "                                                body  \n",
       "0  Lions Vocabulary of the English Language Word ...  \n",
       "1  The A Priori Argument ( also, Rationalization;...  \n",
       "2  Home > How To Cook Vegetables Everything You N...  \n",
       "3  Longitude Latitude Geographic Coordinate Syste...  \n",
       "4  Answers.com ® Wiki Answers ® Categories Techno...  "
      ]
     },
     "execution_count": 12,
     "metadata": {},
     "output_type": "execute_result"
    },
    {
     "name": "stdout",
     "output_type": "stream",
     "text": [
      "time: 3min (started: 2023-03-23 20:26:47 +01:00)\n"
     ]
    }
   ],
   "source": [
    "def create_corpus(result):\n",
    "  unique_docid=result['docid'].unique()\n",
    "  condition=df['docid'].isin(unique_docid)\n",
    "  corpus=df[condition].reset_index(drop=True)\n",
    "  corpus=corpus.drop(columns='url')\n",
    "  print('Number of Rows=>',len(corpus))\n",
    "  return corpus\n",
    "\n",
    "our_docs=create_corpus(our_gold_top100)\n",
    "our_docs.head()"
   ]
  },
  {
   "cell_type": "code",
   "execution_count": 13,
   "id": "b5d415e7-a773-46a7-83d5-9df501ed3d45",
   "metadata": {},
   "outputs": [
    {
     "data": {
      "text/plain": [
       "['/Users/zhehuang/M1AI-UPSaclay/T4/Information Retrieval/Class2/our_msmarco/our.msmarco.docs.tsv']"
      ]
     },
     "execution_count": 13,
     "metadata": {},
     "output_type": "execute_result"
    },
    {
     "name": "stdout",
     "output_type": "stream",
     "text": [
      "time: 3min 11s (started: 2023-03-23 20:29:49 +01:00)\n"
     ]
    }
   ],
   "source": [
    "our_docs.to_csv('./our_msmarco/our.msmarco.docs.tsv',sep='\\t', single_file=True)"
   ]
  },
  {
   "cell_type": "markdown",
   "id": "6ea2310d-0bbb-42c4-8189-c8606c00fc30",
   "metadata": {},
   "source": [
    "- this is still a big file: 92k documents"
   ]
  },
  {
   "cell_type": "markdown",
   "id": "5bc01012-818c-46ae-bc27-d789ce2e0063",
   "metadata": {},
   "source": [
    "# reading in our smaller files\n",
    "here we use the\n",
    "\n",
    "- !wget https://gerdes.fr/saclay/informationRetrieval/our_msmarco.zip\n",
    "- !unzip our_msmarco.zip"
   ]
  },
  {
   "cell_type": "code",
   "execution_count": 14,
   "id": "b3532319-bc8b-47ce-bf91-10f26cd0fe37",
   "metadata": {},
   "outputs": [
    {
     "data": {
      "text/html": [
       "<div>\n",
       "<style scoped>\n",
       "    .dataframe tbody tr th:only-of-type {\n",
       "        vertical-align: middle;\n",
       "    }\n",
       "\n",
       "    .dataframe tbody tr th {\n",
       "        vertical-align: top;\n",
       "    }\n",
       "\n",
       "    .dataframe thead th {\n",
       "        text-align: right;\n",
       "    }\n",
       "</style>\n",
       "<table border=\"1\" class=\"dataframe\">\n",
       "  <thead>\n",
       "    <tr style=\"text-align: right;\">\n",
       "      <th></th>\n",
       "      <th>qid</th>\n",
       "      <th>query</th>\n",
       "    </tr>\n",
       "  </thead>\n",
       "  <tbody>\n",
       "    <tr>\n",
       "      <th>0</th>\n",
       "      <td>687888</td>\n",
       "      <td>what is a jpe</td>\n",
       "    </tr>\n",
       "    <tr>\n",
       "      <th>1</th>\n",
       "      <td>480210</td>\n",
       "      <td>price for asphalt driveway</td>\n",
       "    </tr>\n",
       "    <tr>\n",
       "      <th>2</th>\n",
       "      <td>591004</td>\n",
       "      <td>what causes pressure skin bruising</td>\n",
       "    </tr>\n",
       "    <tr>\n",
       "      <th>3</th>\n",
       "      <td>260536</td>\n",
       "      <td>how long drive from flagstaff to grand canyon</td>\n",
       "    </tr>\n",
       "    <tr>\n",
       "      <th>4</th>\n",
       "      <td>39422</td>\n",
       "      <td>average number of bowel movements per day for ...</td>\n",
       "    </tr>\n",
       "    <tr>\n",
       "      <th>...</th>\n",
       "      <td>...</td>\n",
       "      <td>...</td>\n",
       "    </tr>\n",
       "    <tr>\n",
       "      <th>995</th>\n",
       "      <td>89597</td>\n",
       "      <td>cell voltage mv meaning</td>\n",
       "    </tr>\n",
       "    <tr>\n",
       "      <th>996</th>\n",
       "      <td>1167043</td>\n",
       "      <td>what an ip address</td>\n",
       "    </tr>\n",
       "    <tr>\n",
       "      <th>997</th>\n",
       "      <td>737304</td>\n",
       "      <td>what is daily max citizens atm</td>\n",
       "    </tr>\n",
       "    <tr>\n",
       "      <th>998</th>\n",
       "      <td>156934</td>\n",
       "      <td>do i need a florida commercial driver license</td>\n",
       "    </tr>\n",
       "    <tr>\n",
       "      <th>999</th>\n",
       "      <td>654329</td>\n",
       "      <td>what does tv on cameras stand for</td>\n",
       "    </tr>\n",
       "  </tbody>\n",
       "</table>\n",
       "<p>1000 rows × 2 columns</p>\n",
       "</div>"
      ],
      "text/plain": [
       "         qid                                              query\n",
       "0     687888                                      what is a jpe\n",
       "1     480210                         price for asphalt driveway\n",
       "2     591004                 what causes pressure skin bruising\n",
       "3     260536      how long drive from flagstaff to grand canyon\n",
       "4      39422  average number of bowel movements per day for ...\n",
       "..       ...                                                ...\n",
       "995    89597                            cell voltage mv meaning\n",
       "996  1167043                                 what an ip address\n",
       "997   737304                     what is daily max citizens atm\n",
       "998   156934      do i need a florida commercial driver license\n",
       "999   654329                  what does tv on cameras stand for\n",
       "\n",
       "[1000 rows x 2 columns]"
      ]
     },
     "execution_count": 14,
     "metadata": {},
     "output_type": "execute_result"
    },
    {
     "name": "stdout",
     "output_type": "stream",
     "text": [
      "time: 12.9 ms (started: 2023-03-23 20:33:01 +01:00)\n"
     ]
    }
   ],
   "source": [
    "queries = pd.read_csv('our.msmarco.queries.tsv',sep='\\t',usecols=[1,2])\n",
    "queries"
   ]
  },
  {
   "cell_type": "code",
   "execution_count": 15,
   "id": "ada037f1-1bd5-4a67-a2e9-b38adada382d",
   "metadata": {},
   "outputs": [
    {
     "data": {
      "text/html": [
       "<div>\n",
       "<style scoped>\n",
       "    .dataframe tbody tr th:only-of-type {\n",
       "        vertical-align: middle;\n",
       "    }\n",
       "\n",
       "    .dataframe tbody tr th {\n",
       "        vertical-align: top;\n",
       "    }\n",
       "\n",
       "    .dataframe thead th {\n",
       "        text-align: right;\n",
       "    }\n",
       "</style>\n",
       "<table border=\"1\" class=\"dataframe\">\n",
       "  <thead>\n",
       "    <tr style=\"text-align: right;\">\n",
       "      <th></th>\n",
       "      <th>qid</th>\n",
       "      <th>docid</th>\n",
       "      <th>rank</th>\n",
       "      <th>score</th>\n",
       "    </tr>\n",
       "  </thead>\n",
       "  <tbody>\n",
       "    <tr>\n",
       "      <th>0</th>\n",
       "      <td>310290</td>\n",
       "      <td>D579750</td>\n",
       "      <td>1</td>\n",
       "      <td>-5.11498</td>\n",
       "    </tr>\n",
       "    <tr>\n",
       "      <th>1</th>\n",
       "      <td>310290</td>\n",
       "      <td>D579754</td>\n",
       "      <td>2</td>\n",
       "      <td>-5.57703</td>\n",
       "    </tr>\n",
       "    <tr>\n",
       "      <th>2</th>\n",
       "      <td>310290</td>\n",
       "      <td>D2380815</td>\n",
       "      <td>3</td>\n",
       "      <td>-5.84852</td>\n",
       "    </tr>\n",
       "    <tr>\n",
       "      <th>3</th>\n",
       "      <td>310290</td>\n",
       "      <td>D822566</td>\n",
       "      <td>4</td>\n",
       "      <td>-5.95002</td>\n",
       "    </tr>\n",
       "    <tr>\n",
       "      <th>4</th>\n",
       "      <td>310290</td>\n",
       "      <td>D2249695</td>\n",
       "      <td>5</td>\n",
       "      <td>-6.08326</td>\n",
       "    </tr>\n",
       "    <tr>\n",
       "      <th>...</th>\n",
       "      <td>...</td>\n",
       "      <td>...</td>\n",
       "      <td>...</td>\n",
       "      <td>...</td>\n",
       "    </tr>\n",
       "    <tr>\n",
       "      <th>99995</th>\n",
       "      <td>257942</td>\n",
       "      <td>D253854</td>\n",
       "      <td>96</td>\n",
       "      <td>-6.32693</td>\n",
       "    </tr>\n",
       "    <tr>\n",
       "      <th>99996</th>\n",
       "      <td>257942</td>\n",
       "      <td>D3056621</td>\n",
       "      <td>97</td>\n",
       "      <td>-6.32837</td>\n",
       "    </tr>\n",
       "    <tr>\n",
       "      <th>99997</th>\n",
       "      <td>257942</td>\n",
       "      <td>D1323491</td>\n",
       "      <td>98</td>\n",
       "      <td>-6.32871</td>\n",
       "    </tr>\n",
       "    <tr>\n",
       "      <th>99998</th>\n",
       "      <td>257942</td>\n",
       "      <td>D2722485</td>\n",
       "      <td>99</td>\n",
       "      <td>-6.33100</td>\n",
       "    </tr>\n",
       "    <tr>\n",
       "      <th>99999</th>\n",
       "      <td>257942</td>\n",
       "      <td>D2339077</td>\n",
       "      <td>100</td>\n",
       "      <td>-6.33441</td>\n",
       "    </tr>\n",
       "  </tbody>\n",
       "</table>\n",
       "<p>100000 rows × 4 columns</p>\n",
       "</div>"
      ],
      "text/plain": [
       "          qid     docid  rank    score\n",
       "0      310290   D579750     1 -5.11498\n",
       "1      310290   D579754     2 -5.57703\n",
       "2      310290  D2380815     3 -5.84852\n",
       "3      310290   D822566     4 -5.95002\n",
       "4      310290  D2249695     5 -6.08326\n",
       "...       ...       ...   ...      ...\n",
       "99995  257942   D253854    96 -6.32693\n",
       "99996  257942  D3056621    97 -6.32837\n",
       "99997  257942  D1323491    98 -6.32871\n",
       "99998  257942  D2722485    99 -6.33100\n",
       "99999  257942  D2339077   100 -6.33441\n",
       "\n",
       "[100000 rows x 4 columns]"
      ]
     },
     "execution_count": 15,
     "metadata": {},
     "output_type": "execute_result"
    },
    {
     "name": "stdout",
     "output_type": "stream",
     "text": [
      "time: 70 ms (started: 2023-03-23 20:33:01 +01:00)\n"
     ]
    }
   ],
   "source": [
    "gold = pd.read_csv('our.msmarco.gold.tsv',sep='\\t',usecols=[1,3,4,5])\n",
    "gold"
   ]
  },
  {
   "cell_type": "code",
   "execution_count": 16,
   "id": "de5a006e-fb54-4539-9131-d3fe083a2739",
   "metadata": {},
   "outputs": [
    {
     "data": {
      "text/html": [
       "<div>\n",
       "<style scoped>\n",
       "    .dataframe tbody tr th:only-of-type {\n",
       "        vertical-align: middle;\n",
       "    }\n",
       "\n",
       "    .dataframe tbody tr th {\n",
       "        vertical-align: top;\n",
       "    }\n",
       "\n",
       "    .dataframe thead th {\n",
       "        text-align: right;\n",
       "    }\n",
       "</style>\n",
       "<table border=\"1\" class=\"dataframe\">\n",
       "  <thead>\n",
       "    <tr style=\"text-align: right;\">\n",
       "      <th></th>\n",
       "      <th>docid</th>\n",
       "      <th>title</th>\n",
       "      <th>body</th>\n",
       "    </tr>\n",
       "  </thead>\n",
       "  <tbody>\n",
       "    <tr>\n",
       "      <th>0</th>\n",
       "      <td>D2981241</td>\n",
       "      <td>What do you call a group of lions?</td>\n",
       "      <td>Lions Vocabulary of the English Language Word ...</td>\n",
       "    </tr>\n",
       "    <tr>\n",
       "      <th>1</th>\n",
       "      <td>D687756</td>\n",
       "      <td>.</td>\n",
       "      <td>The A Priori Argument ( also, Rationalization;...</td>\n",
       "    </tr>\n",
       "    <tr>\n",
       "      <th>2</th>\n",
       "      <td>D913099</td>\n",
       "      <td>Everything You Need To Learn How To Cook Veget...</td>\n",
       "      <td>Home &gt; How To Cook Vegetables Everything You N...</td>\n",
       "    </tr>\n",
       "    <tr>\n",
       "      <th>3</th>\n",
       "      <td>D328017</td>\n",
       "      <td>What is the difference between latitude, longi...</td>\n",
       "      <td>Longitude Latitude Geographic Coordinate Syste...</td>\n",
       "    </tr>\n",
       "    <tr>\n",
       "      <th>4</th>\n",
       "      <td>D1636347</td>\n",
       "      <td>When was the pulley invented?</td>\n",
       "      <td>Answers.com ® Wiki Answers ® Categories Techno...</td>\n",
       "    </tr>\n",
       "    <tr>\n",
       "      <th>...</th>\n",
       "      <td>...</td>\n",
       "      <td>...</td>\n",
       "      <td>...</td>\n",
       "    </tr>\n",
       "    <tr>\n",
       "      <th>92560</th>\n",
       "      <td>D3379210</td>\n",
       "      <td>Top 39 Doctor insights on: Can An Iud Cause Ha...</td>\n",
       "      <td>Top 39 Doctor insights on: Can An Iud Cause Ha...</td>\n",
       "    </tr>\n",
       "    <tr>\n",
       "      <th>92561</th>\n",
       "      <td>D3068739</td>\n",
       "      <td>How to get back your DirecTV cancellation fees</td>\n",
       "      <td>How to get back your Direc TV cancellation fee...</td>\n",
       "    </tr>\n",
       "    <tr>\n",
       "      <th>92562</th>\n",
       "      <td>D1590402</td>\n",
       "      <td>Certification FAQs</td>\n",
       "      <td>Fingerprinting 1. Where can I get fingerprinte...</td>\n",
       "    </tr>\n",
       "    <tr>\n",
       "      <th>92563</th>\n",
       "      <td>D2175490</td>\n",
       "      <td>Greenhouse gas emissions by Canadian economic ...</td>\n",
       "      <td>Access PDF (682 KB)In 2015, Canada's total gre...</td>\n",
       "    </tr>\n",
       "    <tr>\n",
       "      <th>92564</th>\n",
       "      <td>D2580062</td>\n",
       "      <td>QuickBooks Bill Pay</td>\n",
       "      <td>Quick Books Bill Pay Simplify your accounts pa...</td>\n",
       "    </tr>\n",
       "  </tbody>\n",
       "</table>\n",
       "<p>92565 rows × 3 columns</p>\n",
       "</div>"
      ],
      "text/plain": [
       "          docid                                              title  \\\n",
       "0      D2981241                 What do you call a group of lions?   \n",
       "1       D687756                                                  .   \n",
       "2       D913099  Everything You Need To Learn How To Cook Veget...   \n",
       "3       D328017  What is the difference between latitude, longi...   \n",
       "4      D1636347                      When was the pulley invented?   \n",
       "...         ...                                                ...   \n",
       "92560  D3379210  Top 39 Doctor insights on: Can An Iud Cause Ha...   \n",
       "92561  D3068739     How to get back your DirecTV cancellation fees   \n",
       "92562  D1590402                                 Certification FAQs   \n",
       "92563  D2175490  Greenhouse gas emissions by Canadian economic ...   \n",
       "92564  D2580062                                QuickBooks Bill Pay   \n",
       "\n",
       "                                                    body  \n",
       "0      Lions Vocabulary of the English Language Word ...  \n",
       "1      The A Priori Argument ( also, Rationalization;...  \n",
       "2      Home > How To Cook Vegetables Everything You N...  \n",
       "3      Longitude Latitude Geographic Coordinate Syste...  \n",
       "4      Answers.com ® Wiki Answers ® Categories Techno...  \n",
       "...                                                  ...  \n",
       "92560  Top 39 Doctor insights on: Can An Iud Cause Ha...  \n",
       "92561  How to get back your Direc TV cancellation fee...  \n",
       "92562  Fingerprinting 1. Where can I get fingerprinte...  \n",
       "92563  Access PDF (682 KB)In 2015, Canada's total gre...  \n",
       "92564  Quick Books Bill Pay Simplify your accounts pa...  \n",
       "\n",
       "[92565 rows x 3 columns]"
      ]
     },
     "execution_count": 16,
     "metadata": {},
     "output_type": "execute_result"
    },
    {
     "name": "stdout",
     "output_type": "stream",
     "text": [
      "time: 12.1 s (started: 2023-03-23 20:33:01 +01:00)\n"
     ]
    }
   ],
   "source": [
    "docs = pd.read_csv('our.msmarco.docs.tsv',sep='\\t',usecols=[1,2,3])\n",
    "docs"
   ]
  },
  {
   "cell_type": "code",
   "execution_count": 17,
   "id": "772a1caf-1c38-4fd8-b819-bbe5f5d287a2",
   "metadata": {},
   "outputs": [
    {
     "name": "stdout",
     "output_type": "stream",
     "text": [
      "Shape=> (500, 2)\n"
     ]
    },
    {
     "data": {
      "text/html": [
       "<div>\n",
       "<style scoped>\n",
       "    .dataframe tbody tr th:only-of-type {\n",
       "        vertical-align: middle;\n",
       "    }\n",
       "\n",
       "    .dataframe tbody tr th {\n",
       "        vertical-align: top;\n",
       "    }\n",
       "\n",
       "    .dataframe thead th {\n",
       "        text-align: right;\n",
       "    }\n",
       "</style>\n",
       "<table border=\"1\" class=\"dataframe\">\n",
       "  <thead>\n",
       "    <tr style=\"text-align: right;\">\n",
       "      <th></th>\n",
       "      <th>qid</th>\n",
       "      <th>query</th>\n",
       "    </tr>\n",
       "  </thead>\n",
       "  <tbody>\n",
       "    <tr>\n",
       "      <th>0</th>\n",
       "      <td>687888</td>\n",
       "      <td>what is a jpe</td>\n",
       "    </tr>\n",
       "    <tr>\n",
       "      <th>1</th>\n",
       "      <td>480210</td>\n",
       "      <td>price for asphalt driveway</td>\n",
       "    </tr>\n",
       "    <tr>\n",
       "      <th>2</th>\n",
       "      <td>591004</td>\n",
       "      <td>what causes pressure skin bruising</td>\n",
       "    </tr>\n",
       "    <tr>\n",
       "      <th>3</th>\n",
       "      <td>260536</td>\n",
       "      <td>how long drive from flagstaff to grand canyon</td>\n",
       "    </tr>\n",
       "    <tr>\n",
       "      <th>4</th>\n",
       "      <td>39422</td>\n",
       "      <td>average number of bowel movements per day for ...</td>\n",
       "    </tr>\n",
       "  </tbody>\n",
       "</table>\n",
       "</div>"
      ],
      "text/plain": [
       "      qid                                              query\n",
       "0  687888                                      what is a jpe\n",
       "1  480210                         price for asphalt driveway\n",
       "2  591004                 what causes pressure skin bruising\n",
       "3  260536      how long drive from flagstaff to grand canyon\n",
       "4   39422  average number of bowel movements per day for ..."
      ]
     },
     "metadata": {},
     "output_type": "display_data"
    },
    {
     "name": "stdout",
     "output_type": "stream",
     "text": [
      "Shape=> (500, 2)\n"
     ]
    },
    {
     "data": {
      "text/html": [
       "<div>\n",
       "<style scoped>\n",
       "    .dataframe tbody tr th:only-of-type {\n",
       "        vertical-align: middle;\n",
       "    }\n",
       "\n",
       "    .dataframe tbody tr th {\n",
       "        vertical-align: top;\n",
       "    }\n",
       "\n",
       "    .dataframe thead th {\n",
       "        text-align: right;\n",
       "    }\n",
       "</style>\n",
       "<table border=\"1\" class=\"dataframe\">\n",
       "  <thead>\n",
       "    <tr style=\"text-align: right;\">\n",
       "      <th></th>\n",
       "      <th>qid</th>\n",
       "      <th>query</th>\n",
       "    </tr>\n",
       "  </thead>\n",
       "  <tbody>\n",
       "    <tr>\n",
       "      <th>500</th>\n",
       "      <td>116364</td>\n",
       "      <td>decree verb definition</td>\n",
       "    </tr>\n",
       "    <tr>\n",
       "      <th>501</th>\n",
       "      <td>638813</td>\n",
       "      <td>what does hemiballistic mean</td>\n",
       "    </tr>\n",
       "    <tr>\n",
       "      <th>502</th>\n",
       "      <td>401631</td>\n",
       "      <td>is advil considered aspirin?</td>\n",
       "    </tr>\n",
       "    <tr>\n",
       "      <th>503</th>\n",
       "      <td>1050265</td>\n",
       "      <td>who sang the song midnight train to georgia</td>\n",
       "    </tr>\n",
       "    <tr>\n",
       "      <th>504</th>\n",
       "      <td>632336</td>\n",
       "      <td>what does aq mean in chemistry</td>\n",
       "    </tr>\n",
       "  </tbody>\n",
       "</table>\n",
       "</div>"
      ],
      "text/plain": [
       "         qid                                        query\n",
       "500   116364                       decree verb definition\n",
       "501   638813                 what does hemiballistic mean\n",
       "502   401631                 is advil considered aspirin?\n",
       "503  1050265  who sang the song midnight train to georgia\n",
       "504   632336               what does aq mean in chemistry"
      ]
     },
     "execution_count": 17,
     "metadata": {},
     "output_type": "execute_result"
    },
    {
     "name": "stdout",
     "output_type": "stream",
     "text": [
      "time: 6.84 ms (started: 2023-03-23 20:33:13 +01:00)\n"
     ]
    }
   ],
   "source": [
    "# Creating Training Set of Queries\n",
    "training_queries=queries.iloc[:500]\n",
    "print('Shape=>',training_queries.shape)\n",
    "display(training_queries.head())\n",
    "# Creating Testing Set of Queries\n",
    "testing_queries=queries.iloc[500:]\n",
    "print('Shape=>',testing_queries.shape)\n",
    "testing_queries.head()"
   ]
  },
  {
   "cell_type": "markdown",
   "id": "35de36db-e7e1-4eb4-9589-033a9cfd6d9c",
   "metadata": {},
   "source": [
    "## exploring the data"
   ]
  },
  {
   "attachments": {},
   "cell_type": "markdown",
   "id": "13879e33-fe7e-4a72-9beb-26c6a47e28fc",
   "metadata": {},
   "source": [
    "### 🚧 todo: check whether there are NAN and take care of them"
   ]
  },
  {
   "cell_type": "code",
   "execution_count": 18,
   "id": "7db2e10b-572a-4bc8-bc49-1c85d5130ffa",
   "metadata": {},
   "outputs": [
    {
     "name": "stdout",
     "output_type": "stream",
     "text": [
      "0 queries are NAN\n",
      "0 golds are NAN\n",
      "3 docs are NAN\n",
      "time: 18.4 ms (started: 2023-03-23 20:33:13 +01:00)\n"
     ]
    }
   ],
   "source": [
    "print(np.sum(queries['query'].isna()), \"queries are NAN\")\n",
    "print(np.sum(gold['score'].isna()), \"golds are NAN\")\n",
    "print(np.sum(docs['body'].isna()), \"docs are NAN\")"
   ]
  },
  {
   "cell_type": "code",
   "execution_count": 136,
   "id": "a5ef8426-b88b-44fc-b4bf-a43931215ee4",
   "metadata": {},
   "outputs": [
    {
     "name": "stdout",
     "output_type": "stream",
     "text": [
      "time: 101 ms (started: 2023-03-24 00:32:36 +01:00)\n"
     ]
    }
   ],
   "source": [
    "docs.fillna('NAN', inplace=True)"
   ]
  },
  {
   "cell_type": "markdown",
   "id": "a3ad0b40-55ff-4259-a612-0a5709cca349",
   "metadata": {},
   "source": [
    "### let's have a look at some random query:"
   ]
  },
  {
   "cell_type": "code",
   "execution_count": 137,
   "id": "ed9c9a83-c3dd-483c-a190-9bd4ba8119e5",
   "metadata": {},
   "outputs": [
    {
     "data": {
      "text/plain": [
       "qid                                      251898\n",
       "query    how long does getting a doctorate take\n",
       "Name: 111, dtype: object"
      ]
     },
     "execution_count": 137,
     "metadata": {},
     "output_type": "execute_result"
    },
    {
     "name": "stdout",
     "output_type": "stream",
     "text": [
      "time: 5.76 ms (started: 2023-03-24 00:32:42 +01:00)\n"
     ]
    }
   ],
   "source": [
    "queries.loc[111]"
   ]
  },
  {
   "cell_type": "code",
   "execution_count": 138,
   "id": "2fb82a23-84e5-4ba1-9f2e-38c6f8b4bae6",
   "metadata": {},
   "outputs": [
    {
     "data": {
      "text/html": [
       "<div>\n",
       "<style scoped>\n",
       "    .dataframe tbody tr th:only-of-type {\n",
       "        vertical-align: middle;\n",
       "    }\n",
       "\n",
       "    .dataframe tbody tr th {\n",
       "        vertical-align: top;\n",
       "    }\n",
       "\n",
       "    .dataframe thead th {\n",
       "        text-align: right;\n",
       "    }\n",
       "</style>\n",
       "<table border=\"1\" class=\"dataframe\">\n",
       "  <thead>\n",
       "    <tr style=\"text-align: right;\">\n",
       "      <th></th>\n",
       "      <th>qid</th>\n",
       "      <th>docid</th>\n",
       "      <th>rank</th>\n",
       "      <th>score</th>\n",
       "    </tr>\n",
       "  </thead>\n",
       "  <tbody>\n",
       "    <tr>\n",
       "      <th>36200</th>\n",
       "      <td>251898</td>\n",
       "      <td>D2865964</td>\n",
       "      <td>1</td>\n",
       "      <td>-4.74293</td>\n",
       "    </tr>\n",
       "    <tr>\n",
       "      <th>36201</th>\n",
       "      <td>251898</td>\n",
       "      <td>D3557816</td>\n",
       "      <td>2</td>\n",
       "      <td>-4.90695</td>\n",
       "    </tr>\n",
       "    <tr>\n",
       "      <th>36202</th>\n",
       "      <td>251898</td>\n",
       "      <td>D2723985</td>\n",
       "      <td>3</td>\n",
       "      <td>-4.95911</td>\n",
       "    </tr>\n",
       "    <tr>\n",
       "      <th>36203</th>\n",
       "      <td>251898</td>\n",
       "      <td>D1951655</td>\n",
       "      <td>4</td>\n",
       "      <td>-4.97272</td>\n",
       "    </tr>\n",
       "    <tr>\n",
       "      <th>36204</th>\n",
       "      <td>251898</td>\n",
       "      <td>D1709749</td>\n",
       "      <td>5</td>\n",
       "      <td>-5.02176</td>\n",
       "    </tr>\n",
       "    <tr>\n",
       "      <th>...</th>\n",
       "      <td>...</td>\n",
       "      <td>...</td>\n",
       "      <td>...</td>\n",
       "      <td>...</td>\n",
       "    </tr>\n",
       "    <tr>\n",
       "      <th>36295</th>\n",
       "      <td>251898</td>\n",
       "      <td>D2531901</td>\n",
       "      <td>96</td>\n",
       "      <td>-5.56896</td>\n",
       "    </tr>\n",
       "    <tr>\n",
       "      <th>36296</th>\n",
       "      <td>251898</td>\n",
       "      <td>D2956542</td>\n",
       "      <td>97</td>\n",
       "      <td>-5.57138</td>\n",
       "    </tr>\n",
       "    <tr>\n",
       "      <th>36297</th>\n",
       "      <td>251898</td>\n",
       "      <td>D301873</td>\n",
       "      <td>98</td>\n",
       "      <td>-5.57262</td>\n",
       "    </tr>\n",
       "    <tr>\n",
       "      <th>36298</th>\n",
       "      <td>251898</td>\n",
       "      <td>D2952336</td>\n",
       "      <td>99</td>\n",
       "      <td>-5.57504</td>\n",
       "    </tr>\n",
       "    <tr>\n",
       "      <th>36299</th>\n",
       "      <td>251898</td>\n",
       "      <td>D1805809</td>\n",
       "      <td>100</td>\n",
       "      <td>-5.57544</td>\n",
       "    </tr>\n",
       "  </tbody>\n",
       "</table>\n",
       "<p>100 rows × 4 columns</p>\n",
       "</div>"
      ],
      "text/plain": [
       "          qid     docid  rank    score\n",
       "36200  251898  D2865964     1 -4.74293\n",
       "36201  251898  D3557816     2 -4.90695\n",
       "36202  251898  D2723985     3 -4.95911\n",
       "36203  251898  D1951655     4 -4.97272\n",
       "36204  251898  D1709749     5 -5.02176\n",
       "...       ...       ...   ...      ...\n",
       "36295  251898  D2531901    96 -5.56896\n",
       "36296  251898  D2956542    97 -5.57138\n",
       "36297  251898   D301873    98 -5.57262\n",
       "36298  251898  D2952336    99 -5.57504\n",
       "36299  251898  D1805809   100 -5.57544\n",
       "\n",
       "[100 rows x 4 columns]"
      ]
     },
     "execution_count": 138,
     "metadata": {},
     "output_type": "execute_result"
    },
    {
     "name": "stdout",
     "output_type": "stream",
     "text": [
      "time: 24 ms (started: 2023-03-24 00:32:42 +01:00)\n"
     ]
    }
   ],
   "source": [
    "gold[gold.qid==251898]"
   ]
  },
  {
   "cell_type": "markdown",
   "id": "eef3095e-4e50-4b76-8a01-7a0009e2b157",
   "metadata": {},
   "source": [
    "### 🚧 todo: let's look at the top-ranked document for that query\n",
    "- title\n",
    "- body"
   ]
  },
  {
   "cell_type": "code",
   "execution_count": 139,
   "id": "05475c8d-0f60-4101-920a-22a4b9c78ddd",
   "metadata": {},
   "outputs": [
    {
     "data": {
      "text/plain": [
       "'D2865964'"
      ]
     },
     "execution_count": 139,
     "metadata": {},
     "output_type": "execute_result"
    },
    {
     "name": "stdout",
     "output_type": "stream",
     "text": [
      "time: 2.78 ms (started: 2023-03-24 00:32:43 +01:00)\n"
     ]
    }
   ],
   "source": [
    "# todo: .values[0] can help\n",
    "gold[gold.qid==251898].values[0][1]"
   ]
  },
  {
   "cell_type": "code",
   "execution_count": 140,
   "id": "ce01135d-c574-41a9-9127-368c8388a5e8",
   "metadata": {},
   "outputs": [
    {
     "data": {
      "text/html": [
       "<div>\n",
       "<style scoped>\n",
       "    .dataframe tbody tr th:only-of-type {\n",
       "        vertical-align: middle;\n",
       "    }\n",
       "\n",
       "    .dataframe tbody tr th {\n",
       "        vertical-align: top;\n",
       "    }\n",
       "\n",
       "    .dataframe thead th {\n",
       "        text-align: right;\n",
       "    }\n",
       "</style>\n",
       "<table border=\"1\" class=\"dataframe\">\n",
       "  <thead>\n",
       "    <tr style=\"text-align: right;\">\n",
       "      <th></th>\n",
       "      <th>docid</th>\n",
       "      <th>title</th>\n",
       "      <th>body</th>\n",
       "      <th>cleaned</th>\n",
       "    </tr>\n",
       "  </thead>\n",
       "  <tbody>\n",
       "    <tr>\n",
       "      <th>56982</th>\n",
       "      <td>D2865964</td>\n",
       "      <td>How long does it take to get a post-doctoral d...</td>\n",
       "      <td>Answers.com ® Wiki Answers ® Categories Jobs &amp;...</td>\n",
       "      <td>NAN</td>\n",
       "    </tr>\n",
       "  </tbody>\n",
       "</table>\n",
       "</div>"
      ],
      "text/plain": [
       "          docid                                              title  \\\n",
       "56982  D2865964  How long does it take to get a post-doctoral d...   \n",
       "\n",
       "                                                    body cleaned  \n",
       "56982  Answers.com ® Wiki Answers ® Categories Jobs &...     NAN  "
      ]
     },
     "execution_count": 140,
     "metadata": {},
     "output_type": "execute_result"
    },
    {
     "name": "stdout",
     "output_type": "stream",
     "text": [
      "time: 25.1 ms (started: 2023-03-24 00:32:44 +01:00)\n"
     ]
    }
   ],
   "source": [
    "docs[docs.docid == gold[gold.qid==251898].values[0][1]]"
   ]
  },
  {
   "cell_type": "code",
   "execution_count": 141,
   "id": "8df7db54",
   "metadata": {},
   "outputs": [
    {
     "data": {
      "text/plain": [
       "'How long does it take to get a post-doctoral degree?'"
      ]
     },
     "execution_count": 141,
     "metadata": {},
     "output_type": "execute_result"
    },
    {
     "name": "stdout",
     "output_type": "stream",
     "text": [
      "time: 13.4 ms (started: 2023-03-24 00:32:44 +01:00)\n"
     ]
    }
   ],
   "source": [
    "# title\n",
    "docs[docs.docid == gold[gold.qid==251898].values[0][1]].values[0][1]"
   ]
  },
  {
   "cell_type": "code",
   "execution_count": 142,
   "id": "56c4ec24",
   "metadata": {},
   "outputs": [
    {
     "data": {
      "text/plain": [
       "\"Answers.com ® Wiki Answers ® Categories Jobs & Education Education College Degrees Graduate Degrees How long does it take to get a post-doctoral degree? Flag How long does it take to get a post-doctoral degree? Answer by Joe Ragusa Confidence votes 98.6KI am not aware of any such thing as a postdoctoral degree. You may be referring to postdoctoral research which may be required for obtaining a tenure-track faculty position, especially at research oriented institutions. Some have suggested that postdoctoral appointments - that were traditionally optional - have become mandatory as demand for tenure-track positions in academia has drastically increased over previous decades (Wikipedia). The length of time in this case depends on the type, content, scope, and depth of the research.2 people found this useful Was this answer useful? Yes Somewhat No Tyler Durden9988 1,326 Contributions How long does it take to get a doctoral degree? It totally depends on the actual degree and school but you can assume between three and five years as a general guideline. Medical degrees may take longer due to the internshi …How long does it take to get a doctorate degree in psychology? Answer 6-8 years Mark Swarthout 794,167 Contributions Contract attorney. When not working I teach karate, collect stamps, write books, and play the ukulele. How long does it take to earn a doctorate degree? It depends on the program and how hard you work. Most programs take 2 to 3 years, but it can take longer if you are not a full time student. Sheepgrape 1,482 Contributions How long does it take to get a doctorate degree in psycology? About six years if you go for a Psy. D. or Ph. D. in psychology. Joe Ragusa How long does it take to get a doctor of pharmacy degree? Answer . Pharmacy programs grant the degree of Doctor of Pharmacy (Pharm. D.), which requires at least 6 years of postsecondary study and the passing of a State board of ph …How long does it take to get a doctors degree?it takes 4 years dependig Joe Ragusa How long does it take to get a doctoral degree in business? A doctoral degree can take approximately three to four years after completion of a bachelors degree. Rxdoc1 907 Contributions How long does it take to get a doctorate degree in pharmaceuticals? Since 2000, all coleges of pharmacu have been required to offer only a single-level entry doctorate degree in Pharmacy which takes 6 years to complete. Internship …Joe Ragusa How long does it take to get a doctor of medicine degree? The common path to practicing as a physician requires 8 years of education beyond high school and 3 to 8 additional years of internship and residency. All States, the District …Joe Ragusa How long does it take to get a doctorates degree? It depends on what kind of doctorate. In general, a doctorate will take approximately eight years beyond high school completion. Grrlygirl 10 Contributions How long does it take to get a doctorate degree in economics? Assuming: You are starting with a bachelor's degree You are enrolled in a doctorate program in which the required graduate courses are built in You are a …Joe Ragusa How long does it take to get a doctorate degree after a MBA? It depends on the specific program of study. Still, the approximate time frame could be anywhere from two to four years. Once again this depends on the program of study, the c …Joe Ragusa Answered In College Degrees How long does it take to get a doctorates degree in psycology? It would take approximately four years post high school completion. However, it depends on how long it takes a student to complete the dissertation (original topic, with resea …Joe Ragusa Answered In Anesthesiologists How long does it take to get a anesthesiologist doctor degree? It will take four years for the bachelor's degree with completion of all prerequisite coursework, and four years of medical school. There will also be three or more years to c …Answered In Bachelors Degrees How long does it take to get a doctorate degree in general? Theoretically, it would take 4 years to get a bachelors degree, another two for your masters, and yet another 2 (or more) to get your doctorate or Ph D. That's a total of at le …Tyler Durden9988 1,326 Contributions Answered In Education How long does it take for a doctor degree? The answer to your question depends on what type of doctor you want to know about. Physicians go to medical school for four years and then may seek additional training in resi …Mark Swarthout 794,167 Contributions Contract attorney. When not working I teach karate, collect stamps, write books, and play the ukulele. Answered In Bachelors Degrees How long does it take to get a post-secondary degree? It depends on the focus and level. You can finish law school full time in three years. Most Masters programs could be done in two years. \""
      ]
     },
     "execution_count": 142,
     "metadata": {},
     "output_type": "execute_result"
    },
    {
     "name": "stdout",
     "output_type": "stream",
     "text": [
      "time: 8.56 ms (started: 2023-03-24 00:32:44 +01:00)\n"
     ]
    }
   ],
   "source": [
    "# body\n",
    "docs[docs.docid == gold[gold.qid==251898].values[0][1]].values[0][2]"
   ]
  },
  {
   "cell_type": "markdown",
   "id": "402273c0-e851-43c4-a212-819d0a9b8b4c",
   "metadata": {},
   "source": [
    "### 🚧 todo: let's look at the second document\n",
    "- let's make a functioin to make that easier"
   ]
  },
  {
   "cell_type": "code",
   "execution_count": 143,
   "id": "ea7f2274-946f-4c18-b2ba-867283278e14",
   "metadata": {},
   "outputs": [
    {
     "data": {
      "text/plain": [
       "'How long does it take to get a degree in psychology?'"
      ]
     },
     "metadata": {},
     "output_type": "display_data"
    },
    {
     "data": {
      "text/plain": [
       "\"Answers.com ® Wiki Answers ® Categories Jobs & Education Education College Degrees Bachelors Degrees How long does it take to get a degree in psychology? Flag How long does it take to get a degree in psychology? Answer by Colette Fisher Stone Confidence votes 16To complete a bachelors degree, it can take anywhere from 124 -128 credits. This could take approximately four years of study, provided the student takes the program as prescribed by the institution. Viper1 I just finished my Bachelor's in Psychology. It actually takes anywhere from 180-195 credits, and does take four years if you are taking 2 classes a semester. If you take on a heavier class load, it is possible to graduate in 3 years.15 people found this useful Was this answer useful? Yes Somewhat No Joe Ragusa How long does it take to earn a bachelor's degree in forensic psychology? It usually takes about 4 years to receive a Bachelor's Degree Answer I might also add that it depends on entrance testing of basic skills, credit load per …Aliciagw 2 Contributions How long does it take to earn a master's degree in psychology? Answer If you are talking about a Masters in Counseling, this could be anything from 1 and a half to about 3 years, depending on wether you are working a full time job …How long does it take to get a degree in forensic psychology? Answer You'd need a 4-year college degree, a 3-year master's degree and a doctorate degree, which can take 2-3 years. How long does it take to get a doctorate degree in psychology? Answer 6-8 years Joe Ragusa How long does it take to get a bachelors degree in psychology? A bachelor's degree in most areas can require between 120 to 128 college credits particular to a specific program of study. This would be based on a college or university tha …How long will it take to get a Bachelor degree in Psychology? Normally, it takes 4 years to get a bachelors degree. Joe Ragusa How long does it take to obtain a masters degree in psychology? It depends where you go to school now a day but my father-in-law has been a Psychologist for approx. 36yrs and attended school for 7yrs and is always doing training of sorts a …Corinne La Shawn 4 Contributions How long does it take you to get your master's degree in psychology? In most cases, a masters degree in psychology takes approximately 2 years to complete, and a doctorate takes 4-6 years (that is, 2-4 years longer than a masters degree) …Justinbieberluvah 3 Contributions How long does it take to get a Ph. D in psychology after getting a bachelor's degree? Obtaining a Ph D in psychology usually requires 5 to 7 years of graduate study after the bachelor's degree is received. Usually, a dissertation is required, but a Psy D degree c …Joe Ragusa How long does it take to get a bachelor's degree in Psychology at University of Phoenix? Typically, the bachelors degree is designed as a four year program of study as a full-time student, provided the individual takes the degree as prescribed by the college or un …April Raine 12,929 Contributions A cat, a book, and a Slurpee - what else could I possibly need? How long does it take to earn a bachelors degree in psychology? Usually 4-5 years Sigmund99 2 Contributions How long does it take to get a bachelor of psychology degree? Typically four years, to take the general education requirements and then to major in psychology. Some can do it in fewer years than that, if they enter college with adv …Joe Ragusa Answered In Bachelors Degrees How long does it take to earn your masters degree in child psychology? A masters degree within this field of study typically takes approximately two to three years to complete, depending on the credit load carried each semester. . A masters deg …Dr Ruby 100 Contributions Answered In Business & Finance How long does it take to complete a degree in forensic psychology? Bachelor's = 4 years Master's = 2 more years Doctorate = 2+ more So, 8 total (usually). There is also a pre-doctoral internship and a post-doctoral rotation tha …Answered In College Degrees How long does it take to get a Ph D in psychology after having a masters degree?a long time Wingdude88 306 Contributions Answered In College Degrees How long does it takes to get a bachelor's degree in psychology? Bachelor's Degree usually = 4 years (8 semesters) of study. Des Elms 1,261 Contributions Answered In Education How long does it take to get a bachelors in psychology if you have a associates degree? Answer 1: A bachelors degree is a four-year degree containing 120 semester credit hours. An associates degree is a two-year degree containing 60 semester credit hours. Someone … \""
      ]
     },
     "metadata": {},
     "output_type": "display_data"
    },
    {
     "name": "stdout",
     "output_type": "stream",
     "text": [
      "time: 14.3 ms (started: 2023-03-24 00:32:45 +01:00)\n"
     ]
    }
   ],
   "source": [
    "def titleAndBody(qid,nr):\n",
    "    display(docs[docs.docid == gold[gold.qid==qid].values[nr][1]].values[0][1])\n",
    "    display(docs[docs.docid == gold[gold.qid==qid].values[nr][1]].values[0][2])\n",
    "titleAndBody(251898,1)"
   ]
  },
  {
   "cell_type": "markdown",
   "id": "ff47ffef-d779-403b-8a7f-75cf0d0cee54",
   "metadata": {},
   "source": [
    "#### let's look at the 100th document"
   ]
  },
  {
   "cell_type": "code",
   "execution_count": 144,
   "id": "361e71c5-7b0b-4dbe-b8b5-4b8ade9a33cf",
   "metadata": {},
   "outputs": [
    {
     "data": {
      "text/plain": [
       "'.'"
      ]
     },
     "metadata": {},
     "output_type": "display_data"
    },
    {
     "data": {
      "text/plain": [
       "'Q How long to receive va dic benefits? I receive a widows benefit from railroad retirement can i collect ssame time Topic: Asked by: Lino In Education & Reference > Financial Aid > Receive>A Top Solutions Janice sibug of 1631 el camino real #7 tustin ca 92780 was born to an illegal alien name l ... read more If direct deposit keep checking your bank account. I received my award letter (explaning b ... read more Add your answer Post to Facebook Post to Twitter Subscribe me Suggested Solutions (10) What\\'s this? Anonymous0 2 Janice sibug of 1631 el camino real #7 tustin ca 92780 was born to an illegal alien name ligaya fabian who jumpshipped her flght at lax from germany to canada.source: How much do anchor babies receive in benefits? Was this answer helpful? Yes | No Comment Reply Reportpgfua Level 2 (Sophomore)4 Answers\"If direct deposit keep checking your bank account...\"5 0 If direct deposit keep checking your bank account. I received my award letter (explaning benefits) after I received my money.source: How long does it take to receive disability benefits after your case has been? Was this answer helpful? Yes | No Someone said: how long did the whole procedure take it has been 119 days for me they say its in the second phase Was this comment helpful? Yes | No Comment Reply Report This answer closely relates to: Question for va dic benefits Once my va dic benefits are approved how soon will i receive them Dic benefitsmerl69Level 1 (Contributor)1 Answer\"Social security of $747 is supposedly countable income...\"0 0 Va has proposed to cut off my $155 dic because my social security of $747 is supposedly countable income. Half of that is widow`s pension.source: Can i receive va dic and social security benefits? Was this answer helpful? Yes | No Comment Reply Report This answer closely relates to: Dic payments for va widows Va widow benefits Va widows how long does dic payments lastnaoyang Level 3 (Helper)49 Answers0 0 Best case mall is best choice~!http://www.bestcasemall.com/iphone-cases-c-20.html.source: How long does it take to receive disability benefits after your case has been? Was this answer helpful? Yes | No Comment Reply Report This answer closely relates to: Dic benefit casespamie54Level 1 (Contributor)1 Answer66 0 Does the spouse that died have to be hurt in the service to receive widows pension?source: Can a widow receive social security and va benefits? Was this answer helpful? Yes | No Someone said: Hello, I\\'m Mrs. Debbie Cohen, last week i was in need of a Loan and a lady here in Ohio USA instroduced me to Clarkson Investment Compan Ltd where i got a Loan at 3% Interest rate, No collateral, No Credit check and i got my Loan, you can contact them at Email: ( r.c...@live.com ) I will advise you not to obtain a loan from FIRM OR A LENDER There are lot\\'s of people acting to be one, the only reliable place to get a Loan is Clarkson Investment Company Ltd. Thank You Mrs. Debbie Cohen Was this comment helpful? Yes | No Comment Reply Report This answer closely relates to: My ex died in june11 2014 i apply foe dic benfits whe will i hear about it Approval board on dic how long before decision is madefor spouse Ow long does it take to receive dic compensationlucifereval Level 1 (Contributor)1 Answer0 0 You would receive your benefits from what I know when you retire.source: If i am not yet at retirement age, but my ex-husband is, do i receive my benefits now or when i retire? Was this answer helpful? Yes | No Comment Reply Reporttoppin.carlene Level 1 (Contributor)2 Answers0 0 60 to 90 days pending on how severe his disability is.source: I recieved a letter saying that there reviewing my son`s disability case. how long does it take before i no anything or receive benefits? Was this answer helpful? Yes | No Comment Reply Report Anonymous0 0 Howmuchsocialsecurityb enefits cana100percentveteranreceive.source: Can a person receive va benefits social security? Was this answer helpful? Yes | Nobeth.losure said: Yes, you can receive both SSDI and VA benefits simultaneously, although these programs are different and receiving one benefit is not a guarantee that you will qualify for the other. Was this comment helpful? Yes | No Comment Reply Reportstinger5630Level 1 (Contributor)1 Answer1 0 U most likely just get his alone?source: If i receive ss disability will i also receive my spouses benefits if he dies? Was this answer helpful? Yes | No Comment Reply Report Anonymous0 0 Can a widow apply for home loan?source: Can a widow receive social security and va benefits? Was this answer helpful? Yes | No Comment Reply Report Add Your Answer How long to receive va dic benefits? I receive a widows benefit from railroad retirement can i collect ssame time Post to Facebook Post to Twitter Subscribe me Can you help us by answering one of these related questions? How long it takes to get your gi benefits for school? How long does it take for my gi bill benefits to arrive? How long till gi bill benefits? How long will it take for va employment benefits to hit my account? How long does it take for chapter 35 benefits to be paid? How long it takes to have a va benefits claim rated? I am fighting for disability why does it take so long and how di recieve benefits? How long does it take to get your chapter thirty benefits started? How long does it take for va to approve a standard application for benefits? How long is the wait for non medical after being approved for disabilty benefits? We need your help! Please help us improve our content by removing questions that are essentially the same and merging them into this question. Please tell us which questions below are the same as this one: How long to receive va dic benefits?63% - How long before i receive my ssa benefits after approval?68% - How long to receive va benefits after compensation exams?61% - How long does it take to receive disability benefits from the navy?60% - How long does it take to receive va benefits after school certifies?56% - How long do you receive welfare benefits for children in california?42% - How long does it take to receive ssi benefits when you close a direct deposit and closed the bank account?40% - If i receive ss disability will i also receive my spouses benefits if he dies?66% - How fast do you receive gi bill benefits?44% - Can you still receive school benefits with a other than honorable?50% - How does it take for a preemie to receive benefits once approved? The following questions have been merged into this one. If you feel any of these questions have been included in error help us improve our content by splitting these questions into seperate discussions. Please unmerge any questions that are not the same as this one: How long to receive va dic benefits? How loang does va dic last? How long does it take comto get dic after veteran dies? - Dic payments last how long How long does it take before a widower receive va benefits? - Dic bebefits are paid for how long How long does it take to get widows back pay? - 2014 how long is it taking to get va dic payments How long will i receive va dic? - Dic bennefits how long do they take How long does it takes for a widow to get monthly benefits after applying? - Howo long does it take to start receiving dic How long does it take to get dic claim approved for widow? - Dic claim approval taking longer for windows How lonng after being approved for dic benifits how long will it be to get first checck? - District industries centre benifits of industries How long does it take for veterans widows benefits? - Dic benfit how long do yo get it Why does it take so long to receive dic? - Dic back payment how long to recieve How long does dic va income last? How long does it take to get va approved for spouse for dic? Why is it taking so long for social security to process my widows benefits? How long can you receive dic from the va? How long before recieve dic? How long does dic last for minor children? How long does it take to get dic from the va? How long does a dic be payed beneifts? How long it takes to get dic back pay? I have apply for dic brnfits on my ex how long does it taht to recive a letter on it? I recieve dic from veterans how long will i recieve this? How long will i receive dic? How long does spousal dic last? How long does it take to get widow benefits from va? How to meantain my dic payment? I m receiving dic pay for how long? How long does it take to receive dic decision? How long does it take to receive dic answer? How long does take to get dic va widow money? How long does a dic claim take? - Help me with dic claim How long does it take to get dic? How long can i get dic payments? I got approved widow benefits at 51 where is my money? How long does it take to get va dic? How long will i recieve dic? '"
      ]
     },
     "metadata": {},
     "output_type": "display_data"
    },
    {
     "name": "stdout",
     "output_type": "stream",
     "text": [
      "time: 15.1 ms (started: 2023-03-24 00:32:45 +01:00)\n"
     ]
    }
   ],
   "source": [
    "titleAndBody(251898,99)"
   ]
  },
  {
   "cell_type": "markdown",
   "id": "a6f133cb-33fc-4a44-b00a-dd5840bdcaeb",
   "metadata": {},
   "source": [
    "### 🚧 todo: try this with a different queries to get a feel of the quality of the gold"
   ]
  },
  {
   "cell_type": "markdown",
   "id": "02e6d82b-f8f1-4f6c-bc85-5c6a886ae303",
   "metadata": {},
   "source": [
    "# doing our first baseline retrieval function\n",
    "\n",
    "- todo: \n",
    "    - build and fit a binary CountVectorizer on the **titles**\n",
    "    - play with and understand build_analyzer, build_tokenizer, and transform\n",
    "    - transform our query 111\n",
    "        - understand what happens with yet unseen words in the transform process\n",
    "    - find the docs with the most words in common\n",
    "    - write an evaluation function computing the top 10 precision p@10\n",
    "    - apply to our 500 queries\n"
   ]
  },
  {
   "cell_type": "code",
   "execution_count": 145,
   "id": "b2a9419e-a830-4cd4-a43a-173328fa9d48",
   "metadata": {},
   "outputs": [
    {
     "name": "stdout",
     "output_type": "stream",
     "text": [
      "we got 39559 features, for example ['sputtering' 'sputters' 'sputum' 'spy' 'spyware' 'sq']\n",
      "time: 651 ms (started: 2023-03-24 00:32:46 +01:00)\n"
     ]
    }
   ],
   "source": [
    "vectorizer = CountVectorizer(binary=True)\n",
    "# understand the options: \n",
    "# https://scikit-learn.org/stable/modules/generated/sklearn.feature_extraction.text.CountVectorizer.html\n",
    "X = vectorizer.fit_transform(docs.title.tolist())\n",
    "print('we got',len(vectorizer.get_feature_names_out()),'features, for example',vectorizer.get_feature_names_out()[33333:33339])"
   ]
  },
  {
   "cell_type": "code",
   "execution_count": 146,
   "id": "1753a230-993a-4545-b21f-aa05e56723e8",
   "metadata": {},
   "outputs": [
    {
     "data": {
      "text/plain": [
       "'how long does getting a doctorate take'"
      ]
     },
     "execution_count": 146,
     "metadata": {},
     "output_type": "execute_result"
    },
    {
     "name": "stdout",
     "output_type": "stream",
     "text": [
      "time: 1.8 ms (started: 2023-03-24 00:32:46 +01:00)\n"
     ]
    }
   ],
   "source": [
    "queries.loc[111].query"
   ]
  },
  {
   "cell_type": "code",
   "execution_count": 147,
   "id": "9b1dacd6-49c2-44e7-8271-62bc68cd6ecf",
   "metadata": {},
   "outputs": [
    {
     "data": {
      "text/plain": [
       "['how', 'long', 'does', 'getting', 'doctorate', 'take']"
      ]
     },
     "execution_count": 147,
     "metadata": {},
     "output_type": "execute_result"
    },
    {
     "name": "stdout",
     "output_type": "stream",
     "text": [
      "time: 1.88 ms (started: 2023-03-24 00:32:46 +01:00)\n"
     ]
    }
   ],
   "source": [
    "vectorizer.build_analyzer()(queries.loc[111].query)"
   ]
  },
  {
   "cell_type": "code",
   "execution_count": 148,
   "id": "a543574d-626e-4d60-9465-a89eca40896d",
   "metadata": {},
   "outputs": [
    {
     "data": {
      "text/plain": [
       "['how', 'long', 'does', 'getting', 'doctorate', 'take']"
      ]
     },
     "execution_count": 148,
     "metadata": {},
     "output_type": "execute_result"
    },
    {
     "name": "stdout",
     "output_type": "stream",
     "text": [
      "time: 1.91 ms (started: 2023-03-24 00:32:46 +01:00)\n"
     ]
    }
   ],
   "source": [
    "vectorizer.build_tokenizer()(queries.loc[111].query)"
   ]
  },
  {
   "cell_type": "code",
   "execution_count": 149,
   "id": "b2c79230-8787-4357-bd11-952451725a15",
   "metadata": {},
   "outputs": [
    {
     "data": {
      "text/plain": [
       "<1x39559 sparse matrix of type '<class 'numpy.int64'>'\n",
       "\twith 6 stored elements in Compressed Sparse Row format>"
      ]
     },
     "execution_count": 149,
     "metadata": {},
     "output_type": "execute_result"
    },
    {
     "name": "stdout",
     "output_type": "stream",
     "text": [
      "time: 2.45 ms (started: 2023-03-24 00:32:46 +01:00)\n"
     ]
    }
   ],
   "source": [
    "qv = vectorizer.transform([queries.loc[111].query])\n",
    "qv"
   ]
  },
  {
   "cell_type": "markdown",
   "id": "e30116df-0d90-4ca7-9111-e9a56e368f9b",
   "metadata": {},
   "source": [
    "### 🚧 todo:\n",
    "- understand what happens with yet unseen words in the transform process\n",
    "\n",
    "\n",
    "- think of the shape of X, what are the rows, what are the columns?\n",
    "- how to select the titles that have the words of our query?\n",
    "       - think of matrix multiplication and transposition"
   ]
  },
  {
   "attachments": {},
   "cell_type": "markdown",
   "id": "69c08187",
   "metadata": {},
   "source": [
    "<font color=green>\n",
    "When encountering new words during the transform process, CountVectorizer will simply ignore them and not include them in the resulting matrix. In other words, the count for any unseen word in a given document will be zero.\n",
    "<font>"
   ]
  },
  {
   "cell_type": "code",
   "execution_count": 150,
   "id": "a4980c9b-340d-452f-9291-7c98fdbb29e7",
   "metadata": {},
   "outputs": [
    {
     "data": {
      "text/plain": [
       "array([[0, 0, 0, ..., 0, 0, 0]])"
      ]
     },
     "execution_count": 150,
     "metadata": {},
     "output_type": "execute_result"
    },
    {
     "name": "stdout",
     "output_type": "stream",
     "text": [
      "time: 1.87 ms (started: 2023-03-24 00:32:47 +01:00)\n"
     ]
    }
   ],
   "source": [
    "xqv = qv.toarray()\n",
    "xqv"
   ]
  },
  {
   "cell_type": "code",
   "execution_count": 151,
   "id": "75c6a5be",
   "metadata": {},
   "outputs": [
    {
     "data": {
      "text/plain": [
       "(1, 39559)"
      ]
     },
     "execution_count": 151,
     "metadata": {},
     "output_type": "execute_result"
    },
    {
     "name": "stdout",
     "output_type": "stream",
     "text": [
      "time: 1.32 ms (started: 2023-03-24 00:32:47 +01:00)\n"
     ]
    }
   ],
   "source": [
    "xqv.shape"
   ]
  },
  {
   "cell_type": "code",
   "execution_count": 152,
   "id": "b53d318e",
   "metadata": {},
   "outputs": [
    {
     "data": {
      "text/plain": [
       "(92565, 39559)"
      ]
     },
     "execution_count": 152,
     "metadata": {},
     "output_type": "execute_result"
    },
    {
     "name": "stdout",
     "output_type": "stream",
     "text": [
      "time: 1.19 ms (started: 2023-03-24 00:32:47 +01:00)\n"
     ]
    }
   ],
   "source": [
    "X.shape"
   ]
  },
  {
   "attachments": {},
   "cell_type": "markdown",
   "id": "7cd809b8",
   "metadata": {},
   "source": [
    "<font color=green>\n",
    "the rows correspond to the input title and the columns correspond to the unique words in the corpus.\n",
    "<font>"
   ]
  },
  {
   "cell_type": "code",
   "execution_count": 153,
   "id": "de3e5497",
   "metadata": {},
   "outputs": [
    {
     "name": "stdout",
     "output_type": "stream",
     "text": [
      "(92565, 1)\n",
      "[[0]\n",
      " [0]\n",
      " [1]\n",
      " ...\n",
      " [0]\n",
      " [0]\n",
      " [0]]\n",
      "time: 131 ms (started: 2023-03-24 00:32:48 +01:00)\n"
     ]
    }
   ],
   "source": [
    "# Perform matrix multiplication between the matrix X and the transposed query matrix xqv.\n",
    "result = X @ xqv.transpose()\n",
    "print(result.shape)\n",
    "print(result)\n",
    "\n",
    "# Select the titles that have at least one of the words in the query\n",
    "selected_titles = [title for i, title in enumerate(docs.title.tolist()) if result[i] > 0]\n",
    "# print(selected_titles)"
   ]
  },
  {
   "cell_type": "markdown",
   "id": "6fb69ccc-a0c1-4e22-a9c0-16acba58aa5c",
   "metadata": {},
   "source": [
    "### 🚧 todo: \n",
    "  - look at argmax and max, \n",
    "  - check the numpy \n",
    "      - flatnonzero function to find the best match\n",
    "      - the .A and the .flat functions\n",
    "  - show the best matching doc"
   ]
  },
  {
   "cell_type": "code",
   "execution_count": 154,
   "id": "17b73f58-dfe9-47d4-ae07-fba2031a2979",
   "metadata": {},
   "outputs": [
    {
     "name": "stdout",
     "output_type": "stream",
     "text": [
      "The document with the most common words is of index 11957\n",
      "The number of common words with the query is 6\n",
      "time: 1.57 ms (started: 2023-03-24 00:32:48 +01:00)\n"
     ]
    }
   ],
   "source": [
    "# Find the index of the document with the most common words\n",
    "best_match_idx = np.argmax(result)\n",
    "print('The document with the most common words is of index', best_match_idx)\n",
    "\n",
    "# Get the number of common words of the best matching document\n",
    "best_match_number = result[best_match_idx][0]\n",
    "print('The number of common words with the query is', best_match_number)"
   ]
  },
  {
   "cell_type": "code",
   "execution_count": 155,
   "id": "26263922-fb98-421c-bcfd-66824fbfc510",
   "metadata": {},
   "outputs": [
    {
     "data": {
      "text/plain": [
       "'Education & Reference Higher Education (University +)After getting my bachelors how long does it take to get a doctorate? In my last year of my bachelors degree in psychology and I want to get a doctorate. But I have no idea how long it would take. And is it better to get a masters a doctorate? Follow 6 answers Answers Relevance Rating Newest Oldest Best Answer: It generally takes 2 years to complete a master\\'s and after that I would say at least 3-4 to complete a Ph. D. although many doctorates take much longer than that: sometimes up to 6-8 years. Unless you\\'re trying to get into a unique medical field, such as virology or epidemiology etc., or to work/teach at the college level, then a master\\'s degree will suffice for the most part. In fact, some colleges employ professors who hold a Masters degree and don\\'t have a doctorate. also fyi, for every 100 Ph. D.\\'s rewarded to a person, there are fewer than 10 collegiate job openings :). Hope that helped :)dvd_clapp · 10 years ago0 1 Comment Asker\\'s rating Many universities allow BA/BS holders to matriculate directly into a doctoral program. Watch out though, some offer the Ph D, while others have the Psy D. The credential is different. The former is more theoretical and research oriented, while the latter is more clinical. I used to work at a college that had AAS and BA degrees. We enrolled students into the AAS, then graduated them and enrolled them into the BA. The AAS was not enough to get a job in the field. They got out of synch really fast. My story here is not for grad school, but honestly, the same principle applies. When you are considering ang graduate degree, take the time to really discuss your plans and goals with not only the admissions person, but the faculty and department chair. They wiill be able to guide you best. Good luck with your search for information. Anonymous · 10 years ago0 0 Comment It takes anywhere from four to eight years. I got mine in four years. You usually have two to three years of classes, a written exam after the second year (mine was two days long), an oral exam after the third year and then you write your dissertation. The dissertation is the big unknown. I wrote mine in two years, but I know people who took much longer. If you are doing clinical psychology, it could take longer, because you may need to do clinical training. Someone suggested getting a Master\\'s first. I do not recommend this unless you can\\'t get into a good program. The better schools do not accept terminal master\\'s students. Source (s): University Professor Ranto · 10 years ago0 0 Comment I would recommend getting a Masters first, then doctorate. I have my Masters in Education and it took me less than two years. It was just a bunch of classes and a thesis. For a doctorate you have to have a research plan and more classes and tons of work and the Masters will really prepare you for the hard work that earning a doctorate entails. Good luck!Maddog Mommy · 10 years ago0 1 Comment It depends on so many things, like what your research is going to be on and how picky your advisors are. 4-6 years is about normal. Secondly, a doctorate is for people who want to be scholars and actively research for the rest of their careers. masters is less research oriented, and is better suited for people who want \"real world\" hands on experience rather than just doing academic research. Good luck. You could probably contact the schools that you are applying to and ask them how long thier students take on average to complete the degrees. Each school will be different. Anonymous · 10 years ago1 0 Commentnicely many outstanding minds will say that by way of fact there are extra human beings interior the rustic who\\'ve faith in an more suitable ability it is extra probable that individuals who have faith in God are maximum individuals in maximum categories. faith in God has no longer something to do with coaching or point of intelligence. It relies upon on the way you have been raised and assorted different information superhighway hosting aspects. Many knowledgeable human beings and individuals who\\'re seen clever selection in religious and non secular ideals. Intelligence does not make a guy or woman question Gods existence, it is something it is residing interior the inquiring suggestions.kyllonen · 1 year ago0 0 Comment Maybe you would like to learn more about one of these? Need an electronic signature? Need Home Equity Loan Options? Looking for a new chandelier? Portfolio Management Options '"
      ]
     },
     "execution_count": 155,
     "metadata": {},
     "output_type": "execute_result"
    },
    {
     "name": "stdout",
     "output_type": "stream",
     "text": [
      "time: 1.82 ms (started: 2023-03-24 00:32:48 +01:00)\n"
     ]
    }
   ],
   "source": [
    "# Get the corresponding document\n",
    "# best_match_doc = docs.loc[best_match_idx]['body']\n",
    "docs.loc[best_match_idx].body"
   ]
  },
  {
   "cell_type": "markdown",
   "id": "36f56fd4-49e6-4c94-a11e-119556a0b52f",
   "metadata": {},
   "source": [
    "### 🚧 todo: use argpartition to get the 10 best answers"
   ]
  },
  {
   "cell_type": "code",
   "execution_count": 156,
   "id": "07b4ee59-7084-43ac-aabd-bd813b45f6aa",
   "metadata": {},
   "outputs": [
    {
     "data": {
      "text/plain": [
       "array([16630, 91275, 44359, 71292,  1477, 43190, 66313,  3686, 83787,\n",
       "       11957])"
      ]
     },
     "execution_count": 156,
     "metadata": {},
     "output_type": "execute_result"
    },
    {
     "name": "stdout",
     "output_type": "stream",
     "text": [
      "time: 1.98 ms (started: 2023-03-24 00:32:48 +01:00)\n"
     ]
    }
   ],
   "source": [
    "pred10i = np.argpartition(result.ravel(), -10)[-10:]\n",
    "pred10i"
   ]
  },
  {
   "cell_type": "code",
   "execution_count": 157,
   "id": "6ef515f4-8e50-490a-912b-df737d740a96",
   "metadata": {},
   "outputs": [
    {
     "data": {
      "text/html": [
       "<div>\n",
       "<style scoped>\n",
       "    .dataframe tbody tr th:only-of-type {\n",
       "        vertical-align: middle;\n",
       "    }\n",
       "\n",
       "    .dataframe tbody tr th {\n",
       "        vertical-align: top;\n",
       "    }\n",
       "\n",
       "    .dataframe thead th {\n",
       "        text-align: right;\n",
       "    }\n",
       "</style>\n",
       "<table border=\"1\" class=\"dataframe\">\n",
       "  <thead>\n",
       "    <tr style=\"text-align: right;\">\n",
       "      <th></th>\n",
       "      <th>docid</th>\n",
       "      <th>title</th>\n",
       "      <th>body</th>\n",
       "      <th>cleaned</th>\n",
       "    </tr>\n",
       "  </thead>\n",
       "  <tbody>\n",
       "    <tr>\n",
       "      <th>16630</th>\n",
       "      <td>D3070882</td>\n",
       "      <td>How long does it take a tattoo to heal?</td>\n",
       "      <td>Answers.com ® Wiki Answers ® Categories Health...</td>\n",
       "      <td>NAN</td>\n",
       "    </tr>\n",
       "    <tr>\n",
       "      <th>91275</th>\n",
       "      <td>D3090762</td>\n",
       "      <td>How Long Does It Take to Get a Doctorate in En...</td>\n",
       "      <td>Home » College How Long Does It Take to Get a ...</td>\n",
       "      <td>NAN</td>\n",
       "    </tr>\n",
       "    <tr>\n",
       "      <th>44359</th>\n",
       "      <td>D638869</td>\n",
       "      <td>How long does it take for the femur bone to heal</td>\n",
       "      <td>Home &gt; Surgery &gt;How long does it take for the ...</td>\n",
       "      <td>NAN</td>\n",
       "    </tr>\n",
       "    <tr>\n",
       "      <th>71292</th>\n",
       "      <td>D471734</td>\n",
       "      <td>How long does it take to earn an marketing deg...</td>\n",
       "      <td>Expert answer by Joe Ragusa Confidence votes 9...</td>\n",
       "      <td>NAN</td>\n",
       "    </tr>\n",
       "    <tr>\n",
       "      <th>1477</th>\n",
       "      <td>D2813027</td>\n",
       "      <td>How long does Seroquel stay in your system if ...</td>\n",
       "      <td>Answers.com ® Wiki Answers ® Categories Health...</td>\n",
       "      <td>NAN</td>\n",
       "    </tr>\n",
       "    <tr>\n",
       "      <th>43190</th>\n",
       "      <td>D700799</td>\n",
       "      <td>Holidays By Country Â»Holidays By Religion Â»O...</td>\n",
       "      <td>Home &gt; Important Days &gt; Daylight Savings &gt; Day...</td>\n",
       "      <td>NAN</td>\n",
       "    </tr>\n",
       "    <tr>\n",
       "      <th>66313</th>\n",
       "      <td>D2956542</td>\n",
       "      <td>How long does it take to finish a doctorate?</td>\n",
       "      <td>Education &amp; Reference Higher Education (Univer...</td>\n",
       "      <td>NAN</td>\n",
       "    </tr>\n",
       "    <tr>\n",
       "      <th>3686</th>\n",
       "      <td>D2111066</td>\n",
       "      <td>After getting a flu shot how long does it take...</td>\n",
       "      <td>Celticballa568 19 Contributions After getting ...</td>\n",
       "      <td>NAN</td>\n",
       "    </tr>\n",
       "    <tr>\n",
       "      <th>83787</th>\n",
       "      <td>D1951655</td>\n",
       "      <td>How long does it take to get a Doctorate of Nu...</td>\n",
       "      <td>Answers.com ® Wiki Answers ® Categories Jobs &amp;...</td>\n",
       "      <td>NAN</td>\n",
       "    </tr>\n",
       "    <tr>\n",
       "      <th>11957</th>\n",
       "      <td>D2408424</td>\n",
       "      <td>After getting my bachelors how long does it ta...</td>\n",
       "      <td>Education &amp; Reference Higher Education (Univer...</td>\n",
       "      <td>NAN</td>\n",
       "    </tr>\n",
       "  </tbody>\n",
       "</table>\n",
       "</div>"
      ],
      "text/plain": [
       "          docid                                              title  \\\n",
       "16630  D3070882            How long does it take a tattoo to heal?   \n",
       "91275  D3090762  How Long Does It Take to Get a Doctorate in En...   \n",
       "44359   D638869   How long does it take for the femur bone to heal   \n",
       "71292   D471734  How long does it take to earn an marketing deg...   \n",
       "1477   D2813027  How long does Seroquel stay in your system if ...   \n",
       "43190   D700799  Holidays By Country Â»Holidays By Religion Â»O...   \n",
       "66313  D2956542       How long does it take to finish a doctorate?   \n",
       "3686   D2111066  After getting a flu shot how long does it take...   \n",
       "83787  D1951655  How long does it take to get a Doctorate of Nu...   \n",
       "11957  D2408424  After getting my bachelors how long does it ta...   \n",
       "\n",
       "                                                    body cleaned  \n",
       "16630  Answers.com ® Wiki Answers ® Categories Health...     NAN  \n",
       "91275  Home » College How Long Does It Take to Get a ...     NAN  \n",
       "44359  Home > Surgery >How long does it take for the ...     NAN  \n",
       "71292  Expert answer by Joe Ragusa Confidence votes 9...     NAN  \n",
       "1477   Answers.com ® Wiki Answers ® Categories Health...     NAN  \n",
       "43190  Home > Important Days > Daylight Savings > Day...     NAN  \n",
       "66313  Education & Reference Higher Education (Univer...     NAN  \n",
       "3686   Celticballa568 19 Contributions After getting ...     NAN  \n",
       "83787  Answers.com ® Wiki Answers ® Categories Jobs &...     NAN  \n",
       "11957  Education & Reference Higher Education (Univer...     NAN  "
      ]
     },
     "execution_count": 157,
     "metadata": {},
     "output_type": "execute_result"
    },
    {
     "name": "stdout",
     "output_type": "stream",
     "text": [
      "time: 13.7 ms (started: 2023-03-24 00:32:49 +01:00)\n"
     ]
    }
   ],
   "source": [
    "docs.loc[pred10i]"
   ]
  },
  {
   "cell_type": "code",
   "execution_count": 158,
   "id": "40f071cb-224f-4c77-9811-31e7be389ca8",
   "metadata": {},
   "outputs": [
    {
     "data": {
      "text/plain": [
       "16630    D3070882\n",
       "91275    D3090762\n",
       "44359     D638869\n",
       "71292     D471734\n",
       "1477     D2813027\n",
       "43190     D700799\n",
       "66313    D2956542\n",
       "3686     D2111066\n",
       "83787    D1951655\n",
       "11957    D2408424\n",
       "Name: docid, dtype: object"
      ]
     },
     "execution_count": 158,
     "metadata": {},
     "output_type": "execute_result"
    },
    {
     "name": "stdout",
     "output_type": "stream",
     "text": [
      "time: 2.58 ms (started: 2023-03-24 00:32:49 +01:00)\n"
     ]
    }
   ],
   "source": [
    "docs.loc[pred10i].docid"
   ]
  },
  {
   "cell_type": "code",
   "execution_count": 159,
   "id": "626f69aa-157f-44f9-bca0-9c03b3855a66",
   "metadata": {},
   "outputs": [
    {
     "data": {
      "text/plain": [
       "36200    D2865964\n",
       "36201    D3557816\n",
       "36202    D2723985\n",
       "36203    D1951655\n",
       "36204    D1709749\n",
       "           ...   \n",
       "36295    D2531901\n",
       "36296    D2956542\n",
       "36297     D301873\n",
       "36298    D2952336\n",
       "36299    D1805809\n",
       "Name: docid, Length: 100, dtype: object"
      ]
     },
     "execution_count": 159,
     "metadata": {},
     "output_type": "execute_result"
    },
    {
     "name": "stdout",
     "output_type": "stream",
     "text": [
      "time: 3.43 ms (started: 2023-03-24 00:32:49 +01:00)\n"
     ]
    }
   ],
   "source": [
    "gold[gold.qid==251898].docid"
   ]
  },
  {
   "attachments": {},
   "cell_type": "markdown",
   "id": "39524ba6-1176-49b1-9e40-afd1a2b5e1bd",
   "metadata": {},
   "source": [
    "### 🚧 todo:\n",
    "- find the relevant documents that are in our top 10\n",
    "- use intersect1d\n",
    "- compute the precision p@10"
   ]
  },
  {
   "cell_type": "code",
   "execution_count": 160,
   "id": "667c20bf-9a1f-4159-af18-83bb2a81d965",
   "metadata": {},
   "outputs": [
    {
     "data": {
      "text/plain": [
       "array(['D1951655', 'D2408424', 'D2956542', 'D3090762', 'D471734'],\n",
       "      dtype='<U8')"
      ]
     },
     "execution_count": 160,
     "metadata": {},
     "output_type": "execute_result"
    },
    {
     "name": "stdout",
     "output_type": "stream",
     "text": [
      "time: 3.51 ms (started: 2023-03-24 00:32:49 +01:00)\n"
     ]
    }
   ],
   "source": [
    "relevant_docs = gold[gold.qid==251898].docid.tolist()\n",
    "# print(relevant_docs)\n",
    "top10 = docs.loc[pred10i].docid.tolist()\n",
    "# print(top10)\n",
    "intersection = np.intersect1d(top10, relevant_docs)\n",
    "intersection"
   ]
  },
  {
   "cell_type": "code",
   "execution_count": 161,
   "id": "12a703c3-4de5-454d-8969-7b20ecbffe15",
   "metadata": {},
   "outputs": [
    {
     "data": {
      "text/plain": [
       "0.5"
      ]
     },
     "execution_count": 161,
     "metadata": {},
     "output_type": "execute_result"
    },
    {
     "name": "stdout",
     "output_type": "stream",
     "text": [
      "time: 2.8 ms (started: 2023-03-24 00:32:50 +01:00)\n"
     ]
    }
   ],
   "source": [
    "precision = len(intersection)/10\n",
    "precision"
   ]
  },
  {
   "cell_type": "code",
   "execution_count": 162,
   "id": "016f6acb",
   "metadata": {},
   "outputs": [
    {
     "data": {
      "text/plain": [
       "['how long does getting a doctorate take']"
      ]
     },
     "execution_count": 162,
     "metadata": {},
     "output_type": "execute_result"
    },
    {
     "name": "stdout",
     "output_type": "stream",
     "text": [
      "time: 2.14 ms (started: 2023-03-24 00:32:50 +01:00)\n"
     ]
    }
   ],
   "source": [
    "queries[queries.qid==251898]['query'].tolist()"
   ]
  },
  {
   "cell_type": "code",
   "execution_count": 163,
   "id": "b9fb0873-3a0d-4025-8992-88a190f69668",
   "metadata": {},
   "outputs": [
    {
     "data": {
      "text/plain": [
       "0.5"
      ]
     },
     "execution_count": 163,
     "metadata": {},
     "output_type": "execute_result"
    },
    {
     "name": "stdout",
     "output_type": "stream",
     "text": [
      "time: 9.77 ms (started: 2023-03-24 00:32:50 +01:00)\n"
     ]
    }
   ],
   "source": [
    "# 🚧 todo: build a function p@10 that gives the precision at 10\n",
    "def pAt10(qid):\n",
    "\n",
    "    query_vector = vectorizer.transform(queries[queries.qid==qid]['query'].tolist()).toarray()\n",
    "    result = X @ query_vector.transpose()\n",
    "\n",
    "    pred10i = np.argpartition(result.ravel(), -10)[-10:]\n",
    "    top10 = docs.loc[pred10i].docid.tolist()\n",
    "    relevant_docs = gold[gold.qid==qid].docid.tolist()\n",
    "    intersection = np.intersect1d(top10, relevant_docs)\n",
    "    precision = len(intersection)/10\n",
    "    return precision\n",
    "\n",
    "pAt10(251898)\n"
   ]
  },
  {
   "cell_type": "markdown",
   "id": "23227936-0403-49ec-8231-c273a628809c",
   "metadata": {},
   "source": [
    "### 🚧 todo:\n",
    "- take our 500 training queries qid\n",
    "- apply our function\n",
    "- compute the average"
   ]
  },
  {
   "cell_type": "code",
   "execution_count": 164,
   "id": "93540efe-a6aa-4e1b-9f18-cb1635c78480",
   "metadata": {},
   "outputs": [
    {
     "data": {
      "text/plain": [
       "0      687888\n",
       "1      480210\n",
       "2      591004\n",
       "3      260536\n",
       "4       39422\n",
       "        ...  \n",
       "495    133970\n",
       "496     79788\n",
       "497    791583\n",
       "498    732078\n",
       "499    197098\n",
       "Name: qid, Length: 500, dtype: int64"
      ]
     },
     "execution_count": 164,
     "metadata": {},
     "output_type": "execute_result"
    },
    {
     "name": "stdout",
     "output_type": "stream",
     "text": [
      "time: 2.33 ms (started: 2023-03-24 00:32:51 +01:00)\n"
     ]
    }
   ],
   "source": [
    "training_queries.qid"
   ]
  },
  {
   "cell_type": "code",
   "execution_count": 165,
   "id": "154d615f-6e62-43d6-aba9-88ec14d77b8f",
   "metadata": {},
   "outputs": [
    {
     "data": {
      "text/plain": [
       "0      0.0\n",
       "1      0.5\n",
       "2      0.3\n",
       "3      0.5\n",
       "4      0.4\n",
       "      ... \n",
       "495    0.6\n",
       "496    0.1\n",
       "497    0.0\n",
       "498    0.1\n",
       "499    0.3\n",
       "Name: qid, Length: 500, dtype: float64"
      ]
     },
     "execution_count": 165,
     "metadata": {},
     "output_type": "execute_result"
    },
    {
     "name": "stdout",
     "output_type": "stream",
     "text": [
      "time: 2.87 s (started: 2023-03-24 00:32:51 +01:00)\n"
     ]
    }
   ],
   "source": [
    "training_queries.qid.apply(pAt10)"
   ]
  },
  {
   "cell_type": "code",
   "execution_count": 166,
   "id": "0a29b6aa-a19b-4700-8fef-eb5d2e82ac28",
   "metadata": {},
   "outputs": [
    {
     "data": {
      "text/plain": [
       "0.32"
      ]
     },
     "execution_count": 166,
     "metadata": {},
     "output_type": "execute_result"
    },
    {
     "name": "stdout",
     "output_type": "stream",
     "text": [
      "time: 2.82 s (started: 2023-03-24 00:32:54 +01:00)\n"
     ]
    }
   ],
   "source": [
    "training_queries.qid.apply(pAt10).mean()"
   ]
  },
  {
   "cell_type": "markdown",
   "id": "f3a482be-d400-4c9b-a122-3f9c62c2f365",
   "metadata": {},
   "source": [
    "- that looks like a baseline we can beat :)\n",
    "- what's the query we are doing best in?\n",
    "    - max?"
   ]
  },
  {
   "cell_type": "code",
   "execution_count": 167,
   "id": "25e9a7d0-c44b-4b9f-b9ec-52d6422b269b",
   "metadata": {},
   "outputs": [
    {
     "data": {
      "text/plain": [
       "1.0"
      ]
     },
     "execution_count": 167,
     "metadata": {},
     "output_type": "execute_result"
    },
    {
     "name": "stdout",
     "output_type": "stream",
     "text": [
      "time: 2.78 s (started: 2023-03-24 00:32:57 +01:00)\n"
     ]
    }
   ],
   "source": [
    "training_queries.qid.apply(pAt10).max()"
   ]
  },
  {
   "cell_type": "markdown",
   "id": "baaca9c0-a7e1-46b5-9dc2-91eab2bf3b3d",
   "metadata": {},
   "source": [
    "- oh, we have just been lucky before..."
   ]
  },
  {
   "attachments": {},
   "cell_type": "markdown",
   "id": "72e2f986-f3f9-4b90-b8a8-31b1250531b7",
   "metadata": {},
   "source": [
    "## 🚧 todo:\n",
    "\n",
    "- redo the vectorization and evaluation on the whole text, not only the titles\n",
    "- try the non-binary CountVectorizer\n",
    "- go for tf-idf\n",
    "    - play with at least two options and re-evaluate\n",
    "- find other improvements. these may include:\n",
    "    - cleaning the text\n",
    "    - heuristically combining title and body matches\n",
    "    - looking at bigrams\n",
    "    - looking at terms (by means of a clean multi-word term list from wikipedia, see notebook 1)\n",
    "    - by removing stopwords (look at nltk or spacy to do that)\n",
    "    - trying an implementation of bm25\n",
    "  \n",
    "- do a grid search with a few promising parameters\n",
    "    - maybe get inspired by GridSearchCV and pipelines in https://scikit-learn.org/stable/auto_examples/model_selection/grid_search_text_feature_extraction.html#sphx-glr-auto-examples-model-selection-grid-search-text-feature-extraction-py\n",
    "        - you can also check the weel-written section \"Pipelines\" in this book: https://www.oreilly.com/library/view/applied-text-analysis/9781491963036/ch04.html\n",
    "    - make a nice visualization of the results\n",
    "    \n",
    "- interpret the complete results in 3 to 5 sentences.\n",
    "    - what strategy would do best if we switch our evaluation to p@100?\n",
    "\n",
    "- give some ideas for improving the results\n",
    "\n",
    "\n",
    "\n"
   ]
  },
  {
   "attachments": {},
   "cell_type": "markdown",
   "id": "96ece4db",
   "metadata": {},
   "source": [
    "### Redo the vectorization and evaluation on the whole text"
   ]
  },
  {
   "cell_type": "code",
   "execution_count": 168,
   "id": "1f8d3f84",
   "metadata": {},
   "outputs": [
    {
     "data": {
      "text/plain": [
       "0.48"
      ]
     },
     "execution_count": 168,
     "metadata": {},
     "output_type": "execute_result"
    },
    {
     "name": "stdout",
     "output_type": "stream",
     "text": [
      "time: 2min 26s (started: 2023-03-24 00:33:00 +01:00)\n"
     ]
    }
   ],
   "source": [
    "# vectorization\n",
    "vectorizer = CountVectorizer(binary=True)\n",
    "X = vectorizer.fit_transform(docs.body.tolist())\n",
    "\n",
    "# evaluation\n",
    "training_queries.qid.apply(pAt10).mean()"
   ]
  },
  {
   "attachments": {},
   "cell_type": "markdown",
   "id": "429b7286",
   "metadata": {},
   "source": [
    "### Try the non-binary CountVectorizer"
   ]
  },
  {
   "cell_type": "code",
   "execution_count": 169,
   "id": "eb42433b",
   "metadata": {},
   "outputs": [
    {
     "data": {
      "text/plain": [
       "0.046200000000000005"
      ]
     },
     "execution_count": 169,
     "metadata": {},
     "output_type": "execute_result"
    },
    {
     "name": "stdout",
     "output_type": "stream",
     "text": [
      "time: 2min 32s (started: 2023-03-24 00:35:26 +01:00)\n"
     ]
    }
   ],
   "source": [
    "# vectorization\n",
    "vectorizer = CountVectorizer(binary=False)\n",
    "X = vectorizer.fit_transform(docs.body.tolist())\n",
    "\n",
    "# evaluation\n",
    "training_queries.qid.apply(pAt10).mean()"
   ]
  },
  {
   "attachments": {},
   "cell_type": "markdown",
   "id": "58627e2d",
   "metadata": {},
   "source": [
    "### Play with at least two options and re-evaluate on tf-idf"
   ]
  },
  {
   "cell_type": "code",
   "execution_count": 170,
   "id": "a330b5c7",
   "metadata": {},
   "outputs": [
    {
     "data": {
      "text/plain": [
       "0.7766000000000001"
      ]
     },
     "execution_count": 170,
     "metadata": {},
     "output_type": "execute_result"
    },
    {
     "name": "stdout",
     "output_type": "stream",
     "text": [
      "time: 2min 41s (started: 2023-03-24 00:37:58 +01:00)\n"
     ]
    }
   ],
   "source": [
    "from sklearn.feature_extraction.text import TfidfVectorizer\n",
    "\n",
    "# vectorization\n",
    "vectorizer = TfidfVectorizer(norm='l1')\n",
    "X = vectorizer.fit_transform(docs.body.tolist())\n",
    "\n",
    "# evaluation\n",
    "training_queries.qid.apply(pAt10).mean()"
   ]
  },
  {
   "cell_type": "code",
   "execution_count": 171,
   "id": "2b294f29",
   "metadata": {},
   "outputs": [
    {
     "data": {
      "text/plain": [
       "0.8972"
      ]
     },
     "execution_count": 171,
     "metadata": {},
     "output_type": "execute_result"
    },
    {
     "name": "stdout",
     "output_type": "stream",
     "text": [
      "time: 2min 36s (started: 2023-03-24 00:40:40 +01:00)\n"
     ]
    }
   ],
   "source": [
    "# vectorization\n",
    "vectorizer = TfidfVectorizer(norm='l2')\n",
    "X = vectorizer.fit_transform(docs.body.tolist())\n",
    "\n",
    "# evaluation\n",
    "training_queries.qid.apply(pAt10).mean()"
   ]
  },
  {
   "cell_type": "code",
   "execution_count": 172,
   "id": "378ad4d8",
   "metadata": {},
   "outputs": [
    {
     "data": {
      "text/plain": [
       "0.935"
      ]
     },
     "execution_count": 172,
     "metadata": {},
     "output_type": "execute_result"
    },
    {
     "name": "stdout",
     "output_type": "stream",
     "text": [
      "time: 2min 41s (started: 2023-03-24 00:43:16 +01:00)\n"
     ]
    }
   ],
   "source": [
    "# vectorization\n",
    "vectorizer = TfidfVectorizer(sublinear_tf=True)\n",
    "X = vectorizer.fit_transform(docs.body.tolist())\n",
    "\n",
    "# evaluation\n",
    "training_queries.qid.apply(pAt10).mean()"
   ]
  },
  {
   "cell_type": "code",
   "execution_count": 173,
   "id": "851cf3a2",
   "metadata": {},
   "outputs": [
    {
     "data": {
      "text/plain": [
       "0.8972"
      ]
     },
     "execution_count": 173,
     "metadata": {},
     "output_type": "execute_result"
    },
    {
     "name": "stdout",
     "output_type": "stream",
     "text": [
      "time: 2min 37s (started: 2023-03-24 00:45:58 +01:00)\n"
     ]
    }
   ],
   "source": [
    "# vectorization\n",
    "vectorizer = TfidfVectorizer(sublinear_tf=False)\n",
    "X = vectorizer.fit_transform(docs.body.tolist())\n",
    "\n",
    "# evaluation\n",
    "training_queries.qid.apply(pAt10).mean()"
   ]
  },
  {
   "attachments": {},
   "cell_type": "markdown",
   "id": "e0946261",
   "metadata": {},
   "source": [
    "### Other improvements"
   ]
  },
  {
   "attachments": {},
   "cell_type": "markdown",
   "id": "99a8db95",
   "metadata": {},
   "source": [
    "#### Clean text"
   ]
  },
  {
   "cell_type": "code",
   "execution_count": 192,
   "id": "39502d86-c7a8-4468-95b5-c0fe2e6c8db6",
   "metadata": {},
   "outputs": [
    {
     "name": "stdout",
     "output_type": "stream",
     "text": [
      "time: 3min 12s (started: 2023-03-24 01:01:13 +01:00)\n"
     ]
    }
   ],
   "source": [
    "import string\n",
    "\n",
    "def clean_text(text):\n",
    "    # remove words with numbers inside\n",
    "    text = re.sub('\\w*\\d+\\w*', '', text)\n",
    "    # replace new lines by space\n",
    "    text = text.replace('\\n', ' ')\n",
    "    # remove urls\n",
    "    text = re.sub(r'http\\S+', '', text)\n",
    "    # only keep ascii words\n",
    "    text = text.encode(\"ascii\", errors=\"ignore\").decode()\n",
    "    return text\n",
    "\n",
    "# Cleaning corpus using RegEx\n",
    "docs['cleaned'] = docs['body'].apply(lambda x: clean_text(x))"
   ]
  },
  {
   "cell_type": "code",
   "execution_count": 193,
   "id": "4ef0335c",
   "metadata": {},
   "outputs": [
    {
     "data": {
      "text/html": [
       "<div>\n",
       "<style scoped>\n",
       "    .dataframe tbody tr th:only-of-type {\n",
       "        vertical-align: middle;\n",
       "    }\n",
       "\n",
       "    .dataframe tbody tr th {\n",
       "        vertical-align: top;\n",
       "    }\n",
       "\n",
       "    .dataframe thead th {\n",
       "        text-align: right;\n",
       "    }\n",
       "</style>\n",
       "<table border=\"1\" class=\"dataframe\">\n",
       "  <thead>\n",
       "    <tr style=\"text-align: right;\">\n",
       "      <th></th>\n",
       "      <th>docid</th>\n",
       "      <th>title</th>\n",
       "      <th>body</th>\n",
       "      <th>cleaned</th>\n",
       "    </tr>\n",
       "  </thead>\n",
       "  <tbody>\n",
       "    <tr>\n",
       "      <th>0</th>\n",
       "      <td>D2981241</td>\n",
       "      <td>What do you call a group of lions?</td>\n",
       "      <td>Lions Vocabulary of the English Language Word ...</td>\n",
       "      <td>Lions Vocabulary of the English Language Word ...</td>\n",
       "    </tr>\n",
       "    <tr>\n",
       "      <th>1</th>\n",
       "      <td>D687756</td>\n",
       "      <td>.</td>\n",
       "      <td>The A Priori Argument ( also, Rationalization;...</td>\n",
       "      <td>The A Priori Argument ( also, Rationalization;...</td>\n",
       "    </tr>\n",
       "    <tr>\n",
       "      <th>2</th>\n",
       "      <td>D913099</td>\n",
       "      <td>Everything You Need To Learn How To Cook Veget...</td>\n",
       "      <td>Home &gt; How To Cook Vegetables Everything You N...</td>\n",
       "      <td>Home &gt; How To Cook Vegetables Everything You N...</td>\n",
       "    </tr>\n",
       "    <tr>\n",
       "      <th>3</th>\n",
       "      <td>D328017</td>\n",
       "      <td>What is the difference between latitude, longi...</td>\n",
       "      <td>Longitude Latitude Geographic Coordinate Syste...</td>\n",
       "      <td>Longitude Latitude Geographic Coordinate Syste...</td>\n",
       "    </tr>\n",
       "    <tr>\n",
       "      <th>4</th>\n",
       "      <td>D1636347</td>\n",
       "      <td>When was the pulley invented?</td>\n",
       "      <td>Answers.com ® Wiki Answers ® Categories Techno...</td>\n",
       "      <td>Answers.com  Wiki Answers  Categories Technolo...</td>\n",
       "    </tr>\n",
       "    <tr>\n",
       "      <th>...</th>\n",
       "      <td>...</td>\n",
       "      <td>...</td>\n",
       "      <td>...</td>\n",
       "      <td>...</td>\n",
       "    </tr>\n",
       "    <tr>\n",
       "      <th>92560</th>\n",
       "      <td>D3379210</td>\n",
       "      <td>Top 39 Doctor insights on: Can An Iud Cause Ha...</td>\n",
       "      <td>Top 39 Doctor insights on: Can An Iud Cause Ha...</td>\n",
       "      <td>Top  Doctor insights on: Can An Iud Cause Hair...</td>\n",
       "    </tr>\n",
       "    <tr>\n",
       "      <th>92561</th>\n",
       "      <td>D3068739</td>\n",
       "      <td>How to get back your DirecTV cancellation fees</td>\n",
       "      <td>How to get back your Direc TV cancellation fee...</td>\n",
       "      <td>How to get back your Direc TV cancellation fee...</td>\n",
       "    </tr>\n",
       "    <tr>\n",
       "      <th>92562</th>\n",
       "      <td>D1590402</td>\n",
       "      <td>Certification FAQs</td>\n",
       "      <td>Fingerprinting 1. Where can I get fingerprinte...</td>\n",
       "      <td>Fingerprinting . Where can I get fingerprinted...</td>\n",
       "    </tr>\n",
       "    <tr>\n",
       "      <th>92563</th>\n",
       "      <td>D2175490</td>\n",
       "      <td>Greenhouse gas emissions by Canadian economic ...</td>\n",
       "      <td>Access PDF (682 KB)In 2015, Canada's total gre...</td>\n",
       "      <td>Access PDF ( KB)In , Canada's total greenhouse...</td>\n",
       "    </tr>\n",
       "    <tr>\n",
       "      <th>92564</th>\n",
       "      <td>D2580062</td>\n",
       "      <td>QuickBooks Bill Pay</td>\n",
       "      <td>Quick Books Bill Pay Simplify your accounts pa...</td>\n",
       "      <td>Quick Books Bill Pay Simplify your accounts pa...</td>\n",
       "    </tr>\n",
       "  </tbody>\n",
       "</table>\n",
       "<p>92565 rows × 4 columns</p>\n",
       "</div>"
      ],
      "text/plain": [
       "          docid                                              title  \\\n",
       "0      D2981241                 What do you call a group of lions?   \n",
       "1       D687756                                                  .   \n",
       "2       D913099  Everything You Need To Learn How To Cook Veget...   \n",
       "3       D328017  What is the difference between latitude, longi...   \n",
       "4      D1636347                      When was the pulley invented?   \n",
       "...         ...                                                ...   \n",
       "92560  D3379210  Top 39 Doctor insights on: Can An Iud Cause Ha...   \n",
       "92561  D3068739     How to get back your DirecTV cancellation fees   \n",
       "92562  D1590402                                 Certification FAQs   \n",
       "92563  D2175490  Greenhouse gas emissions by Canadian economic ...   \n",
       "92564  D2580062                                QuickBooks Bill Pay   \n",
       "\n",
       "                                                    body  \\\n",
       "0      Lions Vocabulary of the English Language Word ...   \n",
       "1      The A Priori Argument ( also, Rationalization;...   \n",
       "2      Home > How To Cook Vegetables Everything You N...   \n",
       "3      Longitude Latitude Geographic Coordinate Syste...   \n",
       "4      Answers.com ® Wiki Answers ® Categories Techno...   \n",
       "...                                                  ...   \n",
       "92560  Top 39 Doctor insights on: Can An Iud Cause Ha...   \n",
       "92561  How to get back your Direc TV cancellation fee...   \n",
       "92562  Fingerprinting 1. Where can I get fingerprinte...   \n",
       "92563  Access PDF (682 KB)In 2015, Canada's total gre...   \n",
       "92564  Quick Books Bill Pay Simplify your accounts pa...   \n",
       "\n",
       "                                                 cleaned  \n",
       "0      Lions Vocabulary of the English Language Word ...  \n",
       "1      The A Priori Argument ( also, Rationalization;...  \n",
       "2      Home > How To Cook Vegetables Everything You N...  \n",
       "3      Longitude Latitude Geographic Coordinate Syste...  \n",
       "4      Answers.com  Wiki Answers  Categories Technolo...  \n",
       "...                                                  ...  \n",
       "92560  Top  Doctor insights on: Can An Iud Cause Hair...  \n",
       "92561  How to get back your Direc TV cancellation fee...  \n",
       "92562  Fingerprinting . Where can I get fingerprinted...  \n",
       "92563  Access PDF ( KB)In , Canada's total greenhouse...  \n",
       "92564  Quick Books Bill Pay Simplify your accounts pa...  \n",
       "\n",
       "[92565 rows x 4 columns]"
      ]
     },
     "execution_count": 193,
     "metadata": {},
     "output_type": "execute_result"
    },
    {
     "name": "stdout",
     "output_type": "stream",
     "text": [
      "time: 13.8 ms (started: 2023-03-24 01:05:22 +01:00)\n"
     ]
    }
   ],
   "source": [
    "docs"
   ]
  },
  {
   "cell_type": "code",
   "execution_count": 194,
   "id": "c319383a",
   "metadata": {},
   "outputs": [
    {
     "data": {
      "text/plain": [
       "0.8932"
      ]
     },
     "execution_count": 194,
     "metadata": {},
     "output_type": "execute_result"
    },
    {
     "name": "stdout",
     "output_type": "stream",
     "text": [
      "time: 2min 14s (started: 2023-03-24 01:05:38 +01:00)\n"
     ]
    }
   ],
   "source": [
    "# vectorization\n",
    "vectorizer = TfidfVectorizer(norm='l2')\n",
    "X = vectorizer.fit_transform(docs.cleaned.tolist())\n",
    "\n",
    "# evaluation\n",
    "training_queries.qid.apply(pAt10).mean()"
   ]
  },
  {
   "attachments": {},
   "cell_type": "markdown",
   "id": "b9f28d04",
   "metadata": {},
   "source": [
    "#### Remove Stopwords"
   ]
  },
  {
   "cell_type": "code",
   "execution_count": 197,
   "id": "7cb42c1e-827f-48fe-8aa2-4d285625bbea",
   "metadata": {},
   "outputs": [
    {
     "name": "stdout",
     "output_type": "stream",
     "text": [
      "time: 2min 7s (started: 2023-03-24 01:17:43 +01:00)\n"
     ]
    }
   ],
   "source": [
    "# Remove Stopwords\n",
    "from nltk.corpus import stopwords\n",
    "stop_words = set(stopwords.words('english'))\n",
    "\n",
    "def remove_Stopwords(text):\n",
    "    text = ' '.join(word for word in text.split() if word not in stop_words)\n",
    "    return text\n",
    "\n",
    "docs['removed'] = docs['cleaned'].apply(lambda x: clean_text(x))"
   ]
  },
  {
   "cell_type": "code",
   "execution_count": 198,
   "id": "5b896e90",
   "metadata": {},
   "outputs": [
    {
     "data": {
      "text/plain": [
       "0.8932"
      ]
     },
     "execution_count": 198,
     "metadata": {},
     "output_type": "execute_result"
    },
    {
     "name": "stdout",
     "output_type": "stream",
     "text": [
      "time: 2min 13s (started: 2023-03-24 01:19:50 +01:00)\n"
     ]
    }
   ],
   "source": [
    "# vectorization\n",
    "vectorizer = TfidfVectorizer(norm='l2')\n",
    "X = vectorizer.fit_transform(docs.removed.tolist())\n",
    "\n",
    "# evaluation\n",
    "training_queries.qid.apply(pAt10).mean()"
   ]
  },
  {
   "attachments": {},
   "cell_type": "markdown",
   "id": "1317fe9d",
   "metadata": {},
   "source": [
    "#### looking at bigrams"
   ]
  },
  {
   "cell_type": "code",
   "execution_count": 199,
   "id": "369e905c-36cd-45c2-817b-4d9c24724be3",
   "metadata": {},
   "outputs": [
    {
     "name": "stdout",
     "output_type": "stream",
     "text": [
      "time: 399 µs (started: 2023-03-24 01:22:04 +01:00)\n"
     ]
    }
   ],
   "source": [
    "#### too much time to finish running ####\n",
    "\n",
    "# # vectorization\n",
    "# vectorizer = TfidfVectorizer(norm='l2', stop_words=stop_words, ngram_range=(2,2))\n",
    "# X = vectorizer.fit_transform(docs.cleaned.tolist())\n",
    "\n",
    "# # evaluation\n",
    "# training_queries.qid.apply(pAt10).mean()"
   ]
  },
  {
   "attachments": {},
   "cell_type": "markdown",
   "id": "aa054eb4",
   "metadata": {},
   "source": [
    "### Do a grid search with a few promising parameters"
   ]
  },
  {
   "cell_type": "code",
   "execution_count": 210,
   "id": "79f6cb6f",
   "metadata": {},
   "outputs": [
    {
     "name": "stderr",
     "output_type": "stream",
     "text": [
      "/Users/zhehuang/opt/anaconda3/envs/HoNLP/lib/python3.10/site-packages/sklearn/model_selection/_validation.py:776: UserWarning: Scoring failed. The score on this train-test partition for these parameters will be set to nan. Details: \n",
      "Traceback (most recent call last):\n",
      "  File \"/Users/zhehuang/opt/anaconda3/envs/HoNLP/lib/python3.10/site-packages/sklearn/model_selection/_validation.py\", line 765, in _score\n",
      "    scores = scorer(estimator, X_test)\n",
      "TypeError: _BaseScorer.__call__() missing 1 required positional argument: 'y_true'\n",
      "\n",
      "  warnings.warn(\n"
     ]
    },
    {
     "ename": "KeyboardInterrupt",
     "evalue": "",
     "output_type": "error",
     "traceback": [
      "\u001b[0;31m---------------------------------------------------------------------------\u001b[0m",
      "\u001b[0;31mKeyboardInterrupt\u001b[0m                         Traceback (most recent call last)",
      "Cell \u001b[0;32mIn[210], line 27\u001b[0m\n\u001b[1;32m     24\u001b[0m grid_search \u001b[39m=\u001b[39m GridSearchCV(pipeline, param_grid, scoring\u001b[39m=\u001b[39mscorer, cv\u001b[39m=\u001b[39m\u001b[39m5\u001b[39m)\n\u001b[1;32m     26\u001b[0m \u001b[39m# Fit the grid search object on the data\u001b[39;00m\n\u001b[0;32m---> 27\u001b[0m grid_search\u001b[39m.\u001b[39;49mfit(docs\u001b[39m.\u001b[39;49mcleaned\u001b[39m.\u001b[39;49mtolist())\n\u001b[1;32m     29\u001b[0m \u001b[39m# Print the best parameters and best score\u001b[39;00m\n\u001b[1;32m     30\u001b[0m \u001b[39mprint\u001b[39m(\u001b[39m\"\u001b[39m\u001b[39mBest Parameters: \u001b[39m\u001b[39m\"\u001b[39m, grid_search\u001b[39m.\u001b[39mbest_params_)\n",
      "File \u001b[0;32m~/opt/anaconda3/envs/HoNLP/lib/python3.10/site-packages/sklearn/model_selection/_search.py:875\u001b[0m, in \u001b[0;36mBaseSearchCV.fit\u001b[0;34m(self, X, y, groups, **fit_params)\u001b[0m\n\u001b[1;32m    869\u001b[0m     results \u001b[39m=\u001b[39m \u001b[39mself\u001b[39m\u001b[39m.\u001b[39m_format_results(\n\u001b[1;32m    870\u001b[0m         all_candidate_params, n_splits, all_out, all_more_results\n\u001b[1;32m    871\u001b[0m     )\n\u001b[1;32m    873\u001b[0m     \u001b[39mreturn\u001b[39;00m results\n\u001b[0;32m--> 875\u001b[0m \u001b[39mself\u001b[39;49m\u001b[39m.\u001b[39;49m_run_search(evaluate_candidates)\n\u001b[1;32m    877\u001b[0m \u001b[39m# multimetric is determined here because in the case of a callable\u001b[39;00m\n\u001b[1;32m    878\u001b[0m \u001b[39m# self.scoring the return type is only known after calling\u001b[39;00m\n\u001b[1;32m    879\u001b[0m first_test_score \u001b[39m=\u001b[39m all_out[\u001b[39m0\u001b[39m][\u001b[39m\"\u001b[39m\u001b[39mtest_scores\u001b[39m\u001b[39m\"\u001b[39m]\n",
      "File \u001b[0;32m~/opt/anaconda3/envs/HoNLP/lib/python3.10/site-packages/sklearn/model_selection/_search.py:1389\u001b[0m, in \u001b[0;36mGridSearchCV._run_search\u001b[0;34m(self, evaluate_candidates)\u001b[0m\n\u001b[1;32m   1387\u001b[0m \u001b[39mdef\u001b[39;00m \u001b[39m_run_search\u001b[39m(\u001b[39mself\u001b[39m, evaluate_candidates):\n\u001b[1;32m   1388\u001b[0m \u001b[39m    \u001b[39m\u001b[39m\"\"\"Search all candidates in param_grid\"\"\"\u001b[39;00m\n\u001b[0;32m-> 1389\u001b[0m     evaluate_candidates(ParameterGrid(\u001b[39mself\u001b[39;49m\u001b[39m.\u001b[39;49mparam_grid))\n",
      "File \u001b[0;32m~/opt/anaconda3/envs/HoNLP/lib/python3.10/site-packages/sklearn/model_selection/_search.py:822\u001b[0m, in \u001b[0;36mBaseSearchCV.fit.<locals>.evaluate_candidates\u001b[0;34m(candidate_params, cv, more_results)\u001b[0m\n\u001b[1;32m    814\u001b[0m \u001b[39mif\u001b[39;00m \u001b[39mself\u001b[39m\u001b[39m.\u001b[39mverbose \u001b[39m>\u001b[39m \u001b[39m0\u001b[39m:\n\u001b[1;32m    815\u001b[0m     \u001b[39mprint\u001b[39m(\n\u001b[1;32m    816\u001b[0m         \u001b[39m\"\u001b[39m\u001b[39mFitting \u001b[39m\u001b[39m{0}\u001b[39;00m\u001b[39m folds for each of \u001b[39m\u001b[39m{1}\u001b[39;00m\u001b[39m candidates,\u001b[39m\u001b[39m\"\u001b[39m\n\u001b[1;32m    817\u001b[0m         \u001b[39m\"\u001b[39m\u001b[39m totalling \u001b[39m\u001b[39m{2}\u001b[39;00m\u001b[39m fits\u001b[39m\u001b[39m\"\u001b[39m\u001b[39m.\u001b[39mformat(\n\u001b[1;32m    818\u001b[0m             n_splits, n_candidates, n_candidates \u001b[39m*\u001b[39m n_splits\n\u001b[1;32m    819\u001b[0m         )\n\u001b[1;32m    820\u001b[0m     )\n\u001b[0;32m--> 822\u001b[0m out \u001b[39m=\u001b[39m parallel(\n\u001b[1;32m    823\u001b[0m     delayed(_fit_and_score)(\n\u001b[1;32m    824\u001b[0m         clone(base_estimator),\n\u001b[1;32m    825\u001b[0m         X,\n\u001b[1;32m    826\u001b[0m         y,\n\u001b[1;32m    827\u001b[0m         train\u001b[39m=\u001b[39;49mtrain,\n\u001b[1;32m    828\u001b[0m         test\u001b[39m=\u001b[39;49mtest,\n\u001b[1;32m    829\u001b[0m         parameters\u001b[39m=\u001b[39;49mparameters,\n\u001b[1;32m    830\u001b[0m         split_progress\u001b[39m=\u001b[39;49m(split_idx, n_splits),\n\u001b[1;32m    831\u001b[0m         candidate_progress\u001b[39m=\u001b[39;49m(cand_idx, n_candidates),\n\u001b[1;32m    832\u001b[0m         \u001b[39m*\u001b[39;49m\u001b[39m*\u001b[39;49mfit_and_score_kwargs,\n\u001b[1;32m    833\u001b[0m     )\n\u001b[1;32m    834\u001b[0m     \u001b[39mfor\u001b[39;49;00m (cand_idx, parameters), (split_idx, (train, test)) \u001b[39min\u001b[39;49;00m product(\n\u001b[1;32m    835\u001b[0m         \u001b[39menumerate\u001b[39;49m(candidate_params), \u001b[39menumerate\u001b[39;49m(cv\u001b[39m.\u001b[39;49msplit(X, y, groups))\n\u001b[1;32m    836\u001b[0m     )\n\u001b[1;32m    837\u001b[0m )\n\u001b[1;32m    839\u001b[0m \u001b[39mif\u001b[39;00m \u001b[39mlen\u001b[39m(out) \u001b[39m<\u001b[39m \u001b[39m1\u001b[39m:\n\u001b[1;32m    840\u001b[0m     \u001b[39mraise\u001b[39;00m \u001b[39mValueError\u001b[39;00m(\n\u001b[1;32m    841\u001b[0m         \u001b[39m\"\u001b[39m\u001b[39mNo fits were performed. \u001b[39m\u001b[39m\"\u001b[39m\n\u001b[1;32m    842\u001b[0m         \u001b[39m\"\u001b[39m\u001b[39mWas the CV iterator empty? \u001b[39m\u001b[39m\"\u001b[39m\n\u001b[1;32m    843\u001b[0m         \u001b[39m\"\u001b[39m\u001b[39mWere there no candidates?\u001b[39m\u001b[39m\"\u001b[39m\n\u001b[1;32m    844\u001b[0m     )\n",
      "File \u001b[0;32m~/opt/anaconda3/envs/HoNLP/lib/python3.10/site-packages/joblib/parallel.py:1088\u001b[0m, in \u001b[0;36mParallel.__call__\u001b[0;34m(self, iterable)\u001b[0m\n\u001b[1;32m   1085\u001b[0m \u001b[39mif\u001b[39;00m \u001b[39mself\u001b[39m\u001b[39m.\u001b[39mdispatch_one_batch(iterator):\n\u001b[1;32m   1086\u001b[0m     \u001b[39mself\u001b[39m\u001b[39m.\u001b[39m_iterating \u001b[39m=\u001b[39m \u001b[39mself\u001b[39m\u001b[39m.\u001b[39m_original_iterator \u001b[39mis\u001b[39;00m \u001b[39mnot\u001b[39;00m \u001b[39mNone\u001b[39;00m\n\u001b[0;32m-> 1088\u001b[0m \u001b[39mwhile\u001b[39;00m \u001b[39mself\u001b[39;49m\u001b[39m.\u001b[39;49mdispatch_one_batch(iterator):\n\u001b[1;32m   1089\u001b[0m     \u001b[39mpass\u001b[39;00m\n\u001b[1;32m   1091\u001b[0m \u001b[39mif\u001b[39;00m pre_dispatch \u001b[39m==\u001b[39m \u001b[39m\"\u001b[39m\u001b[39mall\u001b[39m\u001b[39m\"\u001b[39m \u001b[39mor\u001b[39;00m n_jobs \u001b[39m==\u001b[39m \u001b[39m1\u001b[39m:\n\u001b[1;32m   1092\u001b[0m     \u001b[39m# The iterable was consumed all at once by the above for loop.\u001b[39;00m\n\u001b[1;32m   1093\u001b[0m     \u001b[39m# No need to wait for async callbacks to trigger to\u001b[39;00m\n\u001b[1;32m   1094\u001b[0m     \u001b[39m# consumption.\u001b[39;00m\n",
      "File \u001b[0;32m~/opt/anaconda3/envs/HoNLP/lib/python3.10/site-packages/joblib/parallel.py:901\u001b[0m, in \u001b[0;36mParallel.dispatch_one_batch\u001b[0;34m(self, iterator)\u001b[0m\n\u001b[1;32m    899\u001b[0m     \u001b[39mreturn\u001b[39;00m \u001b[39mFalse\u001b[39;00m\n\u001b[1;32m    900\u001b[0m \u001b[39melse\u001b[39;00m:\n\u001b[0;32m--> 901\u001b[0m     \u001b[39mself\u001b[39;49m\u001b[39m.\u001b[39;49m_dispatch(tasks)\n\u001b[1;32m    902\u001b[0m     \u001b[39mreturn\u001b[39;00m \u001b[39mTrue\u001b[39;00m\n",
      "File \u001b[0;32m~/opt/anaconda3/envs/HoNLP/lib/python3.10/site-packages/joblib/parallel.py:819\u001b[0m, in \u001b[0;36mParallel._dispatch\u001b[0;34m(self, batch)\u001b[0m\n\u001b[1;32m    817\u001b[0m \u001b[39mwith\u001b[39;00m \u001b[39mself\u001b[39m\u001b[39m.\u001b[39m_lock:\n\u001b[1;32m    818\u001b[0m     job_idx \u001b[39m=\u001b[39m \u001b[39mlen\u001b[39m(\u001b[39mself\u001b[39m\u001b[39m.\u001b[39m_jobs)\n\u001b[0;32m--> 819\u001b[0m     job \u001b[39m=\u001b[39m \u001b[39mself\u001b[39;49m\u001b[39m.\u001b[39;49m_backend\u001b[39m.\u001b[39;49mapply_async(batch, callback\u001b[39m=\u001b[39;49mcb)\n\u001b[1;32m    820\u001b[0m     \u001b[39m# A job can complete so quickly than its callback is\u001b[39;00m\n\u001b[1;32m    821\u001b[0m     \u001b[39m# called before we get here, causing self._jobs to\u001b[39;00m\n\u001b[1;32m    822\u001b[0m     \u001b[39m# grow. To ensure correct results ordering, .insert is\u001b[39;00m\n\u001b[1;32m    823\u001b[0m     \u001b[39m# used (rather than .append) in the following line\u001b[39;00m\n\u001b[1;32m    824\u001b[0m     \u001b[39mself\u001b[39m\u001b[39m.\u001b[39m_jobs\u001b[39m.\u001b[39minsert(job_idx, job)\n",
      "File \u001b[0;32m~/opt/anaconda3/envs/HoNLP/lib/python3.10/site-packages/joblib/_parallel_backends.py:208\u001b[0m, in \u001b[0;36mSequentialBackend.apply_async\u001b[0;34m(self, func, callback)\u001b[0m\n\u001b[1;32m    206\u001b[0m \u001b[39mdef\u001b[39;00m \u001b[39mapply_async\u001b[39m(\u001b[39mself\u001b[39m, func, callback\u001b[39m=\u001b[39m\u001b[39mNone\u001b[39;00m):\n\u001b[1;32m    207\u001b[0m \u001b[39m    \u001b[39m\u001b[39m\"\"\"Schedule a func to be run\"\"\"\u001b[39;00m\n\u001b[0;32m--> 208\u001b[0m     result \u001b[39m=\u001b[39m ImmediateResult(func)\n\u001b[1;32m    209\u001b[0m     \u001b[39mif\u001b[39;00m callback:\n\u001b[1;32m    210\u001b[0m         callback(result)\n",
      "File \u001b[0;32m~/opt/anaconda3/envs/HoNLP/lib/python3.10/site-packages/joblib/_parallel_backends.py:597\u001b[0m, in \u001b[0;36mImmediateResult.__init__\u001b[0;34m(self, batch)\u001b[0m\n\u001b[1;32m    594\u001b[0m \u001b[39mdef\u001b[39;00m \u001b[39m__init__\u001b[39m(\u001b[39mself\u001b[39m, batch):\n\u001b[1;32m    595\u001b[0m     \u001b[39m# Don't delay the application, to avoid keeping the input\u001b[39;00m\n\u001b[1;32m    596\u001b[0m     \u001b[39m# arguments in memory\u001b[39;00m\n\u001b[0;32m--> 597\u001b[0m     \u001b[39mself\u001b[39m\u001b[39m.\u001b[39mresults \u001b[39m=\u001b[39m batch()\n",
      "File \u001b[0;32m~/opt/anaconda3/envs/HoNLP/lib/python3.10/site-packages/joblib/parallel.py:288\u001b[0m, in \u001b[0;36mBatchedCalls.__call__\u001b[0;34m(self)\u001b[0m\n\u001b[1;32m    284\u001b[0m \u001b[39mdef\u001b[39;00m \u001b[39m__call__\u001b[39m(\u001b[39mself\u001b[39m):\n\u001b[1;32m    285\u001b[0m     \u001b[39m# Set the default nested backend to self._backend but do not set the\u001b[39;00m\n\u001b[1;32m    286\u001b[0m     \u001b[39m# change the default number of processes to -1\u001b[39;00m\n\u001b[1;32m    287\u001b[0m     \u001b[39mwith\u001b[39;00m parallel_backend(\u001b[39mself\u001b[39m\u001b[39m.\u001b[39m_backend, n_jobs\u001b[39m=\u001b[39m\u001b[39mself\u001b[39m\u001b[39m.\u001b[39m_n_jobs):\n\u001b[0;32m--> 288\u001b[0m         \u001b[39mreturn\u001b[39;00m [func(\u001b[39m*\u001b[39margs, \u001b[39m*\u001b[39m\u001b[39m*\u001b[39mkwargs)\n\u001b[1;32m    289\u001b[0m                 \u001b[39mfor\u001b[39;00m func, args, kwargs \u001b[39min\u001b[39;00m \u001b[39mself\u001b[39m\u001b[39m.\u001b[39mitems]\n",
      "File \u001b[0;32m~/opt/anaconda3/envs/HoNLP/lib/python3.10/site-packages/joblib/parallel.py:288\u001b[0m, in \u001b[0;36m<listcomp>\u001b[0;34m(.0)\u001b[0m\n\u001b[1;32m    284\u001b[0m \u001b[39mdef\u001b[39;00m \u001b[39m__call__\u001b[39m(\u001b[39mself\u001b[39m):\n\u001b[1;32m    285\u001b[0m     \u001b[39m# Set the default nested backend to self._backend but do not set the\u001b[39;00m\n\u001b[1;32m    286\u001b[0m     \u001b[39m# change the default number of processes to -1\u001b[39;00m\n\u001b[1;32m    287\u001b[0m     \u001b[39mwith\u001b[39;00m parallel_backend(\u001b[39mself\u001b[39m\u001b[39m.\u001b[39m_backend, n_jobs\u001b[39m=\u001b[39m\u001b[39mself\u001b[39m\u001b[39m.\u001b[39m_n_jobs):\n\u001b[0;32m--> 288\u001b[0m         \u001b[39mreturn\u001b[39;00m [func(\u001b[39m*\u001b[39;49margs, \u001b[39m*\u001b[39;49m\u001b[39m*\u001b[39;49mkwargs)\n\u001b[1;32m    289\u001b[0m                 \u001b[39mfor\u001b[39;00m func, args, kwargs \u001b[39min\u001b[39;00m \u001b[39mself\u001b[39m\u001b[39m.\u001b[39mitems]\n",
      "File \u001b[0;32m~/opt/anaconda3/envs/HoNLP/lib/python3.10/site-packages/sklearn/utils/fixes.py:117\u001b[0m, in \u001b[0;36m_FuncWrapper.__call__\u001b[0;34m(self, *args, **kwargs)\u001b[0m\n\u001b[1;32m    115\u001b[0m \u001b[39mdef\u001b[39;00m \u001b[39m__call__\u001b[39m(\u001b[39mself\u001b[39m, \u001b[39m*\u001b[39margs, \u001b[39m*\u001b[39m\u001b[39m*\u001b[39mkwargs):\n\u001b[1;32m    116\u001b[0m     \u001b[39mwith\u001b[39;00m config_context(\u001b[39m*\u001b[39m\u001b[39m*\u001b[39m\u001b[39mself\u001b[39m\u001b[39m.\u001b[39mconfig):\n\u001b[0;32m--> 117\u001b[0m         \u001b[39mreturn\u001b[39;00m \u001b[39mself\u001b[39;49m\u001b[39m.\u001b[39;49mfunction(\u001b[39m*\u001b[39;49margs, \u001b[39m*\u001b[39;49m\u001b[39m*\u001b[39;49mkwargs)\n",
      "File \u001b[0;32m~/opt/anaconda3/envs/HoNLP/lib/python3.10/site-packages/sklearn/model_selection/_validation.py:684\u001b[0m, in \u001b[0;36m_fit_and_score\u001b[0;34m(estimator, X, y, scorer, train, test, verbose, parameters, fit_params, return_train_score, return_parameters, return_n_test_samples, return_times, return_estimator, split_progress, candidate_progress, error_score)\u001b[0m\n\u001b[1;32m    682\u001b[0m \u001b[39mtry\u001b[39;00m:\n\u001b[1;32m    683\u001b[0m     \u001b[39mif\u001b[39;00m y_train \u001b[39mis\u001b[39;00m \u001b[39mNone\u001b[39;00m:\n\u001b[0;32m--> 684\u001b[0m         estimator\u001b[39m.\u001b[39;49mfit(X_train, \u001b[39m*\u001b[39;49m\u001b[39m*\u001b[39;49mfit_params)\n\u001b[1;32m    685\u001b[0m     \u001b[39melse\u001b[39;00m:\n\u001b[1;32m    686\u001b[0m         estimator\u001b[39m.\u001b[39mfit(X_train, y_train, \u001b[39m*\u001b[39m\u001b[39m*\u001b[39mfit_params)\n",
      "File \u001b[0;32m~/opt/anaconda3/envs/HoNLP/lib/python3.10/site-packages/sklearn/pipeline.py:406\u001b[0m, in \u001b[0;36mPipeline.fit\u001b[0;34m(self, X, y, **fit_params)\u001b[0m\n\u001b[1;32m    404\u001b[0m     \u001b[39mif\u001b[39;00m \u001b[39mself\u001b[39m\u001b[39m.\u001b[39m_final_estimator \u001b[39m!=\u001b[39m \u001b[39m\"\u001b[39m\u001b[39mpassthrough\u001b[39m\u001b[39m\"\u001b[39m:\n\u001b[1;32m    405\u001b[0m         fit_params_last_step \u001b[39m=\u001b[39m fit_params_steps[\u001b[39mself\u001b[39m\u001b[39m.\u001b[39msteps[\u001b[39m-\u001b[39m\u001b[39m1\u001b[39m][\u001b[39m0\u001b[39m]]\n\u001b[0;32m--> 406\u001b[0m         \u001b[39mself\u001b[39;49m\u001b[39m.\u001b[39;49m_final_estimator\u001b[39m.\u001b[39;49mfit(Xt, y, \u001b[39m*\u001b[39;49m\u001b[39m*\u001b[39;49mfit_params_last_step)\n\u001b[1;32m    408\u001b[0m \u001b[39mreturn\u001b[39;00m \u001b[39mself\u001b[39m\n",
      "File \u001b[0;32m~/opt/anaconda3/envs/HoNLP/lib/python3.10/site-packages/sklearn/feature_extraction/text.py:2091\u001b[0m, in \u001b[0;36mTfidfVectorizer.fit\u001b[0;34m(self, raw_documents, y)\u001b[0m\n\u001b[1;32m   2084\u001b[0m \u001b[39mself\u001b[39m\u001b[39m.\u001b[39m_warn_for_unused_params()\n\u001b[1;32m   2085\u001b[0m \u001b[39mself\u001b[39m\u001b[39m.\u001b[39m_tfidf \u001b[39m=\u001b[39m TfidfTransformer(\n\u001b[1;32m   2086\u001b[0m     norm\u001b[39m=\u001b[39m\u001b[39mself\u001b[39m\u001b[39m.\u001b[39mnorm,\n\u001b[1;32m   2087\u001b[0m     use_idf\u001b[39m=\u001b[39m\u001b[39mself\u001b[39m\u001b[39m.\u001b[39muse_idf,\n\u001b[1;32m   2088\u001b[0m     smooth_idf\u001b[39m=\u001b[39m\u001b[39mself\u001b[39m\u001b[39m.\u001b[39msmooth_idf,\n\u001b[1;32m   2089\u001b[0m     sublinear_tf\u001b[39m=\u001b[39m\u001b[39mself\u001b[39m\u001b[39m.\u001b[39msublinear_tf,\n\u001b[1;32m   2090\u001b[0m )\n\u001b[0;32m-> 2091\u001b[0m X \u001b[39m=\u001b[39m \u001b[39msuper\u001b[39;49m()\u001b[39m.\u001b[39;49mfit_transform(raw_documents)\n\u001b[1;32m   2092\u001b[0m \u001b[39mself\u001b[39m\u001b[39m.\u001b[39m_tfidf\u001b[39m.\u001b[39mfit(X)\n\u001b[1;32m   2093\u001b[0m \u001b[39mreturn\u001b[39;00m \u001b[39mself\u001b[39m\n",
      "File \u001b[0;32m~/opt/anaconda3/envs/HoNLP/lib/python3.10/site-packages/sklearn/feature_extraction/text.py:1377\u001b[0m, in \u001b[0;36mCountVectorizer.fit_transform\u001b[0;34m(self, raw_documents, y)\u001b[0m\n\u001b[1;32m   1369\u001b[0m             warnings\u001b[39m.\u001b[39mwarn(\n\u001b[1;32m   1370\u001b[0m                 \u001b[39m\"\u001b[39m\u001b[39mUpper case characters found in\u001b[39m\u001b[39m\"\u001b[39m\n\u001b[1;32m   1371\u001b[0m                 \u001b[39m\"\u001b[39m\u001b[39m vocabulary while \u001b[39m\u001b[39m'\u001b[39m\u001b[39mlowercase\u001b[39m\u001b[39m'\u001b[39m\u001b[39m\"\u001b[39m\n\u001b[1;32m   1372\u001b[0m                 \u001b[39m\"\u001b[39m\u001b[39m is True. These entries will not\u001b[39m\u001b[39m\"\u001b[39m\n\u001b[1;32m   1373\u001b[0m                 \u001b[39m\"\u001b[39m\u001b[39m be matched with any documents\u001b[39m\u001b[39m\"\u001b[39m\n\u001b[1;32m   1374\u001b[0m             )\n\u001b[1;32m   1375\u001b[0m             \u001b[39mbreak\u001b[39;00m\n\u001b[0;32m-> 1377\u001b[0m vocabulary, X \u001b[39m=\u001b[39m \u001b[39mself\u001b[39;49m\u001b[39m.\u001b[39;49m_count_vocab(raw_documents, \u001b[39mself\u001b[39;49m\u001b[39m.\u001b[39;49mfixed_vocabulary_)\n\u001b[1;32m   1379\u001b[0m \u001b[39mif\u001b[39;00m \u001b[39mself\u001b[39m\u001b[39m.\u001b[39mbinary:\n\u001b[1;32m   1380\u001b[0m     X\u001b[39m.\u001b[39mdata\u001b[39m.\u001b[39mfill(\u001b[39m1\u001b[39m)\n",
      "File \u001b[0;32m~/opt/anaconda3/envs/HoNLP/lib/python3.10/site-packages/sklearn/feature_extraction/text.py:1264\u001b[0m, in \u001b[0;36mCountVectorizer._count_vocab\u001b[0;34m(self, raw_documents, fixed_vocab)\u001b[0m\n\u001b[1;32m   1262\u001b[0m \u001b[39mfor\u001b[39;00m doc \u001b[39min\u001b[39;00m raw_documents:\n\u001b[1;32m   1263\u001b[0m     feature_counter \u001b[39m=\u001b[39m {}\n\u001b[0;32m-> 1264\u001b[0m     \u001b[39mfor\u001b[39;00m feature \u001b[39min\u001b[39;00m analyze(doc):\n\u001b[1;32m   1265\u001b[0m         \u001b[39mtry\u001b[39;00m:\n\u001b[1;32m   1266\u001b[0m             feature_idx \u001b[39m=\u001b[39m vocabulary[feature]\n",
      "File \u001b[0;32m~/opt/anaconda3/envs/HoNLP/lib/python3.10/site-packages/sklearn/feature_extraction/text.py:113\u001b[0m, in \u001b[0;36m_analyze\u001b[0;34m(doc, analyzer, tokenizer, ngrams, preprocessor, decoder, stop_words)\u001b[0m\n\u001b[1;32m    111\u001b[0m     doc \u001b[39m=\u001b[39m preprocessor(doc)\n\u001b[1;32m    112\u001b[0m \u001b[39mif\u001b[39;00m tokenizer \u001b[39mis\u001b[39;00m \u001b[39mnot\u001b[39;00m \u001b[39mNone\u001b[39;00m:\n\u001b[0;32m--> 113\u001b[0m     doc \u001b[39m=\u001b[39m tokenizer(doc)\n\u001b[1;32m    114\u001b[0m \u001b[39mif\u001b[39;00m ngrams \u001b[39mis\u001b[39;00m \u001b[39mnot\u001b[39;00m \u001b[39mNone\u001b[39;00m:\n\u001b[1;32m    115\u001b[0m     \u001b[39mif\u001b[39;00m stop_words \u001b[39mis\u001b[39;00m \u001b[39mnot\u001b[39;00m \u001b[39mNone\u001b[39;00m:\n",
      "\u001b[0;31mKeyboardInterrupt\u001b[0m: "
     ]
    },
    {
     "name": "stdout",
     "output_type": "stream",
     "text": [
      "time: 16min 30s (started: 2023-03-24 01:49:13 +01:00)\n"
     ]
    }
   ],
   "source": [
    "from sklearn.model_selection import GridSearchCV\n",
    "from sklearn.pipeline import Pipeline\n",
    "from sklearn.metrics import make_scorer\n",
    "\n",
    "def score(y_true, y_pred):\n",
    "    # here, y_true and y_pred are not used since we only have one evaluation metric\n",
    "    return training_queries.qid.apply(pAt10).mean()\n",
    "\n",
    "scorer = make_scorer(score)\n",
    "\n",
    "# Define the pipeline\n",
    "pipeline = Pipeline([\n",
    "    ('vect', TfidfVectorizer())\n",
    "])\n",
    "\n",
    "# Define the parameter grid\n",
    "param_grid = {\n",
    "    'vect__stop_words': [None, 'english'],\n",
    "    'vect__sublinear_tf': [True, False]\n",
    "}\n",
    "\n",
    "# Create the grid search object\n",
    "vectorizer = TfidfVectorizer()\n",
    "grid_search = GridSearchCV(pipeline, param_grid, scoring=scorer, cv=5)\n",
    "\n",
    "# Fit the grid search object on the data\n",
    "grid_search.fit(docs.cleaned.tolist())\n",
    "\n",
    "# Print the best parameters and best score\n",
    "print(\"Best Parameters: \", grid_search.best_params_)\n",
    "print(\"Best Score: \", grid_search.best_score_)\n"
   ]
  },
  {
   "cell_type": "code",
   "execution_count": 211,
   "id": "6f249f2d-6449-4951-9514-e7116b861cde",
   "metadata": {},
   "outputs": [
    {
     "ename": "AttributeError",
     "evalue": "'GridSearchCV' object has no attribute 'cv_results_'",
     "output_type": "error",
     "traceback": [
      "\u001b[0;31m---------------------------------------------------------------------------\u001b[0m",
      "\u001b[0;31mAttributeError\u001b[0m                            Traceback (most recent call last)",
      "Cell \u001b[0;32mIn[211], line 2\u001b[0m\n\u001b[1;32m      1\u001b[0m \u001b[39m# # Create a dataframe of the grid search results\u001b[39;00m\n\u001b[0;32m----> 2\u001b[0m results_df \u001b[39m=\u001b[39m pd\u001b[39m.\u001b[39mDataFrame(grid_search\u001b[39m.\u001b[39;49mcv_results_)\n\u001b[1;32m      4\u001b[0m \u001b[39m# Pivot the dataframe to create a heatmap\u001b[39;00m\n\u001b[1;32m      5\u001b[0m pivot_df \u001b[39m=\u001b[39m results_df\u001b[39m.\u001b[39mpivot(index\u001b[39m=\u001b[39m\u001b[39m'\u001b[39m\u001b[39mvect__stop_words\u001b[39m\u001b[39m'\u001b[39m, columns\u001b[39m=\u001b[39m\u001b[39m'\u001b[39m\u001b[39mvect__sublinear_tf\u001b[39m\u001b[39m'\u001b[39m, values\u001b[39m=\u001b[39m\u001b[39m'\u001b[39m\u001b[39maverage_accuracy\u001b[39m\u001b[39m'\u001b[39m)\n",
      "\u001b[0;31mAttributeError\u001b[0m: 'GridSearchCV' object has no attribute 'cv_results_'"
     ]
    },
    {
     "name": "stdout",
     "output_type": "stream",
     "text": [
      "time: 10.8 ms (started: 2023-03-24 02:05:55 +01:00)\n"
     ]
    }
   ],
   "source": [
    "# # Create a dataframe of the grid search results\n",
    "results_df = pd.DataFrame(grid_search.cv_results_)\n",
    "\n",
    "# Pivot the dataframe to create a heatmap\n",
    "pivot_df = results_df.pivot(index='vect__stop_words', columns='vect__sublinear_tf', values='average_accuracy')\n",
    "\n",
    "# Create the heatmap\n",
    "sns.heatmap(pivot_df, annot=True, fmt=\".4g\")"
   ]
  },
  {
   "attachments": {},
   "cell_type": "markdown",
   "id": "1a63044f",
   "metadata": {},
   "source": [
    "### interpret the complete results in 3 to 5 sentences.\n",
    "    - what strategy would do best if we switch our evaluation to p@100?"
   ]
  },
  {
   "attachments": {},
   "cell_type": "markdown",
   "id": "cd6bab40",
   "metadata": {},
   "source": [
    "The grid search results indicate that the best performing strategy for this dataset is to use the TfidfVectorizer with lé norm, English stop words, sublinear term frequency. (as same as attempts before)\n",
    "\n",
    "However, if we switch our evaluation metric to p@100, we may need to consider different hyperparameter settings since the most important factor for p@10, which is the number of relevant documents retrieved in the top 10, may not be as crucial. It may be worth experimenting with larger values of ngram_range and possibly adjusting the hyperparameters above to optimize for p@100."
   ]
  },
  {
   "attachments": {},
   "cell_type": "markdown",
   "id": "ebee1646",
   "metadata": {},
   "source": [
    "### Give some ideas for improving the results"
   ]
  },
  {
   "attachments": {},
   "cell_type": "markdown",
   "id": "84b7d5c7",
   "metadata": {},
   "source": [
    "1. Use a more sophisticated vectorizer, such as a Word2Vec or GloVe embedding.\n",
    "2. Experiment with different preprocessing techniques, such as lemmatization or stemming, to see if they improve the quality of the features.\n",
    "3. Experiment with different hyperparameters for the vectorizer to see if we can find a combination that works better."
   ]
  }
 ],
 "metadata": {
  "kernelspec": {
   "display_name": "HoNLP",
   "language": "python",
   "name": "python3"
  },
  "language_info": {
   "codemirror_mode": {
    "name": "ipython",
    "version": 3
   },
   "file_extension": ".py",
   "mimetype": "text/x-python",
   "name": "python",
   "nbconvert_exporter": "python",
   "pygments_lexer": "ipython3",
   "version": "3.10.8"
  },
  "vscode": {
   "interpreter": {
    "hash": "5aaf2b3507bdd4fc48a866a599b2a884dae59cdb402183f83bea31f7ecb787ec"
   }
  }
 },
 "nbformat": 4,
 "nbformat_minor": 5
}
