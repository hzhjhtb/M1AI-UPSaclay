{
 "cells": [
  {
   "cell_type": "markdown",
   "id": "32e02f0b-7db2-4aa4-897c-55c388331127",
   "metadata": {},
   "source": [
    "# inforet 2022 2"
   ]
  },
  {
   "cell_type": "code",
   "execution_count": null,
   "id": "c2e54178-39dc-4056-b037-9b486a7bdaa2",
   "metadata": {},
   "outputs": [],
   "source": [
    "# no time to lose:\n",
    "!wget https://gerdes.fr/saclay/informationRetrieval/our_msmarco.zip\n",
    "!unzip our_msmarco.zip\n",
    "# this will be big: 1.2gb!\n",
    "# you will get three files"
   ]
  },
  {
   "cell_type": "code",
   "execution_count": null,
   "id": "6fdbacdd-e2f1-487c-843c-8ec3c674b426",
   "metadata": {},
   "outputs": [],
   "source": []
  },
  {
   "cell_type": "markdown",
   "id": "bb23fdcb-8fee-4f3a-b33f-555bbb3f5513",
   "metadata": {},
   "source": []
  },
  {
   "cell_type": "code",
   "execution_count": null,
   "id": "374aee63-9d24-4f05-9a7f-c47c4d60bdb9",
   "metadata": {},
   "outputs": [],
   "source": []
  },
  {
   "cell_type": "code",
   "execution_count": null,
   "id": "cf60877b-7250-493a-93aa-b41d8c3b91e1",
   "metadata": {},
   "outputs": [],
   "source": [
    "# this turns on the autotimer, so that every cell has a timing information below\n",
    "try:\n",
    "    %load_ext autotime\n",
    "except:\n",
    "    !pip install ipython-autotime\n",
    "    %load_ext autotime\n",
    "# stop using:\n",
    "# %unload_ext autotime"
   ]
  },
  {
   "cell_type": "code",
   "execution_count": null,
   "id": "ff253cc3-8b08-490c-b946-3e6ff3104da0",
   "metadata": {},
   "outputs": [],
   "source": [
    "# !pip install dask\n",
    "import re\n",
    "import numpy as np\n",
    "import matplotlib.pyplot as plt\n",
    "import pandas as pd\n",
    "import seaborn as sns\n",
    "from collections import Counter\n",
    "from tqdm.notebook import tqdm\n",
    "from sklearn.feature_extraction.text import CountVectorizer\n",
    "import dask.dataframe as dd"
   ]
  },
  {
   "cell_type": "markdown",
   "id": "c2323687-17ad-497d-ae5f-6f38ad388d4f",
   "metadata": {},
   "source": [
    "## our dataset\n",
    "\n",
    "- \"TREC stands for the Text Retrieval Conference. Started in 1992 it is a series of workshops that focus on supporting research within the information retrieval community. It provides the infrastructure necessary for large-scale evaluation of text retrieval methodologies. Every year these workshops are organized, which are centered around a set of tracks. These tracks encourage new researches in the area of information retrieval.\"\n",
    "- TREC 2019 Deep Learning Track https://microsoft.github.io/msmarco/TREC-Deep-Learning-2019\n",
    "- data from MS-Marco https://microsoft.github.io/msmarco/\n",
    "- The dataset contains  367k queries and a corpus of 3.2 million documents. \n",
    "___\n",
    "- if you want to reproduce my selection or get a bigger set, uncomment and execute\n"
   ]
  },
  {
   "cell_type": "code",
   "execution_count": null,
   "id": "0574215f-73a5-4d1a-96b3-ba4dc8314f12",
   "metadata": {},
   "outputs": [],
   "source": [
    "#!wget https://msmarco.blob.core.windows.net/msmarcoranking/msmarco-docs.tsv.gz\n",
    "#!wget https://msmarco.blob.core.windows.net/msmarcoranking/msmarco-doctrain-queries.tsv.gz\n",
    "#!wget https://msmarco.blob.core.windows.net/msmarcoranking/msmarco-doctrain-top100.gz\n",
    "\t\n",
    "#!gzip -d msmarco-docs.tsv.gz\n",
    "#!gzip -d msmarco-doctrain-queries.tsv.gz\n",
    "#!gzip -d msmarco-doctrain-top100.gz\n"
   ]
  },
  {
   "cell_type": "code",
   "execution_count": null,
   "id": "58b288fe-2788-4f9f-983e-07816431ea12",
   "metadata": {},
   "outputs": [],
   "source": []
  },
  {
   "cell_type": "markdown",
   "id": "961fd674-6b24-43da-9d92-19e589506666",
   "metadata": {},
   "source": [
    "- we have three datasets:\n",
    "    \n",
    "    1. the queries: msmarco-doctrain-queries.tsv\n",
    "    2. the gold: msmarco-doctrain-top100.tsv is a table containing query_id, doc_id and rank\n",
    "    3. the actual documents: msmarco-docs.tsv 21GB of text! doc_id, url, title, text"
   ]
  },
  {
   "cell_type": "code",
   "execution_count": null,
   "id": "98275be5-2f98-486d-80ae-0d775f1dcbd6",
   "metadata": {},
   "outputs": [],
   "source": [
    "all_queries=pd.read_table('msmarco-doctrain-queries.tsv',header=None)\n",
    "all_queries.columns=['qid','query']\n",
    "print('Shape=>',all_queries.shape)\n",
    "all_queries.head()"
   ]
  },
  {
   "cell_type": "markdown",
   "id": "38bbe076-dd9d-4d97-bfba-31269a20ab86",
   "metadata": {},
   "source": [
    "#### reducing the dataset\n",
    "- here we take 1000 queries. \n",
    "- if this is too big for your computer, use this code to build smaller version, starting with the already reduced 1000 query set that we've downloaded before\n"
   ]
  },
  {
   "cell_type": "code",
   "execution_count": null,
   "id": "710fa4f5-ca4e-4fae-b295-b35e08e6e942",
   "metadata": {},
   "outputs": [],
   "source": [
    "our_queries=all_queries.sample(n=1000,random_state=42).reset_index(drop=True)\n",
    "print('Shape=>',our_queries.shape)\n",
    "our_queries.head()"
   ]
  },
  {
   "cell_type": "code",
   "execution_count": null,
   "id": "6e734ee2-9ce4-4c7d-9062-2f1a71d62e91",
   "metadata": {},
   "outputs": [],
   "source": [
    "our_queries.to_csv('our.msmarco.queries.tsv',sep='\\t')"
   ]
  },
  {
   "cell_type": "markdown",
   "id": "f4f44a4f-81d3-4994-8806-07c656e814af",
   "metadata": {},
   "source": [
    "#### the gold file\n",
    "- 36m lines!"
   ]
  },
  {
   "cell_type": "code",
   "execution_count": null,
   "id": "f97d1b2a-4fe3-4209-b75a-47f904dd9515",
   "metadata": {},
   "outputs": [],
   "source": [
    "gold_top100=pd.read_table('msmarco-doctrain-top100',delimiter=' ',header=None)\n",
    "gold_top100.columns=['qid','Q0','docid','rank','score','runstring']\n",
    "print('Shape=>',gold_top100.shape)\n",
    "display(gold_top100.head())\n",
    "# Reducing train_top100 for training\n",
    "our_gold_top100=train_top100[gold_top100['qid'].isin(our_queries['qid'].unique())].reset_index(drop=True)\n",
    "print('Shape=>',our_gold_top100.shape)\n",
    "our_gold_top100.head()"
   ]
  },
  {
   "cell_type": "code",
   "execution_count": null,
   "id": "ab90450d-6564-4e49-a2ae-397f618a90fb",
   "metadata": {},
   "outputs": [],
   "source": [
    "our_gold_top100.to_csv('our.msmarco.gold.tsv',sep='\\t')"
   ]
  },
  {
   "cell_type": "markdown",
   "id": "576936ea-3f1d-4ac7-9249-a9b4960d8691",
   "metadata": {},
   "source": [
    "#### the data file\n",
    "\n",
    "- it's so big that it's smarter to use dask: https://docs.dask.org/en/stable/"
   ]
  },
  {
   "cell_type": "code",
   "execution_count": null,
   "id": "e3ad34c4-45f8-47cc-bcbd-37f10ab3405d",
   "metadata": {},
   "outputs": [],
   "source": [
    "df=dd.read_table('msmarco-docs.tsv',blocksize=100e6,header=None) #  partitions of 100MB\n",
    "df.columns=['docid','url','title','body']\n",
    "df.head()"
   ]
  },
  {
   "cell_type": "code",
   "execution_count": null,
   "id": "7982a03f-f966-4883-9a6f-0980a390a1db",
   "metadata": {},
   "outputs": [],
   "source": [
    "# can't get the number of rows quickly :s\n",
    "# very slow:\n",
    "# len(df.index)\n",
    "\n",
    "# faster:\n",
    "!wc -l msmarco-docs.tsv"
   ]
  },
  {
   "cell_type": "markdown",
   "id": "096ad493-1139-48c2-baeb-a29905d0bdd4",
   "metadata": {},
   "source": [
    "- big dataset with 3m rows!\n",
    "- we want the top 100 for our queries\n",
    "- this takes some time!"
   ]
  },
  {
   "cell_type": "code",
   "execution_count": null,
   "id": "4a4912c9-64e4-4c90-8dba-1fc3cfef013b",
   "metadata": {},
   "outputs": [],
   "source": [
    "def create_corpus(result):\n",
    "  unique_docid=result['docid'].unique()\n",
    "  condition=df['docid'].isin(unique_docid)\n",
    "  corpus=df[condition].reset_index(drop=True)\n",
    "  corpus=corpus.drop(columns='url')\n",
    "  print('Number of Rows=>',len(corpus))\n",
    "  return corpus\n",
    "\n",
    "our_docs=create_corpus(our_gold_top100)\n",
    "our_docs.head()"
   ]
  },
  {
   "cell_type": "code",
   "execution_count": null,
   "id": "b5d415e7-a773-46a7-83d5-9df501ed3d45",
   "metadata": {},
   "outputs": [],
   "source": [
    "our_docs.to_csv('our.msmarco.docs.tsv',sep='\\t', single_file=True)"
   ]
  },
  {
   "cell_type": "markdown",
   "id": "6ea2310d-0bbb-42c4-8189-c8606c00fc30",
   "metadata": {},
   "source": [
    "- this is still a big file: 92k documents"
   ]
  },
  {
   "cell_type": "markdown",
   "id": "5bc01012-818c-46ae-bc27-d789ce2e0063",
   "metadata": {},
   "source": [
    "# reading in our smaller files\n",
    "here we use the\n",
    "\n",
    "- !wget https://gerdes.fr/saclay/informationRetrieval/our_msmarco.zip\n",
    "- !unzip our_msmarco.zip"
   ]
  },
  {
   "cell_type": "code",
   "execution_count": null,
   "id": "b3532319-bc8b-47ce-bf91-10f26cd0fe37",
   "metadata": {},
   "outputs": [],
   "source": [
    "queries = pd.read_csv('our.msmarco.queries.tsv',sep='\\t',usecols=[1,2])\n",
    "queries"
   ]
  },
  {
   "cell_type": "code",
   "execution_count": null,
   "id": "ada037f1-1bd5-4a67-a2e9-b38adada382d",
   "metadata": {},
   "outputs": [],
   "source": [
    "gold = pd.read_csv('our.msmarco.gold.tsv',sep='\\t',usecols=[1,3,4,5])\n",
    "gold"
   ]
  },
  {
   "cell_type": "code",
   "execution_count": null,
   "id": "de5a006e-fb54-4539-9131-d3fe083a2739",
   "metadata": {},
   "outputs": [],
   "source": [
    "docs = pd.read_csv('our.msmarco.docs.tsv',sep='\\t',usecols=[1,2,3])\n",
    "docs"
   ]
  },
  {
   "cell_type": "code",
   "execution_count": null,
   "id": "772a1caf-1c38-4fd8-b819-bbe5f5d287a2",
   "metadata": {},
   "outputs": [],
   "source": [
    "# Creating Training Set of Queries\n",
    "training_queries=queries.iloc[:500]\n",
    "print('Shape=>',training_queries.shape)\n",
    "display(training_queries.head())\n",
    "# Creating Testing Set of Queries\n",
    "testing_queries=queries.iloc[500:]\n",
    "print('Shape=>',testing_queries.shape)\n",
    "testing_queries.head()"
   ]
  },
  {
   "cell_type": "markdown",
   "id": "35de36db-e7e1-4eb4-9589-033a9cfd6d9c",
   "metadata": {},
   "source": [
    "## exploring the data"
   ]
  },
  {
   "cell_type": "markdown",
   "id": "13879e33-fe7e-4a72-9beb-26c6a47e28fc",
   "metadata": {},
   "source": [
    "### 🚧 todo: check whether there are NaN and take care of them"
   ]
  },
  {
   "cell_type": "code",
   "execution_count": null,
   "id": "7db2e10b-572a-4bc8-bc49-1c85d5130ffa",
   "metadata": {},
   "outputs": [],
   "source": [
    "... isna"
   ]
  },
  {
   "cell_type": "code",
   "execution_count": null,
   "id": "a5ef8426-b88b-44fc-b4bf-a43931215ee4",
   "metadata": {},
   "outputs": [],
   "source": [
    "... fillna"
   ]
  },
  {
   "cell_type": "code",
   "execution_count": null,
   "id": "00637025-5daa-4e76-b798-e547a58590e2",
   "metadata": {},
   "outputs": [],
   "source": []
  },
  {
   "cell_type": "code",
   "execution_count": null,
   "id": "a2119d7e-9825-446f-973d-bfa0d95a643f",
   "metadata": {},
   "outputs": [],
   "source": []
  },
  {
   "cell_type": "markdown",
   "id": "a3ad0b40-55ff-4259-a612-0a5709cca349",
   "metadata": {},
   "source": [
    "### let's have a look at some random query:"
   ]
  },
  {
   "cell_type": "code",
   "execution_count": null,
   "id": "ed9c9a83-c3dd-483c-a190-9bd4ba8119e5",
   "metadata": {},
   "outputs": [],
   "source": [
    "queries.loc[111]"
   ]
  },
  {
   "cell_type": "code",
   "execution_count": null,
   "id": "2fb82a23-84e5-4ba1-9f2e-38c6f8b4bae6",
   "metadata": {},
   "outputs": [],
   "source": [
    "gold[gold.qid==251898]"
   ]
  },
  {
   "cell_type": "markdown",
   "id": "eef3095e-4e50-4b76-8a01-7a0009e2b157",
   "metadata": {},
   "source": [
    "### 🚧 todo: let's look at the top-ranked document for that query\n",
    "- title\n",
    "- body"
   ]
  },
  {
   "cell_type": "code",
   "execution_count": null,
   "id": "ce01135d-c574-41a9-9127-368c8388a5e8",
   "metadata": {},
   "outputs": [],
   "source": [
    "# todo: .values[0] can help"
   ]
  },
  {
   "cell_type": "code",
   "execution_count": null,
   "id": "05475c8d-0f60-4101-920a-22a4b9c78ddd",
   "metadata": {},
   "outputs": [],
   "source": []
  },
  {
   "cell_type": "markdown",
   "id": "402273c0-e851-43c4-a212-819d0a9b8b4c",
   "metadata": {},
   "source": [
    "### 🚧 todo: let's look at the second document\n",
    "- let's make a functioin to make that easier"
   ]
  },
  {
   "cell_type": "code",
   "execution_count": null,
   "id": "ea7f2274-946f-4c18-b2ba-867283278e14",
   "metadata": {},
   "outputs": [],
   "source": [
    "def titleAndBody(qid,nr):\n",
    "    display(...)\n",
    "    display(...)\n",
    "titleAndBody(251898,1)"
   ]
  },
  {
   "cell_type": "markdown",
   "id": "ff47ffef-d779-403b-8a7f-75cf0d0cee54",
   "metadata": {},
   "source": [
    "#### let's look at the 100th document"
   ]
  },
  {
   "cell_type": "code",
   "execution_count": null,
   "id": "361e71c5-7b0b-4dbe-b8b5-4b8ade9a33cf",
   "metadata": {},
   "outputs": [],
   "source": [
    "titleAndBody(251898,99)"
   ]
  },
  {
   "cell_type": "markdown",
   "id": "a6f133cb-33fc-4a44-b00a-dd5840bdcaeb",
   "metadata": {},
   "source": [
    "### 🚧 todo: try this with a different queries to get a feel of the quality of the gold"
   ]
  },
  {
   "cell_type": "markdown",
   "id": "02e6d82b-f8f1-4f6c-bc85-5c6a886ae303",
   "metadata": {},
   "source": [
    "# doing our first baseline retrieval function\n",
    "\n",
    "- todo: \n",
    "    - build and fit a binary CountVectorizer on the **titles**\n",
    "    - play with and understand build_analyzer, build_tokenizer, and transform\n",
    "    - transform our query 111\n",
    "        - understand what happens with yet unseen words in the transform process\n",
    "    - find the docs with the most words in common\n",
    "    - write an evaluation function computing the top 10 precision p@10\n",
    "    - apply to our 500 queries\n"
   ]
  },
  {
   "cell_type": "code",
   "execution_count": null,
   "id": "b2a9419e-a830-4cd4-a43a-173328fa9d48",
   "metadata": {},
   "outputs": [],
   "source": [
    "vectorizer = CountVectorizer(binary=True)\n",
    "# understand the options: \n",
    "# https://scikit-learn.org/stable/modules/generated/sklearn.feature_extraction.text.CountVectorizer.html\n",
    "X = ...\n",
    "print('we got',len(vectorizer.get_feature_names()),'features, for example',vectorizer.get_feature_names()[33333:33339])"
   ]
  },
  {
   "cell_type": "code",
   "execution_count": null,
   "id": "1753a230-993a-4545-b21f-aa05e56723e8",
   "metadata": {},
   "outputs": [],
   "source": [
    "queries.loc[111].query"
   ]
  },
  {
   "cell_type": "code",
   "execution_count": null,
   "id": "9b1dacd6-49c2-44e7-8271-62bc68cd6ecf",
   "metadata": {},
   "outputs": [],
   "source": [
    "vectorizer.build_analyzer()(...)"
   ]
  },
  {
   "cell_type": "code",
   "execution_count": null,
   "id": "a543574d-626e-4d60-9465-a89eca40896d",
   "metadata": {},
   "outputs": [],
   "source": [
    "vectorizer.build_tokenizer()(...)"
   ]
  },
  {
   "cell_type": "code",
   "execution_count": null,
   "id": "b2c79230-8787-4357-bd11-952451725a15",
   "metadata": {},
   "outputs": [],
   "source": [
    "qv = vectorizer.transform([...])\n",
    "qv"
   ]
  },
  {
   "cell_type": "markdown",
   "id": "e30116df-0d90-4ca7-9111-e9a56e368f9b",
   "metadata": {},
   "source": [
    "### 🚧 todo:\n",
    "- understand what happens with yet unseen words in the transform process\n",
    "\n",
    "\n",
    "- think of the shape of X, what are the rows, what are the columns?\n",
    "- how to select the titles that have the words of our query?\n",
    "       - think of matrix multiplication and transposition"
   ]
  },
  {
   "cell_type": "code",
   "execution_count": null,
   "id": "a4980c9b-340d-452f-9291-7c98fdbb29e7",
   "metadata": {},
   "outputs": [],
   "source": [
    "xqv = ...\n",
    "xqv"
   ]
  },
  {
   "cell_type": "markdown",
   "id": "6fb69ccc-a0c1-4e22-a9c0-16acba58aa5c",
   "metadata": {},
   "source": [
    "### 🚧 todo: \n",
    "  - look at argmax and max, \n",
    "  - check the numpy \n",
    "      - flatnonzero function to find the best match\n",
    "      - the .A and the .flat functions\n",
    "  - show the best matching doc"
   ]
  },
  {
   "cell_type": "code",
   "execution_count": null,
   "id": "17b73f58-dfe9-47d4-ae07-fba2031a2979",
   "metadata": {},
   "outputs": [],
   "source": []
  },
  {
   "cell_type": "code",
   "execution_count": null,
   "id": "59cab7c4-ed23-42c7-8170-ad5bda8bc06f",
   "metadata": {},
   "outputs": [],
   "source": []
  },
  {
   "cell_type": "code",
   "execution_count": null,
   "id": "0387c619-d4b7-45f0-9ba4-a876131b6dc5",
   "metadata": {},
   "outputs": [],
   "source": []
  },
  {
   "cell_type": "code",
   "execution_count": null,
   "id": "89e898df-ae46-4a5f-8bb1-83ef7fc21a4a",
   "metadata": {},
   "outputs": [],
   "source": []
  },
  {
   "cell_type": "code",
   "execution_count": null,
   "id": "26263922-fb98-421c-bcfd-66824fbfc510",
   "metadata": {},
   "outputs": [],
   "source": [
    "... .loc[ ... ]"
   ]
  },
  {
   "cell_type": "markdown",
   "id": "36f56fd4-49e6-4c94-a11e-119556a0b52f",
   "metadata": {},
   "source": [
    "### 🚧 todo: use argpartition to get the 10 best answers"
   ]
  },
  {
   "cell_type": "code",
   "execution_count": null,
   "id": "07b4ee59-7084-43ac-aabd-bd813b45f6aa",
   "metadata": {},
   "outputs": [],
   "source": [
    "pred10i = np.argpartition(...\n",
    "pred10i"
   ]
  },
  {
   "cell_type": "code",
   "execution_count": null,
   "id": "6ef515f4-8e50-490a-912b-df737d740a96",
   "metadata": {},
   "outputs": [],
   "source": [
    "docs.loc[pred10i]"
   ]
  },
  {
   "cell_type": "code",
   "execution_count": null,
   "id": "40f071cb-224f-4c77-9811-31e7be389ca8",
   "metadata": {},
   "outputs": [],
   "source": [
    "docs.loc[pred10i].docid"
   ]
  },
  {
   "cell_type": "code",
   "execution_count": null,
   "id": "626f69aa-157f-44f9-bca0-9c03b3855a66",
   "metadata": {},
   "outputs": [],
   "source": [
    "gold[gold.qid==251898].docid"
   ]
  },
  {
   "cell_type": "markdown",
   "id": "39524ba6-1176-49b1-9e40-afd1a2b5e1bd",
   "metadata": {},
   "source": [
    "### 🚧 todo:\n",
    "- find the relevant documents that are in our top 10\n",
    "- user intersect1d\n",
    "- compute the precision p@10"
   ]
  },
  {
   "cell_type": "code",
   "execution_count": null,
   "id": "667c20bf-9a1f-4159-af18-83bb2a81d965",
   "metadata": {},
   "outputs": [],
   "source": [
    "intersection = np.intersect1d(...)\n",
    "intersection"
   ]
  },
  {
   "cell_type": "code",
   "execution_count": null,
   "id": "01a97d89-f2de-40da-b806-55a3da2edbc3",
   "metadata": {},
   "outputs": [],
   "source": []
  },
  {
   "cell_type": "code",
   "execution_count": null,
   "id": "12a703c3-4de5-454d-8969-7b20ecbffe15",
   "metadata": {},
   "outputs": [],
   "source": [
    "precision = ...\n",
    "precision"
   ]
  },
  {
   "cell_type": "code",
   "execution_count": null,
   "id": "b9fb0873-3a0d-4025-8992-88a190f69668",
   "metadata": {},
   "outputs": [],
   "source": [
    "# 🚧 todo: build a function p@10 that gives the precision at 10\n",
    "def pAt10(qid):\n",
    "    ...\n",
    "    ...\n",
    "    return ...\n",
    "\n",
    "pAt10(251898)\n"
   ]
  },
  {
   "cell_type": "markdown",
   "id": "23227936-0403-49ec-8231-c273a628809c",
   "metadata": {},
   "source": [
    "### 🚧 todo:\n",
    "- take our 500 training queries qid\n",
    "- apply our function\n",
    "- compute the average"
   ]
  },
  {
   "cell_type": "code",
   "execution_count": null,
   "id": "93540efe-a6aa-4e1b-9f18-cb1635c78480",
   "metadata": {},
   "outputs": [],
   "source": [
    "training_queries.qid"
   ]
  },
  {
   "cell_type": "code",
   "execution_count": null,
   "id": "154d615f-6e62-43d6-aba9-88ec14d77b8f",
   "metadata": {},
   "outputs": [],
   "source": [
    "training_queries.qid...."
   ]
  },
  {
   "cell_type": "code",
   "execution_count": null,
   "id": "0a29b6aa-a19b-4700-8fef-eb5d2e82ac28",
   "metadata": {},
   "outputs": [],
   "source": [
    "training_queries.qid... .mean()"
   ]
  },
  {
   "cell_type": "markdown",
   "id": "f3a482be-d400-4c9b-a122-3f9c62c2f365",
   "metadata": {},
   "source": [
    "- that looks like a baseline we can beat :)\n",
    "- what's the query we are doing best in?\n",
    "    - max?"
   ]
  },
  {
   "cell_type": "code",
   "execution_count": null,
   "id": "25e9a7d0-c44b-4b9f-b9ec-52d6422b269b",
   "metadata": {},
   "outputs": [],
   "source": [
    "....max()"
   ]
  },
  {
   "cell_type": "markdown",
   "id": "baaca9c0-a7e1-46b5-9dc2-91eab2bf3b3d",
   "metadata": {},
   "source": [
    "- oh, we have just been lucky before..."
   ]
  },
  {
   "cell_type": "markdown",
   "id": "72e2f986-f3f9-4b90-b8a8-31b1250531b7",
   "metadata": {},
   "source": [
    "## 🚧 todo:\n",
    "\n",
    "- redo the vectorization and evaluation on the whole text, not only the titles\n",
    "- try the non-binary CountVectorizer\n",
    "- go for tf-idf\n",
    "    - play with at least two options and re-evaluate\n",
    "- find other improvements. these may include:\n",
    "    - cleaning the text\n",
    "    - heuristically combining title and body matches\n",
    "    - looking at bigrams\n",
    "    - looking at terms (by means of a clean multi-word term list from wikipedia, see notebook 1)\n",
    "    - by removing stopwords (look at nltk or spacy to do that)\n",
    "    - trying an implementation of bm25\n",
    "  \n",
    "- do a grid search with a few promising parameters\n",
    "    - maybe get inspired by GridSearchCV and pipelines in https://scikit-learn.org/stable/auto_examples/model_selection/grid_search_text_feature_extraction.html#sphx-glr-auto-examples-model-selection-grid-search-text-feature-extraction-py\n",
    "        - you can also check the weel-written section \"Pipelines\" in this book: https://www.oreilly.com/library/view/applied-text-analysis/9781491963036/ch04.html\n",
    "    - make a nice visualization of the results\n",
    "    \n",
    "- interpret the complete results in 3 to 5 sentences.\n",
    "    - what strategy would do best if we switch our evaluation to p@100?\n",
    "\n",
    "- give some ideas for improving the results\n",
    "\n",
    "\n",
    "\n"
   ]
  },
  {
   "cell_type": "code",
   "execution_count": null,
   "id": "39502d86-c7a8-4468-95b5-c0fe2e6c8db6",
   "metadata": {},
   "outputs": [],
   "source": [
    "# Function for leaning text\n",
    "# remove words with numbers inside\n",
    "# replace new lines by space\n",
    "# remove urls\n",
    "# only keep ascii words\n",
    "def clean_text(text):\n",
    "    text=re.sub('\\w*\\d+\\w*','', text)\n",
    "    text=...\n",
    "    ...\n",
    "    return text\n",
    " \n",
    "# Cleaning corpus using RegEx\n",
    "docs['cleaned']=docs['body'].apply(lambda x: clean_text(x))\n"
   ]
  },
  {
   "cell_type": "code",
   "execution_count": null,
   "id": "7cb42c1e-827f-48fe-8aa2-4d285625bbea",
   "metadata": {},
   "outputs": [],
   "source": []
  },
  {
   "cell_type": "code",
   "execution_count": null,
   "id": "369e905c-36cd-45c2-817b-4d9c24724be3",
   "metadata": {},
   "outputs": [],
   "source": []
  },
  {
   "cell_type": "code",
   "execution_count": null,
   "id": "4cc0ab9b-ff88-41e9-96c6-c21969303775",
   "metadata": {},
   "outputs": [],
   "source": []
  },
  {
   "cell_type": "code",
   "execution_count": null,
   "id": "6f249f2d-6449-4951-9514-e7116b861cde",
   "metadata": {},
   "outputs": [],
   "source": []
  },
  {
   "cell_type": "code",
   "execution_count": null,
   "id": "37a47821-5f24-4e14-829d-cc7a0f448866",
   "metadata": {},
   "outputs": [],
   "source": []
  }
 ],
 "metadata": {
  "kernelspec": {
   "display_name": "Python 3 (ipykernel)",
   "language": "python",
   "name": "python3"
  },
  "language_info": {
   "codemirror_mode": {
    "name": "ipython",
    "version": 3
   },
   "file_extension": ".py",
   "mimetype": "text/x-python",
   "name": "python",
   "nbconvert_exporter": "python",
   "pygments_lexer": "ipython3",
   "version": "3.9.7"
  }
 },
 "nbformat": 4,
 "nbformat_minor": 5
}
