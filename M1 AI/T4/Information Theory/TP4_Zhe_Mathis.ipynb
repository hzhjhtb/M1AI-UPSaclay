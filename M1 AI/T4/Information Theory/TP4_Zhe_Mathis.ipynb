{
 "cells": [
  {
   "attachments": {},
   "cell_type": "markdown",
   "metadata": {},
   "source": [
    "# Students:\n",
    "<font color=orange>  \n",
    "\n",
    "- Zhe HUANG 22208901 AI\n",
    "- Mathis REYMOND 22208305 AI\n",
    "<font>"
   ]
  },
  {
   "cell_type": "markdown",
   "metadata": {
    "id": "WjmQCiQR2VKz"
   },
   "source": [
    "# Text compression\n",
    "\n",
    "#### Francesco Saverio Pezzicoli, Guillaume Charpiat \n",
    "\n",
    "#### Credits: Vincenzo Schimmenti"
   ]
  },
  {
   "cell_type": "markdown",
   "metadata": {
    "id": "LXw8t2S32VK1"
   },
   "source": [
    "## Warm up"
   ]
  },
  {
   "cell_type": "code",
   "execution_count": 1,
   "metadata": {
    "id": "dOTraAFf2VK2"
   },
   "outputs": [],
   "source": [
    "import numpy as np\n",
    "import matplotlib.pyplot as plt"
   ]
  },
  {
   "cell_type": "code",
   "execution_count": 2,
   "metadata": {
    "id": "UF0op82w2VK2"
   },
   "outputs": [],
   "source": [
    "text = ascii(('All human beings are born free and equal in dignity and rights. They are endowed with reason and conscience and should act towards one another in a spirit of brotherhood. Everyone is entitled to all the rights and freedoms set forth in this Declaration, without distinction of any kind, such as race, colour, sex, language, religion, political or other opinion, national or social origin, property, birth or other status. Furthermore, no distinction shall be made on the basis of the political, jurisdictional or international status of the country or territory to which a person belongs, whether it be independent, trust, non-self-governing or under any other limitation of sovereignty. Everyone has the right to life, liberty and security of person. No one shall be held in slavery or servitude; slavery and the slave trade shall be prohibited in all their forms. No one shall be subjected to torture or to cruel, inhuman or degrading treatment or punishment. Everyone has the right to recognition everywhere as a person before the law. All are equal before the law and are entitled without any discrimination to equal protection of the law. All are entitled to equal protection against any discrimination in violation of this Declaration and against any incitement to such discrimination. Everyone has the right to an effective remedy by the competent national tribunals for acts violating the fundamental rights granted him by the constitution or by law. No one shall be subjected to arbitrary arrest, detention or exile. Everyone is entitled in full equality to a fair and public hearing by an independent and impartial tribunal, in the determination of his rights and obligations and of any criminal charge against him.').lower()) #we stick to lower case"
   ]
  },
  {
   "cell_type": "markdown",
   "metadata": {
    "id": "Mm7OXLHi2VK3"
   },
   "source": [
    "We take a dictionary based approach, characters will be dictionary keys and their frequency in the text the dictionary value."
   ]
  },
  {
   "cell_type": "markdown",
   "metadata": {
    "id": "EgP8R3Z52VK3"
   },
   "source": [
    "#### <li> Write a function to build character occurrences dictionary: </li>"
   ]
  },
  {
   "cell_type": "code",
   "execution_count": 3,
   "metadata": {
    "id": "bExMP_2i2VK4"
   },
   "outputs": [],
   "source": [
    "def compute_char_freq(text):\n",
    "    \"\"\"\n",
    "    Build a chatacter occurrences dictionary\n",
    "    \"\"\"\n",
    "    char_dict = {}\n",
    "    \n",
    "    for char in text:\n",
    "        if char not in char_dict:\n",
    "            char_dict[char] = 1\n",
    "        else:\n",
    "            char_dict[char] += 1\n",
    "    \n",
    "    return char_dict"
   ]
  },
  {
   "cell_type": "code",
   "execution_count": 4,
   "metadata": {
    "colab": {
     "base_uri": "https://localhost:8080/"
    },
    "id": "0Brk-47r2VK4",
    "outputId": "cf5bbe05-a28d-4e5f-c002-0f93b540569f"
   },
   "outputs": [
    {
     "name": "stdout",
     "output_type": "stream",
     "text": [
      "{\"'\": 2, 'a': 116, 'l': 70, ' ': 278, 'h': 64, 'u': 34, 'm': 21, 'n': 132, 'b': 27, 'e': 157, 'i': 129, 'g': 28, 's': 67, 'r': 108, 'o': 119, 'f': 25, 'd': 52, 'q': 5, 't': 142, 'y': 29, '.': 13, 'w': 12, 'c': 36, 'p': 18, 'v': 15, ',': 19, 'k': 1, 'x': 2, 'j': 3, '-': 2, ';': 1}\n"
     ]
    }
   ],
   "source": [
    "char_dict = compute_char_freq(text)\n",
    "print(char_dict)"
   ]
  },
  {
   "cell_type": "markdown",
   "metadata": {
    "id": "1RdGC-PP2VK4"
   },
   "source": [
    "#### <li> Plot the frequencies: </li>"
   ]
  },
  {
   "cell_type": "code",
   "execution_count": 5,
   "metadata": {
    "colab": {
     "base_uri": "https://localhost:8080/",
     "height": 265
    },
    "id": "a2p2RPqr2VK5",
    "outputId": "9127fea1-6fd4-443b-8149-c02f1cd78220"
   },
   "outputs": [
    {
     "data": {
      "image/png": "[encoded data removed]",
      "text/plain": [
       "<Figure size 640x480 with 1 Axes>"
      ]
     },
     "metadata": {},
     "output_type": "display_data"
    }
   ],
   "source": [
    "plt.bar(char_dict.keys(), char_dict.values())\n",
    "\n",
    "plt.xlabel('char')\n",
    "plt.ylabel('freq')\n",
    "plt.title('frequencies bar plot')\n",
    "\n",
    "plt.show()"
   ]
  },
  {
   "cell_type": "markdown",
   "metadata": {
    "id": "zwiU-UV12VK5"
   },
   "source": [
    "#### <li> Write a function to create a dictionary with probabilities (normalize frequencies): </li>"
   ]
  },
  {
   "cell_type": "code",
   "execution_count": 6,
   "metadata": {
    "id": "3JDdGTfg2VK5"
   },
   "outputs": [],
   "source": [
    "def normalize_char_freq(char_dict):\n",
    "    \"\"\"\n",
    "    Create a dictionary with probabilities (normalize frequencies)\n",
    "    \"\"\"\n",
    "    length = 0\n",
    "    # get the \n",
    "    for freq in char_dict.values():\n",
    "        length += freq\n",
    "\n",
    "    normalized_char_dict = {}\n",
    "    for char, freq in char_dict.items():\n",
    "        normalized_char_dict[char] = freq / length\n",
    "    \n",
    "    return normalized_char_dict"
   ]
  },
  {
   "cell_type": "code",
   "execution_count": 7,
   "metadata": {},
   "outputs": [
    {
     "name": "stdout",
     "output_type": "stream",
     "text": [
      "{\"'\": 0.0011580775911986102, 'a': 0.0671685002895194, 'l': 0.04053271569195136, ' ': 0.16097278517660682, 'h': 0.03705848291835553, 'u': 0.019687319050376375, 'm': 0.012159814707585408, 'n': 0.07643312101910828, 'b': 0.01563404748118124, 'e': 0.09090909090909091, 'i': 0.07469600463231037, 'g': 0.016213086276780544, 's': 0.038795599305153444, 'r': 0.06253618992472496, 'o': 0.06890561667631731, 'f': 0.01447596988998263, 'd': 0.030110017371163866, 'q': 0.0028951939779965257, 't': 0.08222350897510133, 'y': 0.01679212507237985, '.': 0.007527504342790967, 'w': 0.006948465547191662, 'c': 0.020845396641574986, 'p': 0.010422698320787493, 'v': 0.008685581933989578, ',': 0.011001737116386797, 'k': 0.0005790387955993051, 'x': 0.0011580775911986102, 'j': 0.0017371163867979154, '-': 0.0011580775911986102, ';': 0.0005790387955993051}\n"
     ]
    }
   ],
   "source": [
    "normalized_char_dict = normalize_char_freq(char_dict)\n",
    "print(normalized_char_dict)"
   ]
  },
  {
   "cell_type": "markdown",
   "metadata": {
    "id": "BNlN9lbErsyw"
   },
   "source": [
    "#### <li> Plot the normalized frequencies: </li>"
   ]
  },
  {
   "cell_type": "code",
   "execution_count": 8,
   "metadata": {
    "colab": {
     "base_uri": "https://localhost:8080/",
     "height": 265
    },
    "id": "6-ZlW4d6rdyv",
    "outputId": "fc957e9c-7fb2-48dd-86e7-08cded09f59f"
   },
   "outputs": [
    {
     "data": {
      "image/png": "[encoded data removed]",
      "text/plain": [
       "<Figure size 640x480 with 1 Axes>"
      ]
     },
     "metadata": {},
     "output_type": "display_data"
    }
   ],
   "source": [
    "plt.bar(normalized_char_dict.keys(), normalized_char_dict.values())\n",
    "\n",
    "plt.xlabel('char')\n",
    "plt.ylabel('normalized freq')\n",
    "plt.title('normalized frequencies bar plot')\n",
    "\n",
    "plt.show()"
   ]
  },
  {
   "cell_type": "markdown",
   "metadata": {
    "id": "K5_xIGCP2VK5"
   },
   "source": [
    "#### <li> Compute the entropy: </li>"
   ]
  },
  {
   "cell_type": "code",
   "execution_count": 9,
   "metadata": {
    "colab": {
     "base_uri": "https://localhost:8080/"
    },
    "id": "YMUdaFSz2VK6",
    "outputId": "51cb68f3-d862-4036-ced3-a2ea2173af61"
   },
   "outputs": [],
   "source": [
    "# H = - Σ P(x) * np.log2(P(x))\n",
    "def compute_entropy(normalized_char_dict):\n",
    "    \"\"\"\n",
    "    compute the entropy with the normalized frequencies dictionary\n",
    "    \"\"\"\n",
    "    entropy = 0\n",
    "\n",
    "    for normalized_freq in normalized_char_dict.values():\n",
    "        entropy += normalized_freq * np.log2(normalized_freq)\n",
    "    \n",
    "    entropy *= (-1)\n",
    "    \n",
    "    return entropy"
   ]
  },
  {
   "cell_type": "code",
   "execution_count": 10,
   "metadata": {},
   "outputs": [
    {
     "name": "stdout",
     "output_type": "stream",
     "text": [
      "4.145778481710484\n"
     ]
    }
   ],
   "source": [
    "entropy = compute_entropy(normalized_char_dict)\n",
    "print(entropy)"
   ]
  },
  {
   "cell_type": "markdown",
   "metadata": {
    "id": "Jq5YxNGO2VK6"
   },
   "source": [
    "## Compression "
   ]
  },
  {
   "cell_type": "markdown",
   "metadata": {
    "id": "_0MAxLwn2VK6"
   },
   "source": [
    "#### <li> Build the Huffman Tree: </li>\n",
    "\n",
    "\n",
    "Build a function 'huffman_tree' which returns the huffman tree built from a character frequency dictionary. A simple yet powerful approach can be a dictionary. However you can use your preferred method to do so.\n",
    "\n",
    "As an example:\n",
    "\n",
    "A <---> 0\n",
    "\n",
    "B <---> 100\n",
    "\n",
    "C <----> 101\n",
    "\n",
    "D <----> 110\n",
    "\n",
    "E <----> 111\n",
    "\n",
    "With the dictionary approach this would look like:\n",
    "\n",
    "d0 = {0 : 'A', 1 : d1 }\n",
    "\n",
    "where:\n",
    "\n",
    "d1 = {0 : d2, 1 : d3}\n",
    "\n",
    "d2 = {0 : 'B', 1 : 'C'}\n",
    "\n",
    "d3 = {0 : 'D', 1 : 'E'}\n",
    "\n",
    "\n",
    "\n",
    "\n",
    "\n",
    "<img src=\"https://upload.wikimedia.org/wikipedia/commons/d/d8/HuffmanCodeAlg.png\" width=\"20%\"></img>\n"
   ]
  },
  {
   "cell_type": "code",
   "execution_count": 11,
   "metadata": {
    "id": "tnpLvalH2VK6"
   },
   "outputs": [],
   "source": [
    "class Node(object):\n",
    "    # Binary Tree Node:\n",
    "    # symbol is the character;\n",
    "    # weight is the frequency, zero and one are the two children of the node)\n",
    "    def __init__(self, weight, symbol=None, zero=None, one=None):\n",
    "        self.weight = weight\n",
    "        self.symbol = symbol\n",
    "        self.zero   = zero\n",
    "        self.one    = one\n",
    "        \n",
    "def Huffman_tree(char_dict):\n",
    "    def _build(nodes):\n",
    "        # if nodes contains only one node\n",
    "        if len(nodes) == 1:\n",
    "            return nodes[0]\n",
    "        # if nodes contains at least two nodes\n",
    "        else:\n",
    "            # find the smallest node\n",
    "            node_right = nodes[0]\n",
    "            for node in nodes:\n",
    "                if node_right.weight > node.weight:\n",
    "                    node_right = node\n",
    "            nodes.remove(node_right)\n",
    "\n",
    "            # find the second smallest node\n",
    "            node_left = nodes[0]\n",
    "            for node in nodes:\n",
    "                if node_left.weight > node.weight:\n",
    "                    node_left = node\n",
    "            nodes.remove(node_left)\n",
    "\n",
    "            # combine the two smallest node\n",
    "            new_node = Node(weight=node_left.weight+node_right.weight, zero=node_left, one=node_right)\n",
    "            nodes.append(new_node)\n",
    "\n",
    "        return _build(nodes)\n",
    "    \n",
    "    nodes = []\n",
    "    for char, freq in char_dict.items():\n",
    "        nodes.append(Node(weight=freq, symbol=char))\n",
    "\n",
    "    return _build(nodes)"
   ]
  },
  {
   "cell_type": "code",
   "execution_count": 20,
   "metadata": {
    "colab": {
     "base_uri": "https://localhost:8080/"
    },
    "id": "uNpf6H712VK7",
    "outputId": "e2997e99-a55d-499b-b5a5-fd0b59dd0d02"
   },
   "outputs": [
    {
     "name": "stdout",
     "output_type": "stream",
     "text": [
      "True\n"
     ]
    }
   ],
   "source": [
    "htree = Huffman_tree(char_dict)\n",
    "print(htree.weight == len(text))"
   ]
  },
  {
   "cell_type": "markdown",
   "metadata": {
    "id": "RKj_it_O2VK7"
   },
   "source": [
    "### <li> Encode a random sentence: </li>"
   ]
  },
  {
   "cell_type": "code",
   "execution_count": 13,
   "metadata": {
    "colab": {
     "base_uri": "https://localhost:8080/"
    },
    "id": "qmWK2fKH2VK7",
    "outputId": "cc33279b-da15-4048-fe79-a0d6b5438cdf"
   },
   "outputs": [
    {
     "name": "stdout",
     "output_type": "stream",
     "text": [
      "qcvdcwx.ci sm;u srrtlg-ssq-cxjbtce;,omphjgmiq.kjcbm.hy;yhgjgqesoe'.qnmejnq-xvhfk ;pbhrbnbm,a.js,i.'d\n"
     ]
    }
   ],
   "source": [
    "random_sentence = ''.join(list(np.random.choice(a=np.array(list(char_dict.keys())),size=100)))\n",
    "print(random_sentence)"
   ]
  },
  {
   "cell_type": "code",
   "execution_count": 21,
   "metadata": {
    "id": "boQCNX5X2VK7"
   },
   "outputs": [],
   "source": [
    "def huffman_encode(text, huffman_tree):\n",
    "    def construct_code_dict(node, code_word=\"\", code_dict={}):\n",
    "        \"\"\"\n",
    "        recursively traverse a Huffman tree and constructe a dict with the code words\n",
    "        \"\"\"\n",
    "        if node is None:\n",
    "            return\n",
    "\n",
    "        # if node is a leaf_node, add the symbol and its code_word to code_dict\n",
    "        if node.symbol is not None:\n",
    "            code_dict[node.symbol] = code_word\n",
    "\n",
    "        # traverse the left and right branches, appending 0 and 1 to the code_word\n",
    "        construct_code_dict(node.zero, code_word+'0', code_dict)\n",
    "        construct_code_dict(node.one, code_word+'1', code_dict)\n",
    "\n",
    "        return code_dict\n",
    "    \n",
    "    code_message = []\n",
    "    code_dict = construct_code_dict(huffman_tree)\n",
    "    for char in text:\n",
    "        code_message.append(code_dict[char])\n",
    "\n",
    "    return \"\".join(code_message)"
   ]
  },
  {
   "cell_type": "code",
   "execution_count": 22,
   "metadata": {
    "colab": {
     "base_uri": "https://localhost:8080/"
    },
    "id": "O2giIHt62VK7",
    "outputId": "422d29c3-25c7-4e21-c4be-4d81a7520c23"
   },
   "outputs": [
    {
     "name": "stdout",
     "output_type": "stream",
     "text": [
      "010001000101110100011101001011110001110100010100100011010111010100000101101011010001001000100000000010110011001111001001000010100010011001010010101000100001000100111011101000101000100010111000101111011111001000100100101100011010101110110101001010001011100001101011010101000100010001100100010010101000101110111100010101011100011001001100000010001001001000000100110000101000101110000101000100011000101011011001000101011000110010001000001110101111001000101100110100010000100010011010001010001000110100110101001000100101000010001001001011011000100100110011000100011100010101011101100011110001100100010110010110110001011000110010001010110100\n"
     ]
    }
   ],
   "source": [
    "encoded_text = huffman_encode(random_sentence,htree)\n",
    "print(encoded_text)"
   ]
  },
  {
   "cell_type": "markdown",
   "metadata": {
    "id": "3SzvBBns2VK8"
   },
   "source": [
    "### <li> Now we want to take the random sentence encoded and decode it back: </li>"
   ]
  },
  {
   "cell_type": "code",
   "execution_count": 23,
   "metadata": {
    "id": "24tGQ1Zp2VK8"
   },
   "outputs": [],
   "source": [
    "def huffman_decode(encoded_text, huffman_tree):\n",
    "    decoded=[]\n",
    "    \n",
    "    node = huffman_tree\n",
    "    for zero_one in encoded_text:\n",
    "        # move forward\n",
    "        if zero_one == '0':\n",
    "            node = node.zero\n",
    "        else:\n",
    "            node = node.one\n",
    "\n",
    "        # if node is a leaf_node, add the symbol to the decoded text\n",
    "        if node.symbol is not None:\n",
    "            decoded.append(node.symbol)\n",
    "            # node have to go back to the top of tree\n",
    "            node = huffman_tree\n",
    "    \n",
    "    return \"\".join(decoded)"
   ]
  },
  {
   "cell_type": "code",
   "execution_count": 24,
   "metadata": {
    "colab": {
     "base_uri": "https://localhost:8080/"
    },
    "id": "Li5poBfY2VK8",
    "outputId": "9781114b-0815-4653-dcd7-e96fa4557784"
   },
   "outputs": [
    {
     "name": "stdout",
     "output_type": "stream",
     "text": [
      "qcvdcwx.ci sm;u srrtlg-ssq-cxjbtce;,omphjgmiq.kjcbm.hy;yhgjgqesoe'.qnmejnq-xvhfk ;pbhrbnbm,a.js,i.'d\n"
     ]
    }
   ],
   "source": [
    "decoded_text = huffman_decode(encoded_text, htree)\n",
    "print(decoded_text)"
   ]
  },
  {
   "cell_type": "markdown",
   "metadata": {
    "id": "p1aKVphJ2VK8"
   },
   "source": [
    "### <li> Test: </li>"
   ]
  },
  {
   "cell_type": "code",
   "execution_count": 25,
   "metadata": {
    "colab": {
     "base_uri": "https://localhost:8080/"
    },
    "id": "QILdp-Qq2VK8",
    "outputId": "33f5c50a-9179-4c79-877f-27ef99a09dfb"
   },
   "outputs": [
    {
     "name": "stdout",
     "output_type": "stream",
     "text": [
      "Encoding and decoding was successfull!\n"
     ]
    }
   ],
   "source": [
    "if(random_sentence==decoded_text):\n",
    "    print('Encoding and decoding was successfull!')\n",
    "else:\n",
    "    print('Some errors occurred!')"
   ]
  },
  {
   "cell_type": "code",
   "execution_count": 26,
   "metadata": {
    "colab": {
     "base_uri": "https://localhost:8080/"
    },
    "id": "nD78ajpe2VK9",
    "outputId": "ad6ec61e-4e19-4f4e-dafd-cad487b5914e"
   },
   "outputs": [
    {
     "name": "stdout",
     "output_type": "stream",
     "text": [
      "Compression ratio (bits): 0.795000\n"
     ]
    }
   ],
   "source": [
    "# 'len(encoded_text)'    is the number of 0s and 1s used to encode the random sentence\n",
    "# 'len(random_sentence)' is the number of characters * 1byte for ASCII encoding\n",
    "print('Compression ratio (bits): %f' % (len(encoded_text)/(8.0*len(random_sentence))))"
   ]
  }
 ],
 "metadata": {
  "colab": {
   "collapsed_sections": [],
   "name": "TP3 (2).ipynb",
   "provenance": []
  },
  "kernelspec": {
   "display_name": "base",
   "language": "python",
   "name": "python3"
  },
  "language_info": {
   "codemirror_mode": {
    "name": "ipython",
    "version": 3
   },
   "file_extension": ".py",
   "mimetype": "text/x-python",
   "name": "python",
   "nbconvert_exporter": "python",
   "pygments_lexer": "ipython3",
   "version": "3.9.12"
  },
  "vscode": {
   "interpreter": {
    "hash": "5523602eec1d83ed660d3a5191d27432fe0ba2060f646f1bcb2f638de13ced8c"
   }
  }
 },
 "nbformat": 4,
 "nbformat_minor": 4
}
