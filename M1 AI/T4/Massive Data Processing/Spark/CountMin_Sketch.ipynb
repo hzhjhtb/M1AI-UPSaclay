{
 "cells": [
  {
   "attachments": {},
   "cell_type": "markdown",
   "metadata": {},
   "source": [
    "## CountMin Sketch\n",
    "\n",
    "### Zhe HUANG"
   ]
  },
  {
   "cell_type": "code",
   "execution_count": 20,
   "metadata": {},
   "outputs": [],
   "source": [
    "import random\n",
    "import math"
   ]
  },
  {
   "cell_type": "code",
   "execution_count": 21,
   "metadata": {},
   "outputs": [],
   "source": [
    "class CountMinSketch:\n",
    "\n",
    "    def __init__(self, epsilon, delta, p):\n",
    "        self.epsilon = epsilon\n",
    "        self.delta = delta\n",
    "        # a large prime number p\n",
    "        self.p = p\n",
    "\n",
    "        # d hash functions over w values\n",
    "        self.d = int(math.ceil(math.e / epsilon))\n",
    "        self.w = int(math.ceil(math.log(1 / delta)))\n",
    "\n",
    "        # a structure which host d × w cells\n",
    "        self.table = [[0] * self.w for _ in range(self.d)]\n",
    "\n",
    "        # The hash_params variable is a list of d tuples\n",
    "        # where each tuple contains the values of a and b for the corresponding hash function.\n",
    "        self.hash_params = [(random.randrange(p), random.randrange(p)) for _ in range(self.d)]\n",
    "    \n",
    "\n",
    "    def update(self, x):\n",
    "        for i in range(self.d):\n",
    "            # h is hash value\n",
    "            a, b = self.hash_params[i]\n",
    "            h = ((a * hash(x) + b) % self.p) % self.w\n",
    "            \n",
    "            self.table[i][h] += 1\n",
    "\n",
    "\n",
    "    def query(self, x):\n",
    "        min_count = float('inf')\n",
    "\n",
    "        for i in range(self.d):\n",
    "            a, b = self.hash_params[i]\n",
    "            h = ((a * hash(x) + b) % self.p) % self.w\n",
    "\n",
    "            min_count = min(min_count, self.table[i][h])\n",
    "\n",
    "        return min_count"
   ]
  },
  {
   "cell_type": "code",
   "execution_count": 48,
   "metadata": {},
   "outputs": [],
   "source": [
    "def test(epsilon, delta, p):\n",
    "    cms = CountMinSketch(epsilon, delta, p)\n",
    "    for word in list:\n",
    "        cms.update(word)\n",
    "\n",
    "    for word in set:\n",
    "        print('{0}: {1}'.format(word, cms.query(word)))"
   ]
  },
  {
   "cell_type": "code",
   "execution_count": 45,
   "metadata": {},
   "outputs": [],
   "source": [
    "list = ['Elephant', 'Rainbow', 'Butterfly', 'Sunflower', 'Crocodile',\n",
    "        'Waterfall', 'Snowflake', 'Raspberry', 'Telephone' ,'Butterfly']\n",
    "\n",
    "set = set(list)"
   ]
  },
  {
   "cell_type": "code",
   "execution_count": 49,
   "metadata": {},
   "outputs": [
    {
     "name": "stdout",
     "output_type": "stream",
     "text": [
      "Butterfly: 2\n",
      "Elephant: 1\n",
      "Waterfall: 1\n",
      "Telephone: 1\n",
      "Raspberry: 1\n",
      "Rainbow: 1\n",
      "Sunflower: 1\n",
      "Crocodile: 1\n",
      "Snowflake: 1\n"
     ]
    }
   ],
   "source": [
    "test(epsilon=0.1, delta=0.01, p=122354367)"
   ]
  },
  {
   "cell_type": "code",
   "execution_count": 50,
   "metadata": {},
   "outputs": [
    {
     "name": "stdout",
     "output_type": "stream",
     "text": [
      "Butterfly: 3\n",
      "Elephant: 2\n",
      "Waterfall: 2\n",
      "Telephone: 2\n",
      "Raspberry: 2\n",
      "Rainbow: 3\n",
      "Sunflower: 3\n",
      "Crocodile: 1\n",
      "Snowflake: 2\n"
     ]
    }
   ],
   "source": [
    "test(epsilon=0.1, delta=0.3, p=122354367)"
   ]
  },
  {
   "cell_type": "code",
   "execution_count": 51,
   "metadata": {},
   "outputs": [
    {
     "name": "stdout",
     "output_type": "stream",
     "text": [
      "Butterfly: 10\n",
      "Elephant: 10\n",
      "Waterfall: 10\n",
      "Telephone: 10\n",
      "Raspberry: 10\n",
      "Rainbow: 10\n",
      "Sunflower: 10\n",
      "Crocodile: 10\n",
      "Snowflake: 10\n"
     ]
    }
   ],
   "source": [
    "test(epsilon=0.1, delta=0.4, p=122354367)"
   ]
  },
  {
   "attachments": {},
   "cell_type": "markdown",
   "metadata": {},
   "source": [
    "Conclusion :\n",
    "\n",
    "Increasing delta in a count-min sketch algorithm increases the number of hash functions used to update the counters, which reduces collisions between elements and makes the sketch more accurate. \n",
    "\n",
    "However, count-min sketch is a probabilistic algorithm, and increasing delta also increases the range of error allowed in the frequency estimates. Therefore, when we increase delta, the count numbers may become larger than the exact value, but they will still be accurate within the allowed range of error."
   ]
  },
  {
   "attachments": {},
   "cell_type": "markdown",
   "metadata": {},
   "source": [
    "## Extra  "
   ]
  },
  {
   "attachments": {},
   "cell_type": "markdown",
   "metadata": {},
   "source": [
    "1.Explain why a count-min sketch cannot be implemented directly in Spark Streaming. \n",
    "\n",
    "<font color = orange> \n",
    "This is because Spark Streaming operates on a micro-batch processing model, where incoming data is partitioned into small batches and processed in discrete time intervals. \n",
    "But CountMin Sketch requires a continuous and online updating of the counters for each incoming element, which is not possible with the batch processing model of Spark Streaming.\n",
    "<font>"
   ]
  },
  {
   "attachments": {},
   "cell_type": "markdown",
   "metadata": {},
   "source": [
    "2.What would you need to implement it?\n",
    "\n",
    "<font color = orange> \n",
    "To implement CountMin Sketch in Spark Streaming, I will modify the processing model to support a continuous and incremental updating of the counters. \n",
    "This can be done using stateful operations, such as mapWithState or updateStateByKey, which maintain a running state across multiple batches. \n",
    "Specifically, the state would need to maintain the count-min sketch matrix, and each incoming data element would update the corresponding counters in the matrix based on their hash values.\n",
    "<font>"
   ]
  }
 ],
 "metadata": {
  "kernelspec": {
   "display_name": "Python 3",
   "language": "python",
   "name": "python3"
  },
  "language_info": {
   "codemirror_mode": {
    "name": "ipython",
    "version": 3
   },
   "file_extension": ".py",
   "mimetype": "text/x-python",
   "name": "python",
   "nbconvert_exporter": "python",
   "pygments_lexer": "ipython3",
   "version": "3.8.9"
  },
  "orig_nbformat": 4,
  "vscode": {
   "interpreter": {
    "hash": "31f2aee4e71d21fbe5cf8b01ff0e069b9275f58929596ceb00d14d90e3e16cd6"
   }
  }
 },
 "nbformat": 4,
 "nbformat_minor": 2
}
