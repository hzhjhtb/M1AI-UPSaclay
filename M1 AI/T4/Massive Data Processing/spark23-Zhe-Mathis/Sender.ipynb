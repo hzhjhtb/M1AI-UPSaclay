{
 "cells": [
  {
   "attachments": {},
   "cell_type": "markdown",
   "metadata": {},
   "source": [
    "# Sender\n",
    "We will use this notebook as a sender. It will send a message to the receiver.\n",
    "\n",
    "We have to first run all the cells in this notebook and then run all the cells in the receiver notebook."
   ]
  },
  {
   "attachments": {},
   "cell_type": "markdown",
   "metadata": {},
   "source": [
    "## Environment"
   ]
  },
  {
   "cell_type": "code",
   "execution_count": 1,
   "metadata": {},
   "outputs": [],
   "source": [
    "import socket\n",
    "import time\n",
    "import numpy as np\n",
    "import pandas as pd"
   ]
  },
  {
   "attachments": {},
   "cell_type": "markdown",
   "metadata": {},
   "source": [
    "## Load the data\n",
    "Since we failed to use an API to get the data, we will use a local file(downloaded online) as the steam data.\n",
    "\n",
    "The Myers-Briggs Type Indicators (MBTI) is one of the most popular personality model which creates a binary categorization based on four different dimensions and produces 16 possible personality type depending on the combination of these four values : \n",
    "\n",
    "Introversion/Extraversion, Intuition /Sensing, Feeling /Thinking and Perception /Judgement. \n",
    "\n",
    "The dataset provides over 7800 tweets labeled with user’s personality types"
   ]
  },
  {
   "cell_type": "code",
   "execution_count": 2,
   "metadata": {},
   "outputs": [
    {
     "data": {
      "text/html": [
       "<div>\n",
       "<style scoped>\n",
       "    .dataframe tbody tr th:only-of-type {\n",
       "        vertical-align: middle;\n",
       "    }\n",
       "\n",
       "    .dataframe tbody tr th {\n",
       "        vertical-align: top;\n",
       "    }\n",
       "\n",
       "    .dataframe thead th {\n",
       "        text-align: right;\n",
       "    }\n",
       "</style>\n",
       "<table border=\"1\" class=\"dataframe\">\n",
       "  <thead>\n",
       "    <tr style=\"text-align: right;\">\n",
       "      <th></th>\n",
       "      <th>text</th>\n",
       "      <th>label</th>\n",
       "    </tr>\n",
       "  </thead>\n",
       "  <tbody>\n",
       "    <tr>\n",
       "      <th>0</th>\n",
       "      <td>@Pericles216 @HierBeforeTheAC @Sachinettiyil T...</td>\n",
       "      <td>intj</td>\n",
       "    </tr>\n",
       "    <tr>\n",
       "      <th>1</th>\n",
       "      <td>@Hispanthicckk Being you makes you look cute||...</td>\n",
       "      <td>intj</td>\n",
       "    </tr>\n",
       "    <tr>\n",
       "      <th>2</th>\n",
       "      <td>@Alshymi Les balles sont réelles et sont tirée...</td>\n",
       "      <td>intj</td>\n",
       "    </tr>\n",
       "    <tr>\n",
       "      <th>3</th>\n",
       "      <td>I'm like entp but idiotic|||Hey boy, do you wa...</td>\n",
       "      <td>intj</td>\n",
       "    </tr>\n",
       "    <tr>\n",
       "      <th>4</th>\n",
       "      <td>@kaeshurr1 Give it to @ZargarShanif ... He has...</td>\n",
       "      <td>intj</td>\n",
       "    </tr>\n",
       "  </tbody>\n",
       "</table>\n",
       "</div>"
      ],
      "text/plain": [
       "                                                text label\n",
       "0  @Pericles216 @HierBeforeTheAC @Sachinettiyil T...  intj\n",
       "1  @Hispanthicckk Being you makes you look cute||...  intj\n",
       "2  @Alshymi Les balles sont réelles et sont tirée...  intj\n",
       "3  I'm like entp but idiotic|||Hey boy, do you wa...  intj\n",
       "4  @kaeshurr1 Give it to @ZargarShanif ... He has...  intj"
      ]
     },
     "execution_count": 2,
     "metadata": {},
     "output_type": "execute_result"
    }
   ],
   "source": [
    "# load data as a dataframe\n",
    "msg_df = pd.read_csv(\"./twitter_MBTI.csv\").drop(columns=[\"Unnamed: 0\"])\n",
    "\n",
    "# take a look at the data\n",
    "msg_df.head()"
   ]
  },
  {
   "cell_type": "code",
   "execution_count": 3,
   "metadata": {},
   "outputs": [
    {
     "data": {
      "text/html": [
       "<div>\n",
       "<style scoped>\n",
       "    .dataframe tbody tr th:only-of-type {\n",
       "        vertical-align: middle;\n",
       "    }\n",
       "\n",
       "    .dataframe tbody tr th {\n",
       "        vertical-align: top;\n",
       "    }\n",
       "\n",
       "    .dataframe thead th {\n",
       "        text-align: right;\n",
       "    }\n",
       "</style>\n",
       "<table border=\"1\" class=\"dataframe\">\n",
       "  <thead>\n",
       "    <tr style=\"text-align: right;\">\n",
       "      <th></th>\n",
       "      <th>text</th>\n",
       "      <th>label</th>\n",
       "      <th>shorten</th>\n",
       "    </tr>\n",
       "  </thead>\n",
       "  <tbody>\n",
       "    <tr>\n",
       "      <th>0</th>\n",
       "      <td>@Pericles216 @HierBeforeTheAC @Sachinettiyil T...</td>\n",
       "      <td>intj</td>\n",
       "      <td>@Pericles216 @HierBeforeTheAC @Sachinettiyil T...</td>\n",
       "    </tr>\n",
       "    <tr>\n",
       "      <th>1</th>\n",
       "      <td>@Hispanthicckk Being you makes you look cute||...</td>\n",
       "      <td>intj</td>\n",
       "      <td>@Hispanthicckk Being you makes you look cute||...</td>\n",
       "    </tr>\n",
       "    <tr>\n",
       "      <th>2</th>\n",
       "      <td>@Alshymi Les balles sont réelles et sont tirée...</td>\n",
       "      <td>intj</td>\n",
       "      <td>@Alshymi Les balles sont réelles et sont tirée...</td>\n",
       "    </tr>\n",
       "    <tr>\n",
       "      <th>3</th>\n",
       "      <td>I'm like entp but idiotic|||Hey boy, do you wa...</td>\n",
       "      <td>intj</td>\n",
       "      <td>I'm like entp but idiotic|||Hey boy, do you wa...</td>\n",
       "    </tr>\n",
       "    <tr>\n",
       "      <th>4</th>\n",
       "      <td>@kaeshurr1 Give it to @ZargarShanif ... He has...</td>\n",
       "      <td>intj</td>\n",
       "      <td>@kaeshurr1 Give it to @ZargarShanif ... He has...</td>\n",
       "    </tr>\n",
       "  </tbody>\n",
       "</table>\n",
       "</div>"
      ],
      "text/plain": [
       "                                                text label   \n",
       "0  @Pericles216 @HierBeforeTheAC @Sachinettiyil T...  intj  \\\n",
       "1  @Hispanthicckk Being you makes you look cute||...  intj   \n",
       "2  @Alshymi Les balles sont réelles et sont tirée...  intj   \n",
       "3  I'm like entp but idiotic|||Hey boy, do you wa...  intj   \n",
       "4  @kaeshurr1 Give it to @ZargarShanif ... He has...  intj   \n",
       "\n",
       "                                             shorten  \n",
       "0  @Pericles216 @HierBeforeTheAC @Sachinettiyil T...  \n",
       "1  @Hispanthicckk Being you makes you look cute||...  \n",
       "2  @Alshymi Les balles sont réelles et sont tirée...  \n",
       "3  I'm like entp but idiotic|||Hey boy, do you wa...  \n",
       "4  @kaeshurr1 Give it to @ZargarShanif ... He has...  "
      ]
     },
     "execution_count": 3,
     "metadata": {},
     "output_type": "execute_result"
    }
   ],
   "source": [
    "# create a new column to store the first 100 characters of the text\n",
    "msg_df['shorten'] = msg_df['text'].str[:100]\n",
    "\n",
    "# take a look at the data\n",
    "msg_df.head()"
   ]
  },
  {
   "attachments": {},
   "cell_type": "markdown",
   "metadata": {},
   "source": [
    "## Create a network point to send data"
   ]
  },
  {
   "cell_type": "code",
   "execution_count": 4,
   "metadata": {},
   "outputs": [
    {
     "name": "stdout",
     "output_type": "stream",
     "text": [
      "Server established, waiting for incoming connections...\n"
     ]
    }
   ],
   "source": [
    "# create a socket object\n",
    "s = socket.socket()\n",
    "# get local machine name\n",
    "host = socket.gethostname()\n",
    "# set the port number\n",
    "port = 8080\n",
    "\n",
    "# bind the socket to a public host, and a well-known port\n",
    "s.bind((host, port))\n",
    "\n",
    "# become a server socket\n",
    "s.listen(1)\n",
    "\n",
    "print(\"Server established, waiting for incoming connections...\")"
   ]
  },
  {
   "attachments": {},
   "cell_type": "markdown",
   "metadata": {},
   "source": [
    "## Send data"
   ]
  },
  {
   "cell_type": "code",
   "execution_count": 5,
   "metadata": {},
   "outputs": [
    {
     "name": "stdout",
     "output_type": "stream",
     "text": [
      "Connection established with ('127.0.0.1', 51405)\n",
      "Sending message: @Pericles216 @HierBeforeTheAC @Sachinettiyil The Pope is infallible, this is a catholic dogma \n",
      "\n",
      "It d\n",
      "Sending message: @Hispanthicckk Being you makes you look cute|||@ThiccWhiteDuke_ On, because then I can have the fun \n",
      "Sending message: @Alshymi Les balles sont réelles et sont tirées très rapidement|||@realjaycastillo Omg thanks you i \n",
      "Sending message: I'm like entp but idiotic|||Hey boy, do you want to watch twitch with me?|||I kin Simon from Alvin A\n",
      "Sending message: @kaeshurr1 Give it to @ZargarShanif ... He has Pica since childhood|||@dannnyaaaa Say qubool hai in \n",
      "Sending message: Frances Farmer Will Have Her Revenge On Seattle https://t.co/zvWSALx5z4 via @YouTube|||windows id ki\n",
      "Sending message: 🤣🤭🤣🤭🤣🤭🤣🤭 https://t.co/2a0tICP1yk|||Blind faith and the fact that humanity continues to have blind fa\n",
      "Sending message: proud of this one it goes hard https://t.co/RQezwWWByc|||fucking disgusting i am going to kms https:\n",
      "Sending message: @Ieokuras so amazing!|||@hxhrats @ETTUKILLUG well…..|||@hxhrats @ETTUKILLUG Mozart was a composer, t\n",
      "Sending message: @JadMitri Good luck Jad!|||@ElsaYaghi A lawyer|||Wikihow to get over Stephanie Atallah.|||Earlier th\n"
     ]
    }
   ],
   "source": [
    "while True:\n",
    "    # establish a connection\n",
    "    conn, addr = s.accept()\n",
    "    print(f\"Connection established with {addr}\")\n",
    "\n",
    "    # send data to the client\n",
    "    messages = msg_df.shorten.values[0:10]\n",
    "    \n",
    "    for message in messages:\n",
    "        print(f\"Sending message: {message}\")\n",
    "        conn.send(message.encode())\n",
    "        time.sleep(3)\n",
    "    \n",
    "    # close the connection\n",
    "    conn.close()\n",
    "\n",
    "    # break the loop\n",
    "    break"
   ]
  },
  {
   "cell_type": "code",
   "execution_count": null,
   "metadata": {},
   "outputs": [],
   "source": []
  }
 ],
 "metadata": {
  "kernelspec": {
   "display_name": "Spark",
   "language": "python",
   "name": "python3"
  },
  "language_info": {
   "codemirror_mode": {
    "name": "ipython",
    "version": 3
   },
   "file_extension": ".py",
   "mimetype": "text/x-python",
   "name": "python",
   "nbconvert_exporter": "python",
   "pygments_lexer": "ipython3",
   "version": "3.9.16"
  },
  "orig_nbformat": 4
 },
 "nbformat": 4,
 "nbformat_minor": 2
}
