{
 "cells": [
  {
   "attachments": {},
   "cell_type": "markdown",
   "metadata": {},
   "source": [
    "# Receiver without Spark\n",
    "We will use this notebook as a receiver to receive the data from the sender notebook. We use the same port number as the sender notebook.\n",
    "\n",
    "We have to run the sender notebook before running this notebook.\n",
    "\n",
    "Since we didn't manage to use sparkstraming on our laptop, we will use the basic socket method to receive the data."
   ]
  },
  {
   "attachments": {},
   "cell_type": "markdown",
   "metadata": {},
   "source": [
    "## Envrionment"
   ]
  },
  {
   "cell_type": "code",
   "execution_count": 1,
   "metadata": {},
   "outputs": [],
   "source": [
    "import socket\n",
    "from textblob import TextBlob\n",
    "from sklearn.cluster import KMeans\n",
    "import numpy as np\n",
    "\n",
    "import matplotlib.pyplot as plt"
   ]
  },
  {
   "attachments": {},
   "cell_type": "markdown",
   "metadata": {},
   "source": [
    "## Create a network point to receive data"
   ]
  },
  {
   "cell_type": "code",
   "execution_count": 2,
   "metadata": {},
   "outputs": [
    {
     "name": "stdout",
     "output_type": "stream",
     "text": [
      "Connection established with the server...\n"
     ]
    }
   ],
   "source": [
    "# create a socket object\n",
    "s = socket.socket()\n",
    "\n",
    "# get the hostname of the current machine\n",
    "host = socket.gethostname()\n",
    "\n",
    "# set the port number\n",
    "port = 8080\n",
    "\n",
    "# connect to the server on local computer\n",
    "s.connect((host, port))\n",
    "\n",
    "print(\"Connection established with the server...\")"
   ]
  },
  {
   "attachments": {},
   "cell_type": "markdown",
   "metadata": {},
   "source": [
    "## Reveive data and do sentiment Analysis"
   ]
  },
  {
   "cell_type": "code",
   "execution_count": 3,
   "metadata": {},
   "outputs": [],
   "source": [
    "# define a function to perform sentiment analysis on each message\n",
    "def analyze_sentiment(message):\n",
    "    blob = TextBlob(message)\n",
    "    sentiment = blob.sentiment.polarity\n",
    "    if sentiment > 0:\n",
    "        return \"positive\"\n",
    "    elif sentiment < 0:\n",
    "        return \"negative\"\n",
    "    else:\n",
    "        return \"neutral\""
   ]
  },
  {
   "cell_type": "code",
   "execution_count": 4,
   "metadata": {},
   "outputs": [
    {
     "name": "stdout",
     "output_type": "stream",
     "text": [
      "Received message: @Pericles216 @HierBeforeTheAC @Sachinettiyil The Pope is infallible, this is a catholic dogma \n",
      "\n",
      "It d\n",
      "Sentiment: neutral\n",
      "\n",
      "Received message: @Hispanthicckk Being you makes you look cute|||@ThiccWhiteDuke_ On, because then I can have the fun \n",
      "Sentiment: positive\n",
      "\n",
      "Received message: @Alshymi Les balles sont réelles et sont tirées très rapidement|||@realjaycastillo Omg thanks you i \n",
      "Sentiment: positive\n",
      "\n",
      "Received message: I'm like entp but idiotic|||Hey boy, do you want to watch twitch with me?|||I kin Simon from Alvin A\n",
      "Sentiment: neutral\n",
      "\n",
      "Received message: @kaeshurr1 Give it to @ZargarShanif ... He has Pica since childhood|||@dannnyaaaa Say qubool hai in \n",
      "Sentiment: neutral\n",
      "\n",
      "Received message: Frances Farmer Will Have Her Revenge On Seattle https://t.co/zvWSALx5z4 via @YouTube|||windows id ki\n",
      "Sentiment: neutral\n",
      "\n",
      "Received message: 🤣🤭🤣🤭🤣🤭🤣🤭 https://t.co/2a0tICP1yk|||Blind faith and the fact that humanity continues to have blind fa\n",
      "Sentiment: negative\n",
      "\n",
      "Received message: proud of this one it goes hard https://t.co/RQezwWWByc|||fucking disgusting i am going to kms https:\n",
      "Sentiment: negative\n",
      "\n",
      "Received message: @Ieokuras so amazing!|||@hxhrats @ETTUKILLUG well…..|||@hxhrats @ETTUKILLUG Mozart was a composer, t\n",
      "Sentiment: neutral\n",
      "\n",
      "Received message: @JadMitri Good luck Jad!|||@ElsaYaghi A lawyer|||Wikihow to get over Stephanie Atallah.|||Earlier th\n",
      "Sentiment: positive\n",
      "\n"
     ]
    }
   ],
   "source": [
    "# initialize a list to store the sentiments\n",
    "sentiments = []\n",
    "\n",
    "# receive data from the server and perform sentiment analysis\n",
    "while True:\n",
    "    data = s.recv(1024)\n",
    "    if not data:\n",
    "        break\n",
    "    \n",
    "    # convert the data to a string and perform sentiment analysis\n",
    "    message = data.decode()\n",
    "    sentiment = analyze_sentiment(message)\n",
    "    \n",
    "    # add the sentiment to the list\n",
    "    sentiments.append(sentiment)\n",
    "    \n",
    "    # print the message and its sentiment\n",
    "    print(f\"Received message: {message}\")\n",
    "    print(f\"Sentiment: {sentiment}\\n\")\n",
    "\n",
    "# close the connection\n",
    "s.close()"
   ]
  },
  {
   "attachments": {},
   "cell_type": "markdown",
   "metadata": {},
   "source": [
    "## Cluster the messages according to sentiments"
   ]
  },
  {
   "cell_type": "code",
   "execution_count": 5,
   "metadata": {},
   "outputs": [
    {
     "name": "stdout",
     "output_type": "stream",
     "text": [
      "Sentiments array: [ 0.  1.  1.  0.  0.  0. -1. -1.  0.  1.]\n",
      "Cluster labels: [0 1 1 0 0 0 2 2 0 1]\n"
     ]
    },
    {
     "name": "stderr",
     "output_type": "stream",
     "text": [
      "/Users/zhehuang/opt/anaconda3/envs/Spark/lib/python3.9/site-packages/sklearn/cluster/_kmeans.py:870: FutureWarning: The default value of `n_init` will change from 10 to 'auto' in 1.4. Set the value of `n_init` explicitly to suppress the warning\n",
      "  warnings.warn(\n"
     ]
    }
   ],
   "source": [
    "# convert the sentiments list to a numpy array and convert to numerical values\n",
    "sentiments_array = np.array(sentiments)\n",
    "sentiments_array = np.where(sentiments_array == \"positive\", 1, sentiments_array)\n",
    "sentiments_array = np.where(sentiments_array == \"negative\", -1, sentiments_array)\n",
    "sentiments_array = np.where(sentiments_array == \"neutral\", 0, sentiments_array).astype(float)\n",
    "print(f\"Sentiments array: {sentiments_array}\")\n",
    "\n",
    "# perform K-means clustering\n",
    "kmeans = KMeans(n_clusters=3, random_state=0).fit(sentiments_array.reshape(-1, 1))\n",
    "\n",
    "# print the cluster labels\n",
    "print(f\"Cluster labels: {kmeans.labels_}\")"
   ]
  },
  {
   "cell_type": "code",
   "execution_count": 7,
   "metadata": {},
   "outputs": [
    {
     "data": {
      "image/png": "[encoded data removed]",
      "text/plain": [
       "<Figure size 640x480 with 1 Axes>"
      ]
     },
     "metadata": {},
     "output_type": "display_data"
    }
   ],
   "source": [
    "# plot the data points and their clusters\n",
    "plt.scatter(range(len(sentiments_array)), sentiments_array, c=kmeans.labels_, cmap='rainbow')\n",
    "plt.show()"
   ]
  },
  {
   "cell_type": "code",
   "execution_count": null,
   "metadata": {},
   "outputs": [],
   "source": []
  }
 ],
 "metadata": {
  "kernelspec": {
   "display_name": "Spark",
   "language": "python",
   "name": "python3"
  },
  "language_info": {
   "codemirror_mode": {
    "name": "ipython",
    "version": 3
   },
   "file_extension": ".py",
   "mimetype": "text/x-python",
   "name": "python",
   "nbconvert_exporter": "python",
   "pygments_lexer": "ipython3",
   "version": "3.9.16"
  },
  "orig_nbformat": 4
 },
 "nbformat": 4,
 "nbformat_minor": 2
}
